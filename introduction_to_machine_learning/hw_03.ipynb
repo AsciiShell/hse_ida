{
 "cells": [
  {
   "cell_type": "markdown",
   "metadata": {},
   "source": [
    "## Введение в анализ данных, ИАД-1\n",
    "\n",
    "## НИУ ВШЭ, 2018-19 учебный год\n",
    "\n",
    "###  Домашнее задание №3. Обработка текстов. Линейная классификация.\n",
    "\n",
    "Задание выполнил(а): Подчезерцев Алексей\n",
    "\n",
    "### Общая информация\n",
    "__Дата выдачи:__ 28.04.2019\n",
    "\n",
    "__Дедлайн:__ 23:59 12.05.2019\n",
    "\n",
    "### Оценивание и штрафы\n",
    "\n",
    "За сдачу задания позже срока на итоговую оценку за задание накладывается штраф в размере 1 балл в день, но получить отрицательную оценку нельзя.\n",
    "\n",
    "__Внимание!__ Домашнее задание выполняется самостоятельно. «Похожие» решения считаются плагиатом и все задействованные студенты (в том числе те, у кого списали) не могут получить за него больше 0 баллов.\n",
    "\n",
    "### Формат сдачи\n",
    "__Стирать условия нельзя!__\n",
    "\n",
    "Загрузка файлов с решениями происходит в системе [Anytask](https://anytask.org/).\n",
    "\n",
    "Формат названия файла: homework_03_Фамилия_Имя.ipynb"
   ]
  },
  {
   "cell_type": "code",
   "execution_count": 1,
   "metadata": {},
   "outputs": [],
   "source": [
    "import numpy as np\n",
    "import pandas as pd"
   ]
  },
  {
   "cell_type": "markdown",
   "metadata": {},
   "source": [
    "В задании вам предоставлены реальные текстовые данные. \n",
    "\n",
    "Необходимо построить алгоритм, который будет по тексту документа определять тип источника:\n",
    " - Микроблоги\n",
    " - Новости\n",
    " - Отзывы\n",
    " - Форумы\n",
    " - Блоги\n",
    " - Видео\n",
    " - Мессенджеры"
   ]
  },
  {
   "cell_type": "markdown",
   "metadata": {},
   "source": [
    "## Часть 1. Работа с текстовыми данными"
   ]
  },
  {
   "cell_type": "markdown",
   "metadata": {},
   "source": [
    " ### 1. Исследование данных"
   ]
  },
  {
   "cell_type": "markdown",
   "metadata": {},
   "source": [
    "[2 балла]"
   ]
  },
  {
   "cell_type": "markdown",
   "metadata": {},
   "source": [
    "Скачаем данные отсюда:\n",
    "https://yadi.sk/d/o3cPgFAq5gALiw"
   ]
  },
  {
   "cell_type": "code",
   "execution_count": 459,
   "metadata": {},
   "outputs": [
    {
     "name": "stderr",
     "output_type": "stream",
     "text": [
      "C:\\Users\\alex1\\Anaconda3\\lib\\site-packages\\IPython\\core\\interactiveshell.py:3020: DtypeWarning: Columns (2) have mixed types. Specify dtype option on import or set low_memory=False.\n",
      "  interactivity=interactivity, compiler=compiler, result=result)\n"
     ]
    }
   ],
   "source": [
    "D = pd.read_csv('texts_dataset.csv', sep=';', index_col=0)"
   ]
  },
  {
   "cell_type": "code",
   "execution_count": 460,
   "metadata": {},
   "outputs": [
    {
     "data": {
      "text/html": [
       "<div>\n",
       "<style scoped>\n",
       "    .dataframe tbody tr th:only-of-type {\n",
       "        vertical-align: middle;\n",
       "    }\n",
       "\n",
       "    .dataframe tbody tr th {\n",
       "        vertical-align: top;\n",
       "    }\n",
       "\n",
       "    .dataframe thead th {\n",
       "        text-align: right;\n",
       "    }\n",
       "</style>\n",
       "<table border=\"1\" class=\"dataframe\">\n",
       "  <thead>\n",
       "    <tr style=\"text-align: right;\">\n",
       "      <th></th>\n",
       "      <th>Дата</th>\n",
       "      <th>ID сообщения</th>\n",
       "      <th>Заголовок</th>\n",
       "      <th>Текст</th>\n",
       "      <th>Дублей</th>\n",
       "      <th>Тип источника</th>\n",
       "    </tr>\n",
       "  </thead>\n",
       "  <tbody>\n",
       "    <tr>\n",
       "      <th>0</th>\n",
       "      <td>27.04.2019 13:18</td>\n",
       "      <td>1396238</td>\n",
       "      <td>NaN</td>\n",
       "      <td>-Здравствуйте, тинькофф банк\\r\\n-Мать твою еба...</td>\n",
       "      <td>1.0</td>\n",
       "      <td>Микроблоги</td>\n",
       "    </tr>\n",
       "    <tr>\n",
       "      <th>1</th>\n",
       "      <td>27.04.2019 13:15</td>\n",
       "      <td>1396239</td>\n",
       "      <td>NaN</td>\n",
       "      <td>Почему Немагия сделала обзор на Тинькова? #нем...</td>\n",
       "      <td>1.0</td>\n",
       "      <td>Микроблоги</td>\n",
       "    </tr>\n",
       "    <tr>\n",
       "      <th>2</th>\n",
       "      <td>27.04.2019 13:10</td>\n",
       "      <td>1396248</td>\n",
       "      <td>Forbes назвал самые экстравагантные инвестиции...</td>\n",
       "      <td>13:01, 27.04.2019 \\r\\n\\r\\nПоделиться:\\r\\n\\r\\n ...</td>\n",
       "      <td>2.0</td>\n",
       "      <td>Новости</td>\n",
       "    </tr>\n",
       "    <tr>\n",
       "      <th>3</th>\n",
       "      <td>27.04.2019 13:06</td>\n",
       "      <td>1396243</td>\n",
       "      <td>Forbes назвал самые экстравагантные инвестиции...</td>\n",
       "      <td>13:01, 27.04.2019 \\r\\n\\r\\nПоделиться:\\r\\n\\r\\n ...</td>\n",
       "      <td>2.0</td>\n",
       "      <td>Новости</td>\n",
       "    </tr>\n",
       "    <tr>\n",
       "      <th>4</th>\n",
       "      <td>27.04.2019 13:03</td>\n",
       "      <td>1396186</td>\n",
       "      <td>Тинькофф Страхование: Не купить полис без подп...</td>\n",
       "      <td>Первый отзыв без оценки:&amp;nbsp;\\r\\nhttps://www....</td>\n",
       "      <td>1.0</td>\n",
       "      <td>Отзывы</td>\n",
       "    </tr>\n",
       "  </tbody>\n",
       "</table>\n",
       "</div>"
      ],
      "text/plain": [
       "               Дата ID сообщения  \\\n",
       "0  27.04.2019 13:18      1396238   \n",
       "1  27.04.2019 13:15      1396239   \n",
       "2  27.04.2019 13:10      1396248   \n",
       "3  27.04.2019 13:06      1396243   \n",
       "4  27.04.2019 13:03      1396186   \n",
       "\n",
       "                                           Заголовок  \\\n",
       "0                                                NaN   \n",
       "1                                                NaN   \n",
       "2  Forbes назвал самые экстравагантные инвестиции...   \n",
       "3  Forbes назвал самые экстравагантные инвестиции...   \n",
       "4  Тинькофф Страхование: Не купить полис без подп...   \n",
       "\n",
       "                                               Текст  Дублей Тип источника  \n",
       "0  -Здравствуйте, тинькофф банк\\r\\n-Мать твою еба...     1.0    Микроблоги  \n",
       "1  Почему Немагия сделала обзор на Тинькова? #нем...     1.0    Микроблоги  \n",
       "2  13:01, 27.04.2019 \\r\\n\\r\\nПоделиться:\\r\\n\\r\\n ...     2.0       Новости  \n",
       "3  13:01, 27.04.2019 \\r\\n\\r\\nПоделиться:\\r\\n\\r\\n ...     2.0       Новости  \n",
       "4  Первый отзыв без оценки:&nbsp;\\r\\nhttps://www....     1.0        Отзывы  "
      ]
     },
     "execution_count": 460,
     "metadata": {},
     "output_type": "execute_result"
    }
   ],
   "source": [
    "D.head()"
   ]
  },
  {
   "cell_type": "markdown",
   "metadata": {},
   "source": [
    "Далее будем использовать лишь поля  \"Текст\", \"Тип источника\""
   ]
  },
  {
   "cell_type": "code",
   "execution_count": 461,
   "metadata": {},
   "outputs": [],
   "source": [
    "D = D[[ \"Текст\", \"Тип источника\"]]"
   ]
  },
  {
   "cell_type": "code",
   "execution_count": 462,
   "metadata": {},
   "outputs": [
    {
     "data": {
      "text/html": [
       "<div>\n",
       "<style scoped>\n",
       "    .dataframe tbody tr th:only-of-type {\n",
       "        vertical-align: middle;\n",
       "    }\n",
       "\n",
       "    .dataframe tbody tr th {\n",
       "        vertical-align: top;\n",
       "    }\n",
       "\n",
       "    .dataframe thead th {\n",
       "        text-align: right;\n",
       "    }\n",
       "</style>\n",
       "<table border=\"1\" class=\"dataframe\">\n",
       "  <thead>\n",
       "    <tr style=\"text-align: right;\">\n",
       "      <th></th>\n",
       "      <th>Текст</th>\n",
       "      <th>Тип источника</th>\n",
       "    </tr>\n",
       "  </thead>\n",
       "  <tbody>\n",
       "    <tr>\n",
       "      <th>0</th>\n",
       "      <td>-Здравствуйте, тинькофф банк\\r\\n-Мать твою еба...</td>\n",
       "      <td>Микроблоги</td>\n",
       "    </tr>\n",
       "    <tr>\n",
       "      <th>1</th>\n",
       "      <td>Почему Немагия сделала обзор на Тинькова? #нем...</td>\n",
       "      <td>Микроблоги</td>\n",
       "    </tr>\n",
       "    <tr>\n",
       "      <th>2</th>\n",
       "      <td>13:01, 27.04.2019 \\r\\n\\r\\nПоделиться:\\r\\n\\r\\n ...</td>\n",
       "      <td>Новости</td>\n",
       "    </tr>\n",
       "    <tr>\n",
       "      <th>3</th>\n",
       "      <td>13:01, 27.04.2019 \\r\\n\\r\\nПоделиться:\\r\\n\\r\\n ...</td>\n",
       "      <td>Новости</td>\n",
       "    </tr>\n",
       "    <tr>\n",
       "      <th>4</th>\n",
       "      <td>Первый отзыв без оценки:&amp;nbsp;\\r\\nhttps://www....</td>\n",
       "      <td>Отзывы</td>\n",
       "    </tr>\n",
       "  </tbody>\n",
       "</table>\n",
       "</div>"
      ],
      "text/plain": [
       "                                               Текст Тип источника\n",
       "0  -Здравствуйте, тинькофф банк\\r\\n-Мать твою еба...    Микроблоги\n",
       "1  Почему Немагия сделала обзор на Тинькова? #нем...    Микроблоги\n",
       "2  13:01, 27.04.2019 \\r\\n\\r\\nПоделиться:\\r\\n\\r\\n ...       Новости\n",
       "3  13:01, 27.04.2019 \\r\\n\\r\\nПоделиться:\\r\\n\\r\\n ...       Новости\n",
       "4  Первый отзыв без оценки:&nbsp;\\r\\nhttps://www....        Отзывы"
      ]
     },
     "execution_count": 462,
     "metadata": {},
     "output_type": "execute_result"
    }
   ],
   "source": [
    "D.head()"
   ]
  },
  {
   "cell_type": "code",
   "execution_count": 463,
   "metadata": {},
   "outputs": [
    {
     "name": "stdout",
     "output_type": "stream",
     "text": [
      "Микроблоги\n",
      "Новости\n",
      "Отзывы\n",
      "Форумы\n",
      "Блоги\n",
      "Видео\n",
      "Мессенджеры\n",
      "nan\n"
     ]
    }
   ],
   "source": [
    "for i in D['Тип источника'].unique():\n",
    "    print (i)"
   ]
  },
  {
   "cell_type": "code",
   "execution_count": 464,
   "metadata": {},
   "outputs": [
    {
     "name": "stdout",
     "output_type": "stream",
     "text": [
      "<class 'pandas.core.frame.DataFrame'>\n",
      "Int64Index: 200206 entries, 0 to 200205\n",
      "Data columns (total 2 columns):\n",
      "Текст            199578 non-null object\n",
      "Тип источника    199993 non-null object\n",
      "dtypes: object(2)\n",
      "memory usage: 4.6+ MB\n"
     ]
    }
   ],
   "source": [
    "D.info()"
   ]
  },
  {
   "cell_type": "markdown",
   "metadata": {},
   "source": [
    "Удалим объекты с пропусками"
   ]
  },
  {
   "cell_type": "code",
   "execution_count": 465,
   "metadata": {},
   "outputs": [],
   "source": [
    "D.dropna(axis = 0, inplace=True)"
   ]
  },
  {
   "cell_type": "markdown",
   "metadata": {},
   "source": [
    "#### 1.1 Выведите среднюю длину текстов в каждом классе. Что можно сказать о данных? Что можно сказать о каждом классе?"
   ]
  },
  {
   "cell_type": "code",
   "execution_count": 466,
   "metadata": {},
   "outputs": [
    {
     "name": "stdout",
     "output_type": "stream",
     "text": [
      "Микроблоги \t\t 170.67440462427746\n",
      "Новости \t\t 2611.6309011749895\n",
      "Отзывы \t\t 552.476661643401\n",
      "Форумы \t\t 465.8052389493173\n",
      "Блоги \t\t 3503.4882308276387\n",
      "Видео \t\t 916.9406722689075\n",
      "Мессенджеры \t\t 950.9282234491718\n"
     ]
    }
   ],
   "source": [
    "for i in D['Тип источника'].unique():\n",
    "    print(i, '\\t\\t', D[D['Тип источника'] == i]['Текст'].str.len().mean())"
   ]
  },
  {
   "cell_type": "markdown",
   "metadata": {},
   "source": [
    "Наименьшая длина текстов в категории Микроблогов $\\approx 170$, далее идут форумы и отзывы $\\approx 500$, после Видео и Мессенджеры $ \\approx 930$.\n",
    "\n",
    "Наибольшее количество символов категории Новости $-$ 2611 и Блоги $-$ 3500.\n",
    "\n",
    "Результаты метрик не противоречат смыслу и жизненому опыту."
   ]
  },
  {
   "cell_type": "markdown",
   "metadata": {},
   "source": [
    "#### 1.2 Приведите тексты к нижнему регистру и токенезируйте их"
   ]
  },
  {
   "cell_type": "markdown",
   "metadata": {},
   "source": [
    "используйте word_tokenize из nltk.tokenize"
   ]
  },
  {
   "cell_type": "code",
   "execution_count": 467,
   "metadata": {},
   "outputs": [],
   "source": [
    "from nltk.tokenize import word_tokenize"
   ]
  },
  {
   "cell_type": "code",
   "execution_count": 470,
   "metadata": {},
   "outputs": [
    {
     "name": "stdout",
     "output_type": "stream",
     "text": [
      "Wall time: 5min 28s\n"
     ]
    }
   ],
   "source": [
    "%%time\n",
    "D['Текст'] = D['Текст'].str.lower()\n",
    "D['tokens'] = D.apply(lambda x: word_tokenize(x['Текст']), axis=1)"
   ]
  },
  {
   "cell_type": "code",
   "execution_count": 471,
   "metadata": {},
   "outputs": [
    {
     "data": {
      "text/html": [
       "<div>\n",
       "<style scoped>\n",
       "    .dataframe tbody tr th:only-of-type {\n",
       "        vertical-align: middle;\n",
       "    }\n",
       "\n",
       "    .dataframe tbody tr th {\n",
       "        vertical-align: top;\n",
       "    }\n",
       "\n",
       "    .dataframe thead th {\n",
       "        text-align: right;\n",
       "    }\n",
       "</style>\n",
       "<table border=\"1\" class=\"dataframe\">\n",
       "  <thead>\n",
       "    <tr style=\"text-align: right;\">\n",
       "      <th></th>\n",
       "      <th>Текст</th>\n",
       "      <th>Тип источника</th>\n",
       "      <th>tokens</th>\n",
       "    </tr>\n",
       "  </thead>\n",
       "  <tbody>\n",
       "    <tr>\n",
       "      <th>0</th>\n",
       "      <td>-здравствуйте, тинькофф банк\\r\\n-мать твою еба...</td>\n",
       "      <td>Микроблоги</td>\n",
       "      <td>[-здравствуйте, ,, тинькофф, банк, -мать, твою...</td>\n",
       "    </tr>\n",
       "    <tr>\n",
       "      <th>1</th>\n",
       "      <td>почему немагия сделала обзор на тинькова? #нем...</td>\n",
       "      <td>Микроблоги</td>\n",
       "      <td>[почему, немагия, сделала, обзор, на, тинькова...</td>\n",
       "    </tr>\n",
       "    <tr>\n",
       "      <th>2</th>\n",
       "      <td>13:01, 27.04.2019 \\r\\n\\r\\nподелиться:\\r\\n\\r\\n ...</td>\n",
       "      <td>Новости</td>\n",
       "      <td>[13:01, ,, 27.04.2019, поделиться, :, 57, forb...</td>\n",
       "    </tr>\n",
       "    <tr>\n",
       "      <th>3</th>\n",
       "      <td>13:01, 27.04.2019 \\r\\n\\r\\nподелиться:\\r\\n\\r\\n ...</td>\n",
       "      <td>Новости</td>\n",
       "      <td>[13:01, ,, 27.04.2019, поделиться, :, 44, forb...</td>\n",
       "    </tr>\n",
       "    <tr>\n",
       "      <th>4</th>\n",
       "      <td>первый отзыв без оценки:&amp;nbsp;\\r\\nhttps://www....</td>\n",
       "      <td>Отзывы</td>\n",
       "      <td>[первый, отзыв, без, оценки, :, &amp;, nbsp, ;, ht...</td>\n",
       "    </tr>\n",
       "  </tbody>\n",
       "</table>\n",
       "</div>"
      ],
      "text/plain": [
       "                                               Текст Тип источника  \\\n",
       "0  -здравствуйте, тинькофф банк\\r\\n-мать твою еба...    Микроблоги   \n",
       "1  почему немагия сделала обзор на тинькова? #нем...    Микроблоги   \n",
       "2  13:01, 27.04.2019 \\r\\n\\r\\nподелиться:\\r\\n\\r\\n ...       Новости   \n",
       "3  13:01, 27.04.2019 \\r\\n\\r\\nподелиться:\\r\\n\\r\\n ...       Новости   \n",
       "4  первый отзыв без оценки:&nbsp;\\r\\nhttps://www....        Отзывы   \n",
       "\n",
       "                                              tokens  \n",
       "0  [-здравствуйте, ,, тинькофф, банк, -мать, твою...  \n",
       "1  [почему, немагия, сделала, обзор, на, тинькова...  \n",
       "2  [13:01, ,, 27.04.2019, поделиться, :, 57, forb...  \n",
       "3  [13:01, ,, 27.04.2019, поделиться, :, 44, forb...  \n",
       "4  [первый, отзыв, без, оценки, :, &, nbsp, ;, ht...  "
      ]
     },
     "execution_count": 471,
     "metadata": {},
     "output_type": "execute_result"
    }
   ],
   "source": [
    "D.head()"
   ]
  },
  {
   "cell_type": "markdown",
   "metadata": {},
   "source": [
    "#### 1.3 Оставьте в каждом документе токены содержащие  только буквы русского или английского алфавита.\n"
   ]
  },
  {
   "cell_type": "code",
   "execution_count": 473,
   "metadata": {},
   "outputs": [
    {
     "name": "stdout",
     "output_type": "stream",
     "text": [
      "Wall time: 8.54 s\n"
     ]
    }
   ],
   "source": [
    "%%time\n",
    "D['tokens'] = D.apply(lambda x : [w for w in x['tokens'] if w.isalpha()], axis=1)"
   ]
  },
  {
   "cell_type": "code",
   "execution_count": 474,
   "metadata": {},
   "outputs": [
    {
     "data": {
      "text/html": [
       "<div>\n",
       "<style scoped>\n",
       "    .dataframe tbody tr th:only-of-type {\n",
       "        vertical-align: middle;\n",
       "    }\n",
       "\n",
       "    .dataframe tbody tr th {\n",
       "        vertical-align: top;\n",
       "    }\n",
       "\n",
       "    .dataframe thead th {\n",
       "        text-align: right;\n",
       "    }\n",
       "</style>\n",
       "<table border=\"1\" class=\"dataframe\">\n",
       "  <thead>\n",
       "    <tr style=\"text-align: right;\">\n",
       "      <th></th>\n",
       "      <th>Текст</th>\n",
       "      <th>Тип источника</th>\n",
       "      <th>tokens</th>\n",
       "    </tr>\n",
       "  </thead>\n",
       "  <tbody>\n",
       "    <tr>\n",
       "      <th>0</th>\n",
       "      <td>-здравствуйте, тинькофф банк\\r\\n-мать твою еба...</td>\n",
       "      <td>Микроблоги</td>\n",
       "      <td>[тинькофф, банк, твою, ебал, досвидания]</td>\n",
       "    </tr>\n",
       "    <tr>\n",
       "      <th>1</th>\n",
       "      <td>почему немагия сделала обзор на тинькова? #нем...</td>\n",
       "      <td>Микроблоги</td>\n",
       "      <td>[почему, немагия, сделала, обзор, на, тинькова...</td>\n",
       "    </tr>\n",
       "    <tr>\n",
       "      <th>2</th>\n",
       "      <td>13:01, 27.04.2019 \\r\\n\\r\\nподелиться:\\r\\n\\r\\n ...</td>\n",
       "      <td>Новости</td>\n",
       "      <td>[поделиться, forbes, назвал, самые, экстравага...</td>\n",
       "    </tr>\n",
       "    <tr>\n",
       "      <th>3</th>\n",
       "      <td>13:01, 27.04.2019 \\r\\n\\r\\nподелиться:\\r\\n\\r\\n ...</td>\n",
       "      <td>Новости</td>\n",
       "      <td>[поделиться, forbes, назвал, самые, экстравага...</td>\n",
       "    </tr>\n",
       "    <tr>\n",
       "      <th>4</th>\n",
       "      <td>первый отзыв без оценки:&amp;nbsp;\\r\\nhttps://www....</td>\n",
       "      <td>Отзывы</td>\n",
       "      <td>[первый, отзыв, без, оценки, nbsp, https, крат...</td>\n",
       "    </tr>\n",
       "  </tbody>\n",
       "</table>\n",
       "</div>"
      ],
      "text/plain": [
       "                                               Текст Тип источника  \\\n",
       "0  -здравствуйте, тинькофф банк\\r\\n-мать твою еба...    Микроблоги   \n",
       "1  почему немагия сделала обзор на тинькова? #нем...    Микроблоги   \n",
       "2  13:01, 27.04.2019 \\r\\n\\r\\nподелиться:\\r\\n\\r\\n ...       Новости   \n",
       "3  13:01, 27.04.2019 \\r\\n\\r\\nподелиться:\\r\\n\\r\\n ...       Новости   \n",
       "4  первый отзыв без оценки:&nbsp;\\r\\nhttps://www....        Отзывы   \n",
       "\n",
       "                                              tokens  \n",
       "0           [тинькофф, банк, твою, ебал, досвидания]  \n",
       "1  [почему, немагия, сделала, обзор, на, тинькова...  \n",
       "2  [поделиться, forbes, назвал, самые, экстравага...  \n",
       "3  [поделиться, forbes, назвал, самые, экстравага...  \n",
       "4  [первый, отзыв, без, оценки, nbsp, https, крат...  "
      ]
     },
     "execution_count": 474,
     "metadata": {},
     "output_type": "execute_result"
    }
   ],
   "source": [
    "D.head()"
   ]
  },
  {
   "cell_type": "markdown",
   "metadata": {},
   "source": [
    "#### 1.4 Выведите 20 слов, которые встечаются в наибольшем числе документов. Что можно сказать об этих словах?"
   ]
  },
  {
   "cell_type": "code",
   "execution_count": 475,
   "metadata": {},
   "outputs": [],
   "source": [
    "import collections"
   ]
  },
  {
   "cell_type": "code",
   "execution_count": 476,
   "metadata": {},
   "outputs": [],
   "source": [
    "words = collections.Counter()\n",
    "for line in D[\"tokens\"]:\n",
    "    for word in set(line):\n",
    "        words[word] += 1"
   ]
  },
  {
   "cell_type": "code",
   "execution_count": 477,
   "metadata": {},
   "outputs": [
    {
     "name": "stdout",
     "output_type": "stream",
     "text": [
      "в 144033\n",
      "и 136262\n",
      "на 117638\n",
      "не 110081\n",
      "тинькофф 105112\n",
      "с 100489\n",
      "банк 93858\n",
      "по 84583\n",
      "что 82808\n",
      "а 71779\n",
      "за 68298\n",
      "банка 62513\n",
      "как 60769\n",
      "это 59170\n",
      "у 55321\n",
      "для 55128\n",
      "так 50070\n",
      "от 49675\n",
      "но 47131\n",
      "к 45944\n"
     ]
    }
   ],
   "source": [
    "for i in words.most_common(20):\n",
    "    print(*i)"
   ]
  },
  {
   "cell_type": "markdown",
   "metadata": {},
   "source": [
    "большая часть слов является предлогами и союзами и не несут смысловой нагрузки. Из 20 популярных слов смысл есть только у 3, причем 2 из них отличаются только на окончание"
   ]
  },
  {
   "cell_type": "markdown",
   "metadata": {},
   "source": [
    "#### 1.5 Выведите 20 слов, которые встечаются в наименьшем числе документов "
   ]
  },
  {
   "cell_type": "code",
   "execution_count": 478,
   "metadata": {},
   "outputs": [
    {
     "name": "stdout",
     "output_type": "stream",
     "text": [
      "вардер 1\n",
      "охеренный 1\n",
      "фейсу 1\n",
      "jagger 1\n",
      "психую 1\n",
      "устанлвлено 1\n",
      "вылазящий 1\n",
      "кэшбжком 1\n",
      "повалится 1\n",
      "netesov 1\n",
      "отреклось 1\n",
      "сварганили 1\n",
      "кредитчику 1\n",
      "выписного 1\n",
      "наличгыми 1\n",
      "pandeglol 1\n",
      "пэйпассу 1\n",
      "заказывый 1\n",
      "советсткую 1\n",
      "сверкало 1\n"
     ]
    }
   ],
   "source": [
    "for i in words.most_common()[len(words)-20:]:\n",
    "    print(*i)"
   ]
  },
  {
   "cell_type": "markdown",
   "metadata": {},
   "source": [
    "### 2. Подготовка данных"
   ]
  },
  {
   "cell_type": "markdown",
   "metadata": {},
   "source": [
    "[3 балла]"
   ]
  },
  {
   "cell_type": "markdown",
   "metadata": {},
   "source": [
    "####  2.1 Разделите выборку на обучающую и тестовую в соотношении 70:30"
   ]
  },
  {
   "cell_type": "code",
   "execution_count": 2,
   "metadata": {},
   "outputs": [],
   "source": [
    "from sklearn.model_selection import train_test_split\n",
    "from sklearn.feature_extraction.text import CountVectorizer"
   ]
  },
  {
   "cell_type": "code",
   "execution_count": 480,
   "metadata": {},
   "outputs": [],
   "source": [
    "D['Text'] = D.apply(lambda x: ' '.join(x['tokens']), axis=1)\n",
    "D_train, D_test = train_test_split(D, test_size=0.3, random_state=42)"
   ]
  },
  {
   "cell_type": "markdown",
   "metadata": {},
   "source": [
    "#### 2.2 Обучите BOW векторы на обучающей выборке и примените преобразование к обучающей и тестовой"
   ]
  },
  {
   "cell_type": "code",
   "execution_count": 481,
   "metadata": {},
   "outputs": [
    {
     "name": "stdout",
     "output_type": "stream",
     "text": [
      "Wall time: 35.1 s\n"
     ]
    }
   ],
   "source": [
    "%%time\n",
    "cnt_vec = CountVectorizer()\n",
    "D_train_bow = cnt_vec.fit_transform(D_train[\"Text\"])\n",
    "D_test_bow = cnt_vec.transform(D_test[\"Text\"])"
   ]
  },
  {
   "cell_type": "code",
   "execution_count": 482,
   "metadata": {},
   "outputs": [
    {
     "data": {
      "text/plain": [
       "(<139697x278913 sparse matrix of type '<class 'numpy.int64'>'\n",
       " \twith 11639034 stored elements in Compressed Sparse Row format>,\n",
       " <59871x278913 sparse matrix of type '<class 'numpy.int64'>'\n",
       " \twith 4904259 stored elements in Compressed Sparse Row format>)"
      ]
     },
     "execution_count": 482,
     "metadata": {},
     "output_type": "execute_result"
    }
   ],
   "source": [
    "D_train_bow, D_test_bow"
   ]
  },
  {
   "cell_type": "markdown",
   "metadata": {},
   "source": [
    "#### 2.3 Обучите TFIDF векторы на обучающей выборке и примените преобразование к тестовой"
   ]
  },
  {
   "cell_type": "code",
   "execution_count": 483,
   "metadata": {},
   "outputs": [],
   "source": [
    "from sklearn.feature_extraction.text import TfidfVectorizer\n",
    "tfidf_vec = TfidfVectorizer()"
   ]
  },
  {
   "cell_type": "code",
   "execution_count": 484,
   "metadata": {},
   "outputs": [
    {
     "name": "stdout",
     "output_type": "stream",
     "text": [
      "Wall time: 24.4 s\n"
     ]
    }
   ],
   "source": [
    "%%time\n",
    "X_TFIDF = tfidf_vec.fit_transform(D_train[\"Text\"])"
   ]
  },
  {
   "cell_type": "code",
   "execution_count": 485,
   "metadata": {},
   "outputs": [],
   "source": [
    "X_test_TFIDF = tfidf_vec.transform(D_test[\"Text\"])"
   ]
  },
  {
   "cell_type": "code",
   "execution_count": 486,
   "metadata": {},
   "outputs": [
    {
     "data": {
      "text/plain": [
       "<139697x278913 sparse matrix of type '<class 'numpy.float64'>'\n",
       "\twith 11639034 stored elements in Compressed Sparse Row format>"
      ]
     },
     "execution_count": 486,
     "metadata": {},
     "output_type": "execute_result"
    }
   ],
   "source": [
    "X_TFIDF"
   ]
  },
  {
   "cell_type": "code",
   "execution_count": 487,
   "metadata": {},
   "outputs": [
    {
     "data": {
      "text/plain": [
       "<59871x278913 sparse matrix of type '<class 'numpy.float64'>'\n",
       "\twith 4904259 stored elements in Compressed Sparse Row format>"
      ]
     },
     "execution_count": 487,
     "metadata": {},
     "output_type": "execute_result"
    }
   ],
   "source": [
    "X_test_TFIDF"
   ]
  },
  {
   "cell_type": "markdown",
   "metadata": {},
   "source": [
    "#### 2.4 Примените стемминг к текстам обучающей и тестовой выборки. Обучите TFIDF векторы на полученных данных."
   ]
  },
  {
   "cell_type": "code",
   "execution_count": 488,
   "metadata": {},
   "outputs": [],
   "source": [
    "from nltk.stem.snowball import SnowballStemmer\n",
    "stemmer = SnowballStemmer('russian')"
   ]
  },
  {
   "cell_type": "code",
   "execution_count": 489,
   "metadata": {},
   "outputs": [
    {
     "name": "stdout",
     "output_type": "stream",
     "text": [
      "Wall time: 21min 13s\n"
     ]
    },
    {
     "name": "stderr",
     "output_type": "stream",
     "text": [
      "C:\\Users\\alex1\\Anaconda3\\lib\\site-packages\\ipykernel_launcher.py:1: SettingWithCopyWarning: \n",
      "A value is trying to be set on a copy of a slice from a DataFrame.\n",
      "Try using .loc[row_indexer,col_indexer] = value instead\n",
      "\n",
      "See the caveats in the documentation: http://pandas.pydata.org/pandas-docs/stable/indexing.html#indexing-view-versus-copy\n",
      "  \"\"\"Entry point for launching an IPython kernel.\n"
     ]
    }
   ],
   "source": [
    "%%time\n",
    "D_train['stemmed'] = D_train.apply(lambda x: ' '.join([stemmer.stem(w) for w in x['tokens']]), axis=1)"
   ]
  },
  {
   "cell_type": "code",
   "execution_count": 490,
   "metadata": {},
   "outputs": [
    {
     "data": {
      "text/html": [
       "<div>\n",
       "<style scoped>\n",
       "    .dataframe tbody tr th:only-of-type {\n",
       "        vertical-align: middle;\n",
       "    }\n",
       "\n",
       "    .dataframe tbody tr th {\n",
       "        vertical-align: top;\n",
       "    }\n",
       "\n",
       "    .dataframe thead th {\n",
       "        text-align: right;\n",
       "    }\n",
       "</style>\n",
       "<table border=\"1\" class=\"dataframe\">\n",
       "  <thead>\n",
       "    <tr style=\"text-align: right;\">\n",
       "      <th></th>\n",
       "      <th>Текст</th>\n",
       "      <th>Тип источника</th>\n",
       "      <th>tokens</th>\n",
       "      <th>Text</th>\n",
       "      <th>stemmed</th>\n",
       "    </tr>\n",
       "  </thead>\n",
       "  <tbody>\n",
       "    <tr>\n",
       "      <th>51329</th>\n",
       "      <td>лучшее мобильное приложение лучшего мобильного...</td>\n",
       "      <td>Отзывы</td>\n",
       "      <td>[лучшее, мобильное, приложение, лучшего, мобил...</td>\n",
       "      <td>лучшее мобильное приложение лучшего мобильного...</td>\n",
       "      <td>лучш мобильн приложен лучш мобильн банк да и б...</td>\n",
       "    </tr>\n",
       "    <tr>\n",
       "      <th>88722</th>\n",
       "      <td>20 часов назад, мурчака сказал:    мы всегда п...</td>\n",
       "      <td>Форумы</td>\n",
       "      <td>[часов, назад, мурчака, сказал, мы, всегда, пр...</td>\n",
       "      <td>часов назад мурчака сказал мы всегда примерно ...</td>\n",
       "      <td>час назад мурчак сказа мы всегд примерн счита ...</td>\n",
       "    </tr>\n",
       "    <tr>\n",
       "      <th>106055</th>\n",
       "      <td>цитатаmmit пишет:\\r\\nвойдет ли этот платеж в н...</td>\n",
       "      <td>Форумы</td>\n",
       "      <td>[цитатаmmit, пишет, войдет, ли, этот, платеж, ...</td>\n",
       "      <td>цитатаmmit пишет войдет ли этот платеж в необх...</td>\n",
       "      <td>цитатамм пишет войдет ли этот платеж в необход...</td>\n",
       "    </tr>\n",
       "    <tr>\n",
       "      <th>86205</th>\n",
       "      <td>москва, россия — 9 ноября 2018 г.\\r\\nтинькофф ...</td>\n",
       "      <td>Новости</td>\n",
       "      <td>[москва, россия, ноября, тинькофф, банк, сообщ...</td>\n",
       "      <td>москва россия ноября тинькофф банк сообщает о ...</td>\n",
       "      <td>москв росс ноябр тинькофф банк сообща о введен...</td>\n",
       "    </tr>\n",
       "    <tr>\n",
       "      <th>194642</th>\n",
       "      <td>контактные данные. 3.3. администрация осуществ...</td>\n",
       "      <td>Блоги</td>\n",
       "      <td>[контактные, данные, администрация, осуществля...</td>\n",
       "      <td>контактные данные администрация осуществляет с...</td>\n",
       "      <td>контактн дан администрац осуществля сбор стати...</td>\n",
       "    </tr>\n",
       "  </tbody>\n",
       "</table>\n",
       "</div>"
      ],
      "text/plain": [
       "                                                    Текст Тип источника  \\\n",
       "51329   лучшее мобильное приложение лучшего мобильного...        Отзывы   \n",
       "88722   20 часов назад, мурчака сказал:    мы всегда п...        Форумы   \n",
       "106055  цитатаmmit пишет:\\r\\nвойдет ли этот платеж в н...        Форумы   \n",
       "86205   москва, россия — 9 ноября 2018 г.\\r\\nтинькофф ...       Новости   \n",
       "194642  контактные данные. 3.3. администрация осуществ...         Блоги   \n",
       "\n",
       "                                                   tokens  \\\n",
       "51329   [лучшее, мобильное, приложение, лучшего, мобил...   \n",
       "88722   [часов, назад, мурчака, сказал, мы, всегда, пр...   \n",
       "106055  [цитатаmmit, пишет, войдет, ли, этот, платеж, ...   \n",
       "86205   [москва, россия, ноября, тинькофф, банк, сообщ...   \n",
       "194642  [контактные, данные, администрация, осуществля...   \n",
       "\n",
       "                                                     Text  \\\n",
       "51329   лучшее мобильное приложение лучшего мобильного...   \n",
       "88722   часов назад мурчака сказал мы всегда примерно ...   \n",
       "106055  цитатаmmit пишет войдет ли этот платеж в необх...   \n",
       "86205   москва россия ноября тинькофф банк сообщает о ...   \n",
       "194642  контактные данные администрация осуществляет с...   \n",
       "\n",
       "                                                  stemmed  \n",
       "51329   лучш мобильн приложен лучш мобильн банк да и б...  \n",
       "88722   час назад мурчак сказа мы всегд примерн счита ...  \n",
       "106055  цитатамм пишет войдет ли этот платеж в необход...  \n",
       "86205   москв росс ноябр тинькофф банк сообща о введен...  \n",
       "194642  контактн дан администрац осуществля сбор стати...  "
      ]
     },
     "execution_count": 490,
     "metadata": {},
     "output_type": "execute_result"
    }
   ],
   "source": [
    "D_train.head()"
   ]
  },
  {
   "cell_type": "code",
   "execution_count": 491,
   "metadata": {},
   "outputs": [
    {
     "name": "stdout",
     "output_type": "stream",
     "text": [
      "Wall time: 8min 48s\n"
     ]
    },
    {
     "name": "stderr",
     "output_type": "stream",
     "text": [
      "C:\\Users\\alex1\\Anaconda3\\lib\\site-packages\\ipykernel_launcher.py:1: SettingWithCopyWarning: \n",
      "A value is trying to be set on a copy of a slice from a DataFrame.\n",
      "Try using .loc[row_indexer,col_indexer] = value instead\n",
      "\n",
      "See the caveats in the documentation: http://pandas.pydata.org/pandas-docs/stable/indexing.html#indexing-view-versus-copy\n",
      "  \"\"\"Entry point for launching an IPython kernel.\n"
     ]
    }
   ],
   "source": [
    "%%time\n",
    "D_test['stemmed'] = D_test.apply(lambda x: ' '.join([stemmer.stem(w) for w in x['tokens']]), axis=1)"
   ]
  },
  {
   "cell_type": "code",
   "execution_count": 492,
   "metadata": {},
   "outputs": [
    {
     "data": {
      "text/html": [
       "<div>\n",
       "<style scoped>\n",
       "    .dataframe tbody tr th:only-of-type {\n",
       "        vertical-align: middle;\n",
       "    }\n",
       "\n",
       "    .dataframe tbody tr th {\n",
       "        vertical-align: top;\n",
       "    }\n",
       "\n",
       "    .dataframe thead th {\n",
       "        text-align: right;\n",
       "    }\n",
       "</style>\n",
       "<table border=\"1\" class=\"dataframe\">\n",
       "  <thead>\n",
       "    <tr style=\"text-align: right;\">\n",
       "      <th></th>\n",
       "      <th>Текст</th>\n",
       "      <th>Тип источника</th>\n",
       "      <th>tokens</th>\n",
       "      <th>Text</th>\n",
       "      <th>stemmed</th>\n",
       "    </tr>\n",
       "  </thead>\n",
       "  <tbody>\n",
       "    <tr>\n",
       "      <th>179313</th>\n",
       "      <td>ориентир доходности бессрочных субординированн...</td>\n",
       "      <td>Новости</td>\n",
       "      <td>[ориентир, доходности, бессрочных, субординиро...</td>\n",
       "      <td>ориентир доходности бессрочных субординированн...</td>\n",
       "      <td>ориентир доходн бессрочн субординирова еврообл...</td>\n",
       "    </tr>\n",
       "    <tr>\n",
       "      <th>162765</th>\n",
       "      <td>у меня была кредитная карта банка тинькофф. в ...</td>\n",
       "      <td>Отзывы</td>\n",
       "      <td>[у, меня, была, кредитная, карта, банка, тиньк...</td>\n",
       "      <td>у меня была кредитная карта банка тинькофф в и...</td>\n",
       "      <td>у мен был кредитн карт банк тинькофф в июн год...</td>\n",
       "    </tr>\n",
       "    <tr>\n",
       "      <th>158372</th>\n",
       "      <td>rt @andr_11_92: если вы нуждаетесь в деньгах,и...</td>\n",
       "      <td>Микроблоги</td>\n",
       "      <td>[rt, если, вы, нуждаетесь, в, деньгах, и, не, ...</td>\n",
       "      <td>rt если вы нуждаетесь в деньгах и не знаете гд...</td>\n",
       "      <td>rt есл вы нужда в деньг и не знает где их взят...</td>\n",
       "    </tr>\n",
       "    <tr>\n",
       "      <th>80873</th>\n",
       "      <td>фото: omskregion.info          втб и тинькофф-...</td>\n",
       "      <td>Новости</td>\n",
       "      <td>[фото, втб, и, изучают, вопрос, переоборудован...</td>\n",
       "      <td>фото втб и изучают вопрос переоборудования бан...</td>\n",
       "      <td>фот втб и изуча вопрос переоборудован банкомат...</td>\n",
       "    </tr>\n",
       "    <tr>\n",
       "      <th>56717</th>\n",
       "      <td>тинькофф банк,\\r\\nотправил. там было более 3 м...</td>\n",
       "      <td>Форумы</td>\n",
       "      <td>[тинькофф, банк, отправил, там, было, более, м...</td>\n",
       "      <td>тинькофф банк отправил там было более млн един...</td>\n",
       "      <td>тинькофф банк отправ там был бол млн единствен...</td>\n",
       "    </tr>\n",
       "  </tbody>\n",
       "</table>\n",
       "</div>"
      ],
      "text/plain": [
       "                                                    Текст Тип источника  \\\n",
       "179313  ориентир доходности бессрочных субординированн...       Новости   \n",
       "162765  у меня была кредитная карта банка тинькофф. в ...        Отзывы   \n",
       "158372  rt @andr_11_92: если вы нуждаетесь в деньгах,и...    Микроблоги   \n",
       "80873   фото: omskregion.info          втб и тинькофф-...       Новости   \n",
       "56717   тинькофф банк,\\r\\nотправил. там было более 3 м...        Форумы   \n",
       "\n",
       "                                                   tokens  \\\n",
       "179313  [ориентир, доходности, бессрочных, субординиро...   \n",
       "162765  [у, меня, была, кредитная, карта, банка, тиньк...   \n",
       "158372  [rt, если, вы, нуждаетесь, в, деньгах, и, не, ...   \n",
       "80873   [фото, втб, и, изучают, вопрос, переоборудован...   \n",
       "56717   [тинькофф, банк, отправил, там, было, более, м...   \n",
       "\n",
       "                                                     Text  \\\n",
       "179313  ориентир доходности бессрочных субординированн...   \n",
       "162765  у меня была кредитная карта банка тинькофф в и...   \n",
       "158372  rt если вы нуждаетесь в деньгах и не знаете гд...   \n",
       "80873   фото втб и изучают вопрос переоборудования бан...   \n",
       "56717   тинькофф банк отправил там было более млн един...   \n",
       "\n",
       "                                                  stemmed  \n",
       "179313  ориентир доходн бессрочн субординирова еврообл...  \n",
       "162765  у мен был кредитн карт банк тинькофф в июн год...  \n",
       "158372  rt есл вы нужда в деньг и не знает где их взят...  \n",
       "80873   фот втб и изуча вопрос переоборудован банкомат...  \n",
       "56717   тинькофф банк отправ там был бол млн единствен...  "
      ]
     },
     "execution_count": 492,
     "metadata": {},
     "output_type": "execute_result"
    }
   ],
   "source": [
    "D_test.head()"
   ]
  },
  {
   "cell_type": "code",
   "execution_count": 165,
   "metadata": {},
   "outputs": [],
   "source": [
    "tfidf_vec_stem = TfidfVectorizer()"
   ]
  },
  {
   "cell_type": "code",
   "execution_count": 493,
   "metadata": {},
   "outputs": [
    {
     "name": "stdout",
     "output_type": "stream",
     "text": [
      "Wall time: 31.1 s\n"
     ]
    }
   ],
   "source": [
    "%%time\n",
    "X_stem_TFIDF = tfidf_vec_stem.fit_transform(D_train[\"stemmed\"])\n",
    "X_test_stem_TFIDF = tfidf_vec_stem.transform(D_test[\"stemmed\"])"
   ]
  },
  {
   "cell_type": "markdown",
   "metadata": {},
   "source": [
    "#### 2.5 Сравните размеры полученных матриц"
   ]
  },
  {
   "cell_type": "code",
   "execution_count": 494,
   "metadata": {},
   "outputs": [
    {
     "data": {
      "text/plain": [
       "((139697, 278913), (59871, 278913))"
      ]
     },
     "execution_count": 494,
     "metadata": {},
     "output_type": "execute_result"
    }
   ],
   "source": [
    "D_train_bow.shape, D_test_bow.shape"
   ]
  },
  {
   "cell_type": "code",
   "execution_count": 495,
   "metadata": {},
   "outputs": [
    {
     "data": {
      "text/plain": [
       "((139697, 278913), (59871, 278913))"
      ]
     },
     "execution_count": 495,
     "metadata": {},
     "output_type": "execute_result"
    }
   ],
   "source": [
    "X_TFIDF.shape, X_test_TFIDF.shape"
   ]
  },
  {
   "cell_type": "code",
   "execution_count": 496,
   "metadata": {},
   "outputs": [
    {
     "data": {
      "text/plain": [
       "((139697, 123887), (59871, 123887))"
      ]
     },
     "execution_count": 496,
     "metadata": {},
     "output_type": "execute_result"
    }
   ],
   "source": [
    "X_stem_TFIDF.shape, X_test_stem_TFIDF.shape"
   ]
  },
  {
   "cell_type": "markdown",
   "metadata": {},
   "source": [
    "После стемминга количество уникальных слов уменьшилось примерно в 2 раза."
   ]
  },
  {
   "cell_type": "markdown",
   "metadata": {},
   "source": [
    "### 3. Обучение модели и оценка результатов"
   ]
  },
  {
   "cell_type": "markdown",
   "metadata": {},
   "source": [
    "[2 балла]"
   ]
  },
  {
   "cell_type": "markdown",
   "metadata": {},
   "source": [
    "#### 3.1 Обучите логистическую регрессию SGDClassifier на данных, полученных в пунктах 2.2, 2.3 и 2.4.\n",
    "#### Оцените качество на отложенной выборке по метрике accuracy"
   ]
  },
  {
   "cell_type": "code",
   "execution_count": 3,
   "metadata": {},
   "outputs": [],
   "source": [
    "from sklearn.linear_model import SGDClassifier\n",
    "from sklearn.metrics import accuracy_score"
   ]
  },
  {
   "cell_type": "code",
   "execution_count": 499,
   "metadata": {},
   "outputs": [
    {
     "name": "stdout",
     "output_type": "stream",
     "text": [
      "BOW algo accuracy: 0.8353626964640644\n"
     ]
    }
   ],
   "source": [
    "lr1 = SGDClassifier()\n",
    "lr1.fit(D_train_bow, D_train[\"Тип источника\"])\n",
    "y_predict = lr1.predict(D_test_bow)\n",
    "print(\"BOW algo accuracy:\", accuracy_score(D_test[\"Тип источника\"], y_predict))"
   ]
  },
  {
   "cell_type": "code",
   "execution_count": 501,
   "metadata": {},
   "outputs": [
    {
     "name": "stdout",
     "output_type": "stream",
     "text": [
      "TFIDF algo accuracy: 0.8321892067946084\n"
     ]
    }
   ],
   "source": [
    "lr2 = SGDClassifier()\n",
    "lr2.fit(X_TFIDF, D_train[\"Тип источника\"])\n",
    "y_predict = lr2.predict(X_test_TFIDF)\n",
    "print(\"TFIDF algo accuracy:\", accuracy_score(D_test[\"Тип источника\"], y_predict))"
   ]
  },
  {
   "cell_type": "code",
   "execution_count": 502,
   "metadata": {},
   "outputs": [
    {
     "name": "stdout",
     "output_type": "stream",
     "text": [
      "TFIDF with stem algo accuracy: 0.819912812546976\n"
     ]
    }
   ],
   "source": [
    "lr3 = SGDClassifier()\n",
    "lr3.fit(X_stem_TFIDF, D_train[\"Тип источника\"])\n",
    "y_predict = lr3.predict(X_test_stem_TFIDF)\n",
    "print(\"TFIDF with stem algo accuracy:\", accuracy_score(D_test[\"Тип источника\"], y_predict))"
   ]
  },
  {
   "cell_type": "markdown",
   "metadata": {},
   "source": [
    "#### 3.2 Какой алгоритм показал наилучшее качество классификации? Как это можно объяснить?"
   ]
  },
  {
   "cell_type": "markdown",
   "metadata": {},
   "source": [
    "Результат работы всех алгоритмов примерно одинаковый, результат отличается лишь на сотые доли. \n",
    "\n",
    "Лучший результат показал BOW алгоритм. \n",
    "\n",
    "BOW отличается от TFIDF на 0.007 по качеству.\n",
    "Возможно, тексты подобраны на одну и ту же тематику, поэтому разделение по частоте встречамости в тексте не дает значительного изменения.\n",
    "\n",
    "После стэминга качество упало на 0.012 по сравнению с обычным TFIDF.\n",
    "Возможная причина - потеря смысла некоторых слов при откидывании окончаний и суффиксов (смысл слова в работе не восстанавливался)."
   ]
  },
  {
   "cell_type": "markdown",
   "metadata": {},
   "source": [
    "#### 3.3 Выведите несколько документов из тестовой выборки, на которых были допущены ошибки. Что можно о них сказать?"
   ]
  },
  {
   "cell_type": "code",
   "execution_count": 504,
   "metadata": {},
   "outputs": [
    {
     "name": "stdout",
     "output_type": "stream",
     "text": [
      "Text:\n",
      "тинькофф банк,\r\n",
      "отправил. там было более 3 млн. единственное, чем можно объяснить - списанием средств при покупке акций и не моментальным зачислением самих акций на счёт. у меня ситуация может быть аналогичной.\r\n",
      "при этом в чате сообщали. что проблемой это не будет.\n",
      "Stammed text:\n",
      "тинькофф банк отправ там был бол млн единствен чем можн объясн списан средств при покупк акц и не моментальн зачислен сам акц на счет у мен ситуац может быт аналогичн при эт в чат сообща что проблем эт не будет\n",
      "Predicted:  Форумы\n",
      "Actual:  Отзывы\n",
      "============================================================\n",
      "Text:\n",
      "спасибо тинькофф банку https://www.tinkoffinsurance.ru/ins/osago-product/\r\n",
      "за быстрое и простое оформление е-осаго, все понятно и интуитивно, также цена ниже чем у конкурентов! оплатили картой и в момент полис на почте), правда теперь вся семья заставила делать им полисы). ну и по оформлению другого полиса осаго надеюсь решится успешно, в прошлый раз видимо не все данные передали в базу, и теперь коэффициент 1, но полис на руках есть.\n",
      "Stammed text:\n",
      "спасиб тинькофф банк https за быстр и прост оформлен все понятн и интуитивн такж цен ниж чем у конкурент оплат карт и в момент полис на почт правд тепер вся сем застав дела им полис ну и по оформлен друг полис осаг над реш успешн в прошл раз видим не все дан переда в баз и тепер коэффициент но полис на рук ест\n",
      "Predicted:  Форумы\n",
      "Actual:  Отзывы\n",
      "============================================================\n",
      "Text:\n",
      "спасибо  за совет!  я так и поступил, разговор  записал... . от этих товарищей можно всего ожидать... потом скажут, что вы нам  может и говорили про закрытие договора, но мы не слышали....   в любом случае, карта истекает через месяц,  и получать новую я не буду в любом случае!\n",
      "Stammed text:\n",
      "спасиб за совет я так и поступ разговор записа от эт товарищ можн всег ожида пот скажут что вы нам может и говор про закрыт договор но мы не слыша в люб случа карт истека через месяц и получа нов я не буд в люб случа\n",
      "Predicted:  Отзывы\n",
      "Actual:  Форумы\n",
      "============================================================\n",
      "Text:\n",
      "+themaxrus пользуюсь тинькофф и втб. и как банк тинькофф гораздо удобнее и понятнее. тинькофф рулит\n",
      "Stammed text:\n",
      "польз тинькофф и втб и как банк тинькофф горазд удобн и понятн тинькофф рул\n",
      "Predicted:  Видео\n",
      "Actual:  Микроблоги\n",
      "============================================================\n",
      "Text:\n",
      "на самом деле у тинькофф очень высокие штрафы за просрочку минимального платежа, если не брать в расчеты премиальные карты, то выходит [b]29,9%+19%=48,9% + 590 руб[/b], если сравнивать со сбером, то у них 36%\n",
      "Stammed text:\n",
      "на сам дел у тинькофф очен высок штраф за просрочк минимальн платеж есл не брат в расчет премиальн карт то выход b руб есл сравнива со сбер то у них\n",
      "Predicted:  Отзывы\n",
      "Actual:  Форумы\n",
      "============================================================\n",
      "Text:\n",
      "безнаказанноехищение денежных средств с расчетного счета организации в банке втб\r\n",
      "26марта 2018 года с расчетного счета нашей организации в банке втб с\r\n",
      "использованием системы &laquo;банк-клиент&raquo; через сеть интернет был похищен весь\r\n",
      "остаток денежных средств в размере 972&nbsp;000 рублей. в связи с редкими\r\n",
      "платежами по счету хищение было обнаружено на 3-й день.\r\n",
      "28марта была предпринята попытка войти в систему &laquo;банк-клиент&raquo;, однако, служба\r\n",
      "техподдержки банка сообщила, что пароль от системы &laquo;банк-клиент&raquo; был изменен 26\r\n",
      "марта.\r\n",
      "выяснилось,что в этот день были осуществлены 5 платежей, несанкционированных руководством\r\n",
      "и физически не проводившихся с нашего компьютера. все платежи были произведены\r\n",
      "в адрес одного получателя в тинькофф банк &mdash; ип вашин николай олегович\r\n",
      "(красноярский край, р-н партизанский, с. партизанское).\r\n",
      "29марта 2018 года были поданы официальное заявление об отмене платежей и\r\n",
      "заявление в полицию. как выяснилось в банке, пароль доступа был изменен без\r\n",
      "участия клиента, хотя в соответствии с принятой в банке процедурой, такой\r\n",
      "пароль меняется только в течение 2-х дней и только при личной явке клиента в\r\n",
      "банк.\r\n",
      "ни службабезопасности банка, ни руководитель дополнительного офиса, ни руководство\r\n",
      "головного офиса, не оказали никакой реальной помощи в разрешении сложившейся\r\n",
      "ситуации, ограничившись бесполезной перепиской. не была проведена ни экспертиза\r\n",
      "компьютера, с которого клиент заходил в банк, ни проверка сотрудников банка на\r\n",
      "детекторе лжи, не подано даже заявление банка в полицию. при этом очевидно, что\r\n",
      "мошенники осуществляли платежи, зная, что в ближайшее время пропажу денег не обнаружат,\r\n",
      "т.е. они, вероятнее всего, обладали информацией о периодичности платежей с\r\n",
      "расчетного счета.\r\n",
      "только после 2-хписем на имя костина а.л. нам соизволили назначить встречу с директором\r\n",
      "управления по москве и мо департамента корпоративной сети банка втб &ndash; полинко\r\n",
      "татьяной александровной. нам было заявлено, что у нас будет не больше 30-40\r\n",
      "минут в связи с плотным графиком такого высокого руководителя. фактически с нами\r\n",
      "поговорили 4 других сотрудника банка, а сама госпожа полинко, подойдя в\r\n",
      "завершение встречи, со слов своих коллег за 10 минут поняла, что мы сами\r\n",
      "виноваты в случившемся. директор управления объяснила, что наши претензии к\r\n",
      "банку вызваны нашим &laquo;субъективным восприятиемпроблемы&raquo;, банк считает своё поведение правильным, затем покинула встречупосле нашего замечания на удивительную &laquo;клиентоориентированность&raquo; собеседницы.\r\n",
      "после такихвстреч нам стало понятно, как банк втб относится к своим клиентам и их денежным\r\n",
      "средствам.\r\n",
      "вызываетполнейшее непонимание и возмущение равнодушная позиция сотрудников одного из\r\n",
      "крупнейших банков страны к произошедшему инциденту при том, что денежные\r\n",
      "средства похищены у некоммерческой организации, не имеющей иных источников\r\n",
      "доходов кроме взносов членов и выполняющей государственные задачи по защите и\r\n",
      "представлению интересов всей отрасли.\r\n",
      "&nbsp;\r\n",
      "поискав винтернете, мы обнаружили, что пропажа денег в банке втб &ndash; нередкое явление и\r\n",
      "такое поведение его сотрудников - типично.\r\n",
      "вот первые обнаруженныессылки на другие случаи хищения, попавшие в сми:\r\n",
      "&nbsp;\r\n",
      "https://life.ru/1145312&nbsp; молчание &mdash; золото. почему втб не ищетпропавшие со вклада клиента миллионы?\r\n",
      "http://www.banki.ru/forum/?page_name=read&amp;fid=61&amp;tid=327302в втб-24 украли деньги со вклада.\r\n",
      "исполнительный директор национальной ассоциации звероводов зубкова н.а.\n",
      "Stammed text:\n",
      "безнаказанноехищен денежн средств с расчетн счет организац в банк втб год с расчетн счет наш организац в банк втб с использован систем laqu raqu через сет интернет был похищ ве остаток денежн средств в размер nbsp рубл в связ с редк платеж по счет хищен был обнаруж на ден был предпринят попытк войт в сист laqu raqu однак служб техподдержк банк сообщ что парол от систем laqu raqu был измен март выясн что в этот ден был осуществл платеж несанкционирова руководств и физическ не провод с наш компьютер все платеж был произвед в адрес одн получател в тинькофф банк mdash ип вашин никола олегович красноярск кра партизанск партизанск год был пода официальн заявлен об отмен платеж и заявлен в полиц как выясн в банк парол доступ был измен без участ клиент хот в соответств с принят в банк процедур так парол меня тольк в течен дне и тольк при личн явк клиент в банк ни службабезопасн банк ни руководител дополнительн офис ни руководств головн офис не оказа никак реальн помощ в разрешен слож ситуац огранич бесполезн переписк не был провед ни экспертиз компьютер с котор клиент заход в банк ни проверк сотрудник банк на детектор лжи не пода даж заявлен банк в полиц при эт очевидн что мошенник осуществля платеж зна что в ближайш врем пропаж денег не обнаружат он вероятн всег облада информац о периодичн платеж с расчетн счет тольк посл на им костин нам соизвол назнач встреч с директор управлен по москв и мо департамент корпоративн сет банк втб ndash полинк татьян александровн нам был заявл что у нас будет не больш минут в связ с плотн график так высок руководител фактическ с нам поговор друг сотрудник банк а сам госпож полинк подойд в завершен встреч со слов сво коллег за минут поня что мы сам виноват в случ директор управлен объясн что наш претенз к банк вызва наш laqu субъективн восприятиемпроблем raqu банк счита сво поведен правильн зат покинул встречупосл наш замечан на удивительн laqu клиентоориентирован raqu собеседниц посл такихвстреч нам стал понятн как банк втб относ к сво клиент и их денежн средств вызываетполн непониман и возмущен равнодушн позиц сотрудник одн из крупн банк стран к произошедш инцидент при том что денежн средств похищ у некоммерческ организац не имеющ ин источник доход кром взнос член и выполня государствен задач по защ и представлен интерес все отрасл nbsp поиска винтернет мы обнаруж что пропаж денег в банк втб ndash нередк явлен и так поведен ег сотрудник типичн вот перв обнаруженныессылк на друг случа хищен попа в сми nbsp https nbsp молчан mdash золот поч втб не ищетпропа со вклад клиент миллион http amp amp укра деньг со вклад исполнительн директор национальн ассоциац зверовод зубков\n",
      "Predicted:  Отзывы\n",
      "Actual:  Новости\n",
      "============================================================\n",
      "Text:\n",
      "если у вам часто надоели звонки из банка тинькофф и других банков....\n",
      "Stammed text:\n",
      "есл у вам част надоел звонк из банк тинькофф и друг банк\n",
      "Predicted:  Видео\n",
      "Actual:  Отзывы\n",
      "============================================================\n",
      "Text:\n",
      "19 часов назад, sever сказал:    большое спасибо за ответы.\r\n",
      "попробую тоже - пойти, сказать свои пожелания, может они подумают ))) и дадут что мне бы хотелось.\r\n",
      "тинькоф - ушла я от них, закрыла кредитку и на все их звонки - \"мягко\" посылала. рассталась, т.к.по мне они ужасно навязчивые (ясное дело - работа такая) - но предлагали страховку на машину - телефон просто оборвали, потом дебетовую - \"но я вам все-таки пришлю нашего менеджера  с картой. и точка\", потом телефоны друзей \"сдать\", агрессивные - ужс.     именно из тинькова по страховке телефон оборвали? у меня первые 2 года после покупки машины тоже ад был со звонками на счет авто страховки. звонить начинали месяца за 3 до даты продления, не по одному разу за день.  только тиньков тут не причем. звонят разные брокеры, и агенты, телефон берут из базы страховщиков. тиньков по поводу страховки звонил 1 раз, мы посчитали полис и у них вышло дороже, после чего больше не звонили. и вообще, с 12 года с этим банком в навязчивой рекламе ни разу не замечены. они вообще с рекламой не звонили мне, вот когда сама им звонишь, тогда после решения вопроса обычно спрашивают есть ли минутка и успевают какие либо свои услуги предложить. но сами не звонят. \n",
      "Stammed text:\n",
      "час назад sever сказа больш спасиб за ответ попроб тож пойт сказа сво пожелан может он подума и дадут что мне бы хотел тинькоф ушл я от них закр кредитк и на все их звонк мягк посыла расста мне он ужасн навязчив ясн дел работ так но предлага страховк на машин телефон прост оборва пот дебетов но я вам пришл наш менеджер с карт и точк пот телефон друз сдат агрессивн ужс имен из тиньков по страховк телефон оборва у мен перв год посл покупк машин тож ад был со звонк на счет авт страховк звон начина месяц за до дат продлен не по одн раз за ден тольк тиньк тут не прич звон разн брокер и агент телефон берут из баз страховщик тиньк по повод страховк звон раз мы посчита полис и у них вышл дорож посл чег больш не звон и вообщ с год с эт банк в навязчив реклам ни раз не замеч он вообщ с реклам не звон мне вот когд сам им звон тогд посл решен вопрос обычн спрашива ест ли минутк и успева как либ сво услуг предлож но сам не звон\n",
      "Predicted:  Форумы\n",
      "Actual:  Отзывы\n",
      "============================================================\n",
      "Text:\n",
      "гарек сказал(а): &uarr;  ты. &quot;всем 100% кому выписали должны штрафы отменить и вернуть деньги&quot;\r\n",
      "все платят разными способами\r\n",
      "я например - через приложение тинькова\r\n",
      "банк вообще не имеет никакого отношения к моим теркам с дептрансом и гибдд\r\n",
      "потому и не представляю себе как можно просто &quot;отменить и вернуть&quot;\r\n",
      "это в любом случае процедура непростая, даж если виновники падут ниц в раскаяниинажмите, чтобы раскрыть...  ну непростая и что дальше? я разве сказал что она простая? &nbsp;\n",
      "Stammed text:\n",
      "гарек сказа а uarr ты quot всем ком выписа должн штраф отмен и вернут деньг quot все плат разн способ я например через приложен тиньков банк вообщ не имеет никак отношен к мо терк с дептранс и гибдд пот и не представля себ как можн прост quot отмен и вернут quot эт в люб случа процедур непрост даж есл виновник падут ниц в раскаяниинажм чтоб раскр ну непрост и что дальш я разв сказа что он прост nbsp\n",
      "Predicted:  Форумы\n",
      "Actual:  Отзывы\n",
      "============================================================\n",
      "Text:\n",
      "для любопытных: сама табличка на [url=https://docs.google.com/spreadsheets/d/1c_cywpjuezgxshvqgf-ykcxtzvkywsscnjq51stiwea/edit#gid=1620489015]гуглодиск[/url]е; статья про бюджет - [url=https://journal.tinkoff.ru/spreadsheet/]тут[/url]\n",
      "Stammed text:\n",
      "для любопытн сам табличк на гуглодиск е стат про бюджет тут\n",
      "Predicted:  Отзывы\n",
      "Actual:  Форумы\n",
      "============================================================\n"
     ]
    }
   ],
   "source": [
    "_D_test = D_test.reindex()\n",
    "_D_test.index=np.arange(_D_test.shape[0])\n",
    "for i,r in _D_test[_D_test[\"Тип источника\"] != y_predict][:10].iterrows():\n",
    "    print(\"Text:\")\n",
    "    print(r[\"Текст\"])\n",
    "    print(\"Stammed text:\")\n",
    "    print(r[\"stemmed\"])\n",
    "    print(\"Predicted: \", r[\"Тип источника\"])\n",
    "    print(\"Actual: \", y_predict[i])\n",
    "    print(\"=\"*60)"
   ]
  },
  {
   "cell_type": "markdown",
   "metadata": {},
   "source": [
    "По некоторым текстам и человеку трудно сказать, к какой именно категории относится текст из-за неоднозначности информации и пересечений категорий.\n",
    "\n",
    "Кроме того, часть информации была потеряна при обработке данных, например в последней записи (теги форумов).\n",
    "\n",
    "Возможно, стоило добавить анализ тегов и разметки, но это бы было в какой-то мере читерством)"
   ]
  },
  {
   "cell_type": "markdown",
   "metadata": {},
   "source": [
    "#### 3.4 Постройте матрицу ошибок. Проанализируйте ее."
   ]
  },
  {
   "cell_type": "code",
   "execution_count": 14,
   "metadata": {},
   "outputs": [],
   "source": [
    "import matplotlib.pyplot as plt\n",
    "from sklearn.metrics import confusion_matrix\n",
    "from sklearn.utils.multiclass import unique_labels\n",
    "%matplotlib inline"
   ]
  },
  {
   "cell_type": "markdown",
   "metadata": {},
   "source": [
    "Всмомогательная статистика по текстам:"
   ]
  },
  {
   "cell_type": "code",
   "execution_count": 506,
   "metadata": {},
   "outputs": [
    {
     "data": {
      "text/html": [
       "<div>\n",
       "<style scoped>\n",
       "    .dataframe tbody tr th:only-of-type {\n",
       "        vertical-align: middle;\n",
       "    }\n",
       "\n",
       "    .dataframe tbody tr th {\n",
       "        vertical-align: top;\n",
       "    }\n",
       "\n",
       "    .dataframe thead th {\n",
       "        text-align: right;\n",
       "    }\n",
       "</style>\n",
       "<table border=\"1\" class=\"dataframe\">\n",
       "  <thead>\n",
       "    <tr style=\"text-align: right;\">\n",
       "      <th></th>\n",
       "      <th>count</th>\n",
       "      <th>unique</th>\n",
       "      <th>top</th>\n",
       "      <th>freq</th>\n",
       "    </tr>\n",
       "    <tr>\n",
       "      <th>Тип источника</th>\n",
       "      <th></th>\n",
       "      <th></th>\n",
       "      <th></th>\n",
       "      <th></th>\n",
       "    </tr>\n",
       "  </thead>\n",
       "  <tbody>\n",
       "    <tr>\n",
       "      <th>Блоги</th>\n",
       "      <td>113</td>\n",
       "      <td>101</td>\n",
       "      <td>информационный портал новости банков является ...</td>\n",
       "      <td>11</td>\n",
       "    </tr>\n",
       "    <tr>\n",
       "      <th>Видео</th>\n",
       "      <td>2142</td>\n",
       "      <td>1640</td>\n",
       "      <td>https регистрация в letyshops https расширение...</td>\n",
       "      <td>170</td>\n",
       "    </tr>\n",
       "    <tr>\n",
       "      <th>Мессенджеры</th>\n",
       "      <td>81</td>\n",
       "      <td>39</td>\n",
       "      <td>друзья совместно с тинькофф банк мы запустили ...</td>\n",
       "      <td>24</td>\n",
       "    </tr>\n",
       "    <tr>\n",
       "      <th>Микроблоги</th>\n",
       "      <td>5304</td>\n",
       "      <td>2971</td>\n",
       "      <td>rt если вы нуждаетесь в деньгах и не знаете гд...</td>\n",
       "      <td>227</td>\n",
       "    </tr>\n",
       "    <tr>\n",
       "      <th>Новости</th>\n",
       "      <td>10556</td>\n",
       "      <td>7818</td>\n",
       "      <td>в связи с новым годом набираем новую команду и...</td>\n",
       "      <td>759</td>\n",
       "    </tr>\n",
       "    <tr>\n",
       "      <th>Отзывы</th>\n",
       "      <td>12762</td>\n",
       "      <td>12268</td>\n",
       "      <td>текст отсутствует</td>\n",
       "      <td>57</td>\n",
       "    </tr>\n",
       "    <tr>\n",
       "      <th>Форумы</th>\n",
       "      <td>18131</td>\n",
       "      <td>17765</td>\n",
       "      <td>оно не тонет</td>\n",
       "      <td>40</td>\n",
       "    </tr>\n",
       "  </tbody>\n",
       "</table>\n",
       "</div>"
      ],
      "text/plain": [
       "               count unique  \\\n",
       "Тип источника                 \n",
       "Блоги            113    101   \n",
       "Видео           2142   1640   \n",
       "Мессенджеры       81     39   \n",
       "Микроблоги      5304   2971   \n",
       "Новости        10556   7818   \n",
       "Отзывы         12762  12268   \n",
       "Форумы         18131  17765   \n",
       "\n",
       "                                                             top freq  \n",
       "Тип источника                                                          \n",
       "Блоги          информационный портал новости банков является ...   11  \n",
       "Видео          https регистрация в letyshops https расширение...  170  \n",
       "Мессенджеры    друзья совместно с тинькофф банк мы запустили ...   24  \n",
       "Микроблоги     rt если вы нуждаетесь в деньгах и не знаете гд...  227  \n",
       "Новости        в связи с новым годом набираем новую команду и...  759  \n",
       "Отзывы                                         текст отсутствует   57  \n",
       "Форумы                                              оно не тонет   40  "
      ]
     },
     "execution_count": 506,
     "metadata": {},
     "output_type": "execute_result"
    }
   ],
   "source": [
    "_D_test[_D_test[\"Тип источника\"] ==y_predict].groupby(\"Тип источника\")[\"Text\"].describe()"
   ]
  },
  {
   "cell_type": "code",
   "execution_count": 507,
   "metadata": {},
   "outputs": [
    {
     "data": {
      "text/html": [
       "<div>\n",
       "<style scoped>\n",
       "    .dataframe tbody tr th:only-of-type {\n",
       "        vertical-align: middle;\n",
       "    }\n",
       "\n",
       "    .dataframe tbody tr th {\n",
       "        vertical-align: top;\n",
       "    }\n",
       "\n",
       "    .dataframe thead th {\n",
       "        text-align: right;\n",
       "    }\n",
       "</style>\n",
       "<table border=\"1\" class=\"dataframe\">\n",
       "  <thead>\n",
       "    <tr style=\"text-align: right;\">\n",
       "      <th></th>\n",
       "      <th>count</th>\n",
       "      <th>unique</th>\n",
       "      <th>top</th>\n",
       "      <th>freq</th>\n",
       "    </tr>\n",
       "    <tr>\n",
       "      <th>Тип источника</th>\n",
       "      <th></th>\n",
       "      <th></th>\n",
       "      <th></th>\n",
       "      <th></th>\n",
       "    </tr>\n",
       "  </thead>\n",
       "  <tbody>\n",
       "    <tr>\n",
       "      <th>Блоги</th>\n",
       "      <td>1440</td>\n",
       "      <td>1405</td>\n",
       "      <td>рубрика бытовуха а вот скажите мне кто в курсе...</td>\n",
       "      <td>6</td>\n",
       "    </tr>\n",
       "    <tr>\n",
       "      <th>Видео</th>\n",
       "      <td>1419</td>\n",
       "      <td>1392</td>\n",
       "      <td>в таком quot дупле quot как у юльке что ей quo...</td>\n",
       "      <td>5</td>\n",
       "    </tr>\n",
       "    <tr>\n",
       "      <th>Мессенджеры</th>\n",
       "      <td>852</td>\n",
       "      <td>779</td>\n",
       "      <td>лучших банков для ип в году к менее значимым н...</td>\n",
       "      <td>5</td>\n",
       "    </tr>\n",
       "    <tr>\n",
       "      <th>Микроблоги</th>\n",
       "      <td>1160</td>\n",
       "      <td>1154</td>\n",
       "      <td>вы можете помочь в развитии нашему фонду перев...</td>\n",
       "      <td>3</td>\n",
       "    </tr>\n",
       "    <tr>\n",
       "      <th>Новости</th>\n",
       "      <td>824</td>\n",
       "      <td>811</td>\n",
       "      <td>говорю же что поступления были с эквайринга ти...</td>\n",
       "      <td>3</td>\n",
       "    </tr>\n",
       "    <tr>\n",
       "      <th>Отзывы</th>\n",
       "      <td>2486</td>\n",
       "      <td>2441</td>\n",
       "      <td></td>\n",
       "      <td>11</td>\n",
       "    </tr>\n",
       "    <tr>\n",
       "      <th>Форумы</th>\n",
       "      <td>2601</td>\n",
       "      <td>2537</td>\n",
       "      <td>в любом бизнесе который вы бы не начали вам ну...</td>\n",
       "      <td>6</td>\n",
       "    </tr>\n",
       "  </tbody>\n",
       "</table>\n",
       "</div>"
      ],
      "text/plain": [
       "              count unique                                                top  \\\n",
       "Тип источника                                                                   \n",
       "Блоги          1440   1405  рубрика бытовуха а вот скажите мне кто в курсе...   \n",
       "Видео          1419   1392  в таком quot дупле quot как у юльке что ей quo...   \n",
       "Мессенджеры     852    779  лучших банков для ип в году к менее значимым н...   \n",
       "Микроблоги     1160   1154  вы можете помочь в развитии нашему фонду перев...   \n",
       "Новости         824    811  говорю же что поступления были с эквайринга ти...   \n",
       "Отзывы         2486   2441                                                      \n",
       "Форумы         2601   2537  в любом бизнесе который вы бы не начали вам ну...   \n",
       "\n",
       "              freq  \n",
       "Тип источника       \n",
       "Блоги            6  \n",
       "Видео            5  \n",
       "Мессенджеры      5  \n",
       "Микроблоги       3  \n",
       "Новости          3  \n",
       "Отзывы          11  \n",
       "Форумы           6  "
      ]
     },
     "execution_count": 507,
     "metadata": {},
     "output_type": "execute_result"
    }
   ],
   "source": [
    "_D_test[_D_test[\"Тип источника\"] !=y_predict].groupby(\"Тип источника\")[\"Text\"].describe()"
   ]
  },
  {
   "cell_type": "code",
   "execution_count": 508,
   "metadata": {},
   "outputs": [
    {
     "data": {
      "image/png": "[encoded data removed]",
      "text/plain": [
       "<Figure size 720x576 with 2 Axes>"
      ]
     },
     "metadata": {
      "needs_background": "light"
     },
     "output_type": "display_data"
    },
    {
     "data": {
      "image/png": "[encoded data removed]",
      "text/plain": [
       "<Figure size 720x576 with 2 Axes>"
      ]
     },
     "metadata": {
      "needs_background": "light"
     },
     "output_type": "display_data"
    }
   ],
   "source": [
    "cm = confusion_matrix(D_test[\"Тип источника\"], y_predict)\n",
    "classes = unique_labels(D_test[\"Тип источника\"], y_predict)\n",
    "\n",
    "fig, ax = plt.subplots(figsize=(10,8))\n",
    "im = ax.imshow(cm, interpolation='nearest', cmap=plt.cm.Oranges)\n",
    "ax.figure.colorbar(im, ax=ax)\n",
    "ax.set(xticks=np.arange(cm.shape[1]),yticks=np.arange(cm.shape[0]), xticklabels=classes, yticklabels=classes,\n",
    "       title='Матрица ошибок',\n",
    "       ylabel='Истинное значение',\n",
    "       xlabel='Предсказанное значение')\n",
    "fmt = 'd'\n",
    "thresh = cm.max() / 2.\n",
    "for i in range(cm.shape[0]):\n",
    "    for j in range(cm.shape[1]):\n",
    "        ax.text(j, i, format(cm[i, j], fmt),\n",
    "                ha=\"center\", va=\"center\",\n",
    "                color=\"white\" if cm[i, j] > thresh else \"black\")\n",
    "fig.tight_layout()\n",
    "cm = cm.astype('float') / cm.sum(axis=1)[:, np.newaxis]\n",
    "classes = unique_labels(D_test[\"Тип источника\"], y_predict)\n",
    "\n",
    "fig, ax = plt.subplots(figsize=(10,8))\n",
    "im = ax.imshow(cm, interpolation='nearest', cmap=plt.cm.Oranges)\n",
    "ax.figure.colorbar(im, ax=ax)\n",
    "ax.set(xticks=np.arange(cm.shape[1]), yticks=np.arange(cm.shape[0]), xticklabels=classes, yticklabels=classes,\n",
    "       title='Матрица ошибок',\n",
    "       ylabel='Истинное значение',\n",
    "       xlabel='Предсказанное значение')\n",
    "fmt = '.3f'\n",
    "thresh = cm.max() / 2.\n",
    "for i in range(cm.shape[0]):\n",
    "    for j in range(cm.shape[1]):\n",
    "        ax.text(j, i, format(cm[i, j], fmt),\n",
    "                ha=\"center\", va=\"center\",\n",
    "                color=\"white\" if cm[i, j] > thresh else \"black\")\n",
    "fig.tight_layout()"
   ]
  },
  {
   "cell_type": "markdown",
   "metadata": {},
   "source": [
    "Из 2 диаграммы видно, что модель хорошо предсказывает категории микроблоги, новости, отзывы и форумы.\n",
    "Хорошим остается предсказание для видео.\n",
    "\n",
    "Модель совершенно не угадывает блоги и мессенджеры и относит их чаще к новостям.\n",
    "\n",
    "Кроме того, модель часто неверно определяет другие категории не только как новости, но и форумы.\n"
   ]
  },
  {
   "cell_type": "markdown",
   "metadata": {},
   "source": [
    "## Часть 2. Логистическая регрессия.\n",
    "[3 балла]"
   ]
  },
  {
   "cell_type": "markdown",
   "metadata": {},
   "source": [
    "Для наших экспериентов возьмём обучающую выборку [отсюда](https://www.kaggle.com/iabhishekofficial/mobile-price-classification)."
   ]
  },
  {
   "cell_type": "code",
   "execution_count": 4,
   "metadata": {},
   "outputs": [],
   "source": [
    "train = pd.read_csv('train.csv')"
   ]
  },
  {
   "cell_type": "markdown",
   "metadata": {},
   "source": [
    "Решается задача многоклассовой классификации — определение ценовой категории телефона. Для простоты перейдём к задаче бинарной классификации — пусть исходные классы 0 и 1 соответствуют классу 0 новой целевой переменной, а остальные классу 1.\n",
    "​\n",
    "Замените целевую переменную, отделите её в отдельную переменную и удалите из исходной выборки."
   ]
  },
  {
   "cell_type": "code",
   "execution_count": 5,
   "metadata": {},
   "outputs": [
    {
     "data": {
      "text/html": [
       "<div>\n",
       "<style scoped>\n",
       "    .dataframe tbody tr th:only-of-type {\n",
       "        vertical-align: middle;\n",
       "    }\n",
       "\n",
       "    .dataframe tbody tr th {\n",
       "        vertical-align: top;\n",
       "    }\n",
       "\n",
       "    .dataframe thead th {\n",
       "        text-align: right;\n",
       "    }\n",
       "</style>\n",
       "<table border=\"1\" class=\"dataframe\">\n",
       "  <thead>\n",
       "    <tr style=\"text-align: right;\">\n",
       "      <th></th>\n",
       "      <th>battery_power</th>\n",
       "      <th>blue</th>\n",
       "      <th>clock_speed</th>\n",
       "      <th>dual_sim</th>\n",
       "      <th>fc</th>\n",
       "      <th>four_g</th>\n",
       "      <th>int_memory</th>\n",
       "      <th>m_dep</th>\n",
       "      <th>mobile_wt</th>\n",
       "      <th>n_cores</th>\n",
       "      <th>pc</th>\n",
       "      <th>px_height</th>\n",
       "      <th>px_width</th>\n",
       "      <th>ram</th>\n",
       "      <th>sc_h</th>\n",
       "      <th>sc_w</th>\n",
       "      <th>talk_time</th>\n",
       "      <th>three_g</th>\n",
       "      <th>touch_screen</th>\n",
       "      <th>wifi</th>\n",
       "    </tr>\n",
       "  </thead>\n",
       "  <tbody>\n",
       "    <tr>\n",
       "      <th>0</th>\n",
       "      <td>842</td>\n",
       "      <td>0</td>\n",
       "      <td>2.2</td>\n",
       "      <td>0</td>\n",
       "      <td>1</td>\n",
       "      <td>0</td>\n",
       "      <td>7</td>\n",
       "      <td>0.6</td>\n",
       "      <td>188</td>\n",
       "      <td>2</td>\n",
       "      <td>2</td>\n",
       "      <td>20</td>\n",
       "      <td>756</td>\n",
       "      <td>2549</td>\n",
       "      <td>9</td>\n",
       "      <td>7</td>\n",
       "      <td>19</td>\n",
       "      <td>0</td>\n",
       "      <td>0</td>\n",
       "      <td>1</td>\n",
       "    </tr>\n",
       "    <tr>\n",
       "      <th>1</th>\n",
       "      <td>1021</td>\n",
       "      <td>1</td>\n",
       "      <td>0.5</td>\n",
       "      <td>1</td>\n",
       "      <td>0</td>\n",
       "      <td>1</td>\n",
       "      <td>53</td>\n",
       "      <td>0.7</td>\n",
       "      <td>136</td>\n",
       "      <td>3</td>\n",
       "      <td>6</td>\n",
       "      <td>905</td>\n",
       "      <td>1988</td>\n",
       "      <td>2631</td>\n",
       "      <td>17</td>\n",
       "      <td>3</td>\n",
       "      <td>7</td>\n",
       "      <td>1</td>\n",
       "      <td>1</td>\n",
       "      <td>0</td>\n",
       "    </tr>\n",
       "    <tr>\n",
       "      <th>2</th>\n",
       "      <td>563</td>\n",
       "      <td>1</td>\n",
       "      <td>0.5</td>\n",
       "      <td>1</td>\n",
       "      <td>2</td>\n",
       "      <td>1</td>\n",
       "      <td>41</td>\n",
       "      <td>0.9</td>\n",
       "      <td>145</td>\n",
       "      <td>5</td>\n",
       "      <td>6</td>\n",
       "      <td>1263</td>\n",
       "      <td>1716</td>\n",
       "      <td>2603</td>\n",
       "      <td>11</td>\n",
       "      <td>2</td>\n",
       "      <td>9</td>\n",
       "      <td>1</td>\n",
       "      <td>1</td>\n",
       "      <td>0</td>\n",
       "    </tr>\n",
       "    <tr>\n",
       "      <th>3</th>\n",
       "      <td>615</td>\n",
       "      <td>1</td>\n",
       "      <td>2.5</td>\n",
       "      <td>0</td>\n",
       "      <td>0</td>\n",
       "      <td>0</td>\n",
       "      <td>10</td>\n",
       "      <td>0.8</td>\n",
       "      <td>131</td>\n",
       "      <td>6</td>\n",
       "      <td>9</td>\n",
       "      <td>1216</td>\n",
       "      <td>1786</td>\n",
       "      <td>2769</td>\n",
       "      <td>16</td>\n",
       "      <td>8</td>\n",
       "      <td>11</td>\n",
       "      <td>1</td>\n",
       "      <td>0</td>\n",
       "      <td>0</td>\n",
       "    </tr>\n",
       "    <tr>\n",
       "      <th>4</th>\n",
       "      <td>1821</td>\n",
       "      <td>1</td>\n",
       "      <td>1.2</td>\n",
       "      <td>0</td>\n",
       "      <td>13</td>\n",
       "      <td>1</td>\n",
       "      <td>44</td>\n",
       "      <td>0.6</td>\n",
       "      <td>141</td>\n",
       "      <td>2</td>\n",
       "      <td>14</td>\n",
       "      <td>1208</td>\n",
       "      <td>1212</td>\n",
       "      <td>1411</td>\n",
       "      <td>8</td>\n",
       "      <td>2</td>\n",
       "      <td>15</td>\n",
       "      <td>1</td>\n",
       "      <td>1</td>\n",
       "      <td>0</td>\n",
       "    </tr>\n",
       "  </tbody>\n",
       "</table>\n",
       "</div>"
      ],
      "text/plain": [
       "   battery_power  blue  clock_speed  dual_sim  fc  four_g  int_memory  m_dep  \\\n",
       "0            842     0          2.2         0   1       0           7    0.6   \n",
       "1           1021     1          0.5         1   0       1          53    0.7   \n",
       "2            563     1          0.5         1   2       1          41    0.9   \n",
       "3            615     1          2.5         0   0       0          10    0.8   \n",
       "4           1821     1          1.2         0  13       1          44    0.6   \n",
       "\n",
       "   mobile_wt  n_cores  pc  px_height  px_width   ram  sc_h  sc_w  talk_time  \\\n",
       "0        188        2   2         20       756  2549     9     7         19   \n",
       "1        136        3   6        905      1988  2631    17     3          7   \n",
       "2        145        5   6       1263      1716  2603    11     2          9   \n",
       "3        131        6   9       1216      1786  2769    16     8         11   \n",
       "4        141        2  14       1208      1212  1411     8     2         15   \n",
       "\n",
       "   three_g  touch_screen  wifi  \n",
       "0        0             0     1  \n",
       "1        1             1     0  \n",
       "2        1             1     0  \n",
       "3        1             0     0  \n",
       "4        1             1     0  "
      ]
     },
     "execution_count": 5,
     "metadata": {},
     "output_type": "execute_result"
    }
   ],
   "source": [
    "y = train[\"price_range\"].apply(lambda x: 0 if x == 0 or x == 1 else 1)\n",
    "X = train.drop(\"price_range\", axis=1)\n",
    "X.head()"
   ]
  },
  {
   "cell_type": "markdown",
   "metadata": {},
   "source": [
    "Разделите выборку на обучающую и тестовую части в соотношении 7 к 3. Для этого можно использовать `train_test_split` из scikit-learn. Не забудьте зафиксировать сид для разбиения."
   ]
  },
  {
   "cell_type": "code",
   "execution_count": 6,
   "metadata": {},
   "outputs": [],
   "source": [
    "X_train, X_test, y_train, y_test = train_test_split(X, y, test_size=0.3, random_state=42)"
   ]
  },
  {
   "cell_type": "markdown",
   "metadata": {},
   "source": [
    "В этой части вы будете обучать самый простой бинарный классификатор — логистическую регрессию. Будем использовать готовую реализацию `LogisticRegression` из scikit-learn.\n",
    "\n",
    "Логистическая регрессия — линейный метод, то есть в нём предсказание алгоритма вычислаяется как скалярное произведение признаков и весов алгоритма: \n",
    "\n",
    "$$\n",
    "b(x) = w_0 + \\langle w, x \\rangle = w_0 + \\sum_{i=1}^{d} w_i x_i\n",
    "$$\n",
    "\n",
    "Для вычисления вероятности положительного класса применяется сигмода. В результате предсказание вероятности принадлежности объекта к положительному классу можно записать как: \n",
    "\n",
    "$$\n",
    "P(y = +1 | x) = \\frac{1}{1 + \\exp(- w_0 - \\langle w, x \\rangle )}\n",
    "$$"
   ]
  },
  {
   "cell_type": "markdown",
   "metadata": {},
   "source": [
    "Не забывайте, что для линейных методов матрицу объекты-признаки необходимо предварительно нормировать (то есть привести каждый признак к одному и тому же масштабу одним из способов). Для этого можно воспользоваться `StandardScaler` или сделать это вручную."
   ]
  },
  {
   "cell_type": "code",
   "execution_count": 7,
   "metadata": {},
   "outputs": [],
   "source": [
    "from sklearn.preprocessing import StandardScaler"
   ]
  },
  {
   "cell_type": "code",
   "execution_count": 8,
   "metadata": {},
   "outputs": [
    {
     "name": "stderr",
     "output_type": "stream",
     "text": [
      "C:\\Users\\alex1\\Anaconda3\\lib\\site-packages\\sklearn\\preprocessing\\data.py:625: DataConversionWarning: Data with input dtype int64, float64 were all converted to float64 by StandardScaler.\n",
      "  return self.partial_fit(X, y)\n",
      "C:\\Users\\alex1\\Anaconda3\\lib\\site-packages\\sklearn\\base.py:462: DataConversionWarning: Data with input dtype int64, float64 were all converted to float64 by StandardScaler.\n",
      "  return self.fit(X, **fit_params).transform(X)\n",
      "C:\\Users\\alex1\\Anaconda3\\lib\\site-packages\\ipykernel_launcher.py:3: DataConversionWarning: Data with input dtype int64, float64 were all converted to float64 by StandardScaler.\n",
      "  This is separate from the ipykernel package so we can avoid doing imports until\n"
     ]
    }
   ],
   "source": [
    "scaler = StandardScaler()\n",
    "X_train = scaler.fit_transform(X_train)\n",
    "X_test = scaler.transform(X_test)"
   ]
  },
  {
   "cell_type": "markdown",
   "metadata": {},
   "source": [
    "Обучите логистическую регрессию. Сделайте предсказания для тестовой части, посчитайте по ним ROC-AUC и Accuracy (порог 0.5). Хорошо ли удаётся предсказывать целевую переменную?\n",
    "Не забывайте, что метод predict_proba вычисляет вероятности обоих классов выборки, а в бинарной классификации нас интересует в первую очередь вероятность принадлежности к положительному классу."
   ]
  },
  {
   "cell_type": "code",
   "execution_count": 9,
   "metadata": {},
   "outputs": [],
   "source": [
    "from sklearn.linear_model import LogisticRegression\n",
    "from sklearn.metrics import accuracy_score, roc_auc_score"
   ]
  },
  {
   "cell_type": "code",
   "execution_count": 10,
   "metadata": {},
   "outputs": [
    {
     "name": "stderr",
     "output_type": "stream",
     "text": [
      "C:\\Users\\alex1\\Anaconda3\\lib\\site-packages\\sklearn\\linear_model\\logistic.py:433: FutureWarning: Default solver will be changed to 'lbfgs' in 0.22. Specify a solver to silence this warning.\n",
      "  FutureWarning)\n"
     ]
    }
   ],
   "source": [
    "lr = LogisticRegression()\n",
    "lr.fit(X_train, y_train)\n",
    "y_predict = lr.predict_proba(X_test)[:,1]"
   ]
  },
  {
   "cell_type": "code",
   "execution_count": 11,
   "metadata": {},
   "outputs": [
    {
     "name": "stdout",
     "output_type": "stream",
     "text": [
      "ROC-AUC:  0.9997555311086664\n",
      "Accuracy:  0.9866666666666667\n"
     ]
    }
   ],
   "source": [
    "print(\"ROC-AUC: \", roc_auc_score(y_test, y_predict))\n",
    "print(\"Accuracy: \", accuracy_score(y_test, np.round(y_predict)))"
   ]
  },
  {
   "cell_type": "markdown",
   "metadata": {},
   "source": [
    "У обученной логистической регрессии есть два аттрибута: `coef_` и `intercept_`, которые соответствуют весам $w$ и $w_0$. Это и есть результат обучения логистической регрессии. Попробуйте с помощью них (с помощью всё той же обученной ранее логистической регрессии) посчитать \"сырое\" предсказание алгоритма $b(x)$. \n",
    "\n",
    "Постройте гистограмму полученных значений и ответьте на вопросы:\n",
    "- Какие значения принимает такое предсказание?\n",
    "- Похожи ли эти значения на вероятность классов?"
   ]
  },
  {
   "cell_type": "code",
   "execution_count": 12,
   "metadata": {
    "scrolled": false
   },
   "outputs": [],
   "source": [
    "b_x = lr.intercept_[0] + lr.coef_[0].dot(X_test.T)"
   ]
  },
  {
   "cell_type": "code",
   "execution_count": 540,
   "metadata": {},
   "outputs": [
    {
     "data": {
      "image/png": "[encoded data removed]",
      "text/plain": [
       "<Figure size 1440x720 with 1 Axes>"
      ]
     },
     "metadata": {
      "needs_background": "light"
     },
     "output_type": "display_data"
    }
   ],
   "source": [
    "plt.figure(figsize=(20,10))\n",
    "plt.grid(True)\n",
    "plt.title('\"сырое\" предсказание алгоритма b(x)')\n",
    "plt.xlabel('Предсказание')\n",
    "plt.ylabel('Количество')\n",
    "plt.hist(b_x, bins=np.int(np.sqrt(b_x.shape[0])))\n",
    "plt.show()"
   ]
  },
  {
   "cell_type": "markdown",
   "metadata": {},
   "source": [
    "Данные распределены примерно одинаково относительно 0 (303 и 297 записей).\n",
    "\n",
    "Заметны некоторые отколонения колчества записей в некоторых диапазонах (например -11..-10), но в целом количество записей у краев распределения уменьшается.\n",
    "\n",
    "Значения похожи на вероятность принадлежности к классу.\n",
    "Диапазон значений больше единицы на количество признаков - 20."
   ]
  },
  {
   "cell_type": "markdown",
   "metadata": {},
   "source": [
    "Реализуйте сигмоиду и постройте её график. Что вы можете сказать об этой функции?"
   ]
  },
  {
   "cell_type": "code",
   "execution_count": 18,
   "metadata": {},
   "outputs": [],
   "source": [
    "def sigma(x):\n",
    "    return 1/(1 + np.exp(-x))"
   ]
  },
  {
   "cell_type": "code",
   "execution_count": 19,
   "metadata": {},
   "outputs": [
    {
     "data": {
      "image/png": "[encoded data removed]",
      "text/plain": [
       "<Figure size 1440x720 with 1 Axes>"
      ]
     },
     "metadata": {
      "needs_background": "light"
     },
     "output_type": "display_data"
    }
   ],
   "source": [
    "plt.figure(figsize=(20,10))\n",
    "_x = np.linspace(-6, 6, 1000)\n",
    "_y = sigma(_x)\n",
    "plt.grid(True)\n",
    "plt.title('Сигмоида')\n",
    "plt.xlabel('X')\n",
    "plt.ylabel('Сигмоида')\n",
    "plt.plot(_x, _y)\n",
    "plt.show()"
   ]
  },
  {
   "cell_type": "markdown",
   "metadata": {},
   "source": [
    "Примените реализованную сигмоиду к $b(x)$. Вы должны получить вероятности принадлежности к положительному классу. Проверьте, что ваши значения совпали с теми, которые получены с помощью `predict_proba`."
   ]
  },
  {
   "cell_type": "code",
   "execution_count": 20,
   "metadata": {},
   "outputs": [],
   "source": [
    "b_xx = sigma(b_x)"
   ]
  },
  {
   "cell_type": "code",
   "execution_count": 21,
   "metadata": {},
   "outputs": [
    {
     "data": {
      "text/plain": [
       "0"
      ]
     },
     "execution_count": 21,
     "metadata": {},
     "output_type": "execute_result"
    }
   ],
   "source": [
    "sum(b_xx != y_predict)"
   ]
  },
  {
   "cell_type": "markdown",
   "metadata": {},
   "source": [
    "Значения совпали"
   ]
  },
  {
   "cell_type": "markdown",
   "metadata": {},
   "source": [
    "Таким образом, обучение логистической регрессии — настройка параметров $w$ и $w_0$, а применение — подсчёт вероятностей принадлежности положительному классу как применение сигмоды к скалярному произведению признаков и параметров.\n",
    "\n",
    "Постройте для обученной логистической регрессии ROC-кривую `roc_curve` и PR-кривую `precision_recall_curve`."
   ]
  },
  {
   "cell_type": "code",
   "execution_count": 22,
   "metadata": {},
   "outputs": [],
   "source": [
    "from sklearn.metrics import precision_recall_curve,  roc_curve"
   ]
  },
  {
   "cell_type": "code",
   "execution_count": 23,
   "metadata": {},
   "outputs": [
    {
     "data": {
      "text/plain": [
       "[<matplotlib.lines.Line2D at 0x1a6ba4a34e0>]"
      ]
     },
     "execution_count": 23,
     "metadata": {},
     "output_type": "execute_result"
    },
    {
     "data": {
      "image/png": "[encoded data removed]",
      "text/plain": [
       "<Figure size 1008x504 with 2 Axes>"
      ]
     },
     "metadata": {
      "needs_background": "light"
     },
     "output_type": "display_data"
    }
   ],
   "source": [
    "f, (ax1, ax2) = plt.subplots(1, 2, sharey=True, figsize=(14,7))\n",
    "ax1.grid(True)\n",
    "ax1.set(title='ROC-кривая', xlabel ='False positive rate',ylabel ='True positive rate')\n",
    "fpr, tpr, thresholds = roc_curve(y_test, y_predict)\n",
    "ax1.plot(fpr, tpr)\n",
    "fpr, tpr, thresholds = precision_recall_curve(y_test, y_predict)\n",
    "ax2.grid(True)\n",
    "ax2.set(title='Precision-recall-кривая', xlabel ='Recall',ylabel ='Precision')\n",
    "ax2.plot(fpr, tpr)"
   ]
  },
  {
   "cell_type": "markdown",
   "metadata": {},
   "source": [
    "### 4. Бонусное задание. Обучение логистической регрессии.\n",
    "\n",
    "[2 бонусных балла]"
   ]
  },
  {
   "cell_type": "markdown",
   "metadata": {},
   "source": [
    "В этой части вы будете обучать самый простой бинарный классификатор — логистическую регрессию. Будем использовать готовую реализацию `LogisticRegression` из scikit-learn.\n",
    "\n",
    "Логистическая регрессия — линейный метод, то есть в нём предсказание алгоритма вычислаяется как скалярное произведение признаков и весов алгоритма: \n",
    "\n",
    "$$\n",
    "b(x) = w_0 + \\langle w, x \\rangle = w_0 + \\sum_{i=1}^{d} w_i x_i\n",
    "$$\n",
    "\n",
    "Для вычисления вероятности положительного класса применяется сигмода. В результате предсказание вероятности принадлежности объекта к положительному классу можно записать как: \n",
    "\n",
    "$$\n",
    "P(y = +1 | x) = \\frac{1}{1 + \\exp(- w_0 - \\langle w, x \\rangle )}\n",
    "$$"
   ]
  },
  {
   "cell_type": "markdown",
   "metadata": {},
   "source": [
    "\n",
    "\n",
    "Если выше вручную мы только применяли логистическую регрессию, то здесь предлагается реализовать обучение с помощью полного градиентного спуска.\n",
    "Если кратко, то обучение логистической регрессии с $L_2$-регуляризацией можно записать следующим образом:\n",
    "\n",
    "$$\n",
    "Q(w, X) = \\frac{1}{l} \\sum_{i=1}^{l} \\log (1 + \\exp(- y_i \\langle w, x_i \\rangle )) + \\frac{\\lambda_2}{2} \\lVert w \\rVert _2^2 \\to \\min_w\n",
    "$$\n",
    "\n",
    "Считаем, что $y_i \\in \\{-1, +1\\}$, а нулевым признаком сделан единичный (то есть $w_0$ соответствует свободному члену). Искать $w$ будем с помощью градиентного спуска:\n",
    "\n",
    "$$\n",
    "w^{(k+1)} = w^{(k)} - \\alpha \\nabla_w Q(w, X)\n",
    "$$\n",
    "\n",
    "В случае полного градиентного спуска $\\nabla_w Q(w, X)$ считается напрямую (как есть, то есть, используя все объекты выборки). Длину шага $\\alpha > 0$ в рамках данного задания предлагается брать равной некоторой малой константе.\n",
    "Градиент по объекту $x_i$ считается по следующей формуле:\n",
    "\n",
    "$$\n",
    "\\nabla_w Q(w, x_i) = - \\frac{y_i x_i}{1 + \\exp(y_i \\langle w, x_i \\rangle)} + \\lambda_2 w\n",
    "$$\n",
    "\n",
    "На самом деле неправильно регуляризировать свободный член $w_0$ (то есть при добавлении градиента для $w_0$ не надо учитывать слагаемое с $\\lambda_2$). Но в рамках этого задания мы не обращаем на это внимания и работаем со всеми вектором весов одинаково.\n",
    "\n",
    "В качестве критерия останова необходимо использовать (одновременно):\n",
    "\n",
    "- проверку на евклидовую норму разности весов на двух соседних итерациях (например, меньше некоторого малого числа порядка $10^{-6}$) — параметр tolerance\n",
    "- достижение максимального числа итераций (например, 10000) — параметр max_iter.\n",
    "\n",
    "Инициализировать веса можно случайным образом или нулевым вектором.\n",
    "\n",
    "Реализуйте обучение логистической регрессии. Для удобства ниже предоставлен прототип с необходимыми методами. В loss_history необходимо сохранять вычисленное на каждой итерации значение функции потерь."
   ]
  },
  {
   "cell_type": "code",
   "execution_count": 136,
   "metadata": {},
   "outputs": [],
   "source": [
    "from sklearn.base import BaseEstimator\n",
    "\n",
    "class LogReg(BaseEstimator):\n",
    "    def __init__(self, lambda_2=1.0, tolerance=1e-4, max_iter=100, alpha=0.005):\n",
    "        \"\"\"\n",
    "        lambda_2: L2 regularization param\n",
    "        tolerance: for stopping gradient descent\n",
    "        max_iter: maximum number of steps in gradient descent\n",
    "        alpha: learning rate\n",
    "        \"\"\"\n",
    "        self.lambda_2 = lambda_2\n",
    "        self.tolerance = tolerance\n",
    "        self.max_iter = max_iter\n",
    "        self.alpha = alpha\n",
    "        self.w = None\n",
    "        self.loss_history = None\n",
    "    \n",
    "    def fit(self, X, y):\n",
    "        \"\"\"\n",
    "        X: np.array of shape (l, d)\n",
    "        y: np.array of shape (l)\n",
    "        ---\n",
    "        output: self\n",
    "        \"\"\"\n",
    "        if type(X) is pd.core.series.Series:\n",
    "            X = X.values\n",
    "        \n",
    "        if type(y) is pd.core.series.Series:\n",
    "            y = y.values\n",
    "        self.loss_history = []\n",
    "        \n",
    "        shape = X.shape\n",
    "        self.w = np.zeros(shape[1])\n",
    "        for step in range(self.max_iter):\n",
    "            self.w_curr = self.w - self.alpha * self.calc_gradient(X, y)\n",
    "            self.loss_history.append(self.calc_loss(X,y))\n",
    "            if np.linalg.norm(self.w_curr - self.w) < self.tolerance:\n",
    "                break\n",
    "            self.w = self.w_curr\n",
    "            \n",
    "        return self\n",
    "    \n",
    "    def predict_proba(self, X):\n",
    "        \"\"\"\n",
    "        X: np.array of shape (l, d)\n",
    "        ---\n",
    "        output: np.array of shape (l, 2) where\n",
    "        first column has probabilities of -1\n",
    "        second column has probabilities of +1\n",
    "        \"\"\"\n",
    "        if self.w is None:\n",
    "            raise Exception('Not trained yet')\n",
    "        proba = sigma(np.dot(X_test, self.w))\n",
    "        return np.array([proba, 1 - proba]).T\n",
    "    \n",
    "    def calc_gradient(self, X, y):\n",
    "        \"\"\"\n",
    "        X: np.array of shape (l, d) (l can be equal to 1 if stochastic)\n",
    "        y: np.array of shape (l)\n",
    "        ---\n",
    "        output: np.array of shape (d)\n",
    "        \"\"\"\n",
    "        g = 0\n",
    "        for i in range(X.shape[0]):\n",
    "            g += y[i] * X[i] * sigma(y[i] * self.w.dot(X[i]))\n",
    "        g /= X.shape[0] \n",
    "        g += self.lambda_2 * self.w\n",
    "        return g\n",
    "\n",
    "    def calc_loss(self, X, y):\n",
    "        \"\"\"\n",
    "        X: np.array of shape (l, d)\n",
    "        y: np.array of shape (l)\n",
    "        ---\n",
    "        output: float \n",
    "        \"\"\"         \n",
    "        return sum([sigma(y[i] * self.w.dot(X[i]))  for i in range(X.shape[0]) ]) / X.shape[0] +  self.lambda_2 / 2 * (np.linalg.norm(self.w) ** 2)"
   ]
  },
  {
   "cell_type": "code",
   "execution_count": 137,
   "metadata": {},
   "outputs": [
    {
     "data": {
      "text/plain": [
       "LogReg(alpha=0.005, lambda_2=1.0, max_iter=100, tolerance=0.0001)"
      ]
     },
     "execution_count": 137,
     "metadata": {},
     "output_type": "execute_result"
    }
   ],
   "source": [
    "lr = LogReg()\n",
    "lr.fit(X_train, y_train)"
   ]
  },
  {
   "cell_type": "code",
   "execution_count": 138,
   "metadata": {},
   "outputs": [],
   "source": [
    "y_predict = lr.predict_proba(X_test)[:,1]"
   ]
  },
  {
   "cell_type": "code",
   "execution_count": 139,
   "metadata": {},
   "outputs": [
    {
     "name": "stdout",
     "output_type": "stream",
     "text": [
      "ROC-AUC:  0.9956106721783289\n",
      "Accuracy:  0.96\n"
     ]
    }
   ],
   "source": [
    "print(\"ROC-AUC: \", roc_auc_score(y_test, y_predict))\n",
    "print(\"Accuracy: \", accuracy_score(y_test, np.round(y_predict)))"
   ]
  },
  {
   "cell_type": "code",
   "execution_count": 140,
   "metadata": {},
   "outputs": [
    {
     "data": {
      "image/png": "[encoded data removed]",
      "text/plain": [
       "<Figure size 1440x720 with 1 Axes>"
      ]
     },
     "metadata": {
      "needs_background": "light"
     },
     "output_type": "display_data"
    }
   ],
   "source": [
    "plt.figure(figsize=(20,10))\n",
    "plt.grid(True)\n",
    "plt.title('LogReg')\n",
    "plt.xlabel('Итерация')\n",
    "plt.ylabel('Loss')\n",
    "plt.plot(range(len(lr.loss_history)), lr.loss_history)\n",
    "plt.show()"
   ]
  },
  {
   "cell_type": "markdown",
   "metadata": {
    "pycharm": {
     "name": "#%% md\n"
    }
   },
   "source": [
    "- Примените логистическую регресиию на той же выборке.\n",
    "- Посчитайте качество по тем же метрикам.\n",
    "- Визуализируйте изменение значений функции потерь от номера итераций.\n"
   ]
  }
 ],
 "metadata": {
  "kernelspec": {
   "display_name": "Python 3",
   "language": "python",
   "name": "python3"
  },
  "language_info": {
   "codemirror_mode": {
    "name": "ipython",
    "version": 3
   },
   "file_extension": ".py",
   "mimetype": "text/x-python",
   "name": "python",
   "nbconvert_exporter": "python",
   "pygments_lexer": "ipython3",
   "version": "3.7.1"
  }
 },
 "nbformat": 4,
 "nbformat_minor": 2
}