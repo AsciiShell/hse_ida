{
 "cells": [
  {
   "cell_type": "code",
   "execution_count": 1,
   "metadata": {
    "colab": {
     "base_uri": "https://localhost:8080/",
     "height": 121
    },
    "colab_type": "code",
    "executionInfo": {
     "elapsed": 28730,
     "status": "ok",
     "timestamp": 1577159871829,
     "user": {
      "displayName": "Алексей Подчезерцев",
      "photoUrl": "https://lh3.googleusercontent.com/a-/AAuE7mBbUw_CVz8K3RIunXwSoj-hNZ6f2buYD0JYAcB_=s64",
      "userId": "04087359208169148337"
     },
     "user_tz": -180
    },
    "id": "t4A90cOO7c1V",
    "outputId": "0cf2380e-f2c6-4c0e-ce29-ce71ec35536f"
   },
   "outputs": [
    {
     "name": "stdout",
     "output_type": "stream",
     "text": [
      "Go to this URL in a browser: https://accounts.google.com/o/oauth2/auth?client_id=947318989803-6bn6qk8qdgf4n4g3pfee6491hc0brc4i.apps.googleusercontent.com&redirect_uri=urn%3aietf%3awg%3aoauth%3a2.0%3aoob&response_type=code&scope=email%20https%3a%2f%2fwww.googleapis.com%2fauth%2fdocs.test%20https%3a%2f%2fwww.googleapis.com%2fauth%2fdrive%20https%3a%2f%2fwww.googleapis.com%2fauth%2fdrive.photos.readonly%20https%3a%2f%2fwww.googleapis.com%2fauth%2fpeopleapi.readonly\n",
      "\n",
      "Enter your authorization code:\n",
      "··········\n",
      "Mounted at /content/drive\n"
     ]
    }
   ],
   "source": [
    "from google.colab import drive\n",
    "drive.mount('/content/drive')"
   ]
  },
  {
   "cell_type": "code",
   "execution_count": 0,
   "metadata": {
    "colab": {},
    "colab_type": "code",
    "id": "z853A2LX7czQ"
   },
   "outputs": [],
   "source": [
    "import os\n",
    "os.chdir('/content/drive/Shared drives/Тяжелые проекты/ИАД/intro-to-dl-seminars/hw_5_text')"
   ]
  },
  {
   "cell_type": "code",
   "execution_count": 3,
   "metadata": {
    "colab": {
     "base_uri": "https://localhost:8080/",
     "height": 34
    },
    "colab_type": "code",
    "executionInfo": {
     "elapsed": 2001,
     "status": "ok",
     "timestamp": 1577159872625,
     "user": {
      "displayName": "Алексей Подчезерцев",
      "photoUrl": "https://lh3.googleusercontent.com/a-/AAuE7mBbUw_CVz8K3RIunXwSoj-hNZ6f2buYD0JYAcB_=s64",
      "userId": "04087359208169148337"
     },
     "user_tz": -180
    },
    "id": "saTsr2pV7hRm",
    "outputId": "07ddef08-3f4f-4a58-ee9d-5f3a06a67533"
   },
   "outputs": [
    {
     "name": "stdout",
     "output_type": "stream",
     "text": [
      "TensorFlow 2.x selected.\n"
     ]
    }
   ],
   "source": [
    "%tensorflow_version 2.x"
   ]
  },
  {
   "cell_type": "code",
   "execution_count": 0,
   "metadata": {
    "_cell_guid": "2f9b7a76-8625-443d-811f-8f49781aef81",
    "_uuid": "598f965bc881cfe6605d92903b758778d400fa8b",
    "colab": {},
    "colab_type": "code",
    "id": "CFuFMvTB7W5X"
   },
   "outputs": [],
   "source": [
    "import sys, os, re, csv, codecs, numpy as np, pandas as pd\n",
    "\n",
    "import tensorflow as tf\n",
    "import tensorflow.keras as keras\n",
    "from tensorflow.keras.preprocessing.text import Tokenizer\n",
    "from tensorflow.keras.preprocessing.sequence import pad_sequences\n",
    "from tensorflow.keras.layers import Dense, Input, LSTM, Embedding, Dropout, Activation, Bidirectional, GlobalMaxPool1D, GlobalAveragePooling1D, concatenate, Conv1D, LeakyReLU,BatchNormalization, MaxPooling1D, Flatten\n",
    "from tensorflow.keras.models import Model\n",
    "from tensorflow.keras import initializers, regularizers, constraints, optimizers, layers\n",
    "from tensorflow.keras.optimizers import Adamax, Adam\n",
    "from tqdm import tqdm_notebook"
   ]
  },
  {
   "cell_type": "code",
   "execution_count": 5,
   "metadata": {
    "colab": {
     "base_uri": "https://localhost:8080/",
     "height": 34
    },
    "colab_type": "code",
    "executionInfo": {
     "elapsed": 8432,
     "status": "ok",
     "timestamp": 1577159881430,
     "user": {
      "displayName": "Алексей Подчезерцев",
      "photoUrl": "https://lh3.googleusercontent.com/a-/AAuE7mBbUw_CVz8K3RIunXwSoj-hNZ6f2buYD0JYAcB_=s64",
      "userId": "04087359208169148337"
     },
     "user_tz": -180
    },
    "id": "Uxm_X04M7hH0",
    "outputId": "39cd78e5-4eaa-4f18-a005-e50f4a2220e2"
   },
   "outputs": [
    {
     "data": {
      "text/plain": [
       "'/device:GPU:0'"
      ]
     },
     "execution_count": 5,
     "metadata": {
      "tags": []
     },
     "output_type": "execute_result"
    }
   ],
   "source": [
    "tf.test.gpu_device_name()"
   ]
  },
  {
   "cell_type": "markdown",
   "metadata": {
    "colab_type": "text",
    "id": "wGuk08efe0Wm"
   },
   "source": [
    "По результатам экспериментов, лучше себя показывает эмбединг, обученный на твиттере"
   ]
  },
  {
   "cell_type": "code",
   "execution_count": 0,
   "metadata": {
    "_cell_guid": "66a6b5fd-93f0-4f95-ad62-3253815059ba",
    "_uuid": "729b0f0c2a02c678631b8c072d62ff46146a82ef",
    "colab": {},
    "colab_type": "code",
    "id": "LRlgQIsL7W5l"
   },
   "outputs": [],
   "source": [
    "EMBEDDING_FILE='glove/glove.twitter.27B.100d.txt'\n",
    "TRAIN_DATA_FILE='x_train.txt'\n",
    "TEST_DATA_FILE='x_test.txt'\n",
    "TRAIN_LABELS='y_train.csv'"
   ]
  },
  {
   "cell_type": "code",
   "execution_count": 7,
   "metadata": {
    "colab": {
     "base_uri": "https://localhost:8080/",
     "height": 34
    },
    "colab_type": "code",
    "executionInfo": {
     "elapsed": 20041,
     "status": "ok",
     "timestamp": 1577159895516,
     "user": {
      "displayName": "Алексей Подчезерцев",
      "photoUrl": "https://lh3.googleusercontent.com/a-/AAuE7mBbUw_CVz8K3RIunXwSoj-hNZ6f2buYD0JYAcB_=s64",
      "userId": "04087359208169148337"
     },
     "user_tz": -180
    },
    "id": "krM4bAlmJcly",
    "outputId": "17d961ba-10db-4484-9ddf-716d9acddaf2"
   },
   "outputs": [
    {
     "name": "stdout",
     "output_type": "stream",
     "text": [
      "1193514\n"
     ]
    }
   ],
   "source": [
    "!cat {EMBEDDING_FILE} | wc -l"
   ]
  },
  {
   "cell_type": "code",
   "execution_count": 0,
   "metadata": {
    "_cell_guid": "2807a0a5-2220-4af6-92d6-4a7100307de2",
    "_uuid": "d365d5f8d9292bb9bf57d21d6186f8b619cbe8c3",
    "colab": {},
    "colab_type": "code",
    "id": "IlWp_zxx7W5s"
   },
   "outputs": [],
   "source": [
    "embed_size = 100 # Размерность эмбединга\n",
    "max_features = 50000 # Максимальное количество фич\n",
    "maxlen = 150 # Максимальная длина фразы в токенах"
   ]
  },
  {
   "cell_type": "code",
   "execution_count": 9,
   "metadata": {
    "_cell_guid": "ac2e165b-1f6e-4e69-8acf-5ad7674fafc3",
    "_uuid": "8ab6dad952c65e9afcf16e43c4043179ef288780",
    "colab": {
     "base_uri": "https://localhost:8080/",
     "height": 104
    },
    "colab_type": "code",
    "executionInfo": {
     "elapsed": 53549,
     "status": "ok",
     "timestamp": 1577159931371,
     "user": {
      "displayName": "Алексей Подчезерцев",
      "photoUrl": "https://lh3.googleusercontent.com/a-/AAuE7mBbUw_CVz8K3RIunXwSoj-hNZ6f2buYD0JYAcB_=s64",
      "userId": "04087359208169148337"
     },
     "user_tz": -180
    },
    "id": "9SkUItC47W51",
    "outputId": "a1c4678d-0a0a-4409-8094-417a1bf3f7c6"
   },
   "outputs": [
    {
     "name": "stderr",
     "output_type": "stream",
     "text": [
      "/usr/local/lib/python3.6/dist-packages/ipykernel_launcher.py:1: ParserWarning: Falling back to the 'python' engine because the 'c' engine does not support regex separators (separators > 1 char and different from '\\s+' are interpreted as regex); you can avoid this warning by specifying engine='python'.\n",
      "  \"\"\"Entry point for launching an IPython kernel.\n",
      "/usr/local/lib/python3.6/dist-packages/ipykernel_launcher.py:2: ParserWarning: Falling back to the 'python' engine because the 'c' engine does not support regex separators (separators > 1 char and different from '\\s+' are interpreted as regex); you can avoid this warning by specifying engine='python'.\n",
      "  \n"
     ]
    }
   ],
   "source": [
    "train = pd.read_csv(TRAIN_DATA_FILE, header=None, names=['text'], sep=\"ЯЯЯЯЯЯЯЯ\")\n",
    "test = pd.read_csv(TEST_DATA_FILE, header=None, names=['text'], sep=\"ЯЯЯЯЯЯЯЯ\")\n",
    "y = pd.read_csv(TRAIN_LABELS)['Probability'].values"
   ]
  },
  {
   "cell_type": "code",
   "execution_count": 0,
   "metadata": {
    "colab": {},
    "colab_type": "code",
    "id": "z-UlywlsTu0l"
   },
   "outputs": [],
   "source": [
    "list_sentences_train = train[\"text\"].fillna(\"_na_\").values\n",
    "list_sentences_test = test[\"text\"].fillna(\"_na_\").values"
   ]
  },
  {
   "cell_type": "code",
   "execution_count": 11,
   "metadata": {
    "_cell_guid": "79afc0e9-b5f0-42a2-9257-a72458e91dbb",
    "_uuid": "c292c2830522bfe59d281ecac19f3a9415c07155",
    "colab": {
     "base_uri": "https://localhost:8080/",
     "height": 50
    },
    "colab_type": "code",
    "executionInfo": {
     "elapsed": 173431,
     "status": "ok",
     "timestamp": 1577160402716,
     "user": {
      "displayName": "Алексей Подчезерцев",
      "photoUrl": "https://lh3.googleusercontent.com/a-/AAuE7mBbUw_CVz8K3RIunXwSoj-hNZ6f2buYD0JYAcB_=s64",
      "userId": "04087359208169148337"
     },
     "user_tz": -180
    },
    "id": "ZRpqTr_n7W59",
    "outputId": "0368e46f-008e-4c3e-9ed3-5b368db7bc33"
   },
   "outputs": [
    {
     "name": "stdout",
     "output_type": "stream",
     "text": [
      "CPU times: user 7min 47s, sys: 2.86 s, total: 7min 50s\n",
      "Wall time: 7min 50s\n"
     ]
    }
   ],
   "source": [
    "%%time\n",
    "tokenizer = Tokenizer(num_words=max_features)\n",
    "tokenizer.fit_on_texts(list(list_sentences_train))\n",
    "list_tokenized_train = tokenizer.texts_to_sequences(list_sentences_train)\n",
    "list_tokenized_test = tokenizer.texts_to_sequences(list_sentences_test)\n",
    "X_train = pad_sequences(list_tokenized_train, maxlen=maxlen)\n",
    "X_test = pad_sequences(list_tokenized_test, maxlen=maxlen)"
   ]
  },
  {
   "cell_type": "markdown",
   "metadata": {
    "colab_type": "text",
    "id": "LlhjA2NAJ9B0"
   },
   "source": [
    "Как можно заметить, данные в векторах не соответствуют тому формату, который был подготовлен"
   ]
  },
  {
   "cell_type": "code",
   "execution_count": 12,
   "metadata": {
    "_cell_guid": "7d19392b-7750-4a1b-ac30-ed75b8a62d52",
    "_uuid": "e9e3b4fa7c4658e0f22dd48cb1a289d9deb745fc",
    "colab": {
     "base_uri": "https://localhost:8080/",
     "height": 66,
     "referenced_widgets": [
      "d8e6b4d9f03d4015ba53e5f196e6e80c",
      "552b2b34199e4f419a2495f4da49f8e0",
      "d40c2c2dd3bb4d83b3eaf8b03ecd0ec8",
      "c5a94fdaa722433caa341d2f51d1c991",
      "654ebf0991664179a397a4b8bf448c75",
      "204be243ffcb4f0698659eb86ac54212",
      "92379b34508442dd9d4ff376e39c44bf",
      "6eec39b2280a4e1ca99b590857a196d1"
     ]
    },
    "colab_type": "code",
    "executionInfo": {
     "elapsed": 35878,
     "status": "ok",
     "timestamp": 1577160438583,
     "user": {
      "displayName": "Алексей Подчезерцев",
      "photoUrl": "https://lh3.googleusercontent.com/a-/AAuE7mBbUw_CVz8K3RIunXwSoj-hNZ6f2buYD0JYAcB_=s64",
      "userId": "04087359208169148337"
     },
     "user_tz": -180
    },
    "id": "OFerHr1y7W6F",
    "outputId": "466d8b2d-eedf-439b-f6da-6e250af690f9"
   },
   "outputs": [
    {
     "data": {
      "application/vnd.jupyter.widget-view+json": {
       "model_id": "d8e6b4d9f03d4015ba53e5f196e6e80c",
       "version_major": 2,
       "version_minor": 0
      },
      "text/plain": [
       "HBox(children=(IntProgress(value=1, bar_style='info', max=1), HTML(value='')))"
      ]
     },
     "metadata": {
      "tags": []
     },
     "output_type": "display_data"
    },
    {
     "name": "stdout",
     "output_type": "stream",
     "text": [
      "\n"
     ]
    }
   ],
   "source": [
    "def get_coefs(word,*arr): \n",
    "    return word, np.asarray(arr, dtype='float32')\n",
    "with open(EMBEDDING_FILE) as f:\n",
    "    embeddings_index = dict(get_coefs(*o.strip().split()) for o in tqdm_notebook(f))"
   ]
  },
  {
   "cell_type": "code",
   "execution_count": 0,
   "metadata": {
    "colab": {},
    "colab_type": "code",
    "id": "_SefmWhF_ETr"
   },
   "outputs": [],
   "source": [
    "sh = embeddings_index['a'].shape"
   ]
  },
  {
   "cell_type": "code",
   "execution_count": 14,
   "metadata": {
    "colab": {
     "base_uri": "https://localhost:8080/",
     "height": 34
    },
    "colab_type": "code",
    "executionInfo": {
     "elapsed": 279,
     "status": "ok",
     "timestamp": 1577160438855,
     "user": {
      "displayName": "Алексей Подчезерцев",
      "photoUrl": "https://lh3.googleusercontent.com/a-/AAuE7mBbUw_CVz8K3RIunXwSoj-hNZ6f2buYD0JYAcB_=s64",
      "userId": "04087359208169148337"
     },
     "user_tz": -180
    },
    "id": "HcVOwSEM9980",
    "outputId": "0cdb2752-309c-4a9d-e3f4-c89e5f768a00"
   },
   "outputs": [
    {
     "name": "stdout",
     "output_type": "stream",
     "text": [
      "-0.32053\n"
     ]
    }
   ],
   "source": [
    "for k, v in embeddings_index.items():\n",
    "    if v.shape != sh:\n",
    "        print(k)\n",
    "        "
   ]
  },
  {
   "cell_type": "code",
   "execution_count": 0,
   "metadata": {
    "colab": {},
    "colab_type": "code",
    "id": "unvEYixa-ME4"
   },
   "outputs": [],
   "source": [
    "del embeddings_index['-0.32053']"
   ]
  },
  {
   "cell_type": "code",
   "execution_count": 16,
   "metadata": {
    "_cell_guid": "4d29d827-377d-4d2f-8582-4a92f9569719",
    "_uuid": "96fc33012e7f07a2169a150c61574858d49a561b",
    "colab": {
     "base_uri": "https://localhost:8080/",
     "height": 87
    },
    "colab_type": "code",
    "executionInfo": {
     "elapsed": 2000,
     "status": "ok",
     "timestamp": 1577160440846,
     "user": {
      "displayName": "Алексей Подчезерцев",
      "photoUrl": "https://lh3.googleusercontent.com/a-/AAuE7mBbUw_CVz8K3RIunXwSoj-hNZ6f2buYD0JYAcB_=s64",
      "userId": "04087359208169148337"
     },
     "user_tz": -180
    },
    "id": "BVr_bz917W6L",
    "outputId": "daf6b977-739d-4a0b-c9e3-637798aba142"
   },
   "outputs": [
    {
     "name": "stderr",
     "output_type": "stream",
     "text": [
      "/usr/local/lib/python3.6/dist-packages/IPython/core/interactiveshell.py:2822: FutureWarning: arrays to stack must be passed as a \"sequence\" type such as list or tuple. Support for non-sequence iterables such as generators is deprecated as of NumPy 1.16 and will raise an error in the future.\n",
      "  if self.run_code(code, result):\n"
     ]
    },
    {
     "data": {
      "text/plain": [
       "(0.02631098, 0.58370703)"
      ]
     },
     "execution_count": 16,
     "metadata": {
      "tags": []
     },
     "output_type": "execute_result"
    }
   ],
   "source": [
    "all_embs = np.stack(embeddings_index.values())\n",
    "emb_mean,emb_std = all_embs.mean(), all_embs.std()\n",
    "emb_mean,emb_std"
   ]
  },
  {
   "cell_type": "code",
   "execution_count": 0,
   "metadata": {
    "_cell_guid": "62acac54-0495-4a26-ab63-2520d05b3e19",
    "_uuid": "574c91e270add444a7bc8175440274bdd83b7173",
    "colab": {},
    "colab_type": "code",
    "id": "woInL1nt7W6T"
   },
   "outputs": [],
   "source": [
    "word_index = tokenizer.word_index\n",
    "nb_words = min(max_features, len(word_index))\n",
    "embedding_matrix = np.random.normal(emb_mean, emb_std, (nb_words, embed_size))\n",
    "for word, i in word_index.items():\n",
    "    if i >= max_features: \n",
    "        continue\n",
    "    embedding_vector = embeddings_index.get(word)\n",
    "    if embedding_vector is not None: \n",
    "        embedding_matrix[i] = embedding_vector"
   ]
  },
  {
   "cell_type": "markdown",
   "metadata": {
    "colab_type": "text",
    "id": "_yHP3enynKHs"
   },
   "source": [
    "Сводная таблица результата обучения простой CNN на 10% данных (эмбединг, Conv1D, GlobalMaxPooling, Dense).\n",
    "\n",
    "Чем больше фильтров, тем лучше модель, но размер кернела лучше взять средним.\n",
    "\n",
    "| val_AUC |   32   |   64   |   128  |   256  |\n",
    "|:-------:|:------:|:------:|:------:|:------:|\n",
    "|    3    | 0.9678 | 0.9712 | 0.9732 | 0.9754 |\n",
    "|    5    | 0.9704 | 0.9720 | 0.9741 | 0.9758 |\n",
    "|    6    | 0.9694 | 0.9713 | 0.9738 | 0.9758 |\n"
   ]
  },
  {
   "cell_type": "markdown",
   "metadata": {
    "colab_type": "text",
    "id": "UAC8ezCytDdT"
   },
   "source": [
    "Далее возьмем 2 разноприродные модели, которые показали наилучший результат и объединим их.\n",
    "\n",
    "Так же была попытка добавить еще 1 вход, основанный на метаданных текста (количество слов, символов, уникальных слов и т.д.), но такая модель показывала неудовлетворительное качество"
   ]
  },
  {
   "cell_type": "code",
   "execution_count": 0,
   "metadata": {
    "_cell_guid": "0d4cb718-7f9a-4eab-acda-8f55b4712439",
    "_uuid": "dc51af0bd046e1eccc29111a8e2d77bdf7c60d28",
    "colab": {},
    "colab_type": "code",
    "id": "BcF-TBkO7W6c"
   },
   "outputs": [],
   "source": [
    "def cnn_layers(inp):\n",
    "    x = Embedding(max_features, embed_size, input_length=maxlen, weights=[embedding_matrix], trainable = True)(inp)\n",
    "\n",
    "    x = Conv1D(filters=64, kernel_size=5)(x)\n",
    "    x = LeakyReLU(0.1)(x)\n",
    "    x = Conv1D(filters=64, kernel_size=5)(x)\n",
    "    x = BatchNormalization()(x)\n",
    "    x = LeakyReLU(0.1)(x)  \n",
    "    x = MaxPooling1D(padding='same')(x)\n",
    "    x = Dropout(0.2)(x)\n",
    "\n",
    "    x = Conv1D(filters=128, kernel_size=5)(x)\n",
    "    x = LeakyReLU(0.1)(x)\n",
    "    x = Conv1D(filters=128, kernel_size=5)(x)\n",
    "    x = BatchNormalization()(x)\n",
    "    x = LeakyReLU(0.1)(x)  \n",
    "    x = MaxPooling1D(padding='same')(x)\n",
    "    x = Dropout(0.2)(x)\n",
    "\n",
    "    x = Conv1D(filters=256, kernel_size=5)(x)\n",
    "    x = LeakyReLU(0.1)(x)\n",
    "    x = Conv1D(filters=256, kernel_size=5)(x)\n",
    "    x = BatchNormalization()(x)\n",
    "    x = LeakyReLU(0.1)(x)  \n",
    "    x = MaxPooling1D(padding='same')(x)\n",
    "    x = Dropout(0.2)(x)\n",
    "\n",
    "    x = Flatten()(x)\n",
    "    x = Dense(512)(x)\n",
    "    x = BatchNormalization()(x)\n",
    "    x = LeakyReLU(0.1)(x)  \n",
    "    return x"
   ]
  },
  {
   "cell_type": "code",
   "execution_count": 0,
   "metadata": {
    "colab": {},
    "colab_type": "code",
    "id": "9vRBoNL99P3h"
   },
   "outputs": [],
   "source": [
    "def lstm_layers(inp):\n",
    "    x = Embedding(max_features, embed_size, input_length=maxlen, weights=[embedding_matrix], trainable = True)(inp)\n",
    "    x = Bidirectional(LSTM(80, return_sequences=True, dropout=0.1, recurrent_dropout=0.1))(x)\n",
    "    gmx = GlobalMaxPool1D()(x)\n",
    "    gax = GlobalAveragePooling1D()(x)\n",
    "    concatenated = concatenate([gmx, gax])\n",
    "    x = Dense(80, activation=\"relu\")(concatenated)\n",
    "    return x"
   ]
  },
  {
   "cell_type": "code",
   "execution_count": 0,
   "metadata": {
    "colab": {},
    "colab_type": "code",
    "id": "4VqEN9Ku9ONX"
   },
   "outputs": [],
   "source": [
    "input_text = Input(shape=(maxlen,))\n",
    "\n",
    "cnn = cnn_layers(input_text)\n",
    "lstm = lstm_layers(input_text)\n",
    "concatenated = concatenate([cnn, lstm])\n",
    "\n",
    "x = Dropout(0.1)(concatenated)\n",
    "x = Dense(1, activation=\"sigmoid\")(x)\n",
    "model = Model(inputs=input_text, outputs=x)\n",
    "model.compile(loss='binary_crossentropy', optimizer=Adam(clipvalue=2, clipnorm=2), metrics=['accuracy' ,'AUC'])"
   ]
  },
  {
   "cell_type": "code",
   "execution_count": 0,
   "metadata": {
    "colab": {},
    "colab_type": "code",
    "id": "PMzlbCxtDi5i"
   },
   "outputs": [],
   "source": [
    "model=keras.models.load_model()"
   ]
  },
  {
   "cell_type": "code",
   "execution_count": 21,
   "metadata": {
    "colab": {
     "base_uri": "https://localhost:8080/",
     "height": 1000
    },
    "colab_type": "code",
    "executionInfo": {
     "elapsed": 8598,
     "status": "ok",
     "timestamp": 1577134285731,
     "user": {
      "displayName": "Алексей Подчезерцев",
      "photoUrl": "https://lh3.googleusercontent.com/a-/AAuE7mBbUw_CVz8K3RIunXwSoj-hNZ6f2buYD0JYAcB_=s64",
      "userId": "04087359208169148337"
     },
     "user_tz": -180
    },
    "id": "bvuOfJZdA878",
    "outputId": "12ad7682-31cd-445e-af3e-110b1a15ff0c"
   },
   "outputs": [
    {
     "name": "stdout",
     "output_type": "stream",
     "text": [
      "Model: \"model\"\n",
      "__________________________________________________________________________________________________\n",
      "Layer (type)                    Output Shape         Param #     Connected to                     \n",
      "==================================================================================================\n",
      "input_1 (InputLayer)            [(None, 150)]        0                                            \n",
      "__________________________________________________________________________________________________\n",
      "embedding (Embedding)           (None, 150, 100)     5000000     input_1[0][0]                    \n",
      "__________________________________________________________________________________________________\n",
      "conv1d (Conv1D)                 (None, 146, 64)      32064       embedding[0][0]                  \n",
      "__________________________________________________________________________________________________\n",
      "leaky_re_lu (LeakyReLU)         (None, 146, 64)      0           conv1d[0][0]                     \n",
      "__________________________________________________________________________________________________\n",
      "conv1d_1 (Conv1D)               (None, 142, 64)      20544       leaky_re_lu[0][0]                \n",
      "__________________________________________________________________________________________________\n",
      "batch_normalization (BatchNorma (None, 142, 64)      256         conv1d_1[0][0]                   \n",
      "__________________________________________________________________________________________________\n",
      "leaky_re_lu_1 (LeakyReLU)       (None, 142, 64)      0           batch_normalization[0][0]        \n",
      "__________________________________________________________________________________________________\n",
      "max_pooling1d (MaxPooling1D)    (None, 71, 64)       0           leaky_re_lu_1[0][0]              \n",
      "__________________________________________________________________________________________________\n",
      "dropout (Dropout)               (None, 71, 64)       0           max_pooling1d[0][0]              \n",
      "__________________________________________________________________________________________________\n",
      "conv1d_2 (Conv1D)               (None, 67, 128)      41088       dropout[0][0]                    \n",
      "__________________________________________________________________________________________________\n",
      "leaky_re_lu_2 (LeakyReLU)       (None, 67, 128)      0           conv1d_2[0][0]                   \n",
      "__________________________________________________________________________________________________\n",
      "conv1d_3 (Conv1D)               (None, 63, 128)      82048       leaky_re_lu_2[0][0]              \n",
      "__________________________________________________________________________________________________\n",
      "batch_normalization_1 (BatchNor (None, 63, 128)      512         conv1d_3[0][0]                   \n",
      "__________________________________________________________________________________________________\n",
      "leaky_re_lu_3 (LeakyReLU)       (None, 63, 128)      0           batch_normalization_1[0][0]      \n",
      "__________________________________________________________________________________________________\n",
      "max_pooling1d_1 (MaxPooling1D)  (None, 32, 128)      0           leaky_re_lu_3[0][0]              \n",
      "__________________________________________________________________________________________________\n",
      "dropout_1 (Dropout)             (None, 32, 128)      0           max_pooling1d_1[0][0]            \n",
      "__________________________________________________________________________________________________\n",
      "conv1d_4 (Conv1D)               (None, 28, 256)      164096      dropout_1[0][0]                  \n",
      "__________________________________________________________________________________________________\n",
      "leaky_re_lu_4 (LeakyReLU)       (None, 28, 256)      0           conv1d_4[0][0]                   \n",
      "__________________________________________________________________________________________________\n",
      "conv1d_5 (Conv1D)               (None, 24, 256)      327936      leaky_re_lu_4[0][0]              \n",
      "__________________________________________________________________________________________________\n",
      "batch_normalization_2 (BatchNor (None, 24, 256)      1024        conv1d_5[0][0]                   \n",
      "__________________________________________________________________________________________________\n",
      "leaky_re_lu_5 (LeakyReLU)       (None, 24, 256)      0           batch_normalization_2[0][0]      \n",
      "__________________________________________________________________________________________________\n",
      "max_pooling1d_2 (MaxPooling1D)  (None, 12, 256)      0           leaky_re_lu_5[0][0]              \n",
      "__________________________________________________________________________________________________\n",
      "dropout_2 (Dropout)             (None, 12, 256)      0           max_pooling1d_2[0][0]            \n",
      "__________________________________________________________________________________________________\n",
      "embedding_1 (Embedding)         (None, 150, 100)     5000000     input_1[0][0]                    \n",
      "__________________________________________________________________________________________________\n",
      "flatten (Flatten)               (None, 3072)         0           dropout_2[0][0]                  \n",
      "__________________________________________________________________________________________________\n",
      "bidirectional (Bidirectional)   (None, 150, 160)     115840      embedding_1[0][0]                \n",
      "__________________________________________________________________________________________________\n",
      "dense (Dense)                   (None, 512)          1573376     flatten[0][0]                    \n",
      "__________________________________________________________________________________________________\n",
      "global_max_pooling1d (GlobalMax (None, 160)          0           bidirectional[0][0]              \n",
      "__________________________________________________________________________________________________\n",
      "global_average_pooling1d (Globa (None, 160)          0           bidirectional[0][0]              \n",
      "__________________________________________________________________________________________________\n",
      "batch_normalization_3 (BatchNor (None, 512)          2048        dense[0][0]                      \n",
      "__________________________________________________________________________________________________\n",
      "concatenate (Concatenate)       (None, 320)          0           global_max_pooling1d[0][0]       \n",
      "                                                                 global_average_pooling1d[0][0]   \n",
      "__________________________________________________________________________________________________\n",
      "leaky_re_lu_6 (LeakyReLU)       (None, 512)          0           batch_normalization_3[0][0]      \n",
      "__________________________________________________________________________________________________\n",
      "dense_1 (Dense)                 (None, 80)           25680       concatenate[0][0]                \n",
      "__________________________________________________________________________________________________\n",
      "concatenate_1 (Concatenate)     (None, 592)          0           leaky_re_lu_6[0][0]              \n",
      "                                                                 dense_1[0][0]                    \n",
      "__________________________________________________________________________________________________\n",
      "dropout_3 (Dropout)             (None, 592)          0           concatenate_1[0][0]              \n",
      "__________________________________________________________________________________________________\n",
      "dense_2 (Dense)                 (None, 1)            593         dropout_3[0][0]                  \n",
      "==================================================================================================\n",
      "Total params: 12,387,105\n",
      "Trainable params: 12,385,185\n",
      "Non-trainable params: 1,920\n",
      "__________________________________________________________________________________________________\n"
     ]
    }
   ],
   "source": [
    "model.summary()"
   ]
  },
  {
   "cell_type": "code",
   "execution_count": 0,
   "metadata": {
    "colab": {},
    "colab_type": "code",
    "id": "rglNGLdxBSER"
   },
   "outputs": [],
   "source": [
    "class ModelSaveCallback(keras.callbacks.Callback):\n",
    "\n",
    "    def __init__(self, file_name):\n",
    "        super(ModelSaveCallback, self).__init__()\n",
    "        self.file_name = file_name\n",
    "\n",
    "    def on_epoch_end(self, epoch, logs=None):\n",
    "        filename = self.file_name.format(epoch)\n",
    "        keras.models.save_model(self.model, filename)\n",
    "class ModelPredictCallback(keras.callbacks.Callback):\n",
    "\n",
    "    def __init__(self, file_name):\n",
    "        super(ModelPredictCallback, self).__init__()\n",
    "        self.file_name = file_name\n",
    "\n",
    "    def on_epoch_end(self, epoch, logs=None):\n",
    "        filename = self.file_name.format(epoch)\n",
    "        result = self.model.predict(X_test, batch_size=batch_size*16, verbose=0)\n",
    "        df = pd.DataFrame()\n",
    "        df['Id'] = range(1, len(X_test) + 1)\n",
    "        df['Probability'] = result\n",
    "        df.to_csv(filename, index=None)"
   ]
  },
  {
   "cell_type": "code",
   "execution_count": 0,
   "metadata": {
    "colab": {},
    "colab_type": "code",
    "id": "lHX0rUk3Bj8g"
   },
   "outputs": [],
   "source": [
    "TAKE=28 # Номер попытки\n",
    "batch_size=512\n",
    "NAME='kernel_conv_lstm_nofeatures_glove.twitter.27B.100d'\n",
    "model_filename = '{0:02d}_{1:s}_{{0:02d}}.hdf5'.format(TAKE, NAME)\n",
    "predict_filename = '{0:02d}_{1:s}_{{0:02d}}.csv'.format(TAKE, NAME)"
   ]
  },
  {
   "cell_type": "code",
   "execution_count": 0,
   "metadata": {
    "_cell_guid": "333626f1-a838-4fea-af99-0c78f1ef5f5c",
    "_uuid": "c1558c6b2802fc632edc4510c074555a590efbd8",
    "colab": {},
    "colab_type": "code",
    "id": "L0mZIwSL7W6j",
    "scrolled": false
   },
   "outputs": [],
   "source": [
    "model.fit(X_train, y, batch_size=batch_size, epochs=1, validation_split=0.1,verbose=1,\n",
    "          initial_epoch=0,\n",
    "        callbacks = [\n",
    "            ModelSaveCallback(model_filename),\n",
    "            ModelPredictCallback(predict_filename),\n",
    "        ],\n",
    "        )"
   ]
  },
  {
   "cell_type": "code",
   "execution_count": 34,
   "metadata": {
    "colab": {
     "base_uri": "https://localhost:8080/",
     "height": 75
    },
    "colab_type": "code",
    "executionInfo": {
     "elapsed": 1829,
     "status": "ok",
     "timestamp": 1577138131739,
     "user": {
      "displayName": "Алексей Подчезерцев",
      "photoUrl": "https://lh3.googleusercontent.com/a-/AAuE7mBbUw_CVz8K3RIunXwSoj-hNZ6f2buYD0JYAcB_=s64",
      "userId": "04087359208169148337"
     },
     "user_tz": -180
    },
    "id": "ihaURq2aEJTj",
    "outputId": "356560e9-a3d2-4602-f68e-5b93071128a7"
   },
   "outputs": [
    {
     "data": {
      "text/html": [
       "\n",
       "                <audio controls=\"controls\" autoplay=\"autoplay\">\n",
       "                    <source src=\"data:audio/mpeg;base64,//uUxAAAAAAAAAAAAAAAAAAAAAAAAAAAAAAAAAAAAAAAAAAAAAAAAAAAAAAAAAAAAAAAAAAAAAAAAAAAAAAAAAAAAAAAAAAAAAAAAAAAAAAAAAAAAAAAAAAAAAAAAAAAAAAAAAAAAAAAAAAAAAAAAAAAAAAAAAAAAAAAAAAAAAAAAAAAAAAAAAAAAAAAAAAAAAAAAAAAAAAAAAAAAAAAAAAAAAAAAAAAAAAAAAAAAAAAAAAAAAAAAAAAAAAAAAAAAAAAAAAAAAAAAAAAAAAAAAAAAAAAAAAAAAAAAAAAAAAAAAAAAAAAAAAAAAAAAAAAAAAAAAAAAAAAAAAAAAAAAAAAAAAAAAAAAAAAAAAAAAAAAAAAAAAAAAAAAAAAAAAAAAAAAAAAAAAAAAAAAAAAAAAAAAAAAAAAAAAAAAAAAAAAAAAAAAAAAAAAAAAAAAAAAAAAAAAAAAAAAAAAAAAAAAAAAAAAAAAAAAAAAAAAAAAAAAAAAAAAAAAAAAAAAAAA//u0xAAAQMwDJwAAACk/ESNk8wzQDwAAACzMlMsCrUkwHQ/jNYOc6EBZwkQTgYaZHUKswPJGDwwBRGwxoVHBKwAUitPJiiQ03FgJAsrOM6amjkVNof6H0Po7lBcu9jZyz96kjBVSmtVeKtUqkccjbE30oq8ZUzEaFEnQa9E37izsOahB+MXKOVkBIKqllHWgq/H0I6Vqn3QrTjDjxOISqWPEacyRYlQTNB8xCkrNpNIOObE2/ojqEgsuy//u6nIm2mWjGmiAji2ICAFnMNeG1Kp2VULgrGzLYRCx1Nhi0ta5m7l02b60sUB8H2kU4M6+cM2XP7SM87PMRLGQyEQ8SUAgTCpkMBKHkQMZpUNn1JZuvcrr/q/Y+pbKr62aWlACEpsBPBvgdR6EqFaxm8tpI25aENnUR6PSkDtM99idP0DaPnUk6kccxIxskN65EEwMI0gc4Jb3NYHUIYAGsckLOaJZe8iZ+8NCxRayVlD3+01M6EYwcOlB/7f10/IDsRkLjdBf9r6a1jGmoDogKFRxguZgCmjsA08WoKAoDpApiYt7oRiAxB4izInDLHFuWHgiEokQbWgVg8LMhwIBUVjjozVV2nKn1oeu/0Op+sUX/VVmJptxYsggDeGQKgOYC8aBao4eJeEEYKtTQqk8xEER5EwQqa7MtD22GhuiLujCz4DpkcQS0uKCcDCMsXaxC2r3a92ofEIuUkjUZzQhoWHiSDebD35h9DDX0QRyNorq9QCQlsMMplAXWExHOTBCz9al//tUxOoACkB5IYwkaoFuFGQ1gw14rZF2QM9ltIjzFo9KFImYya71GG8oplxZKUfaSuDMGHDgULlCoUCYGHCVwLiRjWKRIB/e1KcWGmTh9Cu217EK/ehxtttpUzIBf1fkUM4kOPMnBxshIDnYkesWZE9oQOFLOSrkES6rD6XFiY1qSrXzHvPNqK5rk2nQ0uxDxKwYeKEgeBEQLKhmNGgC8/W4BbEd+wbY61p97+/IrjLbvU24km0qQBsgHQcx2B5L//tkxOiAC6yHHSeYbQFgEuPlhI1QCVRJ5HwqMRXIERqTTI82i8WWUWxIRH+LXCUSCMzu7GUIcHA4PcTPgETjCAqH3jyL4cFAuaACToZFDZYqQFhUJikqAzYww5Pvj+G/R6HVrePFLtJSNtts5NqgV4K4C0J+LGS8sbWSs4VwmzXur00L0I4IEEdb2vCmqGZp2kQp5qBQGzhjThnJL0mStJkxOZOCRmiqMZKLggUZE4hbJm4TWhCTi9AqlcOhapI1Lz8X/MX2N9Ou/vb5KlRVUEAFDq+X+3Zgr6nykDSAWGV/fRmBS8pStE/8WvwaosQt//tUxPsACxxrH4ekZ8FgkaQw8w2o2BxC0n9QgSbush26u8cpCPwQPwsAlA+2SjlMBl2cMR44WQ4PsDTahCfcKNYKNtYRT3+WkEBx6YuQajbjaVVSgIyM0R1bAoe84KhIfhwI4FRCHsS6G1EZlEqDB5EqsmkZ005SpfYnlIR9cus1JbQ1y6IAKh8eWVaYhUNnwqoOmF2ARTWvFDwoBCojNOLrpr3p0oWmj9KVUMTtbr7qFJEgBgC+Q5KG4zzlueeF//tUxPgAi4x3H4w8w0GCDqPw9I0ogmawysDVP6LE6so3xUPIGOJ1YuPL3jk9zcOiTU6+VlLt2w86dEcuIZ8UlmigBPvEB8XigfIrEdzliW+0ovUi5m3fatKNZRZta3vJoh5tpmZEDtC6CNyHuVqKc30BLK1Tqe+J9EDJIKE0RkyPJHWwuryNcpThWz3YWQNSSaFTU7g48sIO2WM+KkObN9Y2pP9t+fKsu4nZeb5q++wZ79+xNfr+W33d72bl532m//tkxO8ADBivH4ekbQGBE+Plhgzw3X9rvV/fNNKAcYCMN0MspXbAOMBQDAwBhGo6HciDEWiJWzqGVZ7ymJDpYak9fUeHXnK3JEOB281+LU6cad2r6rGzTLTOWHyDRwoZDg4g8KH12poyVfo0fmlwq57WmHIpG4130iSEhUMGa9EEaw9sfjkOoIPqEyyz6tKVCrd99MgZMw59ucFG08KepTQmdQQqdOjGevy4CB0XSDBALkCjgo9ggA6iFyJecHUMItQxKVLRHCrmsELF7f7vNKVqJEtpZAfBBC1wsqgHDCIeNtehHgWIgGsDZKEr01I0//tUxPwADACBH4wwxQF3ECPph5hwGYcTmtqvU2S1Zq2vMbIij2sHmJELBs0fFwo1CxpxYhDj2peSPhxb3uGMQeYuudVzE1kXOP7qMjvVqjruNo22mkktMoElSArqMoJhshA0IZBBFV6VcX0urEVXiR7Hd5aS9t8I29XVvbB9d1ZcPu84QAyLheke0VdLCoOjnBpRMgNRBpLxyywoXcD4lAxY+kVX2vA9Nzqd9b72ojqUOWtqySFtIxJlACSn8P4N//tUxPKADEyNHSeYbUlqnKPk9Iy4BQkrKdXmQeZzItOM9NfISkpjHofBsue5UEWzsShQYRn1oZKWeOVFB4ia0DtUCpoAAdCzo8RIX8+Liow4pAtIBs0sCn/7Eo+r6N3obVlaaEdSAQ4CgAxhoXii3C0kkRpWFgRsLqvCRMeYudaM8bEuwjHOPvgkMQZMiI7xdA6yigdacUoICrkESZuJ2tHJcWFkUwO+Bj9an60Iqt0/3esNpra2txySNtxVTCsA//tkxOmAC5yDIYwwxYFzjWPxh5iQWOWiZFSMmaZAcQfWKNdDa6pCnFOCqS4yTLQYcsYBZjIjuZVRZNGUnv5HIuhg9t9i2uX0l22N3Re31026fS/+vI6Q+7/69JrTKKeHsxd/6jC3I4S20wCQDhDDAZaYGp/ZDGzoIOJpaWWQLTp7akXz5bSliaWWycqQ4JExISax5sKBcHCxYgFGLMIHIgy9oy7UZDAfCY0CnA+Va+ff+y7/rTZ6tXbJI4QkokQMjQ7g3ag6lTZGkLyaVAcKeIi6FZAiG3Ys+L2W9vaTQOW1zjmawqVu7u5R8/nm0nzO//tUxPoADCB5H4wwxMFgDuR08w2gFd6y++bKQ8DUAaQY55gACh9sXAIEEa3FZhfRbbp/+mpxxtokgTKAEAAwAJxIATpbxll/URpjFeFLxQic6BXimHCDgLjo7k50d5MPCcymakNXhfcS9DqjLKS5b7DOhdNUIEZEKL88jOlnvobQv3yBLNSbTrCTIr3AZEwUWhnajKG1zJVwrJLZZGgY00kA4gC0xRFQvxvBBy9BqTAyLx8GKYuWRpjJZWPpkxGf//tUxPMACvB7IYeYbIFdC6RxhI1ZMp4ddPZWF6IajUJrZOfZVeYjTgQYwYUuKkTCHBt41SYYhtKXFnhsTjWCIgUV4s8TLIBU4wwv/+lR1yNNKtIgSAISANCZhB2MghSTmGqyhFSMQnnuT4vhSCzCbCeMIjFGJrI7AnIAsCInDhA4Kijjx0SiEqB7iLj4qYExEKDmkXjV0bB9ox56xBKOn0OWbVOp/T2wOpzlNONNJAqZUPYQsSrGTZlFwGoqzRGl//tUxPEACmhfI4ewwsFgF+S1hI1ggZRSK0zCAB3nLjZO+56ww8jDYYsq8uWFNEa6GQlXa/WqGBaVU1ZsUFimy5N9fyVrEcIqqe+8a/c04ZWpCa4KB1sfarz/f///rz/8d97/qtNrda0X/cFdVhVnp/MkUtfRVVc86IAcDoRRRNDhUKZYqByBftn0UgRgWh5jjHGFUkk+kuZEj34waWW46JixFEbtctjrFJp55uKQtTYlumh3P7U/9K2+6zcljkIZ//tkxPCADJT3H4ewaIF5kGS09hjYvqEBqjAiK3qkPetb65GHWmbIlqG2mGSgfCxLGM8ZjurgAfiA1Y/sPV6hkCPp1jUsM55I7mGBAXOgiJlCAWIkTCT40YRQqk1MkxcSB9zMw8rFEhMoH7nf6bE1UstkbQ37IygKiVyvlALDxXfCMCDICGTRx3jhlw+jrRQQYUJp3NFYjQ2JKhqXFdLEXUOaiHkFkWTaHKQIXNvMiwWBTnAKhgCi6AmdBN5lb9/tpH3qV/0/rhcjbDM1KoJcGSLQKEXAkZLSDFgN1PMSk9khZHmUbA4w6KNtPIIObkFx//tUxPyAC8RdI4ekawGNjiPw9JkJoFyzyjtOX/pPRiW1EYzDkj19mJrATmse+LCogYGLJl4Ei0uGBew0AmqoSsMBGlSm0jr2Jop2MMIucmFY44grUqALobIzUYRpxBZpJKGMbTtOLZzIPZKyIwrT13/mMxenPZqELrXiV61XmzmO8XM48IFGws8TFgAHgi97TSBzli595oJqEx6dUbB5qHyrWqhdo615oiWg47d4q23dl49ZJLELWytYEiIoMGTU//tUxPEACuRjJ4wkaMl5E+RxhI1QT0ZE/gbISITOSFDaF0BICAvO0Md4BZXuGEigMp4ugDguHQyWGTkESKnrMg8eHpIAucHaHMGLDy2iMakji3bppXn0dWpGTiwq5hyuOSNtQJIgkBlRMZAFmA8pe5EVnAGQSClAMkqtQDkrC8HSo4ligQLQJ7HaJfzkHCKuc27SzKJuA3NE4BBE2DB20XHCu/a3P1S6jwMgyWfSMWww0bipun/+P+WaTksaMVIq//tkxOuACvijJYwwZUGLlCQw8w2wDnSJJdKNhs4zeKxpKl24CV24+3lg+RJCERmPbtdwshpJEvUnuS/Uf451SgxwdFFkIiIFx91KoohAQe0wpikMGFGhVosQMDJR+t1ySbGbp0la+WVJJKBHTUa3G2yyyiKpobK+TCER1bDgd1xKBUPCXZ9QeVKFAmVxhg2Rbzr09hpymlPSGRAy9Dk0kgCS+m0x01d1yvsoWKZLId+NlVrm/o/+Ta277/d2tyy9UauFKHXdp3+/n3t1/q9aibbTCqyAAhoMiyH5YEXq7ejzksbdYXVwwZNjlejmQtno//tUxPuADGCNIYekzEFgCWSxhIjoqEg4iwZXGYWtIQaRUJXwpoT+pl5mSn1tx0xAEPqAjxMIyh4SoScguN1Q60kBlyy9bU1IVAWm+nnxQXnTzyalkkssrLM1I5oQAOgXpacyKTrfb6BJZIICduTZSyK2JDEzTijqshUp6xewoGTSiqTDpF6aHAYYleKVankkBZ7txaRFKZWPTIgSStHNkOERtslZ0Em5lAaS5aEBCGNj3VLWSKPEt3x0ei4llW7I//tUxPOAC0h5I6wwxMF5jaRxhJmA22SlAFNSeLPv8joo6TmgykAIHQRxEMkixxGo983poHa0GNhlr0UgdZQdVokOnz+S2Y2BBoTDQbAIedA5ELSpBQ4aKJjwvDSSopXEppwzW7jbXGmPm+K3Oai3fpUptxtowtKp6g1QIatE9mhRXbSSU55XNfNJ6IBU4Vjoqc/TybWkiGdc6ZC97tRGh78YyNTgdBS7AISIfTg5VPaWW0v3m7B2v5v+KejY//hW//tkxOyADChtIYwxBQmBFOQxhA1o/pBqW/fWZtz/7f/f6xuSDFKSWJI6syi0BpKww8FkTnNMppRGk9HuOCkJz7Ur2j1+CerG3pijKxKudkZ62jqbLHRiTg8razcovfq8LpERPtZHVrBhx4WBNYEFRUbcWUwMzyBr1poJCIUC8wAam5u6eX71UtkacQtaqJsL0GKGoIYP40i6J0/EbBfmFtrXG7OO4WsiVh8QUcKQFEyuppBixK/6ZOVyiHlgqDIGSAJA+gatoY8NidLTxEJgMWYZNG7rNyGjLm3dfSu5jRUmtxtxtKqDwDEPWKSFSUaN//tUxPkADRz5I4wYcMF6kORxhIy4WSslKg3RhZgVfsgUaNJJiCQmXzy+rg81IHACIAZJOEIVFDjElCBgYhIus1SthIwGC4dde8ylTCQBOKRERpTbl++fa8n61uottZqVUrbTadLSgTMGUJcLkFKPsCqGYl+AbKblER8gNHxvVhVE0JN3TCl0QBUEwIEA2ACoOvEywbEjHiWWDRNgHGLmyTGjSwDFgWC8XCQsxgEHkxRY3ocifQzRb+7RjW9Edrca//tkxOqAC+iHI4eYbQmFGeRxgw1wjValC4DUVmsAIBrWUHb6Raxxs4RHOnwGxINFCxgwg82Uos+SBc94lop0WC3eFi3HzDx2qi7Hy4u6GTD3/PPRBFXxsiGQYHQsZD5EEQlZFxdYEkKeUahRfAVytW3ky4+Mo9xDF5N5h4RkBSCs2m06iRRpFNBvEHWGMKUThIaQxljGYiRQwI6EQDBgYyPDiyIyBPCOwjhb2Sg546Q1eI/AuCEjEoICitBbxpidybD0xeB0o3lCcCKFoggmQoMdpDzIQiDkB9jiJgcggpHjnmAoMUQ2ELkwHBjrIARw//tUxPeACyCjJYeYawFpCmRw9hjIpAghYKBNmQ8MYE8eI4xNSGETKopEpi4COLpLkgiZmCA/EGIGT5mPY5pIizCDkMIMQybEUJmPBFzx1MuFwwZA0L6jxByfJ8xRNjxTHPJ8cwpGBqcZIo3MjxoZIqoNRWbkmouMdN002OuiTSJPGJcKpeLxeMiYYt/////9NN/////zJ8gE1eHhVEhOVxx2xwRsIj6FSr7QiaA0prEtVjlTO5dDFNTD6sNi5U01//tUxPMAC5RPIYewxIGVGORysIAAm3IJ0XX4q3PGSe5tfiqglg6oJeMe+wuo/CcIZukPWTNwvICVUXEq1qq5RHCPJSTkZcMIiqjNm1UKsoXmn1yJ/3XG5taWzzL6u17UL91ZRikL1IJu4w595plcnJYmabaOh8cIByZNdX44N/mZ4/XFURi7mncgU5Fb0AoQY05UuMQlLEmC/jc0WWzQLYg2TzLjRIWBk65Al4UUDp3DvCzgxZ32hhQ0O3zKAiCy//uUxOeAH3oDM/mYAApdJqi/sMABW60lBn19SNp0JqT966k2X//J7jV1J6JCLMnohyQqq9h1v3v1XnQVSQTz9qbha549DbuI0Qasu7eERksMvlRIDMuCmT0zjnAzYrCaKxNP9nzTrkZc8PgxqDlWkjxVHEB5kZIWMcfkRn6yd/nV2hA9g9napCORrO6rV9iVYrpqUomsXOQchP/dynIRofQUCFjCgyMFi7T9hgo00AGD0pcqnZ7I4kTcH2AMlolXAg3VS9qZggwZ4hkGVSYGHoDFC1LFfWnyqvBqP0VffzH1x3+Fg/ZT0ELAJ7y98fONPxi/6y2D9Ti7vjUYXm77RLvUVMSNTVIyEfrrtMtX/WpIWC8EONSYNBBj4lBsEwWiYVCR1OZDza3vt9bWmrux7Kjo7Vq3Xmus9rnGoWuSEILT1MITLtYX8AlUcBR7RDCRpUVQsud9OPjf2XXswHjjfyifON5WAIME1CQcWC+DefvrIaDf/6LlqHfpv1xo629U//t0xNOADfD5UewYbwnKHit9pJW07kBwouWiWMrv/1ZGKMdhnCjDPSa/lE1sDaAMUAoPhAONRmymtqFpRVAHl3l4FO9oHbIAhw6k1s08F1RQCPD2QM2MM8rJTq2eXbeeW2zap3LpqvIrfH0f5NpHeY3bNkKMNGANNG73LMIooRav/P9RNxTway1d9mIVLc///8IWLnjAoKmBIwfy3Nc/////pT9P8JEmy0DCZg8GQ+YA/86oyKCQFczDqAb5IN8eJCzIQbieET3CAaovEvUnqRAWnfyF1FcC89C0k7ZmHBnrSLWihq1Dd27UXlfWqoPnIOyU3/9EQw5p7MYaczns//zXIlRHQLgTEIP0jBo3Vdr//rWz3vsxkqYwYuhZIw////t0xOgAEGV3Xe0lUemmHax9pAo89u9926iigASWiGMTp2gLk1yPBPmMHlMsATiZBhTD7ALxrPLpHU3TM+PRY8fz688kWGaUUUvtu1w7lLSLCpypeWl0ImHHTj//Q8xGq7WRmmDrm//zUHh0CALxQI7D44I2f8Y40uZteyDQEf+dSgL3niIQh5hyIN+sCeZJJGgbZTRCSkpa6qqTD/qMPq4lUAVkWkodrpMprdnpal0w44EMjGfUXk5H13sfQ9RlRM9ctba5Nw1U9HDjC+B9J////MMcagP0IgcmqDKW/27lOV3sYuxKuVx5EdVAjX9ohztg3RkVYH3fYQTjxciFK2QLHVQ3Go4AzJjkBamRD9Fu7U1KUGlIe9/dSOvAxw+x//tkxPcADxU/Ye09CeHAJyw9lZ29URCKYWOy+v9SEcTc8wsKkOOF0VP/2uVgCEmBQ1A4LFDA6j+OdcAEkCB0GEvsTdPswqAhVaYALv6EFfYBPOiGYe6HwM6Xo1QhQ6XwGryCIFuPPlQbi1hoELKeJ9vuClDwSmNeax40co9Fg6OUSpW1rm4iX+6HS2k5qnQs6tF////sxAjixI0PCCqOZ3+m88hS2vaB0UTD7KCqRGKrMAAPPYWHNYBPTEs0SiQKFrohhYFJBt8Dp6OzgcGyd0roBUPTj8Fj+YctZZhYHjxj3KHTV7NcS5UWtL1+tV/M//tkxPAADUDrY+w86eGZnax9hKGkIP7WqSzWiUbS0////+CcVFRCFhY5WOkXq/nTIUHZoAuPaUzid9orAJYEOVdnNECv1EurDjSfYoUrU3ASazBqe2bT4QcDZsMMsKAekJxNlZnT2vTKutXua5Ions8jB3UIIRmpeQqVck6qUmeRtNTsrL/+5KsUZXFHHHCCZSgwugAKBAZBxTDCSZlY5j+j7gAXNi0RfaE9HCpE5AbgVkkoK/I1iWwwjCtaakcgGhcNCEFaVClvK+kzjx8MZdMzNjZaYVzSzBhp44+JZfyVraKqIpKWh+3ybNVQ6q////tkxPUADRjxYawsrWGgniw1gyIU/4uM8s/EWwDiwnFzwWccE63h5OKjwylzT7k8s1Jxpc2Bm3XjgAElAABf6AZaRtK8S+A6OzExAqjUz4xKQt1vt0tT8hgqK0DnfZ+5+H2uWL+pbtDlq0SGAj7DDMBBlGYr3nfsykhmLnLCQyNWKqaf///X1nL2yHPSZJRMISoj1VKgfvbEl/YPBsi0coUYtK+/dunHWpoAwAAJ7ABIgKEwLGWkhj0yABIMtWGnGm/Hqds8w9vQOBA5vaL4eigFVPdkW2Ti+Bqy9nMzOQhL94+/u7Mp1stlKUyTs9Sk//tUxPoADODxW6wxCSGUHit9hIl8Wf/1a0i+TSQHEPcK4FqHcUUDI2LqbSuKSIuVexZb/UblzoAWbtDagAXwEkF/IAnKBGUD4zAo0rIvFYA+7NVHFXKneV66MHMs0c3sp5bSeQNVny1dxRTCh8FsSIFkNU20mLkJwnTexOV3OzqinNRmEJ1HxhEUXlIrf9KOgiyBEgdFBh3NEqP/6auVkWyqPOJpHpEewhSPShyoCLNRoCsl0TX2pTrlFxikYrMV//t0xOmADijxV6wxCWHBHqp1ob7kh5IuCPyFWTBZcJir5vtII+wHIXk8a4zL101W7oqQmDgeaVQyx1xZbXU8aY1lMhd3mey1OpTVMcOen++7uyMcGQYTaxXf6N1tWdUV2NSMs8yySYwFDeIEJnhiXUB6W/2z/9y+bAgg+RBSF9AhBHZ9qg+Cl8rAbhHxmLjRl/H7da9zzn7XuZnDUzGHUXXrM8ZIj0zIyqpCI7Kt0bhSBZcio0//5y5wKmkEgA54PtOiiGi17xU7GOLpeRqdU3SPsCDhihKqACkUvkdvwV3REgT2LZJnmfF6aRXENMzl8CabtCWNwOfiD4+54x6fTfAiL+3e++nJAYE2JXLw7ORKM/UhWEyozrPRUqVjjSIc//tkxP4ADaj1TU2Zr6HSpel1tJW86sf/+iNqc5yAQPjyjGnv/t0kx4gwoLhsPOItQlf9JXMAARJrlK/4me6SSByqZIYI7YZ/GkcZW20+OvCsyDwNQpnyQPwYQLPvXMA42J9brZn1iUWq0+W5woLGhw+RFfHfNVENTztxYokuOIciU////+6cYcSCsihSYFYAF35kKKpWLPT/VoBoKS5IPQACmhgDJ6BPMkNQkW+hOQQEgJaXmvMWjiXzoix/YbYyYRh2IxerubGC+O6353kk4Jxwlub71pJIV7v2n60ioHKWMQcsRxA8tFh////+Xyy6//tkxPqADT0vU60gT+GdHWt1lg00IEx4ZMKtRlgD+PAYtGybnqa7cTzKnGDoQaFlgAaWhoJ3QB+lIVB7cqiIKqqhoEZQRWlY5Q1XTt4C5nNA5soOFHVtwsTa35ySWiDhZRrq6uqoVAVw5qe1y37IJkIrMh0Q4dYrkr/7qihpBQgKBgHAQaEhYVYfs/A4XZKo+lDLBdiar5sABuYAApVAT4jpxTGKlA8McGB8MOJWw20iXPF2HJByaXGqWck6tvDphNKa0N77z2dtrqvudlqXDf2b7Z3UNc6Vrvu2w7a08jd////zbDhYTrJhHH8NTpBt//tUxP8ADQ0pWaykr2GqHmt1laF8aXy2nufx//+621UTW6kREo+NAncZqIoKdIGBlQBZeZRkWv2C4jIyJAnfKDJ3BcL1LTji9aZrMsd+AZHzlmi5ojGvY2S1LNLoHG7G0NHSc5znO3Gc4s51ty3/uZCqU466HRjzE//0NCbCrCYkLCADHGf6UJfWG0oDY8gqYABIWWAgUmgJ29bEVwpLk3RKgRV0xDkgN9HGvDRyTYKMzWkrRqYEqlJCLYPYupas//tkxOsADWT1W6y9B2Gfnqu1lJWkfs465rr1nsrb/Xvc4yVeWNL7m1//PRhuJwnAYKBuLwLARElCBg6XHoTb9CbEJFROdDhk0QLNd+kEY9PAG2+ZAUjA3VvGAlLiEpSIlATi8Jo+CHpMrl+krRJNU1YWAtieDYnHuH2GqrvjTbKxmnGkLkxP9f88+1xblfSkW7zH////oNDstBGB2g0aLEu9f861//+t+7a+isg+UdqNl6DSmf0FoPVgAFVocxBUbAvZ+O9K+kNSmZVMTe2xagak+IZFNAwiwIiAPuftocx+Ue21RCE8v2Q2WMFphFFt//tkxO8ADnEtWaylbSF6niz9hBW8Pl3JXQ9m/2RHH2JmGj6MVMMZv/n7jJYahMEwPBqXLuch6Mdq9P/7VbeimnsQQkwbU884hWrUFBdSAAO8S6CFNYDvSFUJRMqJKLoFJ5balWak9ISOhxI9Tg9lbfvO+33+6wlr7ysraclFL1qtc5hpJHR7fsZBpWcVu0WrKv/+4wBxQVD4eDg0WEA4OWi///3pqdGecSjwI3/+pRACmax2JN+0L/rZSiZYOVxSkSi2rVUVcz1q8FubHntuYHsrU/eW9M+n6doSt95WV9DMZxc1Nrk1as3//8vSS4qQ//tkxPMADVz5W+y85yGjKCu1h6DkS+9zevX///7MsKE2eQNFSau3Sdr7///+etuZ+I6ireLMLpV/9RADTES7iDLYFvKUXytcqFjb5VCQHU6hUqXG8L5yWDkhynB5hJ52d5b03p7bkxfH3/le3LMFsraTNMRDsyU28uzdidq7iYIdgjXL///JZGAAHE3UBRS0Fpn////n5+iZxXRkRxWDUEDSf9iVEgAGmIymEGb0LfbGytMsAldqsxfunalmuOJwNt7JJCbsmeqV9bodTpPTx1SO7fO/T5HZa/WbiW+pnKx0HZm7bOVRyRpGPQyXM//0//tkxPaADfU/W+ww62GDpyw9hJV8Q5RIWCTFIyuGAgJElCH+lYBB4XJAqkUcu/9hq5oAB3F0yEXdqD/XSlIskPRNJnxMfTvUrK30GrofRapQXEr2G5jNhZHYrBMH5trTTZRpB7CNCxHU3ZMtc29X7MsREXMZrxYoKpFN//3ziJR8VESuWTf//rI1ZM5UMwiQg8UZ2YRJUf0A48gqIACamZUzP9AsHeDgQ8pFQOeeBe2axFkrtTJW62SXWIPiciiNQtVNVeeclcznN7y1cHJkjkqt5dpNQ+1VSVFVvVr6KhjMz2Kj//6GElMh2QCMzyq0//tUxPuADMVDYewlDyGvqCu9lI203t/+yqqVZ9CqIXVXAAEprdFV3+wuBYIEdAGiMWkRGbAEAmsl6ENLa6XcaSziArtM7nBVOzpTpHCvVVRWtVUdaWlPPmtpKpd6QtiPGuclkHfRCPQxwpd7//oZHKCOqLBCnBURCXFn6Yoxp2oOlQkaNQBIm6mIf77aSBdhkYAdCZWRhUHDqKvbhEWbOO6TLqYCBBZVliIh6LNq5DHkkkE/bUbFnCzqbFxw6p8a//tkxOgADNztX+yYsaGlKSu9lBW8urazF/eSJl7CpI0WK1lEhRcGg0Ihy+2sGk3TDh0gjatwK71d07xt/a0AZIhoDCWIWwmIRoeRe0wXsTYKhLCcerpSQ553ogx2p7lFovKNs2ttKNKKvI+snJcMg3g8KgqCfWBRJg1N9/A6uz3Sm9aGs+7v87/rqk1bJI31UgApRCBMYQATpiBfJk50QophyTMsVTaZHYjDwAOuBuymMQB8iae1YKiQkRUCQAGC4cOCIIEwCfBhzAXMKSxQvOF1rDWxFCb11rtehv+j2CeyNUSWmyOSSFdKgCDDqH+C//tkxO0ADAk9V+yYUWmOnij9own0oIW1GBomRxebG9K0os1rvuVOiKIcFBLORU8WflroZ0fE4bIgdIHI2lhVB5pMuLDCDU3tD71L7HO410eypOc3t0ySOiK5indrtZn/WoMgKIOsGWLCeVk6j4swIZQBRx0fh4LIUSrWfXhXKZILMNuB6Az4RRFCKHMyJEOjFpIJE5suRFRQGSplmbaiH0pz7i3+z0Vf/qpJU23rdKIJABdSDkwIcQ/a83MuHTTgMcCBA6CbiMIFS67E0fH8Z+qeLv+/Y9gTLJTJYvJY/CKdLzAdJZP32jCAR76I69O+//tUxPiAC3SZQ+1hAyFSECe89hlNT3KUeDgQGbCk3AufcVuLtljywbie6+oLYxKGCgp2Zui8F56WY7vb98l2QsDnzFvhKmT7P4REVIx/np4FTw/DnPZe6c8tHPjrfHEU61VVNlh4dFkqiSIMINJhZjVpi3YCFgoEFHZhxRQlhk7JstOWTGBxsFxtj5rUrJEiQoMARBPR9LjIxIOXfS1STYAwBpknaQka/boTb+rLZBDa115uUCgjgv2/Ku41DDyt//tUxPWACzBLJ4wkZwFEDmSw9IzgosWZU8UJLwjmfDAQ0gnFksLlio8L5+V4zaOE4hE4sba6+6OO9HpebecsYLV6cvXXrHSf6sgIosmSuEiYAJUgyHTgEJBHMQW0fYPXvQVQ/i6hmIaYaNHj3c/AhXSk0kYd8P9CuSORGNNNJJFQgCOh8C1iEIyiIsiWobBSsSA1DmsErAvGAXMaqzx2GHY11axRJAcAuWhAWkyw/L41Y6jCAUnkeUzmP0jJqHUx//tkxPWACeh1K4ekaUJIoqV1hiJZh1aRbjeRv3VwsPGm1hhkoHEzBZtFW9b2t9+sdcGG2Vh3p38yzlb5WGnr6Pl22wlghVTchjZ3/ja51Xm2halVC68fubckacsqKhQ5wRUJpWgVJmBCtujylwst+YmzeYX6/L8YI6aOxo/KAwJgmCRiao5BBQiaIbmbBrnP+lSZm9aWqMCuZQMG1TGn//d6X1PB0MoCGwaPXxczdkoynBW46SsvCDGvQGgeYCyX/zu+l3DdRDw4jVQDKwEavL8RkXmhPkMfc/STeEXgKMKNnXcUQOzNM/uWsJQ6E5Aq//uExPIAGA1JN+0w2soboKi1lhohsetSdBJbxX//3ZN6T2ooynRv/+9CKcx5WNKv6bWnohTtHACBHY4fKgAKE921P5P/LRGBEzS1gzmsMSJbaJ8HogtTTQb6oEmrwQ+T9K4/UyghYbx/MlebmSE93cppqteeup/n0SjiDCaOd1bQVQMFBxDnd//Sjs1TB4UIciK3a9UnrJFzh0JrCIufNrRu/eSFxxOSAAgG/iZ/U10kHcwGMOog0wdBO2B1y0DMCASssqcjjJpmeTCQ2apmj1h6LDhlGSpoJDjPTqpRYaPOOMn1RzzGs+t23Iex1E1km/9HGM4qKhiiwjDjkLsKBATmBcGRgGCLiP/tWoaveSoBAGEIi2ud8v3lRVnL4CgI9w4pTZCAqDXSrvML5TNAbpfpKODZPHL0fX7y1AA1Y3ow760zIiELPFd/MjS/71SV//tkxOuADSDpU60kbmFrpOu1hAn02OhX0RFGZzVFEMYE//9TsHcAQcoso6cvoFAqtJYjb//PJInkAAAQBbyst/j19YkjJpFgBKkgEJQ6RvptsF9kHZS47NpMRIRIdRYxvuNIZ27bt3ZTI3mSNxzctQMMiXb71edU6c85jxpiCZhosV//92mQDmCQoHiUe0gwPNFQna//6mXDaDcAACAIeWr30u/wKlZOCSCK5UOFupG5mDKeOHySVGe9nhQe7ju1tPXBKJ7teve/TJhGmqlOpQDFlax/9PtbrbKYqBDBB2HZ//3mDocBIBHMp0IoaUEA//tkxPcADWEfW60sreGeHas1lJXMEE5ci8yB/+6EwaHPYNWAADACrSSz+S0RsVshEUdFJxO2qtmw9hzEs3ktxtoDWLbMQ8WsWL/fBZli5bJy1yTTTVHBkV5nMgHey/FQLXUeJMzztLMwpijCLGaH///36bkKEhsIoRERLp/yZ/lYDq4WL6hnVQ7Iiv+o/YnLDZhfpokowYkMBhCMmc5ZctZhajbqMAgS69SDjSAMShOWpsk+dhLNiSQYmlYkSbbX3fTCFsDBOYNo5Mff729+19n986xtgVylihHqBBBzWP///+RkAIIBprXrlub5pPhi//tUxPsADITxXeysUuGHHmu9lZXsIjMmObnCCX373/n27Xp1z3h4dh1smt5QwanjmrcnfAbQjhYAV4QQShfAmwJlzJ8lC6j7U6jVZWEkfj0RIjM1XYnEchqnL3XpNSNKz5UJJESSzGjM1nzInbaGjfjw9EzNYWxuQhGvv///mRlwhwSA1YgggJskJULtOnfRbHSlkRIhIhSfkhZkIpkosg8BIACJXffFqpepiEA5iybNR5JQATDK23aLXofqSX9H//tkxO2ADGTxW+ykT2GQpOq9pI3l1sNjLJyHxLXNh46dhQnLJcYeZ5fTD2I5pZFxep49Zlq2LGYPicOShFfuExjiEas3vNf3bww4t6SHv4iv///7/erMKMFkc5YPGSrH5Yfb6LZf/dd/9mGCoficPqAnUAUxMxDgbs05Uk8jO0BjqxHYFCt2VOuVdjd10tszuQWIDjzwxmNzEMTlVFHDQwYoWu76leRq8FByowAMBg2v0mkmU1+NS9yYJBaQzNj7/01uTsVI0ZlKwiTrr/Xqlw2FP1db4+OBPBnk4vpFLrqbVcqnqUEENJtlFUF4I0a4//t0xPcAD5kxU6ykcen5sCt88w50IEV4NMFadwHxrFlMNSLonw1MTBaLQgYZzLJ3CUG5ETwmQRRkqQzoVTYqE8t/h/nl7d8kSszUEyybD/9fqoCJJWwAjrQorlz1r20Zl2sj/+v49C9GIlDRNfPIFbmnqEADRJJpqYIgFWBEE1AlAtQS0hgV4Z5PBSTQDChI+qTxkIVo3T0UIFwIH6oSmtU2PCMrge65Qrc/Oqxn/b5u7gxA4kGSVO7lz8/3i62FBMYFacGfPpkU3zSEuFUQ6D1yupONxfxpW1DwNQknxHLc6rnJh2IBZIqON5VcDOGjsCQEFk0IVLE7H/dpxnPsv8mMESO0bX5u9iJxyFobLUxDpZmZFdyDEKPOn9HZTWal//tkxP6ADr0BYewxC2m2Hqw9gYp1i7nooIHWZClzdza2M8hWONcURQ+IocbCn+Dt3Or+zCbsKUde34W48m54PDdZc7stKw6oAoEnGlOyBrA7DhFgAylpHB0mOISnz6mP5iUTdgSKA7nWaNtb4XLIvm0c6tmK9muoKxPwcbn/bdAfdbu36mpgywYwdKqT///+5cSFl3X4d5msNe5NtsUqmCnzvD/LKossjAtsFEtkgoNQ9iKmZlUQEpONKbiHcSffUWEjLQUmra3kPKr3n/gWAMa05E+BBbf43xBJSZJkHl8imOeL8JUyUmOOzd/f+fW1//tkxPoADSC3X+ekbKnGp6v89I1dVx/693chNmQrSrbzK//0M5DmDASII0s3H+775DeucY6ENkyKfhMpaX9edf/JMJ2xgoJyvWhmQpOahksDBISj9mgEbmvBg0lhGcP4QxcbhbWPiE9o8oiZCSDW/19VLlIs4NtZqNIrMS2t//ffvxv3bsx861ZYk4c4d01p8//ysjREZAC4j13mO/meW70MCJHvfrlgmJtTFSZOX2goUPwTokHJE1fQTOUopZaXvkioL3W3pV5Zw3wNMD+QERxjn0c1xoy4gOQLilmY7mCUFYWMaSx6IuQlvtI7ISHX//tkxPoADZz5YewYrSm3q6u88w31t//uQWQQEhMaGHDqMjnZnLT1qpjsHnOUWEx06RcpWiggypbxwCBBxBBbqjnzGLBLWihAo2UDlSRM2rfqEZQBGoCijRBKhZVfX60rEdY0uDTnBNMMINiczMupq1m67vkUIg/z8o+2goUDESUzn//7uxiQ0xyZkD08vPL/y7oS7mHBQJGir2TbdIrt22LVELJTEIbmht+JYobwlU6QDRU0HrRajLGK4b3J8lPS5cFwYrUdPyd5tVl8d9/LzDR2JxqEMnUysh8yMqKuqEI57rvdRFosLDQwxv//kQPu//tUxPoADWTtV+wYUemTHmo1kw45KgYw4Mi4us+paAAHDhYSumlNv+r3IAIs0JOJKeqS8KZ6KGykmAxlWxSgiLKWCTLsSWGqebpFeIwG0i8urTLxiUsABSNGCGCHxUNC+tXBklyM57Ur6Q52ZmUcSYABhQI0n///+lc0CExI3nfp///kp1OvKpqgMVFu9yb4VbNbGACjW1qXP5rxDXBVkYKxcChTI1CNB0n4RMBA6dUWz4YZDVoskHRY4MgmhY93//tkxOeADa0pW6ygsyGfpOt1hY3cvHw/GRK/I7oIh9BxCuzmbN1Uk23tHjEH2Dyt/fVDqIAihZBEqo7N/2s27kUTuHkygsiP6AEAgMwC6U79lUojTTsKBWMEQLoFAqbyB74MleiHblmYpokqNrzWZp/0PFCgSA0PR1rWiCjZbdKoxC/Z2nOpai6fXRysDlR9Lf9HKIMIscGym6iX6/++e/opyYQfG8JXdH2QO3TTm3sJpIUgJhEZgu4JX2R0AjXQIKtWwy0kAGmW+KyYkyeVNvWi9BCKFxouzavDW28D4DgOLz22IWwAwQwXPQPTCBx0//tkxOoADHjzX6wwq6GkpmtphI4UMZBfJHM4xL/7UKFRAap/9ThiTABhB3S7/66VTc5gYYwCiBR0CoLITueeUXIbj6FroCYAGgLtRU86XGH4ywE3qsjTyApgpCekFfalXhRcOzCJUICkURCOM2lYyHoejrVjYCsLR7P1YRFxNhFCOrFpbchD2mViPY8EcQYroy//zIZxUVBThz/sJkQMVFd/W4cge55k2PAJZSAASDWEZm3fJVEycMSDHoOAa4JCcHqhxmlMYch7paVxojSAhIPi9UNoTY6RP3tJTi2bS9fpcrCrHtq2tNUzardLKRMx//tkxPEAC/UhZai8o+moJyt1kqJ8uQagjJrx//zEOUQNUXFhxYo72tR////21WsOhMJdPKsF9aapn9j3XlOv3e0AAAXkRJ4ZfXRoFxw4alA4SbZGacUVkzRYUp38CwrG9NWQeHCEdF+Mso21u+/lFJEhY+o5iKvFe6i4LqG9NO5upuOLWUGH2WUcPVr//TVSCI8IjTCSl//0tNFZWMwoLB5EU2hl7UoGC9SxhssqADaS3re3dvDpACECsxgQTNC/TJEq1uLFzY487WIsyqRaMCcwQzDmaKq8ORU0ldm/KOEY8jbhp2tYcVpu3WuGmuln//tkxPmADaEzXayMU2GaHeu1lJWcj/mdXMZop1r+aZllKGFBRylQy/1p9ApUMGsoGxRIJrxQgF52f227e6hGYdigGEBhAju2CACni1lW0CgKaL9NstHBybGNgyw9bXnmHCzTxtf9q01QMB6Ran+/kONRP/oWfP8xMFKapqtUlGcKGJD48jBgGwUKngdONPTylqVHkaVakLuqAFrt/83+sABgAAGg3kDxoDCIGDJkTYFBo8qVKDB0Bzw7Neh9ip3+eagtQyfh7um2qogECYpCJH0CJTcLMiXZ/8zxuX/v41DCiZ3Lat/s1NgAG6Qzus91//tkxP0ADfknW609A6mxpes1pBY8rABgIFma7meIDJkk1EQpVOiTE0SQUBpCSlS0JNmXFnvYDFErOxjji72KTIaigIUS/6BtVY0h5Lxs819UIZs+3+1BOotfXLW85tuSABaGeIhvvrEAAQEJgVM59I5gcpkgaMhYElllnsnL6QpsuMUl8H6i1BSgyoJZmKAgAMNoS7tTCAzQoDu7RKjnDIYJiEcxwkBQUYuqLBICDm3VAOgABVWIhl91gCDZr6dm8w+ZOFQ8D3dLpoaN9AaiVE1jOFR+KUBMVJb5Z9Zy0gxP00XViYhbsRasMxkTsbcM//tUxPwADGUjVa0gT+mIl+k1ww3sGZJwzklZodrJw/I2zE1uH1cohqq1ACeWiJhtfZEgAKBjGkUNJhQHCpHiPJpDQJIARKVzy1v8YghCI8KwUHFEkIy3JNjDU5a22vedeaTl4TkgZJ0s+0HyE1sRzCE7iy457fPEJHTZkeP/hCndGLXs/vj/782AAKqzO0N99a2wqkDbwxwELBGpeyNa6mcjR8Q6uOrfCl5oruO1h37TKGWUimjxv/lKKSGFpv3L//tUxO6ACfS7P64waalIluc9x40d7c6/gFyOVBWvI1WCMA8fzA9jiBuLmYi2cKR/K5+wTCWqXn5IEA4ZfbXj2USQYpubZfbLaEJBEJYjsr2Xx/iSoBBh6cABWgA6058Agy0DCEyVEpJg4Ds4ICI6eGOemZhN76bxEuo0BptU2TPcru9pB60ABkapiX//1kchoRUAV4KgceD2Es0bOI3p1iQxzAsMMEJQ6KKrNVtVqgkSELBQ+4b/UlWs+sXuR2IO//tUxPMASmCJN+7oYeFFl+a9ww3dwsRsLSm9eVecQSIZq3VcjNI7F3/sxSsSSeIg7FVcvEh1QiNw1Wn5xUqoxIO2S0Tyu0ePRKkuRqCoJCw4IVC/GrL5+965yr2EQvJUIkB4ZkNcpKDji2MQQHAa0dGYoHJh4EpJT9ZzECi/dvDmTetij9m9z29J+7uMppxsotklDaQAKNId3aTepO60QSCaCSo0PEhLMcGyVJTnMjTeMVSpp7DfLMEpYGdZptp9//t0xPYAC/SxOe4kbaqcqWf9thrkHNZ3qUbSdCCquTfVLKKnWfxh4UHPdaTpLiD3mVf9k03v0cMYfxUMOCVKdu3yWaNlzdC41+GLu4u31/JF6gACUWd5ey/OSiIlSABmooHRmyRHp2+ZioJLA3OC0oSxQKzr/OcI3wyqBmqLDtIMCDgl2xB5xRbkImliiTzqujU2Ll+OsaUUOdUIR/PPyxCBVkC1F/t1Tv3s2jdGXU4byWJ/cQADQnaoiv+yXB+QuaPCdXMUdIojZHFHWmO21CA3UswneODYqh2snSfNs1N033537uSk4JTOMWisWOdRc+LnoeV1iG9R94/vKKgijwlb/51KrSmjhzHSf/IOdRKrSeBIPMaoz0rX1QAGY7ia//t0xPgAFzl5S+0w2umhDir9l5jley+u7B4BCbPmYakCs9cLkKKpulbnBJiIUCMNM4Ug7RTEbpprlKLtoIgmou3YlcKbg2Ml/8n1Mj/+eUbcRT3OeSozOeR4zHt//AymOHMSG0Vr9/20yZt3r85vT7Xv+gADFJqoiO+pyhwgIInjJgODTLhMWB1CCJXJBzqCRkcNEtVcZLtbdSM/ly1axHhDQclF594HCgAsEQVILdGOZUiI/mnTh0UTEz5ZybC9Yex5//zP7FoGFJJ1pvvHRYocWLjUVyIotQAERpiXiy+yTCGR0oDeqGQ7CbgwFGCMjAiEDgVHyDUHDALQVBjFsqdL5WjVxM7DLh46WXoEjCAoiQlrQr//8834ThAm6FeR//tkxOyADGDpVe0waumWHar9ow4lxQ1EBQTiniZ5cHJmrp0oKutFaZsVcLCAIhpcOrT8RlDZBgDONppKISweWGzqnedTJZkdKAjTtqCqxSnFkc/A6BCqKz2B4RIP5/xiFB+oq8mb4EOqtTp//fhXUEQFbSml4otti9///+gCA1uA2nr7H6Eaot/M8/2P9ck7tapgBmQ4h0jnbluXkTBhxDbDCtxG4uJBFL19q01mXcgk0gJ2Huwa0OhfEtc4ZPgS2SP044G2EnnTI6+NUKWObr/656aqOHjGiH+bdrvZzI/5pOuyDyQ6lThgohF3yXXg//tkxPWADGDhV+1gZamWHWp9t4y8R0zqrd21Inwe7BlfXfd7tXl18rqaB/697FPWpuyAxcJOBSn7TLGjWBkvaRfKobzk8mXV5Q5x9voEnG88tGTURV+8mSgYcMgVRByZRSUGKxEXdn+xglj7JVrjkLY3/aCYp5lMosog+c0vLIdH+qRdZetWlzrJ8J75908dxvymhUcwCZyJZViusU3SqMATPwZXSQBUIVPpxypN1bqVDJrUBwmVxqAC5mcFwp8OJAF9lGl1dRqCYU2mSIhOend8t5kSUmsZbnOMuTD8///+63JOq7EYOKeIn429rTf+//tUxP6AC7S5V+0kbWGWFup9tA4l5JqXiqK9yj+++lm6b6RSIANpmKliL8rSgjozMNWFDARliKfJamNRFQJ006p6SO9CH+nwUGCSNhn1pmSiVkcqd3sdJ6Qf80/C0Ndz5mRqaVk5EUZLDf+F0GGewcN3TJdf8hvt8X5+/7rb0Nf/+0ZjeCQgm7/duW121lwfEG0B4oHMpmJFQSzx4MAtKcMlUJJ0ulGLCiG4o2clmSYuTbr633JUvK4Tc16LYZre//tkxPIADlDvV+3lA6muHes1tIoVgcJQ9w17T0Ur/TXTK8Y9olDn/8fVdt15roMHO8/c6v3WI0aIdkQkaRgcga0JlAUqZxfhCQ76aECwtgkIceVwDE4kPEI68LvwohnSY3WnX04QWEelUgvLi6oeeW3qYpeaIcVb6F130kzd82ZODvtak/uvI3bVkkdRJfOR+1D8OpM/sH5/vdU1V6dVNDyqajfCGgGkwOwYIQc5msexoGFFXKgRZ/oeyNSnT94j9zlV6ncjsVLw6znhPk4higTBKC6F4DgPQTAcC5LfBUhuLCIXjdJWLWe5jIyGQe48//tkxPCADVD1We0YbumGE2l9ow3tBQjBpohtHxxzzZkoAHHckESF4JEBJohpV4Nx/Q46eoxjVEB4hn9SZy6pgebfuod0giJ2U8tgRnd3MQ8GQTTJs8p9PlrPKIfW5UM7PkY0Zl3+xmdjFDA8trTu0ZTuqow04k4pom2lSJEaMjYpoioIUqprabFEICjUPTNavQ2rNiWQwoIafhSw4bO7IIfAthKE4ZDUsm4zlIL2ckZIS9qRKM3RwVZLyNSsrslbNENgvhfT/MIvJlJ881aYZPzTL8hKjLGSkuYw08X9ItxIjFJIXY5TzW2aZwgxIsmr//tUxPgAC2BfT+w8xumQluc5gyHhxlCtVMtJuEZvfvwJAeeYhbNhjTK8MRY+WogLScqLe08tAEUbimqePvvZOJbHbTzEGyDdn76loMAFyerduodmAUk3QUJkSdL7lqGkVm9WSViYYt6tOtgd+V85Ir07K695NtsVmMPqkawBUA2iPTeQsMTu5zQVNdlaDJ6FKoyqCnGX2cbabLLpb0J7I1BKNro5oEGKf/6plN3hSLE9rxhscq8dk6+UJI5QiaKf//uUxO2AFb13Pcew3Irqr6l9h5p5T7Eyvq3/+npo2YInXapk135uszclkAAAKcAji1AphXQYoh5xivkWHISslkyqIUsF+hONCPaxem5wYzuXQGwFDxMOUbTsgZXXUjN0YQXjZIQ0ylJyK1ktbec2nnFBhELjkZ2lfJ14eeWZIOgMOxe5gS/C4cq4x5VGhH8JA+vNtpLX7s7aybql1rru/P/cqVABBUmbiQGTvT5QxLftiUtLpJ1tgbk7r5P/D8YnRRQK6SjaEUgT8NJImUNxB32AYmQYTf5iK4kcXsw/m8BT2Tc2Rs8qjQj/59pbCJwO7Jg+W5e6nUE7+3Nkm7rpy3+d9iG9zb9T+93zX5/f3bcIgCEnMH6mwaxegGIkoKsK4bYfhchYCqRbWPzCJUbHb2k8191uJMHXg0qX8Ny7CNULvOAaGP3mjm/Symm72Qj7qW+3pkfeo/BZq6ZfZnS7kmI6TUj2ydIDJATwMJd3kdc7eNF34zE/Yvqt/PumMAkF//t0xO6AEElhXewkc8nim6v89I35y4ATnCEwPgTUNEKsaIjCHk7JYQFVmLDOZuo2MUsB45LCia/ewGmAuDoEm0WndHZOvmVs4Tw0PqStWPuR7FmW5esIv1/tNo1jECwzcXeUXlORXwW3U0K99OSCEjJLfvEi7Hdnzvaf3XrNysl0AKBKvMCQEkFxFeMZLJl1U52Awpp0qe+RfANuEIkTWoGIvZau8yUOAx5AKvPP1MTSh91Qc0ddSl0PplG6TX+Wye3///Sw1IzY2PlP8y8mPWkVLhupNePOM2CCoA3Me6ZXdpnvMlmnQ9olJseZcxCbld3tCCAF2hAhcSMsCuigzJwtXFVeUxk2WoImYYVVL7tv9dEgUWRxtLU71xtN91q3//tkxPaADazdZ+wYbwmxoS289I2t56rdKJMYk8vPavVA3oqubeZeVu///9+zP7nFmxRYY+xpV5IDhpZpgK1ZRRgs+0Y3/SJAMRNsaly2B4WxyIHTjgicNIxzBGlsaY1PDWnIjTXJctw9hSkQlhLZ3K0LGkru/x3K1GosIuxxK5IzIGBBQoJjv89tct5OcP///tiG4YKQRweEcMF8ZGfP+d/+0i8v2MiORGhEOeOqACGFmFNW/9A8LYiuHriUAoBaM3tyKqpubXkMcgUQNKwob0dCVI+H/eUHCTab/7VaXJiz8Vknd9g3uhDByzU8ujMl//tkxPcADdDjY+egcwm0Jux9kw3l/lm/0w0opAtNT1cZQgFFDf//Z+JrIqggwE3szAAGs7ksr3/q3D4ACIDA5TImDHLXBD0sVTGgVWGC2vu6q5fjSqVk7gNZlsZ4FiNSPagwFGLzLLYo8PMMF0UhDnQynFziocU9vR1yrYvO5pW/7knGo7DilVQKtKFzJT6jOFa+M9N3ns3d//PyDTSmP8SoDgAGefpTWbe53hRodvgcuCEZHg1P0OB3TsBYBU5ROflOHipaWrkKVhe7k2ecg7TH5ogZGzq/n3OFIatNlRREUOVv9WRQQ6l7JdbqiL+i//tkxPaADQzrV+ywyIGbqGt9lI3lKlVNcCCBmLchtDa///flPGR7K0SAGrx9I7W/3y8UghlBqwGStkaDhMNSCuQAlMhxUHZM/7JqOe1fg1YSbtR/Cw1In4+EmAyM3+c44goZH0iJg+YJqJEK/+r3mUiLRDHcVV0/tY5RASEzsxFGGjtDpr///1Vr1Yji5ZYAB5j7MUs22c4g0w9SDyQLCpQJodkvI1HjBQ2lHQBJBiDOR4AiNqSEIMWrjjD6kVqUKmDDv/lXOCUqKbrdQFQhRIlH/6lKd5HUyghEOKPbf9CmIwHBCBGMS+7f//+7kYEV//tUxPwAC7z1WeyYTenHqOp9spp9lKjKLKLFAAEq5Zms3+jvDITCTUjASAUJgaXqep+Lsxbq0K6qgq2O8/sfe3t/VHI6MlRiAGRHj53ekos9QIHDaTSHtTBVB4SkXP/Pfpqupz5iMzl7WVGId2QVHqA5Q7HTGExCe61/+j+rnkoICowZCCYAF2SfI3l/1dwf0YniakhLVFFyICtTSY+3qh952jImrZeWtLjpBqZEmQoO7YQwkXFc7qsyVvpCSCFU//tkxOmADCVJUe2sTyGWqOp9sxZNlOFlt4YyhQgQh0H9x/69U0aaQlLaOPlrRrXibYPA4cTmFCYOjEIBuDoEwhD4JxAFgoZjmlKuam7+X98uFI5LLFi3Fz7CygASubYhNNvoFXSg2yJQU1iYCyliaWTIENqBzVy5HoYhGYdsK2sajguI+o1te2XyvFpNhSz1bvCmg51FOxctzCdr+aQOMYJOVtTnz/967duzemwLTABFM/e3+fu6fuMaDHh1LHnJ+Fw5u9u0P/////877N28tqHm5s+x9QAjVptzZu/MC59SpLWHLAOOp7bX5JGgNwgW//tkxPOADOVLUe2cT2GqqCp9tBZtAYU/TUIA67Yo70GhYbwSnn56FUQiIx/5mb9HrwMxaQzoSh0GiYwCkESKn+rpRlOKhZQGg7OT+xWVjGBggcMGihZUujpRHRbftb+tisZTDXYeSkMLFgAWZWuCIBekByRmhqRzgIRVyVK8gaDPo0sKt/J3xdWFbNFwt8SaDz59L5VResOz8P/fvGU08t9TWztwaae4sOED29G79WKYyDhgkJIf/RxYLCQfAMAg8HjDhRiPK6LcylZbf//zsOUaw8DyObUANYibljinyBlfYAXDVSPTJEHqNS5ecNpS//tkxPgAEAVDVe0lD2npKSr9p5l9TwoVFhBNaOJRtNFMIVk5MGjMhRlFj4+4uzPMVm61nlWoksyB9V/8/3/1DsYJKYdHP/8sshwHIgjAgFxaz1F0Td4unrtP//////iohqexzAsCx4AG8vWVJpb1hYSQG8MEKgtlJFiKeDIVRNGwdqw5WoXnZ3CT5Tm2rQ5WfZUCnHZ/jE1lr10MyMrchi3TgwawxSv97eyu5AkPcOKI/9ysRykQEd1Fx4uH6EYax7PZn+iL069CChHcPiJBIhhFIDmYrZoSp2gaH5ErFJC9iQRMd2g5MRVcyKEwbZfW//tkxOgADeFFW+0wr2myJ6q9lJX1UuxQ44Y28L/zLZN95aITv7/cLk9GMn3U9mbNzTLdf9ut5JTCwpYxW/zzDQ8HQ4PAYaQrh4oqVjOyPQv//pp7GRBEHySgBPNVlSRb8QMEyOVJugkChC6HUV/cYtE1aJTbeKgFVbLiyW1H/Kcc+bU3znFtl+Oqi2HbIhmKflMRCbt0a1XRoKR0c10/3dzmOHBCwxgjkeMHlE0Ia3+usiGTwECq1QEoy8qsNPesLigWkLAEZBWRwiD2HINxEjxck3DGHenBRyzUf+5QLYTM/tR0blo1mh/OOlqMii3B//tkxOeADW1BWeyxCqmpqWs9kxYshshSex07UuRDM7oyv/+z5VYoWcgmMqKnqi/VH67oiHMwQh2Y6lMQUQG8zl1aNzVBUHYEPEkN8HeJ+EDR4ojRJY8VxkEpa1mRjoq307e+5oCcYWr6GMHMKPmq0QJKGt2c1jNGDAl65Ed9KW0osjOgbaz/3quFcEAwgJx3Y5Lod0uy79v23ajYtCQRxkAXqpqYFqawzhnYCQv4MOiM7AcaB0BS26Vmr0wXZBgwlCxBmDiv0Y9Bw/efkhEGl0dki091t3AmNhlaXZdjEZHMpyCSqBC01/+d3Q6hBQfE//tkxOoADE0/VewYr6l3neo9hImsQR7hHefvv+m7fWhFIdTOKBjkxagc3m9mtPvYJwTAFuLYgAri7CAkrFqmJQukNOhPpRWK5ZbZGEFL4djAKFSHtSzQaGAMCEcQa55wdtY+Zi9dJlbndZu7lk9L5zLcPJKMKvu//5BYtyCHcrmUI5WQc1D1/1ttW07FiVkK4GaYASA83szbee+oLB8AClmyOKKS6S6AyVB5prKVdgqTx9WFkTmFp4pcrHMsvmCEaLX5sXIQyhAUJJSXro1ELa/p3VCCMRFmO7K49BRiUNzMiKYUIMW5n/6XEYmEgcws//tUxPcAC/VLU+eYTaGNpyn88Yp1cYgmzFdi2ev/69URLHedxVhEWiRR7D2EEjt7bx+77A+IQEyPMCaA0DOAMCWBkhNF8PZGoxcng8cDNjM8kw+IIJpCfggwnImI6l8zXUtBTsijPJm6bNa6U8t2eyrqZNS2QW7orQOlIdiY5zIuF93b/1zizFE1L7nEmIJfPPDI8WHO92tRlAq8YbHhNQAHAKqYmgAAYYnLiCCSSADOUgMtGM3GhThJVNqPsyuj//tkxOsADGVDS+wgTcmuqSr89Ao8jQwuTpKw7YAwLsEABFgwDQkAgqz+HU6XhFQsAAyAojqssNfGAwHHuU1tQQ3AUSsGumTM7aqpYy5y6SgYDMNDnutCXkqs29t8YIpn3i8pj8pprT+vywBynhU0adHakrn4xF6Pu5525iYta3TOAxdsca5807qcafyVkTp+U0KZC7CqbH5b9LPpkOPFq/aarT5/3//tuzvnM///iWON3D////eWeeH//9/9528zHiUVFQAXrczaNOakPe+IuJNiO5MSZQrjKwzDLDKuuBIniwqGgHyFVh8/Lx8SH5jq//tkxPEADmlLVewwq+HNHat+ntAEc9aTSUDtqWsw/LP+u1oXmp7c3PVDJlKfqr3SjClNb3///VJmp4dZeO9AmEl6RmdRZ7K7/4//98/x31dHZXl56oVNFGhiGhH1qY2pAAbezsokt4gaLhBQNFlWEaIqEx9eOkAS2412Am/bJM1pyIt5bEWP70aE9nvnfT6nLLnr6ZURp0lDRFBh1P1qQx5Mt3OLFFVDg8e1v/mGxAVHjIoHAHOKI1K0///19WQzSKcSPAVQAF67y6VXeoHamKmhMsQQkTN5ErF5hkJq+M9Wb6ak+ZqARQ0ioUmhCCK9//uUxOsAGeFPP/nMAAHbKKt/sLAELbHH0Ux1mxtZEM9Q0mlLMRELEVL7KOa0dFY5RziQ0p7/+eURQDMJsMKKKLpR1///X1a8ppioLC3xVj36AAWsy6lHN4g4HSLEMvAKFYcA0SeUZYGxpPqCIachp0ERqcvWpSOADimphUFLbAwlDWBtTthrGMrzQ3KJ0d2JdkOxna1JmLZ6P+aWkPEDwRHDHcVHCIkFUgEjQzdtI0DDAXGD0gAteVTqlvrYTCYhluocsDFzSgLfxKJvFTL/b9Ou0zaffukgY0aBs9ORiQnSXNlEUGfG8StOk0WXN4R6Y46kxTbXbm6l7MUubcPpMmWf564aguahoEoMV3t6n6U/69jI3eBgk/TQagBZrdupjf6MuCGQEbI9gqGQiYMqBM5mjaSNQCWvQ8cDdnqGzHWkqlJHdKoplHDarPUODq59vOuVHM11RyVuyK55XdXWcmqkT/2udDM8GwSUi0Y0Rz9kdJvUIiQVuGgBxnVbw03p//tUxP2ADLE/XeyksSmaJ2t9lBX9QJbARHtD4qXxMAgdS14WIq1QhhvIRBcnjlu79S5y/V3kJQf/uPeTKgEBBgJTBHAZNf9vs+3a28RERGf92+H5ZNN9uLyTzzwt7u2/zu+nhtPWLW4iGyohG4GWYMcOLA3Qi+9N9zT3K130JNETjklgieyaPlKYL6H1Apz7u6qL/6wnqEkvB0rPzSFfRYFBp6VNJ1oaQcA8fB5goqJ4rODbDRHYXnN/RlwQJDeH//tkxO0ADHztUe2MsWGXG2i9sw3tViE4RD8/Oz7EiylCfJ+eOHhmmSoCEiM1olp0aksPnr5TEslk9W4pM152W4LiRBAVFImRZTXbuX1478zYg0zV2urgprNujlfU8Y2jbR4sJnp15PXr2omIJo2wnWIa9I3Z9/YbUm+KfWo+OlzqSylo5gmtlELcvliz49mYLn/2Xbxrq0CZsgLB2bWQOOIgmegwNY6IZ3j+ako2pe8S8Vg15YbnBziJh5FfrA+0hhSDGlkcCdWs48l2mTtKMv06BG4weUSMn+P80ugK5bjeRHLb7TDxybCEOAdlZAqs//tkxPWAC7TrS+0YUOH7Lyk9ow59Wd94GbwnJ2TENeSygV2ySjMXTOGiisr4aNO29s/X0frOwU7aT1Mdihp1b29/W/rL971vSKyzaZZRuL21b6DyP26/R9URnvvJmV0jIALxKhSK9wo3URJERIHIAWWcwe/c3JL1nGcuVc7O8+2Nz30fKeUxpg8shmfxt28nykWMWpm3C7VnkuvOV6mXpnUedyrDM5xTlrWbh+Ph0oS2fhlS7YwWXQo7dcKKIRGi0lUiMubUvyr8zL9cz36ZHcm9+5ySwm1a9OuDUII39zcuY9Ei7vSfVH1CufIkP0u9//uExPSAFbWBU+yli6KOsCs9l7E0ogJmRRZJjhVRnJsrp6W5qOZy4JH/sDTQIQADIpahMUijEv0iHlIivaxtdoYejVqf2LSoMo3l/5eimBHaVGBl/z1LL4X3/y2KyGSmCnCGgY3M8KJV0YDQwqGnpQFe3cy3RKMASasVBlnpKQEd0RlTLUUhCeyV8RYJBjK5fEMDxHGFI6pGgMx+nKDwmmTsqpumiFjAAtH/JIcCxO69819q2Z3prVPLl1+lcjI0piUJDEDg6+czKGKN9KI/9f7sYs5R7nfipfRt2Wae+ikmcDvb25ly3UQ72nmkcHkSERotTBgU83RSzQNHoCzS6DaLDqKXFsGGjRbcm3vJiCVNf222J+iez0VBYzbrYdn0VFCKhFTWw4CQHSY/L//4amHqiENxYdPe/8uHdc+j3HeKc2piLFWfRZrSXv/ar1sV//t0xOkAEFl9WewkeQm8Kay9hg0wMArbvahQHURb4BC7j3l2gI6UIGqbLFUxh1oubVcC4KWidRilbO6HkcBz3zukhTTi8/V4Ppr9rHSesz3z/caPmNCuYo+lOMUfxf///1A0ORV7gP2IHhGwjhB1GuuSKqdd+lUu7S5FWjPxfy36d9lb8yMAipnIUwTSBN4sWETHklwBOJkBIpgjX0SyoDiQTTTBFoF44WnWceD4F6RWhgRymXmUdSVKupZypVzP/RnnqarTbHMsij//3PEInHgcg+Jx8JhuNHMRK1SzU2rX+u6mOVgrJVqdy+sU99bnO/mlUAWJmYUgVUBL1zGIBG+HrtMPHFgKDTa+tSgbPSPi2aYd5K8FHUegp1BdUMdb//tkxPWADiEFX+wkbwm6Hax9lg09A+YUVPYqknKSpk+tGhY4q03/diCHMcqmOVMdjipt3/9cYHhANB8HoyNRoI46MHtNsyGOqWfpv9dlPUy7K55iEWtrFaBXi9e6cdbigBRESrAEqgHutUyUgnNoZndjzagEvVgYq+6yTMLygyOnQSXEBCX2bmD8WzDo1u6MerMPadPitleZONkWaZ/Tc+qpY+lWMOu//55qDwnGwTC4oTHRaPGDc9v/Su16010V0Iqo8qmGmoeRaZ+zn98qw240QgQvv5STaUJfcRdKqTdgpsl0jpUZix90BVxp+iBd//tkxPMADhDvYewlDSm0Jqv9lh0V3SXQeI4Q1WUySiQ4PyKeymOPkEGHXZGYev/+1Hers5Q4pOHUJHP/9jhUOFBMMlFcbFyA+qE2VsDghY1zNNqFDxMFVGWICqZByCqx8JsADKQyiYl7YV6mwlSGsyE0yVmEoDVjDFRagBvZlsUbC7i9iMSd8CAXXlBWaWrsEFyn05nKrmJQfkhIwsILjz//7m0DGG2SLDDCiaNn///34wVBIRRzDC40VvOo+LjsMljCSwND8adNvPbxARvZADBmeTFU77UL8SRQ0VNtPaHGEyFaubbWmxyGGY1AkPOC//tkxPGADvVFXe0k7SnMKSu9lh11iQo42YTeVGoJCpgSLyXKseJjRbDfOsZrc9PpfnDLi5l1SWpjnl//aQWwfEDuwYLCX/qjmHah3Xyqa9bBTcBMVzEKaBX/B4Ykqh7CWo2ROdFujLlslbRmLTpW53X7tzlK2CAtPDHK1/2j2Wa2IMfoMFptfXnXt3hW42M7u23d1cZacNLs+U+Vmxmf//QjOLWAEBC6v5UBhagRqSI3se5SKDd3siU/ylEdLDBriogEyEYOCZSJTPCcqwyXNDVptTZmIw7QfhMyvY0tO6kcWpkeHIdKmKyiHys42Jpc//tkxOmADTT1X6yw6SG1HWu9lI2s852lKJeYm6e2nft4bXNXxtb7nW2r66addc////SY+ksjkstIcPYHg8A0QiryhiNOmZ4/9jLfcvhdoHMvNVayAgnAiA96A/HRUIPfIQljpOGhWuxUErZtF3G3AWEEav1VV4dbDJ5lb4UsRZhZgBtfrmbSKLW77VGkJLW2Zv52mnOdjnbdLJWv//KHoTkooNC/EUF+GYriWheSPb/+ynURTyZpoYIYfTIVJph+VCA6QACVAIMnoC8yiGUxLBExbhD1T9Jh8UhZfLkMzMB/S5NQNCB8HxxLTmnHpH04//tkxOuAC8zpW+wYbuGFHes9gwo8fKj0OItS6knd2HiZpF/6NvPdDCzu3mMr0HEU3/9VKnFgRBcDQejAPEG55AExb8jBocXES61L0n2H+vkwO8AIJUIgS+gLYEJyP0XJjMLQBLzVNKGi6fvsWuQBhTey4iDSAqpKRNKOgypbvLuGUNk51I2QapHydaIVxZC2dHRVQ8cdkKUn/6FiRCqAodgg0YKH3flaRQVPgMgr5An/ShSKABIdChVvwM/ksR6zP08npTgjJMCVtSzgL3MuxHOl9ruAFz8O21HKK7L4Zu+vB4W4fx891Qdgr+c8vNj1//tkxPkAD1ElWay9Z+G9JWs1kypk3ed+G9hjwWCV////9jeDKscgyt/w0WNBpgmWcDiCVMk76gICFA0C74C/UIYUIknw5ZdgPEwA0UmWChHUQvCFdp2TadPbixsbE2Mwx45K1HMDKjDuPVg4wmQQFnvYi2MxBdFN+0iowgjEb/9ZhjmBBxAUXcVcuj+4wt5cJiqXMvgcCkpC8lXXBYIiGZUnpM+irS8BYJTUFChQlQQ9SC9bDTXY/tJRcUlTStOmqFSSOHXGzRNkrExxgYLaVpVdFcROXo2ujCtkmnomRiDYkKsv/6qhRJhgwRGgw957//tkxPGADUj1W6yk8SGFHmu1g5Yk+SOuaAzh42eEI1gKuGh2K9aEAAlkuwNT1CCqOw0sSUalgWASLKLyZyjTSWfNTbvOowiNEqgElBddlFQqAxzWiiFmOHXBTK5fnYaxTejFZjujsqObv1I5xUXFWZW/+jlD0SAUchih1en/+jJGWc5RFQ07XGkAlIjSSz+tUQWFr6G4IPrpRPVCpUyZgT/JTNs12lBSaxoWYWZaa/KOpVRqJ1UVFhgfSVbX+zKMlSDzO8pdysQqb9KlRUcpXX//OQ4YKhQJmWlv/93KWCYm58w16I7IABnVEmVz39co//tUxPkAC8DxX6wYcSGTnmu1l5S0a8d2JGDmAGi31IpylxVBgADu4utmSfTvNOr0tPKYqRlAT3diThSFsd/+2m4JJVv7U+9++kdakURYIjxe+6OCgGaIhz/UgJAUSjQ0OWCv7BZ7AMueDIqs8JkqAAiVeJp7t/6AAqBDEEENOggwiCR4AOcX2Xk/ha6RqxS9k0F1JLOyFSHNyZt5gKme2odKeGAiY7S+9LaKq1Ie5FkpkqzhTv+uFEoOpp1mceoT//tkxO0ADMTtXay8paGGpWs1pJWVBwAbQrxEN/9aAAWBAY16wMHGizjwIvSzBIkvoyxheQBQkFeGbJphptpWteo9sXqOXcZ+/rK8keQ+1Ged+bfjBrymMVCTeL3+II4A1QA1doiYb72xABIE5d2G6Aw1kU2JgNrCXZbhvFkz68JE/0gaDzYhpBNbcXLYwJf3pOsqUSEaIlNDpIpdajFg+ava0Ku6IZLbKrB9wAj3FVMP//9AAFgMwfbNABzAx0DBK+FKU+k7lXJ6SoBK1AYNkfv2b9uX6ZRGO14Tt+YI6QIkr1yJhDTtuVIGVhb2u5mS//tUxPaAC7kjU60gTamKkGj9nZg8ndctcIQZtoJToMKGKgAneHaYX7extBuZmUGaaBmECBMBuSDguCmbF6wSAuG4041xw3dDsyHQrlomNavYPIjccxHeO3hLHdcoHMttneEfF7x4woO15qJbYdkt4sdCoJ0gYAFcDCHT0zLPTJrIRB5yEJ8HJmAgwHSW3aDEJJn8EUYEHpYYhEnk9zU9qInfdlIfP45UKYKiMgHzjAif/QAFZprfU0gAFYjKGofg//tUxOuACkS/Qe4YbukoDmc9zSQljAFgx4CAAMEAgcAF7CQAEZGRB4jFWHFt3JY+lenaRFq008FtypWkugmGuRCbaORghFOU8GGAoRkjIHmeNUK80hmKuO7rvyia+V6eSJtRlsxDGVuamZfE1QIcnD9YPq0e0o4FgexLULTKo9HYA5+IBcsVyk+J5bA8DQ1Q01yQ2rTFweRDJQjr3lL54WCuf3YOTPyQYL0FWPDDa1+A9zV1E9llXnI1Z46d2u4Y//tUxPKACUx/N+2kbOFDF2e9tg1kHxIO7xx3fdrViU9rY5brwV9it7OL2jzfvNbMYI+o/7wABkWWZV8kSBKrDDgI5iIoDnjZDjCCUIrwRkQULQpNCBMMVAoEW0imFWG6Xy2VTVbis8GILqTFpL8SI+UxVcrz1Qti0+WaOT2s7+pAlRA01k79Fvs5UdvlzLlSRyrmtY2w3O9eZjv87as+0JXboYOXdPbPcqGLK6h/OkNU+rsOS3Iep531f63phAVd//uUxPoAEg0lO+2wzeNisCa1vLG9DiKiT/x7eyOkBIZKIUMuAeACmikRg1gHGb27TwlZeQ3MvSIjHY1rh0QlZqDCGBoFFgVByFoZkR0tVJlJvnTMvv+gzmH0lXb/9ouuaQ6oxFmRNe/FcMKpKD2ovCc0WeyweoatTpNsXufVAAouv0E8blGi94nXC4Q7KcusBhMjSTeot6+YEBW3Jb+U5yfIXkxTFZTJDh1HxX87niEhGvaUQZZy4uenP0R0NViNI0xzmS8jEI7L+rsVmCGiGIs+3/uZp5LERoNj4LzEWnSUf9T+0dtkg7SdZAqmdOD1hF1OmoncOpNMW02mI5mGm0mmnurowuD+e1ePePIJ4JIWOk95VJI3QyJk2P/mSU3LrNXZr5hpRA8hUv//4SVgYsjECRS069gEKAs4BjhwxC9W70VRVaoAAFAkWGM+zctfYRJTYBmCguix0MYypBNG1pFAhsS/LrU+3s1yXTV5Wzmf1NtoLyySORQGisBeh2ZB//tkxPsAEQjrSe08zamroWs9lI2UtIJaTmXtUOH6+m12IcErAPcimUXBuGYCEII/9klKIEmMOFMHP9AQCgGKAceSza/68UU1KFAAICl4YT6qXdUYYwIyLKDYjY0YkY9jd8YLQJNigGqlNK2v0Hpwuv4/MU3mk7OfA/PaXGQGjuoN4HENyy+LUrmGuz/5GZrfSimFh7uyFNf+ScpwrnCFYU5Lf/93ZxJFuDL2M9hjLTue9RUWwnp+/AAKRN8hpnLvNkCQGhbiFFHxEEb9qsZqz9fuTV7hMBSWHiOfheF4buk322p9/zBgaChaVZlqSxkr//tkxO6CDFUnU60gT6GSHaq1lY20K/+5yqcz09EMY48geFByszr/1IokUEOxA6Rj2//d8y7C1JdDjrX5Hfr2vwboYMV5aTQAEDFzKs0k3iIyYBx25GQa5AAojSdj9tlhLd32m2P8rsAhIYqn/fnd1Ollv+9axWOgdBLKj4zRiDSyfvXQqn0oR1EBdBIHGC7Tdf0RbKgeiYTi5v/JDnh4HQfVFBu6KNTF2IBBo0WPD4AIWLqQ64ne00wZcTDNuJPoPMmZbMIelihWjNSqRK3sFyxOLE6knj54tHsMHKP7QWLjhBrx4gooUeHRW//XZXnK//tkxPgADcDtVe0sT6G8JOs9pgntzlUQcPhwCHFxNx7N/+iFIKHEhCST9i2GAaJCtx5u/ZVCgSMiobWKjDwqABfary5tHf9EsQcZJdBxo5dSnU1jAFQTDk9HgktBX5Vkv9B+vS8nrWnHGBtZhyhY8c9mq0Xd0QNqkb++oivlXKfqF4lncqyLhmmf//5pmcQyBpwinwk6XKa/Xz009VLX9jGnVjYnGg0W0D62oSK1AAFVZkii9vp+L4iyqFI0IK6qYsUV1dZk2wVZBYNdEkGmnNR2mp+/tWqyRPrf9wxUgYCUlVtmPIlzfHp/KRoOTqzb//tkxPcADT0hW6ysr2mgnWt1lJXsrVVpw/88vMjI8mzahjonEspLs35GRk2FGiIq8lLa4bACWJl2mfd/7gJYFpooq2oivQhdNpqxNS2UBklGJWH5cytdW2XQGzBSyKgNC32KrdFRWAtF2rlWH2eLiBcV8LnMqH/b/JogoKjYabfR2+v/qgI3upiob661gATgAyGWEZCMlUcILU1gFk5BclUnTpq+WqGgR2TKUoVRwERc40sEhd/Lg7WA7FBUnR3nGyu9+Ju+uez/ft/H9LYhjescrZABIYeNAw04OQFKUrSCEN6wpJ9dowskcSOhrJ2f//tkxPuADVznWa08p2G6JOt1hiEsDGnHt4qqo+WqjdlLTJNqgMiHxYa59xC9OC9bq6Rf/eXjGX+duq67XI1zqAFSgrClDEIAhWBfCMAuIhPAYyJcpj8d3QrjUgTJ2eYQCECBBBA5emQfRC/RDGm4c4LcHWVCen7ZiD2x6eRL1tu6jwPD6IWEBlF20T1EChi5b5ladDSnJi1ty/9aj75QpdXlnj726Sg3wQwkoHIDOFBCPDB5kCKS44JHiKTgUCAZY6ZeYVGkABCh9FcmTJjSMgFmfUjyNlQAAPDREQHrxJhlsxFg9KcsvYlSYRhAwsQH//tUxPwADDEXV+wka6E/iOk9hg1dEUcOSlioWGdZftMgMAhgAGAQYcNRwuwsG37zxR/rheQFLQ7GICVhgIZAPyremOpFMN2FiTDqP82pd9DRiKr4Q/5atv18MVLiPk4cGWKefib9u21ujrxBhixHYbMsSKSiENzfNrB6qIQGC+R08ZUK47ryuuEipUJCih2/Q4L5PafP7nghlsnmY4OiG64XwDk83HMjuMHhUzuPw+49pwhIwHv/CoAiU2h2OSS2//tExPiACPhdO+eYbmkfDyT1h5hJNkWBzN5UOMyYLBUAUCQyIgwDKDEHFLTCACARKXeCxUTFphAii8RB5gA6Cg8y0MNKHjGRE0EFaqvVaytS3JaJASW7EDAgRWMyUwcIjgz0zRyBNj4GGBQjXV7O5JAKDE2vNzLuDoAcmIQzFKOBBCWDB1pMUcEbbJnAJSAmjeNBJoXuFqRMFSpo4FNEIIjCGg3rQ7mE//uExPoADHinJYwwxwPTKWZ9rDJ5m37KhZdYMVCUUM8MKmqvXOrEuQdHdUOHaa10xgkeC9gIIVgTPTTKgBCSijEX5S4TpT6MENrsBrmcBS2mUfXE6jSUv12uesiLy5ukmZXCo638uop1qkhgZuFpc7pwewx7HHlEaa8/8Gw3Owy+sDy+w7MNKSJHqTJFY+Mac5QHgpGNDVSjo7Kn4buhCR2Z0FGklsxZJODOyYIGBJYiPCjjbqap1uOukK0hdDM7Wt1PXlt+O10GL2aLGzM6I+5boXHudmnExSc5OT+1byOkTrbz3z3DjCaASyX1GqwinBqS0UfPite58gdIplRRINWkSRMFn8tURDTQWBI8gw9nkSpKLhpxeqMzmYhjQVxxW8QGzjQDggwowEoiXg0ArJWsbZJLHEqNMgEILRGOUsKAiLS73PSi4ih+o7F95fzM//uUxOsAJImJNe3k18HlHWm5thlw6KWu/mkXHL3Nf912mLlvWzWSaXjImf/+I1Wrm2g0eHRU1W+aYCKDYTQTZQ8mVIh0S0po/XjzCCBDmZljQybQK/Y4QraKYS/EISaGT2szaDbc2POaWFiCK5n4kh0Iwknqdl5WBEfKVUEfV2SMgaq8uV7UPPRrlLu2qJUfBsCK50VF3FzEf//+9MTIfKSUOk0WAYYCylq7mFiw8WWVSHkKQ84j1KexsjUABbqpdkEv8L46h4hcQadRMtCG69qHtK0VeD7pDq9hjzvMsFVxVd7f3NVJaT2Tkww6RDPt7gmMUrDOCFuRfnREpGm4MmNbcv///+Zh2RED6BkzRhjjbG7/HnevtnYH2Nt8gCKZV27o7PYlhWHIKXGNBXBW1JulrImJ42H5KI5gdw7liPtyhNMmIO5dtu4KWKv11fdZvjVPJfKpp3xrXaDJ7ef/uxT6QQUMWfjptPlqz////Gv1aayCAe0cRA6nIWob0oTc//t0xNGADeD7Ve0lDIG9nat9hKGk+94qJhCqAAHZy4dC7kwt6Ah4p4hmRBbI52nnLPYsrgVg9568K8iIWcXYZEYSUqU8oxwcD5T6rri1NMa+5WVY02SEu5/dsywbIGRWZgZghf/rBI6lDxIIMnhcMHzFw9J8+lw8GjSiR4QKt60NFHCp9AATZV1CGZGSDNOiQyYqgLLV5KSk8Pl6WjvJAbtO4Gjjy6MzCkC5Zqpvd1ZIZMTJK0p0Smq+L+j5gyIQ2x69r1vJ8xMvddLwTBcxVem/BkSpZJwgkMaHRauH5fCS431Iku6vynd72lf62QocZjtym62qVnjVqMiczOIACIUnr/vLlHVqDBeuhSZfkBKddMVBn1qyRhr6s2ejwvEx//tkxOeADCzvX+wwa6mfHau9h5k8Jkiz6jUTWP78oqCcbEzBcNFPlVU/xppTTbue/xHEV2E5YoOiiOTCziyLBYOj+fipOcc2IblulSRJlGO9Qw4UiWunvSiJTf00THS8n/1CQlY+T1SO1ej+Jdz4qyCxsL29mazu5USC6RCT0S6aagGC6lmBlGHMAUuYzFoHeF3oHpNalEYhD8YBVhQ8Wh4RyD6vSQ/3pEIU/45jiukodSSRHO0ES6zOyQZfamCEHBQ1leFckg1J+mjtUFZUuwOAOcJ8mKs7j9N5fqEmWxm9psWJddAYdVBAtCeBs8XV//tkxPAADUTtW+wgT6HvLar9hKGNlvq3Z2RGAABAYqVKdloNWX2RZbLLUIoHZ7E5PJwVBooVQPKCALhGxFGJWkkmBXZYUbcVfW8/DolmjSKdc4yilZqE4Nr6WFLBMzFw6fxaATDQbBI6CesmHLRIEz0AXKDxGKyBGhTQkSKbBJhKRoD6bLsbK02fTYhiOnyhlZs/VT3vk6D8YuFbsIbP+mECgaPpSMChvdajN///cp48jAABKIDmJyW0rR6xOQh2QJwT8YzaW5YR8KC3v4L/Vaz2k1LTMkzJABrs2anJIdNJDJ6s26VJ+FOW0p871/WF//t0xOqAD419X+wlDOnzq6u9hA5xtKfsLMfTg5VaXwQ+iaIDfgQuEQ79lOMj1mUG5HcwGnHjOckmPJLfPLZb8+6/v/g7au/b37uHeyogAoHCCqzYhHiSIJF8NjdkvAzzTdpY90ilESr3ZfOTX7m12d8r0TTbM+pYUxrnPmnvjZX1vD/UOQXeUqfFaxPD6t9gnHOdGWQEt92GQeCmVbQYagOFPVKyMEOHn7TPyM6kLPfHgqSCiSF7ZN9pJSk5v5e3TNGiAAABJwNEE8FsFQLMXYQwcBfxJBrlApEskl05OiNLE6ceTO0jdzR41N8bvET8rMbv9hqf7/0yyNaQNpnJnkgNOGKT9Vbtbg0VO7g0wra6zCsFV2rEmGiVk2gJ0l0K//t0xPMAErldU8whLcHWoSz88ZrdKj61KtlpXJ0Z+62Vesn5Qn1KKnQ4Whq9NraSKx7zNe787LyHn5kAAAR4I6XEFMPQQAYMhWl5KhDjfMp+fhvv6tj4lGmEYCmGoms4cFILaCYqinrXa4yL+tyHZ8hU0RCIweeYskggnRWWonCEpJorgsJOCeS5OiImTGohKGmTRVoVmwKXp48jFE0okRGhe9KKmtMutVe/pE6NJTWl2oIGjCgzzh3sq5McP0eM3u/+5dy8asAABR4aEh62xRJMMtOj++quG/etmc/dERdVdwX0jEG6uVtGmkQJp//KI5WdpPdf3vvzs3Z1nV6M3TWY/SBTW8+G2npdg5og6DTDMm2h5QJwme7wSnT0ATpO//t0xPKADs05YewYc8IIJeu88yX4yB/rG93x5LmgPkl8aoySf2nk0H3k4vzszb2HaREAAEvIjCieqRYoUKgndxKp2m3bu/rD4YbaDHcrwqUjgAQyCdYta+glMFBQI7LkcKWctp63imJQqW93mhfmTTMXUskUZZ9aC4h4tjVGEmq9RIloGxpsNSkSNDZuqnh57/1Ug7r8W/39HL4+p/7Q9n5t3cu9rIADYiIUVUATpL/hQCzF3vGnquuhfaBHUeV2HJjtJEgJC8jl1L70SB+TTpWcaKUtGKPntSlQM8DcAxkMy8jCwwkUx9SjLrSeo120OM5hQrjYx3/iSp/33SBo51YsiFAiNFcN0w/3YLf5ryPCdcrau6l4mWJEKRyEOAWQ//tkxPuAEZU1Y+eZMenUHaw9hJmJUQUHCHrdWOhGyZ1JWANCQjwaFzZdZNVLtW/U/4YtQzQOQl/1QfW/qrUisBkGYBI9SVb/iv9IrdEjplPrcTFJVXUsayotMhNv97G8KqIvwGRf//Z6p/PJuinLMhozjQJcqvDLyzrxxIeYtWAmbG1Jy9N2Jsji845GohXB9USjDpQLQt/8SgFbXeTuiiGZmyKTpkqMVXY6V1433+ku1TSrNr8n8qKgakarAKS0Jokurznk+b3aYSmmy3l7B3Qa40U/9//4qoCtkSYWk2nensYaGAJzskxkOtiFKAtZ//t0xOgADoT3YewM0UnJHCx9gw4ZEOMWAbmj686+EWPbD2SyO4M+zibj/Ho5yY0ELqXC7UtlOLtIrZGSx9Rys/zx68zEy0VHF0/K/z//UuXBQeDwoSVYjuU5cf/9dLT/1yQclne63zfhhVEq68849/EHGAqkraWnqDfKyAw3EXYFHGXCsJdpMMSNli5MmESGSsGznKaIIsjzNfvvfHJSDfc6D6xmwNmM9xaJB1d/t/RCEIcqufWZFWRv/sowri5DCgbclv//iThAXCZqxv8mXvchY4MCMMD6oALAVoAEgN6YIKPh697h4k0AdQjwibT7hhqVhRyTVWKcmuTBIbDzDdpY1kBa7R00YyCtd4bX3/tcIxmKDVHVq1KUp//0OCOU//tkxPoADKSnZewkawmwHar9ow3hSgU5wyqR///OxjKVWc2V3p3/1t0IrEHV0YSyGVY6ACATzIItBnZUFnTkmayCE4bJIytI3BOJBXZxpGomCE0a510lIcmRGroWkLoD0qyCssw5D0pUfT//uUUFTMiOp0d2YUHSf93OR4kkMDolFT1//9XR5VW9f//zTWd3mOIkcgvD+S4+IAIBkiIMYD8RFEj+lawQHQ8VHSLC2gbKFDMmxLguLj6QJCAOlkClXj6xGoSnjWQfEqjo+tKijH//uruSYc9N1pqeye0+KGCAKGh8JOFTsjf//tWv6f/6//tkxP6ADojxUa0ZEMmVIyu1kxYsTHZ7GI6nUeMEzmRkEWGKYAKDkqASYM8CjwYNftSTDkJINKEK5DfUxY3RsES1i2VXTpcBkXh9ldU41odrVpKtHRSzDMRlf//WiOc/+iM3v6EcSEEAcYHhMUECDzhr/YljKv9jYMAmFhGRWG2LHSCERJrCTEFfEhhZ69ES8MvLByJLoNEyYDt8ITBCYNib7JAYpSIrq8terRdMlWQ2bQih9KZKn/9qsjf9bo/e/z+4cp2HHmwUlhzmFBxa/y4B4o4b7rthAYA2AuBwWDIFQQaQv/Ruge8rCzB8IuIF//tUxP8ADLV/Wa0UUWGYrqs1l5TtUMSqS0GJIW1GfeDwxsM5PLrhtdA0QvWYkHdYrQ24vXGfe9IdAVxfJHkG6c/ffPFPJVzfP1zrN2OT/+4jyoHoHAvDGjSzpKtGmP5//ae1paW2mv774mObv65vR4qy5ikRjIoFxzUQAFEAOG7CRClRNMNGjsy0ukBBeaAALPrJZz1pN6VwmA2bZyulet1aF5ZQvXCRfNBgwVgwiCOICyAZx/VoSdBymiTo1f/v//tkxO6ADMF9WaycrqF3nat1p5TkY0dJ/rl1WxucP06OD0piFkQH8JGHeDtAjPAUku36gqLCR4SDosbBFyLGnBRYABMZEtN8XGDYvoKsZ2qgXrMTKJAIxJzi/qLU5Oo52uhovqp6pqBZF9NUaRl2VN2NNQprqyCP5GKaJm2ZvxONDFeHVGsxL/71NOOWQre9iHElsh6OrMZBhgGHCQDIOHC5mt//9rbe90VXWgAEZ2Vtf0vsHhpwAJT1DAOAQISzKCJWmnW9NLp527ICDUow0KotzCFgiyfaSVFylMT+NEM1Yxn1+P/1OjEvDp7Zc5d///tkxPoAC+DvXawc0eHOLCu1liFlsVLn//9NGsnTuXnJG49owgSpH+ju6uUAAWXlXhXbM0+FthakebOl4I0EPRNCxpy9IYYNdh1s9hNWxJLT7BxI60eaupW/bQrGmUuP/9gwgCIyZlsJe7GWecuGvC///sSsMoI8y90XU1ErdaJJyv/o03ExVY4ABoimaVu+1V4YiASoji0IhgLoh2kSwChYCazF+URQNOzcJwhFlg6DVs1+CmUQBZuu572sebI17olhh0U173Lt/ZhN1OiREc3W6JRKRDNX/X2PuZpThKOGEnkv07LByBQAwOIQApmd//tkxP4ADlT1U+2VNWGoHeo9t5U8h4f/3Nz6CBCROaUfdI6H0HWeqYPI1R7nbZa2Vl1NMGKHG2Xh8ECcJ6n1kSBjVFo2ZZ54Gh0k5TQqOdA93absDAim5/ESR2Q0EslKIdN85agLYAE7ta9d/v555UygjRHhJbqTVqcPlFEaV3REREyfCFzRvAOKuLt4faxtS+VDjQeROkXKnSkVKVxvi0641GUxikbDLAtzR4GHNTzFk1p1W6DxoQUEGc+DIjlaV/2nEIzIvG1t+/DMQ2M27qkGI6yhAQRpG4nJI1eLxbV3GDHFESQgFInHVyrZdHPo//tUxP0AC2jrVe28a6FzHep9pY4cEaOc5oKyENXPrtLzbkwUTSXUOElqQICBjroyS5oyjAgJFidlGv1SjIoOahaZoo56RAgEKuZtmVa42S1cyocSTZTnTMBwWDteaXAC8GssznQcafuihAviNiNavBd6JgPPj8ulECNDfVbYbIGPJrHpvkgjeE3WWeWL72YOIFlDuBfvtqlF9O2W2S0tgJpbZcq+YF9W6bltuE4WmZIX3LZVkcAwXp16RY8wsQHk//tkxPaADHDvU+29BSHaLeq9ow3lOBYwmdhjrPXv9sy1GMfcq2xuzW8P0Hw7PUZmmWOIZm8ihvVXcvls+QDZEu59spWr3u3cqo+0ZCUTIHBF+2JqALkVapBiksX20Bub7uTJ6LsmpohAsgbOnHTkRO3jTzEh8I7W/Tt3Irtndv39pF219qd3ju7PbfdNRUWDH6eRI1OwhMREI2cDHB20FliyExsk6fC79yyav2F/JzTdrDLvdaN0x6EKs7/fu5VT5WAAFdX8kcWyIiIrqzq3IJUf28el3J+RQJD9KF4OlIidlNKz8+Ez5Tp3k13ukGGR//uExPcAE0mBV+wZL+Kcr+o9hLG4St3djLcqJnvq44XVNJmbi0pD9iUDsRLDtBCHCGY9jDVBvQsLAIiwGkYeAeKGOKCfEalG2YfKIvFQ1PtXzNd/UVEz1/XMtbXHEU8jmfodsmVVv83tunmNYwAAYWSJDiwMkk6q4XPXg3J5k5nea+78CV7SbCQo0JPMSXZDJepIqTq6wxDf8ypXTb1WUj2lv/2be08r91eWVibCy6GI9QZeoiOELLTJB/iFtOdYaIyGVSli0uuzse1xvUH7rTy29Tvcv+zu/Fcpu99tddJ/927VxT7WAAFINF4WEp0hh4HaMlc4rCnWX4ImAbAMNCjYD5UZQ08RHaGzT0Ni2sQq2bHQfn3CFqxnfM/+9/n79bbF5ud3cveGSQYNVHlUvGhNI1BsFwTKQ2rMWgCwMgMKKLNusOCJzTLhCRzRKP3S//t0xPOADs1tYewYccoXrqx9gyH1TEtMqvv7/auInxsAAEFIA6J0OcJ4P0yTVJsLWtk6RCaYUujYERPsKovuQWEoSQEjhARCSpBaPLnsZGauuCQ5AuQXIbenFWUwZ3N2pLolGiEu2J0TiQ4XRICYRKtIhEMLi5IuxBddVc8KWlUm9Zrz1eM9nn3P9u5e1spWcG1c5t981z/7Rjf8Wa/qZuYc1WUAAP0QE1MdERE9QWA0gXeR8VXRAj7wPlI6KVHBwWaBMUFXVTitOVLMOuC8k9up6dTpeHnuKmsagyE4prbPPcb6rwmvsxxRGz5TMB3KxRJxTMRhLxkfsytqfOHCSMqFMvctaSmjjLKNCRwv8/kNIedx3Y8fbN7bg8m+J39///tkxPqAD0UFXewZL8nMHqw9hJlYpRAqcOdz+fi8uqpXayNAJ0yaMPIYkOapy+SsoGAkEahD6QInTAEgME4MqwoRhYozJiFSyoQYeLAI5tCUj7diDRlzMwJmZSjooxr3qqSHDT9VzNhxOJuqk0MrDdCQM8jjg4MJBoP6+9K8/bqfhff9+ScSGnuulMhVUZLNNYrzM1LEpTiIMxicjGErUZgGjZ3HIgKqJz1M45I2oAqA8wAa6XJYXwovVtUj/OofKAAszr3ZGVlIrIhkVnmMxisXbspCoZzUcq70dKOpqLd1Z2Dg5B8GYUPkh8l7SpUy//t0xPEAEJk5Y+eNM2okoSp5hDHxRwm1R6uBUvblpINAqEwWYhIyt5tTRV+MG/QwQHvJCVO2JgZXnoDH9ZnZE8jEAXlw51d8PaWkhQyYNosXvOC28uKw9fc3ZmPHVm1l25ylXN1/MrjZLHYuNmONGeuv/j3hTCTQkEokBMVAcWXFCwUue3Y///vudzgfZcOWytm/yX5fw267QlYAGNmNhVMvsA3xLCnTJCmYloGti6F7GmaT0cyeh+nwlBdk610UgueIrNW3Y2yQAyvt+ctf8piaK9UhOZlF4uYjf6aiL1KzN3sX/2nc7j2CQOsPsJf9qy4xxZAVBcJa/+YQCdUQBPqteTDv1C/qlRYifQ7j7FkmK6AhlUGD1RHwJ1Ad8jwR//tkxO+ADpz9Xe2ka0m7Haq9xhVgJDQSmRLUXr7wqQR28O1vz4BehUemZHUE37Ya8Yz59eWOlNXrN15Z/H/////mV3aeFj9QLhOEcAzRa7lSbHiIafIBhRMMgIxc/30KWLiAP159SdU9gnHCqYnHHSfuxp1KkC+LToNd6JulTvFXa4n7+i9dPBYeYkrZwVWsrK6vBk3sgqQFIOIPuv7ox3dLqjuOK5v//QpA4LhMWFChEJDWINUjD3m7/3rxxkDQu9UACe6s2oYVjD4xJQCudmBOzMiQXGckoqYi8TSo2dNGDATwc1zjXmZERDBt8ctS//tkxOsADsDxWe0xC2mInKu9hJXsNrWtZIg6U6MMIjI7V12vorPHujFNJR//Q40cMAUaEg8E1cPDw1Aaj/Lmf/4lqforkTU3rEaIAu5n5pSVLAeKEhSI+ywcV/Q6jAwCC25tAsPbMS14Hhpp3UCoThH3h3gF65yMZkZGm1HDnrqfrHY7Hy/zdXxTyOU9lZlWRkStxx/6qEA6LsKgINFwGR3uiVu1//KlX0SshRuHPmuqsAjKvKpUDbAuAsARdFc448Nczo0jJEN4GatMSmszd4dm3IG9aog+comAbH8b7991HOXz9TzUjnHd7dT/tFDS//tkxOwADdTzXeywymF+n2w9hJXc7pHpJkwx40v///1SCyhDE5RtMKWKCJqP7LEZJBsIgU3OCALnX1QwCkYfHB0GUZhyUhJvEw2mIhaew+QWRXoskx3pxsfNa9mZNjxgDaAj1vmZmuTl6uKnLc/Y1Rpg0dV08Lf6elFwz51HsjoYi///8d4gljiDDGPGiUPClSrpXTT6//64/v5gp1UcNSB7wWfhMAbb3bpmnrRuK6DJFUVZES7RQLfZMokze0t5usCXYTQXuPKi4jTFhYWBOx+kn2dQ+4utrKO+KadpYwa3Wnadd08jkaxkjKsZAvBU//tkxPIADGjvXeywq2mXpys9lBY9TX/1ss5yjnURCRxw8u1xhZIdt2MCyLgTDiDAAD5lbcGAomHfcCihPQX8LCvkSX7ZIgIQPiEKeuW08giF2RQ6GggIRIHHbYQqDgsqZFjGg0DOqq4IQOADczOqHPj/i9kei3E0MIUWUO/963OoRFQoyiosDC6MpLtViMenq5J+slRcYyMpGcYLyzAjE6SCgQ5pBHvs/aowi0jL9DKg6yxlkOeX4acpQsM7bLlTxZgctl9KqyNxFYir/dls9ooJAGMOlSaNrKTlUcvw9pMa9WNRhDF2OfRznHdUIWOQ//tUxPqADATtXeylDOG7KGs9p6EdtFPmHDv/f84TncQsYrdqCIz07RcGt3sKt6MiSG7SSf/qQzyVLX/MWMwZoZSHzuu5pgEQQplCAzBfgdxqvxARxheIQIucBvzr7BVXpKn0Cpw1cOjwqL96hwwS4hIlPanPF8poYoSHt/fuyvVrKPrbQQJizFAayIhjAiEuDSYLBuEM0CCHeYhJqbZJmmW6OEBan7OZWtkEOe7lWc4iBw7GLHCCApmHddyO9yc5//tkxOiADLTxX+ygseHUqCs9gZY8kScxAwULokWX3PvbhzABATmIBr9QHP+xEKnaK0NKNmrotBhawkCNguR2kMdiAPwpyz5dOJsqJgN2muol2zOUtbW7DCCkITWZ6mBKlh3rBt876tmmXevCsW+0rq866FjghTBjZ57UR5lG87SKSDw3yNeImzg6IkdYMJbVbz83t3KUynKcYVgaY9INI/wGwmR0h+kmS5LEcbgFGpljYH5WKRs5Lf/qEaeQHZX69l7RJVWzNAIOwKmR5GPAUQyKk5ob83yJD6z8JGiuZFlHgJqPQLV6dG29zbGgWu64//t0xOiADtEFX+wkb+ocLiv89g295eVuyDTpXc8zf/bkn7wV/+3u3aZACCk5krhp6aL/FDlA0stKKNqw1kE4u+HRSCJ97JEorJ0HqsZuLtFSoIi5MnOFXBcypKMqkeaS2SU8VK5m55E8KxmkJRUqEad+8/XtP9ctfk6U//y9MN0tFq2bMNjX//217nBXTgV6Nrv52Zl46CAAAU4ByEjDNTglSdhJxzEiLDIbNzISRK3po1aTdyjqt1OkargcJirLC0YWvGK4/ilSlGRou4ymz6lW0EjxGo1ks0y6Z+bfrqmRTjKEkOgkWA4TXV+xNFHT7sicwvP32m1dT75/R1CX/LPDSrrP7N2WEAgFJ1zI4MFHH+EGD/JSD9CGmwaiUNJM//tkxO8AjnjxX+wkbYm2HCx89I2xHg7i1ZDRS71O3rZjN5JCsajxvZzYB1IMABwuh4NTNWJNcEFcURLL2B18xkFnpYi3VcvvrCyPMxhJv/t4t7n2MXcX321HKvsum9frvdrv07Ofv8/v79yFDSKTmCRFQC7OoSYcIZoVp7i2DDLAX8+DDlN3GThSyUEAHJSSk+Lg6D6iA7bSQNFzzb27aIOJU3mohiaRoZm1WojssjoqIrafu1hTJrlMW8fG1+sx8b5jFC1ROUG+ysFWz7f/2//uJarb3P7tpVAibbvTSRzTHLjApELL0zS01Srxgd5n//tkxOuADb0ZZewkbYnCGyv89I3xYf5ECbCbStbj5op1kemQpuQw2q9dJlsTJsT2vNcSnS83EtRiXDN6NCNequ3kf+vzPntxm5W+Nzh1VXIlp9Kqh8Pbn4I9DjgZeUo/U1/NOl/1lNmuqlmYAJMu+eEAjwR0Tn9FovJCEb3wfRAwuElxHNSBVGsgJxlAiQxJCAURgECHb6JCgwICef3FY7qd1NnjMzHzKBWVcjqQV////zi8pQIKSashBTlye/8b34cKFFazm8/0z3/e/5aUolZqBWObyXZA3P3ONsYNMPVIbzQhSCQb9oc16JOCRRxE//tkxOmADdDlYeewbUm0G2189Ao1IIw1jCANvHCq0D0Dg4ALFuXsJsQetLdaaGgYu3yPhnA4gbtRsxrlKyuhQ8OO4h7te3+tkdxyiEAEDnFFGtQRHuRzulBAGwObGXpIAB3h0EwUvA8IBEag27dhl8oDiQparFWqCxWjNrBDw4v/zJpR9BIoI+gpBIoaGJnTW1TEgUJht6e3XhOcaxxfedGbusjQ8qndysaWj//0Q5g8gTAYOMHgmAIdOaNRFrO5C//S16WQUQewK3RVIABmiEEAHPw/uINkanbDjS9Gr0O0+yttHqoppq+daNo9QvGU//tkxOkADak3Z+wkbamsE6s9hI1laXjaIEFb2TJsBHK4m1hhopHSuezutvMhylQXER7C6EM56J/72YgWiBpBFgx2KIBkFWOLXd+RaBkBxJ0a7/9QAEfsJAL1B9mCH4K0oqEsh0e7LUj82E3YKkPhK2bM5fWlAeKZbVmeRxBg+n0ts0Xu2u7z5b6ypdtbCxjqjfVTnYqnVEOZ9VZW/ohwgHyFFjhoeFijUEiS1Np/8rXe5ssw/CyNCYJhV3/tatUAAmSIlSKc/N4lRI9GhfAs2AEK9LCaaRPOnYgAJL4cZk142tr4Q288i48u1V2lIBQt//tkxOoADQjpX+0YUuGvpys9hJXtGmiTibnT2c3/ZCBFHpLQNcyP/2IcxRnIOZRQGDFASig5yoxnMrW//3SVZnccx4MqgARhXy4INb4PiSEAsFhCwOA+vgitgd0QEDlecqkIFlQdEpEW5NwWQYh+kKKC0dRKCppaODMyoOoYgZGJT9WOQpCkJezKy6o395oZ6JRYGQSXoYxit3/X9WUs10YkBhQwOJUADLWo3ySCQPmYIGQDGAiDBlcIvOgMskgAk6VFqkwZ83m6OA1j+97L4C4yswaIo9EFs+FpUmyjxo62HmoSrOgxv6WQGQCYrNaq//tkxO0ADFTxX+wcryGqpyr1hJW83Jb90ncdgIIVhSmcQGRhIxhymf+taQoRD4IkAABlIY2OeXZ/h0RFsPMdRtNSKi6j+RZdmSaTyT9Exhq29ScOc12ca6A/w97KO+ImGb3jzFMy0/6uJDRVRFzNR9FUz06VdyhwPyuJFzO07DEc5kO13p//60mdhcIoHxFVAAJ0aVVL5fToFgQK+HHlMeNYAHlQRVEvW4oNsVrTrVGG2HlUCQGZHGDwsigZTSQm1kZBW9IyMZHWqIFXKwpyfSoYSBqSRT7LndG/+LDjuIY54wMBd58QQRLHf9emgQB0//tUxPOADClFXewkTWGFKOr9p4h9AAXRpVCeu9OoYOIxAnnwEDAUrQHp79Sch8cAX7l/GwCQPB8Pw+o2lHjmDPjXslxd2iZxdnHXYcjCAiOHCo0QunJMpGD487PZ7OQyHT/kLVhAVORR7gCYgg8BmgOePs/+XHAdYIIABmK4aKmGDLPQfz5WBMAAy2KwzJHgxDWQy8Es3Z0sy/KowpAMwEBwwtBUDBEoGYFBCYOgUDiaQNGhCEASgoZhBQZ4A44L//tkxOeADIjzS64gT6F+KKo9o5XNEAyaC7xLgLHEHkME2AsIdYjsbg5YZcBtQLJhZIlAh4soWsmBlx0ksXSVNxziTKIsxEWMbx4cknSLIsbC3FEcw8o6I8LhETBMdY5pRHkiZsblQgRIEVSLheIgX1E4akuUS+tIsjyGNRzjUomaJAGGWKZcY3LhNDSFAEceZtX6nTU3zjFw9/////3TNlJoKf////96QAEiLnumW+1b94QYycREwTa5DIMZUxbNHk8najbsqkyrwhXitmQUJF5dQTxW0XvGvrxPaq7jNzRI6gxsLNp4skSWFSSO81b///tkxPMAC/jvT+2UT6GTneo+tlAE////7vj63nedfGcz21573/xnOdb8KJJtkgRP99Vzsr9zhyPKRrxJhVn+IggHw0wRAkMSr7tFMASYu816zdA/4eMMEDwr5B0eeLiUwFROnYRciXMwFi8YJTDrI0yu8T5P6cnq02akmSg6HDh9kZWUfLOUbYeg5Vt+yK5maxz0qahDDYv/VnPcwqplcag0JqLlaYpiWZ///9GkqPCQhAR96/9YCBO9PlMkrWDvJSSQzB2YmsZGUD+KXS5Nx+uT70NSy3k0zge8JQojEoOgVq9o6RffWW676uM6pq23//uExP4AGylrSfnZgEH1oGu/svAEVotb6fSn6brQldlIRhA5zV/mQiONFwADgDnYPiQeSYGCCfbq3hEUGtMETYJN1N0cGAACZtiKMpWMG+MiqQPnSeMpWMAWLB+1HslUQL52RW43V+U/AJAmijDtcyDxAWnrspa9IqayOrS0sv/3saT/VWLzDbp9rtRjR9RLG4tBwGg2NR0FSIYHHW/+wkSLOoIh5jUJIVL2LMAFomoZS78wd7ICFiY5mwd+eZg+S0Jx2l6SqD4LYlVkFCSZVoA+HTPl4+fPuGjX/v3Uc1zZ6791ajaUYeKnpd0S5DlYZG3dinIpZCJ+juIkHjwoUFwMNONCQeE0d3y5v//+qLdDC6A5KtaMjs7vqN9tpYoqAAS5m3Vzb8Qr5QO5B6iUaaF1FCnR6dxHtM16KN62oxC/RobC2mNKsp3X99WAmb+Z//tkxPAADXU9Xe08p+GpnSt9lJYsD3ektW9kgKBkqFxv47AAfDmf/Mv9E0KF72ujjA6KDgwFUxYdzqxABP2OmNEg6BjDkFHTOegZaxcACNesSHu/iAvrFTrfLJUjSLJg5ALGnl986B1YBb+p+pTGYfsUm3reHk048HZO2cz+mKwpV1emMI3SsQqpWX9IT9x28dt+zd+5MbXTfu37x1dDQsoH0sXYcOhfn87e//6Ty3ty4iC3+I+6wnLQ9ENOFO+PXyCJ6gNb/dxnj7VAF7McaLHRlRFgBJqOqaoZMcXIERGWFhU1KZcYPX5GWlaJISyT//tkxPKADLjrW+y85aHNp6s9pJX1zU6DjYYgJZ7uSgMCgiexgU/KjYSeZ7F1qqhwoGFA65IQxAAxCB3wMCoEHDBCABCcPiaVdZ85C/KzhzosPhyD14Z8yckF79zUmZIrsQOGJX23mrM/6IhTdHBkz3RCBpkT6pYuonVZtce3Bj9uQ/Cg6gejwgjW1zDiSt9hbshIbBBbWWmQNLrEsOu+3dPJ3lO9lCtDiGC1vzQ4XDYEaEbxDhsZeunl/3vf6e8+0yNC8tPXQ6flP4E4MyUOijKf2u2Jr2MAAPiHpN+wRjeFhYilJknLLTHIXPDatW28//tkxPMADQDtWewkbyHZL2t9gw593Yn3siV6ll9e5e7VzypofrAiO4wdCPBVlQocZmInKaVFOGS+aqIWRc2W9gsXipSWUTQNrHbFKoidSAsw+F3t1F52RYU6a3Xf7nO4+W33frm3Sv3kNppaMG3Mvomb9WlP/SXRL6GLtLOVFDZSDZXMacySCIuy1Tds8vbq18BSeZR03OZv3y+l9hSqbe7mYER3nm1XcuxcEZ/qrxtW/++a1ocIi/Q9TOIFQs92I5Yx9meq5X85NZZVz1MmZQpivGwW+ml2GdFl4LMgfMibao3maDvrEIsiDR804xSk//tkxPEADz19Xewwaumyr6u9hI3Q6WJRUaEPwvRxGf0zxHqAgrF4SCUFI78idytatxOEDFxuytcUUTIVj4MzwSLEkNNXgmgrTVZ8zdulnssjzh818yM4up00HHlcG5bVOi/76mrWLylHIaasmaG/5f/6S2qENAIEqIgyq70gF80WHpUQwRoboExwLpxFX8vgDkB50G4hkzBLhhKnMERTFseRSfwjIcgVMoNM0qTsmawwrnXo2V+reqzWjkZKmZXchsXKaY9BxmZGYV//YguwmPDQgdxWKFt//1XctFZUiRAShkEluYSbd01KWhUAjO4O//t0xOsADuD3XewNNynDqCw9lI4ZDzXAcZEgSKi2FNaYfPmXAnWWZQXx9Mon21g8TmVO95/N91zffg6nZtTUvxjKO9wjAx2IEhClDLrZIxZfzNHCBBboskiqbeX/5XjAUXFTqoeRi2k//qqXkOYp0Mc7ihxw8oXoogCneLBHfgKKYcKU0USY+n+hO9Zs0ymda9lAdZ/JqrthbauleoaipuKG2MCo0PMfC4ttjcrNgoaVvTw/TVuzrMJZjkS0Gyq+kpEpNf/lGqJi4mcDqGhgB4r+qKi5NSgkYe9agCAyaiRVZvyuGLIISkL1FC1spY0i99N97JfgqIu2/phj4E0VpuKm45YomZDtf7s1yI1JYcjghRhiQps8Mm7XtpKhfy5y//tkxPyADnztYe0wbWnVpit9hhZk3P////yShUy3AoIhkn8og3HsgINCU09bARwjSKMpduFxBaLRHGSESqQHF4I0NhU4tNO3H70Rl2WEFNnu2Nw0vLU5vIBCC3rNZTVSBVz5dqRkjl/T0ZGb5YysMRlVlq7U//pu6lKIHQMys99dv/5E6kPQw1UUuIowd6esNnTu3c4uouk0chrSqQ8qLAJLvLeuIi2IRPNafqh3AT4ZynOSHO0SS7oIy2SnTPHLluyvvS3iF70iRCQ/Mo+yOkQ7Aaf////9MjVaUDDI0Gp/ZpxwAC4eUGxYTBwUIINT//tkxPUADPU/X6wMuOmIHWu1hBZ0s1SGYV1xc8ElWZFmoPjfYaMvBlxVjCk0GzulFKdlrS6wZHCaVVDwQ9q3wYacgYZGFBsNhwooZWRxiIoUcElkwGWnNhZFqQchdmk0jyBwQaBRMTRMnMLDv//+8doEcWoIYFVjBJcLtv/99DrsvM1b+ats/+lmKz9VZczaqUUiE5m740Fgl4ZYpcgYSmQCDgN0fBtmcsK9M5ME91cj0ZJW1D14Pc0YigggyzcoicwSfc22kEG98/njWsTSgug5qE1F6ZDxgheemiZETpQ+MwhHdvatanT6rS6RB7r6//tUxP2AC5TvYewsbyF7p2u9gwplm+vc9mxm1WTbB8dGbMfEac+O/QZTbUD2mfac+Agu/3KtmZAXSy5i3AJweSHAsRcAhx9CMj2byEoWZZ42qZIRGQiNWDONbFGleysUJ4aMEokE4JgCOJvH5yVQITTIxGBG8et7mMrimezrYiDOGJyyKUX//z0/VDQx1ngBiCtxIIz2pvEqxKRGrITwk1r0ilZMyx9inv/QbdbbSrr866U0EAEEmVORAMwJXiap//tkxPUADDzvX+wgcuHmF2t9hJntAQL8chNNdy+UZIVEp2Xi6ZDM4pDJVvMptnKtoJwR0TmUIUQMJ2rV1eyb7Y3K5HoYTPUYiGrtG2/vP/fjAJcPzs86v7M///8yBhDuzU0dLk1+j28J8vsTRf2XbzP23VjASTcuhggE1VtGClUafFKoCt92ULG+cSV4ThpSBckVWt0YpN4fNQcUPUMIKlh0KHtc5hqR2xZTQJaaeRrCEZGX7Uy5M/Ii7PzMgQKNBUyCzVOOnpkbIkDkkAXgN40fVROLY8skn03r+9y3VhACMVvHCDBEmGAG0G4NArGU//t0xPSAEAkBYew9Jynwqey89I29YRBdKxElz2nVsQFgxSEs39meycrqmztAGGEFZk//TYQQqYPt0Qv6V54xozIRnBRT9///KlbFXi4QsEiTxS77/qduyqjO1r7nK+tqDRctdkr2RdH2jL+riUNRAACLlYAKlRyLZytOtgkAJgQE+zjtLlstkPiqIwc1hdBK8SljJnoUx8qjQtEbMbbPTRXbqGUfQYTco8KDTR6U/BA8g0uQsvnfPI7rTWwQbU1VbSiglFlmS35FGJp4HjfUS1Gz9s23Kc6T8vKaRpWF/Oz813cSCW5dwEcUawBJceMk82RMBSK6HbVlcRtmJTckh4B6CGYmR/7bqiWY9V61aKIP3+P7drC7zniUBwH6MrEw//tkxPuADVh1Xew9KEmrm6x9hA2w+eh5Hwv85+TD3NUwJnjoQJTGqAsmg5kl6W5w5HsR/pOQLb9oXvTzaq97XxP/VHfvM66RmMhJty8B5C0ihDmFmJABq5E/AfAtxoFxfqcSC2UiEonbc/43zQJJZWyjKgEwckzwXudw9hMq61dzcxh1i0i4iv9yvCIpf/fe3gC0HWiIToLLCJ40nBJUbBwsLnzq+1zVj58L8NDXKumr7KZ5UgoouYmagYiCw9ojDC4q8XrWAZ63wBjmA9EN0tH9FfLVvgzhEZiAzZsooCcBUb6Q7OKfKN9bcMdDk1Ly//tkxP4ADVDpY+eYb0nQH6t9hI2xmDIljz/Q4Xmh31OsTQ0Bw2AhdxV5tTBy0W9KMFdFV8UHk8++tL8L/JHGOfnymGmbdiZUisxvFhooiSk03IT2QlMRY06zWmlt0l1BUt4Zww79IvOir7jsSzvtmgSMkicNqReG/JyuclU0uknqp3W1sd8qWMYy1sv+lpTUd6qz85Va5S3aZFTVpb0dWszfeva2Rtke9XqVlBuRMEaXV3dQok04GeoGsTYACqL4U0bspwpndYW2NZGB0tknmDFxbWF3P5b/wMiheGYYVmKZUzU0+efQvUYMz59VGdbz//tkxPwADhk1Y+wYb0mpm2w88w2w7kTHU+Q85H/mzN9wbLit6KtDbO6bAGxvvJl7FbF6gBLZlaahybd3i0MAkYhQMDwhasww0SLwhn88wmXNmpn8y5ICdJztY253vjJlph8V9twQnc+fwFArHqFoVglNRN1Tsyq6Z/62L5fn/no5I2WHd7sOSHXVGvO3l5DpnNfIxGL0HGa6AAZkJpmG7bruJUMTMuBIBFShxHrkfaiyIDYM+GaELYJO3U+w9CVOP3fBqL7mawBaAbIpuWykma2ACuQxf81bWf//Dy/iZGW0XeO/Crs1lKZGDIeJH+1j//tkxPuATdDxX+wwaumtryn5gwowQgLyqQCaAAVTKImCnJ3MIIEbwiKmLvl8R08xMeDQ+kCqm5gkBEuDYd4kTbV3peY+GjvqgTIR+osLxAqvIQ0rkqRjAgwTve3SKAx1bfcvK7no6tJW6Oq3Kg8YqGYch8e58hDKtFJQQgdrCFUQCHIsi50u/uwigGeRYPylYgo9TFFRAtWFR/Fn2pS12OR1QHgJpI6+srv8+CIM993aJKNQvHms3Gz/NmCRxytmayn/eh7/+ZW3XQjsd2PehGHiMFw+FlJRPv6+mgwAAakUVMSu728R0d1d03TGaGGg//tUxPwADAjzT+wwaymWp+p9ow3l0BZjAWgOi87M68WlbqXZBEZG8dH3tvIEAAI4mKw0NaoMn6Oh7pSPYULGTAyrQwY7/+/1KiceybZHnHxgFZ5ar97/9vvdSd5g/59xNAAAIzaHiJz5zjQATCKwROysgfd9U6w8HN0Sbclf7gqxuXLx6TgXjM85iAx1JEqg/JiBkSYx7C0RFXS5yIYQuh2h40YV2MU81U3KM//XZUZ/+2lM1bnqtHdyNzFRXb07//tkxO6AC6EDUeywauGQnym9phVkurt1QwmVIkdFAAAAAAGlYZxEmn5pGm0AADZto4VQPBtzfKw9ZnNmYjZx4sChi6aYMPmTmBlA0YmIJ5GGEizQgQgVBiRm1ILCDmLUgNy3abo+rSmaLHS/sOY/7K25w0zFukXafBjuyN+3UYM8Gow77DN7pHAuNXlT/RttZbKJNbsNYiTRqKe5R/nc3nYsVbHPwsay3+f/n9zdy5Y7zutXtyLPXNUOUsgCxKabW9f3+/rDv////2nhXsb/8RUAAAADB7qagGF5TyeCgUgA0vXjMxTICuYDDZnq2Gqw//tUxPsAC6TvUewYT+F7EOo9ko4VgbOBoACJhMAgIEGeTkDhEYEH7WAEIEgDB4UGgCAlERGuEYBC0uis9mKVq72WqBsConT9QWzAdtnaiqupWgMUtgTCVKcsQga3EWS4R6lm3cfus+mr7y14BiuXsQk0ARKKW/vyixyp+WXOZax+lmcvtVf5z8KStP5f8pl05D1T99zmvpKTn6z///9w1R6y3z+fubwnJoSNY//ywWUAADgJg+K1MShOn4IAwCAA//t0xPKADQk1UfWVACrJo2f/N4AAcR0ybBlQPMoLDec/nGalDEbPFcYxi4YkJaYVjIbNkuYwj4ZEBSYSgyYLikNC0Y7BqLFEY2SDBByYYYKAjoOTGHArmByFWBqjakoMZCBAcwY0EBS8wiGq6cpcBMJZkAlDBHLVgLamDRJjLcT3JApgSoOCx1w1hGaNamH1hmWJ1LvU9TUuKdqV8CS955z98/LvMcf1lzXfw/9fv7EsqPvLYGzxrROAXopYxrO3flmEZk0H5Wu4573hld/ndf//utu3vH+Y/372GWG+////8x/+f/////d2rVjiAAQAMAt2lWUy7X07eKoAAMlDEaFBtWGGrimaOfZpIOIKGLgEBoQYKGpiQBGOQyqgVgcD//ukxOqAF0UfTfnMEEOeLag/O6IIFkaDwYNyILiBEwQPFih4GrX6Rujk0CmUDuJBrYrs0oGhUzKAX7kj2OTMxq2ITup3O8lp+Mpxh2CoBtYckkYl7AJTx2YTH4Fwy3r8s+5f38/7/edzx/PLGpWrQBKHd/WFSL1ZFGP/PcESKiltLl9b/3hvnMLff///7Lgl/8h4jOgINoXZvb8vDgU8EYQYOWAKZQaUKBqzt8pxBbsUkiy9QgUXujppNMIGDJVPOBQIEQkgq53YxDIo5zqU0QCQuUe7f2dDTslUYl//WyMMdR51ECuIkFmZXZ6f/S1GZzlGOUafD7GiKgFBEgWIqS68vh9TbpQGhHQhCc1DGqvaIwpk2L2wQzaI7o4tIQgx5UCoy36hqgrrpVINEpf3EoXKQwyscuV3Hmf/ddFnsiIplX/k0RRZUF3Ie5JDHZV9/0YtEd0dHcWKRGHOUBhENOJAFJTJVmI5fi8I0RgC66OEvQsQRPGnw0hz01Y5ArcoRLtjwygZQeIcD202a2JvvfDwoLo3/UuN3rZkUgqUjHL1flTe5iWX/0RFWIlDrmQwDCweaVmYztfv+Ve6UapzDTsKioiorGgFBsTT18eu4eEEHTbJAiTktKtVBl/V6tGg//t0xP8AFlUbTfnMAkGSpup3slAFZXz1W3THTPaFDz/37L7srzpL/Ja5RFIQqpbD5lKbK7MxlHFEKj/61tMctDGt//pRyEKxgzGOVPX/7zFbZNClVkAbkKGLEgFFUyhXeHy4xhuJr0G0QMDVUbKZTRm1Qylq4AsVAdFQN07ytObPYzvPfPbXroU9mDDigPW1SdoaUqWbYxAg8//79WyyopT0Of//5lhgQ6Dl0KjLjAyQ1oZUr/K9CS4Ch0Y2aoz2/dAbsaXIFQiQZdZ41yqNZNhaQzmAtOMFgkqdailPsMyZei+ZlXWfa8iYWRnqn4faClMtyKhgwCHjGx5FboidL+/uf//91RKqQ+iREKXC3v2By8IjJUeXTNgMBMFrGjIk//tkxPiADOlHUeygsWmZqOm9pBXtyROSGK4WZNA2EUa6HqkrD8S1tssBbUlXgMRWqrjey8Zm5BZENk/+Mj99aGyOtx4F8qB0UQMZX0paUBZJVQ0BqbRXWI823gAboYNBJ4CW0hS3qijXUY3AyBVGBcci2zz5gIJ+sYZU26piDHhet6CAQ6bxXRa1NF9DIuITmX3/zyvmzKVNPM/JkzMiBUDwFaiEZFfu7egAB9BcFUPMPJygphTjTG2DwZGVSmUcjS+w5SKueJSRSOUk0orL2m1ptmDb7/yaMCWEo5SnXB8zy/j790z3kTV5L3jGJVHo//tUxP8AC8FDSa0kTal3nuh9tg1s7dUBirVFRmq12YAHKA+AczCZgjQQc6RViYkhfHwiI6JRz0iRHsHMMuEsS7Rkv5/jmkH0U2SmTtHR9zzRSHpg5+KqO2mENrVHe7/s+pf2l/0axqAG5EJS5g6hLOJsmUcTIf1msXceD4UBz64YNqsSny04poahVtX6n6FsH5etpdZZWOmZO1jlHAgxU8104udfLaNrTG2AQiS3ZVVC/RUuRNxAACfCfA/VgLMl//tUxPaACuTpRe0kbak3kGg9p5i0IRoJAOMqTWL2gUyrjcSazppNZvXSPnYTi2CX1+slcUhT6VEHCqxPqcRGdqLFCgYCw9VVdxchUyhMkhHmlI5rQADSBBzgOQig9j7VQ9AXiiHo2gTJRrLpSJZ+RHpGonXJYXXrQMywGAhEIRVuHLWAShgVYssJ0Q88Wf0EFtG97n//r//931X/rZ/7Dz0AAjB9AD0L0OGdQynyiywjEK5TMq8/fOYFDsnE0HN2//tExPmACdDbQewwaWE+mqf88w5dsWfDZ/eYxSErijtf+4hLLOgFh6pxdf97hQXR+hHd006HoWVLi27/Sq5rCIutDFOWS6yNyJt0ZaXJFiA8CnW5zvXKKL8JkXdCAAohseYBZuXbQx3LvYp2+Xe3uI0COln9mM2gdBoLpSVHFIdCBwz/UrT/9////9SpuSNt/yABbABSZAL8uCsTOFWOozBR4THQk7R4//tUxPOACYiHO+eYb2kwEKVlhJmt6oWm6N6h13ddV1sFLSQtEg7sx9T81kErBoNOQ94qm3ytr73f9e/3V1WP7r7de3JepFNuNNbsJMA+AyxxGzlYSi0uUenEqhpeVJI5PY8wmhJjGtKRasJDbqAYNg7V8bjJU84RFCAcNARubWUwjQ4nFMve5vR2Vc4GKi7zUvnV2CqStWNQQkVllWQAAtWANInYOaSvSQBYYsPBG7c9N4fndW5W/WrS8vNRNRZb//tExPyACTSNL6eYb2E4jmSw8w4IOrrTAo0cCvy5qlVz//9f3oDujrSHrPNP/7fz9/7tOu3bV3veprPL2Kn5886axFfjHBV9vd3Glpq6ICPhDAL5SDbKGgoGBiZW2UaiUsHQfOeqrqZptY/JfDTojzrY29SOrBwTAAJQxVjLovpNhoInaZhHvtW0sNu3NQ9tYPR22cXSocpp2Hh700VxwOJt3UACjwwA//tExPoASjR9ISg8wYEhDWS1h6RglI1s8gAyR/UbYhFJNbb1VehSxtQaRcvNZKM1EFBqeGKiYmG3QYIggVeOImFfs76f6+hX9W9ClK/o3oSE9m7+7q65YAIISEQ8VuLaFY8LV31zzG19HZFhimWjtEl+xmxUHfM3CoQDSRIHInGFwtQPZtoqJB56fXF5JC22+Rtpdfa+1OM336GoQ6xiVY3Ao3JEmiAA//tUxPaASZB3IYewyEFRDaPw8w3IAJh9sCnRuYKLjbDAkHBpWaCzJSDbK0UVOQJRZQLIrMx6qHleaGTqFA5IufIGSIjIEls9hokeUn0/8f7+5n/29FH3o+8qWqQAAbAM5CTSfrCGKMusS9SEWpxY8No0rZlWUJWQeoFYJsJPMmkPa+wmwFVMgSTTwM7oyMyRaLKtaAkPFVKTtsQlWtS6GpQ/X7rSwo9bFolVTEFNRTMuOTkuNVVVVVVVVVVVVVVV//tUxPuAS3hpGyekwslLjmOk9hhIVVVVVVVVVVVVVVVVVVVVVVVVVVVVVVVVVVVVVVVVVVVVVVVVVVVVVVXQBAAABYKoooK48UpMQU1FMy45OS41qqqqqqqqqqqqqqqqqqqqqqqqqqqqqqqqqqqqqqqqqqqqqqqqqqqqqqqqqqqqqqqqqqqqqqqqqqqqqqqqqqqqqqqqqqqqqqqqqqqqqqqqqqqqqqqqqqqqqqqqqqqqqqqqqqqqqqqqqqqqqqqq//tExPmASQBlIYwkY8ExDOPk9gxwqqqqqqqqqqqqqqqqqqqqqqqqqqqqqqqqqqqqqqqqqqqqqqqqqqqqqqqqqqqqqqqqqqqqqqqqqqqqqqqqqqqqqqqqqqqqqqqqqqqqqqqqqqqqqqqqqqqqqqqqqqqqqqqqqqqqqqqqqqqqqqqqqqqqqqqqqqqqqqqqqqqqqqqqqqqqqqqqqqqqqqqqqqqqqqqqqqqq//tUxPiACVhzIaekZ8FLEWOk8w0Qqqqqqqqqqqqqqqqqqqqqqqqqqqqqqqqqqqqqqqqqqqqqqqqqqqqqqqqqqqqqqqqqqqqqqqqqqqqqqqqqqqqqqqqqqqqqqqqqqqqqqqqqqqqqqqqqqqqqqqqqqqqqqqqqqqqqqqqqqqqqqqqqqqqqqqqqqqqqqqqqqqqqqqqqqqqqqqqqqqqqqqqqqqqqqqqqqqqqqqqqqqqqqqqqqqqqqqqqqqqqqqqqqqqq//sUxOADwWwFGwYAACgAADSAAAAEqqqqqqqqqqqqqqqqqqqqqqqqqqqqqqqqqqqqqqqqqqqqqqqqqqqqqqqqqqqqqqqqqqqqqqqqqqqqqqqqqqqqqqqqqqqqqqqqqqqq\" type=\"audio/mpeg\" />\n",
       "                    Your browser does not support the audio element.\n",
       "                </audio>\n",
       "              "
      ],
      "text/plain": [
       "<IPython.lib.display.Audio object>"
      ]
     },
     "execution_count": 34,
     "metadata": {
      "tags": []
     },
     "output_type": "execute_result"
    }
   ],
   "source": [
    "from IPython.display import Audio\n",
    "Audio('First_epoch.mp3', autoplay=True) "
   ]
  },
  {
   "cell_type": "code",
   "execution_count": 42,
   "metadata": {
    "colab": {
     "base_uri": "https://localhost:8080/",
     "height": 522
    },
    "colab_type": "code",
    "executionInfo": {
     "elapsed": 7212994,
     "status": "error",
     "timestamp": 1577146185060,
     "user": {
      "displayName": "Алексей Подчезерцев",
      "photoUrl": "https://lh3.googleusercontent.com/a-/AAuE7mBbUw_CVz8K3RIunXwSoj-hNZ6f2buYD0JYAcB_=s64",
      "userId": "04087359208169148337"
     },
     "user_tz": -180
    },
    "id": "NOIOuOAaA3dF",
    "outputId": "2110d997-1e3a-4e2c-8da1-e56659cd23d2"
   },
   "outputs": [
    {
     "name": "stdout",
     "output_type": "stream",
     "text": [
      "Train on 3240000 samples, validate on 360000 samples\n",
      "Epoch 2/7\n",
      "3240000/3240000 - 3480s - loss: 0.1211 - accuracy: 0.9559 - AUC: 0.9900 - val_loss: 0.1228 - val_accuracy: 0.9549 - val_AUC: 0.9899\n",
      "Epoch 3/7\n",
      "3240000/3240000 - 3433s - loss: 0.1052 - accuracy: 0.9628 - AUC: 0.9921 - val_loss: 0.1213 - val_accuracy: 0.9563 - val_AUC: 0.9899\n",
      "Epoch 4/7\n"
     ]
    },
    {
     "ename": "KeyboardInterrupt",
     "evalue": "ignored",
     "output_type": "error",
     "traceback": [
      "\u001b[0;31m---------------------------------------------------------------------------\u001b[0m",
      "\u001b[0;31mKeyboardInterrupt\u001b[0m                         Traceback (most recent call last)",
      "\u001b[0;32m/tensorflow-2.1.0/python3.6/tensorflow_core/python/keras/engine/training_v2.py\u001b[0m in \u001b[0;36mon_epoch\u001b[0;34m(self, epoch, mode)\u001b[0m\n\u001b[1;32m    766\u001b[0m     \u001b[0;32mtry\u001b[0m\u001b[0;34m:\u001b[0m\u001b[0;34m\u001b[0m\u001b[0;34m\u001b[0m\u001b[0m\n\u001b[0;32m--> 767\u001b[0;31m       \u001b[0;32myield\u001b[0m \u001b[0mepoch_logs\u001b[0m\u001b[0;34m\u001b[0m\u001b[0;34m\u001b[0m\u001b[0m\n\u001b[0m\u001b[1;32m    768\u001b[0m     \u001b[0;32mfinally\u001b[0m\u001b[0;34m:\u001b[0m\u001b[0;34m\u001b[0m\u001b[0;34m\u001b[0m\u001b[0m\n",
      "\u001b[0;32m/tensorflow-2.1.0/python3.6/tensorflow_core/python/keras/engine/training_v2.py\u001b[0m in \u001b[0;36mfit\u001b[0;34m(self, model, x, y, batch_size, epochs, verbose, callbacks, validation_split, validation_data, shuffle, class_weight, sample_weight, initial_epoch, steps_per_epoch, validation_steps, validation_freq, max_queue_size, workers, use_multiprocessing, **kwargs)\u001b[0m\n\u001b[1;32m    341\u001b[0m                 \u001b[0mtraining_context\u001b[0m\u001b[0;34m=\u001b[0m\u001b[0mtraining_context\u001b[0m\u001b[0;34m,\u001b[0m\u001b[0;34m\u001b[0m\u001b[0;34m\u001b[0m\u001b[0m\n\u001b[0;32m--> 342\u001b[0;31m                 total_epochs=epochs)\n\u001b[0m\u001b[1;32m    343\u001b[0m             \u001b[0mcbks\u001b[0m\u001b[0;34m.\u001b[0m\u001b[0mmake_logs\u001b[0m\u001b[0;34m(\u001b[0m\u001b[0mmodel\u001b[0m\u001b[0;34m,\u001b[0m \u001b[0mepoch_logs\u001b[0m\u001b[0;34m,\u001b[0m \u001b[0mtraining_result\u001b[0m\u001b[0;34m,\u001b[0m \u001b[0mModeKeys\u001b[0m\u001b[0;34m.\u001b[0m\u001b[0mTRAIN\u001b[0m\u001b[0;34m)\u001b[0m\u001b[0;34m\u001b[0m\u001b[0;34m\u001b[0m\u001b[0m\n",
      "\u001b[0;32m/tensorflow-2.1.0/python3.6/tensorflow_core/python/keras/engine/training_v2.py\u001b[0m in \u001b[0;36mrun_one_epoch\u001b[0;34m(model, iterator, execution_function, dataset_size, batch_size, strategy, steps_per_epoch, num_samples, mode, training_context, total_epochs)\u001b[0m\n\u001b[1;32m    127\u001b[0m       \u001b[0;32mtry\u001b[0m\u001b[0;34m:\u001b[0m\u001b[0;34m\u001b[0m\u001b[0;34m\u001b[0m\u001b[0m\n\u001b[0;32m--> 128\u001b[0;31m         \u001b[0mbatch_outs\u001b[0m \u001b[0;34m=\u001b[0m \u001b[0mexecution_function\u001b[0m\u001b[0;34m(\u001b[0m\u001b[0miterator\u001b[0m\u001b[0;34m)\u001b[0m\u001b[0;34m\u001b[0m\u001b[0;34m\u001b[0m\u001b[0m\n\u001b[0m\u001b[1;32m    129\u001b[0m       \u001b[0;32mexcept\u001b[0m \u001b[0;34m(\u001b[0m\u001b[0mStopIteration\u001b[0m\u001b[0;34m,\u001b[0m \u001b[0merrors\u001b[0m\u001b[0;34m.\u001b[0m\u001b[0mOutOfRangeError\u001b[0m\u001b[0;34m)\u001b[0m\u001b[0;34m:\u001b[0m\u001b[0;34m\u001b[0m\u001b[0;34m\u001b[0m\u001b[0m\n",
      "\u001b[0;32m/tensorflow-2.1.0/python3.6/tensorflow_core/python/keras/engine/training_v2_utils.py\u001b[0m in \u001b[0;36mexecution_function\u001b[0;34m(input_fn)\u001b[0m\n\u001b[1;32m     97\u001b[0m     return nest.map_structure(_non_none_constant_value,\n\u001b[0;32m---> 98\u001b[0;31m                               distributed_function(input_fn))\n\u001b[0m\u001b[1;32m     99\u001b[0m \u001b[0;34m\u001b[0m\u001b[0m\n",
      "\u001b[0;32m/tensorflow-2.1.0/python3.6/tensorflow_core/python/eager/def_function.py\u001b[0m in \u001b[0;36m__call__\u001b[0;34m(self, *args, **kwds)\u001b[0m\n\u001b[1;32m    567\u001b[0m     \u001b[0;32melse\u001b[0m\u001b[0;34m:\u001b[0m\u001b[0;34m\u001b[0m\u001b[0;34m\u001b[0m\u001b[0m\n\u001b[0;32m--> 568\u001b[0;31m       \u001b[0mresult\u001b[0m \u001b[0;34m=\u001b[0m \u001b[0mself\u001b[0m\u001b[0;34m.\u001b[0m\u001b[0m_call\u001b[0m\u001b[0;34m(\u001b[0m\u001b[0;34m*\u001b[0m\u001b[0margs\u001b[0m\u001b[0;34m,\u001b[0m \u001b[0;34m**\u001b[0m\u001b[0mkwds\u001b[0m\u001b[0;34m)\u001b[0m\u001b[0;34m\u001b[0m\u001b[0;34m\u001b[0m\u001b[0m\n\u001b[0m\u001b[1;32m    569\u001b[0m \u001b[0;34m\u001b[0m\u001b[0m\n",
      "\u001b[0;32m/tensorflow-2.1.0/python3.6/tensorflow_core/python/eager/def_function.py\u001b[0m in \u001b[0;36m_call\u001b[0;34m(self, *args, **kwds)\u001b[0m\n\u001b[1;32m    598\u001b[0m       \u001b[0;31m# defunned version which is guaranteed to never create variables.\u001b[0m\u001b[0;34m\u001b[0m\u001b[0;34m\u001b[0m\u001b[0;34m\u001b[0m\u001b[0m\n\u001b[0;32m--> 599\u001b[0;31m       \u001b[0;32mreturn\u001b[0m \u001b[0mself\u001b[0m\u001b[0;34m.\u001b[0m\u001b[0m_stateless_fn\u001b[0m\u001b[0;34m(\u001b[0m\u001b[0;34m*\u001b[0m\u001b[0margs\u001b[0m\u001b[0;34m,\u001b[0m \u001b[0;34m**\u001b[0m\u001b[0mkwds\u001b[0m\u001b[0;34m)\u001b[0m  \u001b[0;31m# pylint: disable=not-callable\u001b[0m\u001b[0;34m\u001b[0m\u001b[0;34m\u001b[0m\u001b[0m\n\u001b[0m\u001b[1;32m    600\u001b[0m     \u001b[0;32melif\u001b[0m \u001b[0mself\u001b[0m\u001b[0;34m.\u001b[0m\u001b[0m_stateful_fn\u001b[0m \u001b[0;32mis\u001b[0m \u001b[0;32mnot\u001b[0m \u001b[0;32mNone\u001b[0m\u001b[0;34m:\u001b[0m\u001b[0;34m\u001b[0m\u001b[0;34m\u001b[0m\u001b[0m\n",
      "\u001b[0;32m/tensorflow-2.1.0/python3.6/tensorflow_core/python/eager/function.py\u001b[0m in \u001b[0;36m__call__\u001b[0;34m(self, *args, **kwargs)\u001b[0m\n\u001b[1;32m   2362\u001b[0m       \u001b[0mgraph_function\u001b[0m\u001b[0;34m,\u001b[0m \u001b[0margs\u001b[0m\u001b[0;34m,\u001b[0m \u001b[0mkwargs\u001b[0m \u001b[0;34m=\u001b[0m \u001b[0mself\u001b[0m\u001b[0;34m.\u001b[0m\u001b[0m_maybe_define_function\u001b[0m\u001b[0;34m(\u001b[0m\u001b[0margs\u001b[0m\u001b[0;34m,\u001b[0m \u001b[0mkwargs\u001b[0m\u001b[0;34m)\u001b[0m\u001b[0;34m\u001b[0m\u001b[0;34m\u001b[0m\u001b[0m\n\u001b[0;32m-> 2363\u001b[0;31m     \u001b[0;32mreturn\u001b[0m \u001b[0mgraph_function\u001b[0m\u001b[0;34m.\u001b[0m\u001b[0m_filtered_call\u001b[0m\u001b[0;34m(\u001b[0m\u001b[0margs\u001b[0m\u001b[0;34m,\u001b[0m \u001b[0mkwargs\u001b[0m\u001b[0;34m)\u001b[0m  \u001b[0;31m# pylint: disable=protected-access\u001b[0m\u001b[0;34m\u001b[0m\u001b[0;34m\u001b[0m\u001b[0m\n\u001b[0m\u001b[1;32m   2364\u001b[0m \u001b[0;34m\u001b[0m\u001b[0m\n",
      "\u001b[0;32m/tensorflow-2.1.0/python3.6/tensorflow_core/python/eager/function.py\u001b[0m in \u001b[0;36m_filtered_call\u001b[0;34m(self, args, kwargs)\u001b[0m\n\u001b[1;32m   1610\u001b[0m                            resource_variable_ops.BaseResourceVariable))),\n\u001b[0;32m-> 1611\u001b[0;31m         self.captured_inputs)\n\u001b[0m\u001b[1;32m   1612\u001b[0m \u001b[0;34m\u001b[0m\u001b[0m\n",
      "\u001b[0;32m/tensorflow-2.1.0/python3.6/tensorflow_core/python/eager/function.py\u001b[0m in \u001b[0;36m_call_flat\u001b[0;34m(self, args, captured_inputs, cancellation_manager)\u001b[0m\n\u001b[1;32m   1691\u001b[0m       return self._build_call_outputs(self._inference_function.call(\n\u001b[0;32m-> 1692\u001b[0;31m           ctx, args, cancellation_manager=cancellation_manager))\n\u001b[0m\u001b[1;32m   1693\u001b[0m     forward_backward = self._select_forward_and_backward_functions(\n",
      "\u001b[0;32m/tensorflow-2.1.0/python3.6/tensorflow_core/python/eager/function.py\u001b[0m in \u001b[0;36mcall\u001b[0;34m(self, ctx, args, cancellation_manager)\u001b[0m\n\u001b[1;32m    544\u001b[0m               \u001b[0mattrs\u001b[0m\u001b[0;34m=\u001b[0m\u001b[0;34m(\u001b[0m\u001b[0;34m\"executor_type\"\u001b[0m\u001b[0;34m,\u001b[0m \u001b[0mexecutor_type\u001b[0m\u001b[0;34m,\u001b[0m \u001b[0;34m\"config_proto\"\u001b[0m\u001b[0;34m,\u001b[0m \u001b[0mconfig\u001b[0m\u001b[0;34m)\u001b[0m\u001b[0;34m,\u001b[0m\u001b[0;34m\u001b[0m\u001b[0;34m\u001b[0m\u001b[0m\n\u001b[0;32m--> 545\u001b[0;31m               ctx=ctx)\n\u001b[0m\u001b[1;32m    546\u001b[0m         \u001b[0;32melse\u001b[0m\u001b[0;34m:\u001b[0m\u001b[0;34m\u001b[0m\u001b[0;34m\u001b[0m\u001b[0m\n",
      "\u001b[0;32m/tensorflow-2.1.0/python3.6/tensorflow_core/python/eager/execute.py\u001b[0m in \u001b[0;36mquick_execute\u001b[0;34m(op_name, num_outputs, inputs, attrs, ctx, name)\u001b[0m\n\u001b[1;32m     60\u001b[0m                                                \u001b[0mop_name\u001b[0m\u001b[0;34m,\u001b[0m \u001b[0minputs\u001b[0m\u001b[0;34m,\u001b[0m \u001b[0mattrs\u001b[0m\u001b[0;34m,\u001b[0m\u001b[0;34m\u001b[0m\u001b[0;34m\u001b[0m\u001b[0m\n\u001b[0;32m---> 61\u001b[0;31m                                                num_outputs)\n\u001b[0m\u001b[1;32m     62\u001b[0m   \u001b[0;32mexcept\u001b[0m \u001b[0mcore\u001b[0m\u001b[0;34m.\u001b[0m\u001b[0m_NotOkStatusException\u001b[0m \u001b[0;32mas\u001b[0m \u001b[0me\u001b[0m\u001b[0;34m:\u001b[0m\u001b[0;34m\u001b[0m\u001b[0;34m\u001b[0m\u001b[0m\n",
      "\u001b[0;31mKeyboardInterrupt\u001b[0m: ",
      "\nDuring handling of the above exception, another exception occurred:\n",
      "\u001b[0;31mKeyboardInterrupt\u001b[0m                         Traceback (most recent call last)",
      "\u001b[0;32m<ipython-input-42-a0111e607bc9>\u001b[0m in \u001b[0;36m<module>\u001b[0;34m()\u001b[0m\n\u001b[1;32m      3\u001b[0m         callbacks = [\n\u001b[1;32m      4\u001b[0m             \u001b[0mModelSaveCallback\u001b[0m\u001b[0;34m(\u001b[0m\u001b[0mmodel_filename\u001b[0m\u001b[0;34m)\u001b[0m\u001b[0;34m,\u001b[0m\u001b[0;34m\u001b[0m\u001b[0;34m\u001b[0m\u001b[0m\n\u001b[0;32m----> 5\u001b[0;31m             \u001b[0mModelPredictCallback\u001b[0m\u001b[0;34m(\u001b[0m\u001b[0mpredict_filename\u001b[0m\u001b[0;34m)\u001b[0m\u001b[0;34m,\u001b[0m\u001b[0;34m\u001b[0m\u001b[0;34m\u001b[0m\u001b[0m\n\u001b[0m\u001b[1;32m      6\u001b[0m         ],\n\u001b[1;32m      7\u001b[0m         )\n",
      "\u001b[0;32m/tensorflow-2.1.0/python3.6/tensorflow_core/python/keras/engine/training.py\u001b[0m in \u001b[0;36mfit\u001b[0;34m(self, x, y, batch_size, epochs, verbose, callbacks, validation_split, validation_data, shuffle, class_weight, sample_weight, initial_epoch, steps_per_epoch, validation_steps, validation_freq, max_queue_size, workers, use_multiprocessing, **kwargs)\u001b[0m\n\u001b[1;32m    817\u001b[0m         \u001b[0mmax_queue_size\u001b[0m\u001b[0;34m=\u001b[0m\u001b[0mmax_queue_size\u001b[0m\u001b[0;34m,\u001b[0m\u001b[0;34m\u001b[0m\u001b[0;34m\u001b[0m\u001b[0m\n\u001b[1;32m    818\u001b[0m         \u001b[0mworkers\u001b[0m\u001b[0;34m=\u001b[0m\u001b[0mworkers\u001b[0m\u001b[0;34m,\u001b[0m\u001b[0;34m\u001b[0m\u001b[0;34m\u001b[0m\u001b[0m\n\u001b[0;32m--> 819\u001b[0;31m         use_multiprocessing=use_multiprocessing)\n\u001b[0m\u001b[1;32m    820\u001b[0m \u001b[0;34m\u001b[0m\u001b[0m\n\u001b[1;32m    821\u001b[0m   def evaluate(self,\n",
      "\u001b[0;32m/tensorflow-2.1.0/python3.6/tensorflow_core/python/keras/engine/training_v2.py\u001b[0m in \u001b[0;36mfit\u001b[0;34m(self, model, x, y, batch_size, epochs, verbose, callbacks, validation_split, validation_data, shuffle, class_weight, sample_weight, initial_epoch, steps_per_epoch, validation_steps, validation_freq, max_queue_size, workers, use_multiprocessing, **kwargs)\u001b[0m\n\u001b[1;32m    395\u001b[0m                       total_epochs=1)\n\u001b[1;32m    396\u001b[0m                   cbks.make_logs(model, epoch_logs, eval_result, ModeKeys.TEST,\n\u001b[0;32m--> 397\u001b[0;31m                                  prefix='val_')\n\u001b[0m\u001b[1;32m    398\u001b[0m \u001b[0;34m\u001b[0m\u001b[0m\n\u001b[1;32m    399\u001b[0m     \u001b[0;32mreturn\u001b[0m \u001b[0mmodel\u001b[0m\u001b[0;34m.\u001b[0m\u001b[0mhistory\u001b[0m\u001b[0;34m\u001b[0m\u001b[0;34m\u001b[0m\u001b[0m\n",
      "\u001b[0;32m/usr/lib/python3.6/contextlib.py\u001b[0m in \u001b[0;36m__exit__\u001b[0;34m(self, type, value, traceback)\u001b[0m\n\u001b[1;32m     97\u001b[0m                 \u001b[0mvalue\u001b[0m \u001b[0;34m=\u001b[0m \u001b[0mtype\u001b[0m\u001b[0;34m(\u001b[0m\u001b[0;34m)\u001b[0m\u001b[0;34m\u001b[0m\u001b[0;34m\u001b[0m\u001b[0m\n\u001b[1;32m     98\u001b[0m             \u001b[0;32mtry\u001b[0m\u001b[0;34m:\u001b[0m\u001b[0;34m\u001b[0m\u001b[0;34m\u001b[0m\u001b[0m\n\u001b[0;32m---> 99\u001b[0;31m                 \u001b[0mself\u001b[0m\u001b[0;34m.\u001b[0m\u001b[0mgen\u001b[0m\u001b[0;34m.\u001b[0m\u001b[0mthrow\u001b[0m\u001b[0;34m(\u001b[0m\u001b[0mtype\u001b[0m\u001b[0;34m,\u001b[0m \u001b[0mvalue\u001b[0m\u001b[0;34m,\u001b[0m \u001b[0mtraceback\u001b[0m\u001b[0;34m)\u001b[0m\u001b[0;34m\u001b[0m\u001b[0;34m\u001b[0m\u001b[0m\n\u001b[0m\u001b[1;32m    100\u001b[0m             \u001b[0;32mexcept\u001b[0m \u001b[0mStopIteration\u001b[0m \u001b[0;32mas\u001b[0m \u001b[0mexc\u001b[0m\u001b[0;34m:\u001b[0m\u001b[0;34m\u001b[0m\u001b[0;34m\u001b[0m\u001b[0m\n\u001b[1;32m    101\u001b[0m                 \u001b[0;31m# Suppress StopIteration *unless* it's the same exception that\u001b[0m\u001b[0;34m\u001b[0m\u001b[0;34m\u001b[0m\u001b[0;34m\u001b[0m\u001b[0m\n",
      "\u001b[0;32m/tensorflow-2.1.0/python3.6/tensorflow_core/python/keras/engine/training_v2.py\u001b[0m in \u001b[0;36mon_epoch\u001b[0;34m(self, epoch, mode)\u001b[0m\n\u001b[1;32m    769\u001b[0m       \u001b[0;32mif\u001b[0m \u001b[0mmode\u001b[0m \u001b[0;34m==\u001b[0m \u001b[0mModeKeys\u001b[0m\u001b[0;34m.\u001b[0m\u001b[0mTRAIN\u001b[0m\u001b[0;34m:\u001b[0m\u001b[0;34m\u001b[0m\u001b[0;34m\u001b[0m\u001b[0m\n\u001b[1;32m    770\u001b[0m         \u001b[0;31m# Epochs only apply to `fit`.\u001b[0m\u001b[0;34m\u001b[0m\u001b[0;34m\u001b[0m\u001b[0;34m\u001b[0m\u001b[0m\n\u001b[0;32m--> 771\u001b[0;31m         \u001b[0mself\u001b[0m\u001b[0;34m.\u001b[0m\u001b[0mcallbacks\u001b[0m\u001b[0;34m.\u001b[0m\u001b[0mon_epoch_end\u001b[0m\u001b[0;34m(\u001b[0m\u001b[0mepoch\u001b[0m\u001b[0;34m,\u001b[0m \u001b[0mepoch_logs\u001b[0m\u001b[0;34m)\u001b[0m\u001b[0;34m\u001b[0m\u001b[0;34m\u001b[0m\u001b[0m\n\u001b[0m\u001b[1;32m    772\u001b[0m       \u001b[0mself\u001b[0m\u001b[0;34m.\u001b[0m\u001b[0mprogbar\u001b[0m\u001b[0;34m.\u001b[0m\u001b[0mon_epoch_end\u001b[0m\u001b[0;34m(\u001b[0m\u001b[0mepoch\u001b[0m\u001b[0;34m,\u001b[0m \u001b[0mepoch_logs\u001b[0m\u001b[0;34m)\u001b[0m\u001b[0;34m\u001b[0m\u001b[0;34m\u001b[0m\u001b[0m\n\u001b[1;32m    773\u001b[0m \u001b[0;34m\u001b[0m\u001b[0m\n",
      "\u001b[0;32m/tensorflow-2.1.0/python3.6/tensorflow_core/python/keras/callbacks.py\u001b[0m in \u001b[0;36mon_epoch_end\u001b[0;34m(self, epoch, logs)\u001b[0m\n\u001b[1;32m    300\u001b[0m     \u001b[0mlogs\u001b[0m \u001b[0;34m=\u001b[0m \u001b[0mlogs\u001b[0m \u001b[0;32mor\u001b[0m \u001b[0;34m{\u001b[0m\u001b[0;34m}\u001b[0m\u001b[0;34m\u001b[0m\u001b[0;34m\u001b[0m\u001b[0m\n\u001b[1;32m    301\u001b[0m     \u001b[0;32mfor\u001b[0m \u001b[0mcallback\u001b[0m \u001b[0;32min\u001b[0m \u001b[0mself\u001b[0m\u001b[0;34m.\u001b[0m\u001b[0mcallbacks\u001b[0m\u001b[0;34m:\u001b[0m\u001b[0;34m\u001b[0m\u001b[0;34m\u001b[0m\u001b[0m\n\u001b[0;32m--> 302\u001b[0;31m       \u001b[0mcallback\u001b[0m\u001b[0;34m.\u001b[0m\u001b[0mon_epoch_end\u001b[0m\u001b[0;34m(\u001b[0m\u001b[0mepoch\u001b[0m\u001b[0;34m,\u001b[0m \u001b[0mlogs\u001b[0m\u001b[0;34m)\u001b[0m\u001b[0;34m\u001b[0m\u001b[0;34m\u001b[0m\u001b[0m\n\u001b[0m\u001b[1;32m    303\u001b[0m \u001b[0;34m\u001b[0m\u001b[0m\n\u001b[1;32m    304\u001b[0m   \u001b[0;32mdef\u001b[0m \u001b[0mon_train_batch_begin\u001b[0m\u001b[0;34m(\u001b[0m\u001b[0mself\u001b[0m\u001b[0;34m,\u001b[0m \u001b[0mbatch\u001b[0m\u001b[0;34m,\u001b[0m \u001b[0mlogs\u001b[0m\u001b[0;34m=\u001b[0m\u001b[0;32mNone\u001b[0m\u001b[0;34m)\u001b[0m\u001b[0;34m:\u001b[0m\u001b[0;34m\u001b[0m\u001b[0;34m\u001b[0m\u001b[0m\n",
      "\u001b[0;32m<ipython-input-30-62a00c34c04c>\u001b[0m in \u001b[0;36mon_epoch_end\u001b[0;34m(self, epoch, logs)\u001b[0m\n\u001b[1;32m     16\u001b[0m     \u001b[0;32mdef\u001b[0m \u001b[0mon_epoch_end\u001b[0m\u001b[0;34m(\u001b[0m\u001b[0mself\u001b[0m\u001b[0;34m,\u001b[0m \u001b[0mepoch\u001b[0m\u001b[0;34m,\u001b[0m \u001b[0mlogs\u001b[0m\u001b[0;34m=\u001b[0m\u001b[0;32mNone\u001b[0m\u001b[0;34m)\u001b[0m\u001b[0;34m:\u001b[0m\u001b[0;34m\u001b[0m\u001b[0;34m\u001b[0m\u001b[0m\n\u001b[1;32m     17\u001b[0m         \u001b[0mfilename\u001b[0m \u001b[0;34m=\u001b[0m \u001b[0mself\u001b[0m\u001b[0;34m.\u001b[0m\u001b[0mfile_name\u001b[0m\u001b[0;34m.\u001b[0m\u001b[0mformat\u001b[0m\u001b[0;34m(\u001b[0m\u001b[0mepoch\u001b[0m\u001b[0;34m)\u001b[0m\u001b[0;34m\u001b[0m\u001b[0;34m\u001b[0m\u001b[0m\n\u001b[0;32m---> 18\u001b[0;31m         \u001b[0mresult\u001b[0m \u001b[0;34m=\u001b[0m \u001b[0mself\u001b[0m\u001b[0;34m.\u001b[0m\u001b[0mmodel\u001b[0m\u001b[0;34m.\u001b[0m\u001b[0mpredict\u001b[0m\u001b[0;34m(\u001b[0m\u001b[0mX_test\u001b[0m\u001b[0;34m,\u001b[0m \u001b[0mbatch_size\u001b[0m\u001b[0;34m=\u001b[0m\u001b[0mbatch_size\u001b[0m\u001b[0;34m*\u001b[0m\u001b[0;36m16\u001b[0m\u001b[0;34m,\u001b[0m \u001b[0mverbose\u001b[0m\u001b[0;34m=\u001b[0m\u001b[0;36m0\u001b[0m\u001b[0;34m)\u001b[0m\u001b[0;34m\u001b[0m\u001b[0;34m\u001b[0m\u001b[0m\n\u001b[0m\u001b[1;32m     19\u001b[0m         \u001b[0mdf\u001b[0m \u001b[0;34m=\u001b[0m \u001b[0mpd\u001b[0m\u001b[0;34m.\u001b[0m\u001b[0mDataFrame\u001b[0m\u001b[0;34m(\u001b[0m\u001b[0;34m)\u001b[0m\u001b[0;34m\u001b[0m\u001b[0;34m\u001b[0m\u001b[0m\n\u001b[1;32m     20\u001b[0m         \u001b[0mdf\u001b[0m\u001b[0;34m[\u001b[0m\u001b[0;34m'Id'\u001b[0m\u001b[0;34m]\u001b[0m \u001b[0;34m=\u001b[0m \u001b[0mrange\u001b[0m\u001b[0;34m(\u001b[0m\u001b[0;36m1\u001b[0m\u001b[0;34m,\u001b[0m \u001b[0mlen\u001b[0m\u001b[0;34m(\u001b[0m\u001b[0mX_test\u001b[0m\u001b[0;34m)\u001b[0m \u001b[0;34m+\u001b[0m \u001b[0;36m1\u001b[0m\u001b[0;34m)\u001b[0m\u001b[0;34m\u001b[0m\u001b[0;34m\u001b[0m\u001b[0m\n",
      "\u001b[0;32m/tensorflow-2.1.0/python3.6/tensorflow_core/python/keras/engine/training.py\u001b[0m in \u001b[0;36mpredict\u001b[0;34m(self, x, batch_size, verbose, steps, callbacks, max_queue_size, workers, use_multiprocessing)\u001b[0m\n\u001b[1;32m   1011\u001b[0m         \u001b[0mmax_queue_size\u001b[0m\u001b[0;34m=\u001b[0m\u001b[0mmax_queue_size\u001b[0m\u001b[0;34m,\u001b[0m\u001b[0;34m\u001b[0m\u001b[0;34m\u001b[0m\u001b[0m\n\u001b[1;32m   1012\u001b[0m         \u001b[0mworkers\u001b[0m\u001b[0;34m=\u001b[0m\u001b[0mworkers\u001b[0m\u001b[0;34m,\u001b[0m\u001b[0;34m\u001b[0m\u001b[0;34m\u001b[0m\u001b[0m\n\u001b[0;32m-> 1013\u001b[0;31m         use_multiprocessing=use_multiprocessing)\n\u001b[0m\u001b[1;32m   1014\u001b[0m \u001b[0;34m\u001b[0m\u001b[0m\n\u001b[1;32m   1015\u001b[0m   \u001b[0;32mdef\u001b[0m \u001b[0mreset_metrics\u001b[0m\u001b[0;34m(\u001b[0m\u001b[0mself\u001b[0m\u001b[0;34m)\u001b[0m\u001b[0;34m:\u001b[0m\u001b[0;34m\u001b[0m\u001b[0;34m\u001b[0m\u001b[0m\n",
      "\u001b[0;32m/tensorflow-2.1.0/python3.6/tensorflow_core/python/keras/engine/training_v2.py\u001b[0m in \u001b[0;36mpredict\u001b[0;34m(self, model, x, batch_size, verbose, steps, callbacks, max_queue_size, workers, use_multiprocessing, **kwargs)\u001b[0m\n\u001b[1;32m    496\u001b[0m         \u001b[0mmodel\u001b[0m\u001b[0;34m,\u001b[0m \u001b[0mModeKeys\u001b[0m\u001b[0;34m.\u001b[0m\u001b[0mPREDICT\u001b[0m\u001b[0;34m,\u001b[0m \u001b[0mx\u001b[0m\u001b[0;34m=\u001b[0m\u001b[0mx\u001b[0m\u001b[0;34m,\u001b[0m \u001b[0mbatch_size\u001b[0m\u001b[0;34m=\u001b[0m\u001b[0mbatch_size\u001b[0m\u001b[0;34m,\u001b[0m \u001b[0mverbose\u001b[0m\u001b[0;34m=\u001b[0m\u001b[0mverbose\u001b[0m\u001b[0;34m,\u001b[0m\u001b[0;34m\u001b[0m\u001b[0;34m\u001b[0m\u001b[0m\n\u001b[1;32m    497\u001b[0m         \u001b[0msteps\u001b[0m\u001b[0;34m=\u001b[0m\u001b[0msteps\u001b[0m\u001b[0;34m,\u001b[0m \u001b[0mcallbacks\u001b[0m\u001b[0;34m=\u001b[0m\u001b[0mcallbacks\u001b[0m\u001b[0;34m,\u001b[0m \u001b[0mmax_queue_size\u001b[0m\u001b[0;34m=\u001b[0m\u001b[0mmax_queue_size\u001b[0m\u001b[0;34m,\u001b[0m\u001b[0;34m\u001b[0m\u001b[0;34m\u001b[0m\u001b[0m\n\u001b[0;32m--> 498\u001b[0;31m         workers=workers, use_multiprocessing=use_multiprocessing, **kwargs)\n\u001b[0m\u001b[1;32m    499\u001b[0m \u001b[0;34m\u001b[0m\u001b[0m\n\u001b[1;32m    500\u001b[0m \u001b[0;34m\u001b[0m\u001b[0m\n",
      "\u001b[0;32m/tensorflow-2.1.0/python3.6/tensorflow_core/python/keras/engine/training_v2.py\u001b[0m in \u001b[0;36m_model_iteration\u001b[0;34m(self, model, mode, x, y, batch_size, verbose, sample_weight, steps, callbacks, max_queue_size, workers, use_multiprocessing, **kwargs)\u001b[0m\n\u001b[1;32m    473\u001b[0m               \u001b[0mmode\u001b[0m\u001b[0;34m=\u001b[0m\u001b[0mmode\u001b[0m\u001b[0;34m,\u001b[0m\u001b[0;34m\u001b[0m\u001b[0;34m\u001b[0m\u001b[0m\n\u001b[1;32m    474\u001b[0m               \u001b[0mtraining_context\u001b[0m\u001b[0;34m=\u001b[0m\u001b[0mtraining_context\u001b[0m\u001b[0;34m,\u001b[0m\u001b[0;34m\u001b[0m\u001b[0;34m\u001b[0m\u001b[0m\n\u001b[0;32m--> 475\u001b[0;31m               total_epochs=1)\n\u001b[0m\u001b[1;32m    476\u001b[0m           \u001b[0mcbks\u001b[0m\u001b[0;34m.\u001b[0m\u001b[0mmake_logs\u001b[0m\u001b[0;34m(\u001b[0m\u001b[0mmodel\u001b[0m\u001b[0;34m,\u001b[0m \u001b[0mepoch_logs\u001b[0m\u001b[0;34m,\u001b[0m \u001b[0mresult\u001b[0m\u001b[0;34m,\u001b[0m \u001b[0mmode\u001b[0m\u001b[0;34m)\u001b[0m\u001b[0;34m\u001b[0m\u001b[0;34m\u001b[0m\u001b[0m\n\u001b[1;32m    477\u001b[0m \u001b[0;34m\u001b[0m\u001b[0m\n",
      "\u001b[0;32m/tensorflow-2.1.0/python3.6/tensorflow_core/python/keras/engine/training_v2.py\u001b[0m in \u001b[0;36mrun_one_epoch\u001b[0;34m(model, iterator, execution_function, dataset_size, batch_size, strategy, steps_per_epoch, num_samples, mode, training_context, total_epochs)\u001b[0m\n\u001b[1;32m    126\u001b[0m         step=step, mode=mode, size=current_batch_size) as batch_logs:\n\u001b[1;32m    127\u001b[0m       \u001b[0;32mtry\u001b[0m\u001b[0;34m:\u001b[0m\u001b[0;34m\u001b[0m\u001b[0;34m\u001b[0m\u001b[0m\n\u001b[0;32m--> 128\u001b[0;31m         \u001b[0mbatch_outs\u001b[0m \u001b[0;34m=\u001b[0m \u001b[0mexecution_function\u001b[0m\u001b[0;34m(\u001b[0m\u001b[0miterator\u001b[0m\u001b[0;34m)\u001b[0m\u001b[0;34m\u001b[0m\u001b[0;34m\u001b[0m\u001b[0m\n\u001b[0m\u001b[1;32m    129\u001b[0m       \u001b[0;32mexcept\u001b[0m \u001b[0;34m(\u001b[0m\u001b[0mStopIteration\u001b[0m\u001b[0;34m,\u001b[0m \u001b[0merrors\u001b[0m\u001b[0;34m.\u001b[0m\u001b[0mOutOfRangeError\u001b[0m\u001b[0;34m)\u001b[0m\u001b[0;34m:\u001b[0m\u001b[0;34m\u001b[0m\u001b[0;34m\u001b[0m\u001b[0m\n\u001b[1;32m    130\u001b[0m         \u001b[0;31m# TODO(kaftan): File bug about tf function and errors.OutOfRangeError?\u001b[0m\u001b[0;34m\u001b[0m\u001b[0;34m\u001b[0m\u001b[0;34m\u001b[0m\u001b[0m\n",
      "\u001b[0;32m/tensorflow-2.1.0/python3.6/tensorflow_core/python/keras/engine/training_v2_utils.py\u001b[0m in \u001b[0;36mexecution_function\u001b[0;34m(input_fn)\u001b[0m\n\u001b[1;32m     96\u001b[0m     \u001b[0;31m# `numpy` translates Tensors to values in Eager mode.\u001b[0m\u001b[0;34m\u001b[0m\u001b[0;34m\u001b[0m\u001b[0;34m\u001b[0m\u001b[0m\n\u001b[1;32m     97\u001b[0m     return nest.map_structure(_non_none_constant_value,\n\u001b[0;32m---> 98\u001b[0;31m                               distributed_function(input_fn))\n\u001b[0m\u001b[1;32m     99\u001b[0m \u001b[0;34m\u001b[0m\u001b[0m\n\u001b[1;32m    100\u001b[0m   \u001b[0;32mreturn\u001b[0m \u001b[0mexecution_function\u001b[0m\u001b[0;34m\u001b[0m\u001b[0;34m\u001b[0m\u001b[0m\n",
      "\u001b[0;32m/tensorflow-2.1.0/python3.6/tensorflow_core/python/eager/def_function.py\u001b[0m in \u001b[0;36m__call__\u001b[0;34m(self, *args, **kwds)\u001b[0m\n\u001b[1;32m    566\u001b[0m         \u001b[0mxla_context\u001b[0m\u001b[0;34m.\u001b[0m\u001b[0mExit\u001b[0m\u001b[0;34m(\u001b[0m\u001b[0;34m)\u001b[0m\u001b[0;34m\u001b[0m\u001b[0;34m\u001b[0m\u001b[0m\n\u001b[1;32m    567\u001b[0m     \u001b[0;32melse\u001b[0m\u001b[0;34m:\u001b[0m\u001b[0;34m\u001b[0m\u001b[0;34m\u001b[0m\u001b[0m\n\u001b[0;32m--> 568\u001b[0;31m       \u001b[0mresult\u001b[0m \u001b[0;34m=\u001b[0m \u001b[0mself\u001b[0m\u001b[0;34m.\u001b[0m\u001b[0m_call\u001b[0m\u001b[0;34m(\u001b[0m\u001b[0;34m*\u001b[0m\u001b[0margs\u001b[0m\u001b[0;34m,\u001b[0m \u001b[0;34m**\u001b[0m\u001b[0mkwds\u001b[0m\u001b[0;34m)\u001b[0m\u001b[0;34m\u001b[0m\u001b[0;34m\u001b[0m\u001b[0m\n\u001b[0m\u001b[1;32m    569\u001b[0m \u001b[0;34m\u001b[0m\u001b[0m\n\u001b[1;32m    570\u001b[0m     \u001b[0;32mif\u001b[0m \u001b[0mtracing_count\u001b[0m \u001b[0;34m==\u001b[0m \u001b[0mself\u001b[0m\u001b[0;34m.\u001b[0m\u001b[0m_get_tracing_count\u001b[0m\u001b[0;34m(\u001b[0m\u001b[0;34m)\u001b[0m\u001b[0;34m:\u001b[0m\u001b[0;34m\u001b[0m\u001b[0;34m\u001b[0m\u001b[0m\n",
      "\u001b[0;32m/tensorflow-2.1.0/python3.6/tensorflow_core/python/eager/def_function.py\u001b[0m in \u001b[0;36m_call\u001b[0;34m(self, *args, **kwds)\u001b[0m\n\u001b[1;32m    604\u001b[0m       \u001b[0;31m# In this case we have not created variables on the first call. So we can\u001b[0m\u001b[0;34m\u001b[0m\u001b[0;34m\u001b[0m\u001b[0;34m\u001b[0m\u001b[0m\n\u001b[1;32m    605\u001b[0m       \u001b[0;31m# run the first trace but we should fail if variables are created.\u001b[0m\u001b[0;34m\u001b[0m\u001b[0;34m\u001b[0m\u001b[0;34m\u001b[0m\u001b[0m\n\u001b[0;32m--> 606\u001b[0;31m       \u001b[0mresults\u001b[0m \u001b[0;34m=\u001b[0m \u001b[0mself\u001b[0m\u001b[0;34m.\u001b[0m\u001b[0m_stateful_fn\u001b[0m\u001b[0;34m(\u001b[0m\u001b[0;34m*\u001b[0m\u001b[0margs\u001b[0m\u001b[0;34m,\u001b[0m \u001b[0;34m**\u001b[0m\u001b[0mkwds\u001b[0m\u001b[0;34m)\u001b[0m\u001b[0;34m\u001b[0m\u001b[0;34m\u001b[0m\u001b[0m\n\u001b[0m\u001b[1;32m    607\u001b[0m       \u001b[0;32mif\u001b[0m \u001b[0mself\u001b[0m\u001b[0;34m.\u001b[0m\u001b[0m_created_variables\u001b[0m\u001b[0;34m:\u001b[0m\u001b[0;34m\u001b[0m\u001b[0;34m\u001b[0m\u001b[0m\n\u001b[1;32m    608\u001b[0m         raise ValueError(\"Creating variables on a non-first call to a function\"\n",
      "\u001b[0;32m/tensorflow-2.1.0/python3.6/tensorflow_core/python/eager/function.py\u001b[0m in \u001b[0;36m__call__\u001b[0;34m(self, *args, **kwargs)\u001b[0m\n\u001b[1;32m   2361\u001b[0m     \u001b[0;32mwith\u001b[0m \u001b[0mself\u001b[0m\u001b[0;34m.\u001b[0m\u001b[0m_lock\u001b[0m\u001b[0;34m:\u001b[0m\u001b[0;34m\u001b[0m\u001b[0;34m\u001b[0m\u001b[0m\n\u001b[1;32m   2362\u001b[0m       \u001b[0mgraph_function\u001b[0m\u001b[0;34m,\u001b[0m \u001b[0margs\u001b[0m\u001b[0;34m,\u001b[0m \u001b[0mkwargs\u001b[0m \u001b[0;34m=\u001b[0m \u001b[0mself\u001b[0m\u001b[0;34m.\u001b[0m\u001b[0m_maybe_define_function\u001b[0m\u001b[0;34m(\u001b[0m\u001b[0margs\u001b[0m\u001b[0;34m,\u001b[0m \u001b[0mkwargs\u001b[0m\u001b[0;34m)\u001b[0m\u001b[0;34m\u001b[0m\u001b[0;34m\u001b[0m\u001b[0m\n\u001b[0;32m-> 2363\u001b[0;31m     \u001b[0;32mreturn\u001b[0m \u001b[0mgraph_function\u001b[0m\u001b[0;34m.\u001b[0m\u001b[0m_filtered_call\u001b[0m\u001b[0;34m(\u001b[0m\u001b[0margs\u001b[0m\u001b[0;34m,\u001b[0m \u001b[0mkwargs\u001b[0m\u001b[0;34m)\u001b[0m  \u001b[0;31m# pylint: disable=protected-access\u001b[0m\u001b[0;34m\u001b[0m\u001b[0;34m\u001b[0m\u001b[0m\n\u001b[0m\u001b[1;32m   2364\u001b[0m \u001b[0;34m\u001b[0m\u001b[0m\n\u001b[1;32m   2365\u001b[0m   \u001b[0;34m@\u001b[0m\u001b[0mproperty\u001b[0m\u001b[0;34m\u001b[0m\u001b[0;34m\u001b[0m\u001b[0m\n",
      "\u001b[0;32m/tensorflow-2.1.0/python3.6/tensorflow_core/python/eager/function.py\u001b[0m in \u001b[0;36m_filtered_call\u001b[0;34m(self, args, kwargs)\u001b[0m\n\u001b[1;32m   1609\u001b[0m          if isinstance(t, (ops.Tensor,\n\u001b[1;32m   1610\u001b[0m                            resource_variable_ops.BaseResourceVariable))),\n\u001b[0;32m-> 1611\u001b[0;31m         self.captured_inputs)\n\u001b[0m\u001b[1;32m   1612\u001b[0m \u001b[0;34m\u001b[0m\u001b[0m\n\u001b[1;32m   1613\u001b[0m   \u001b[0;32mdef\u001b[0m \u001b[0m_call_flat\u001b[0m\u001b[0;34m(\u001b[0m\u001b[0mself\u001b[0m\u001b[0;34m,\u001b[0m \u001b[0margs\u001b[0m\u001b[0;34m,\u001b[0m \u001b[0mcaptured_inputs\u001b[0m\u001b[0;34m,\u001b[0m \u001b[0mcancellation_manager\u001b[0m\u001b[0;34m=\u001b[0m\u001b[0;32mNone\u001b[0m\u001b[0;34m)\u001b[0m\u001b[0;34m:\u001b[0m\u001b[0;34m\u001b[0m\u001b[0;34m\u001b[0m\u001b[0m\n",
      "\u001b[0;32m/tensorflow-2.1.0/python3.6/tensorflow_core/python/eager/function.py\u001b[0m in \u001b[0;36m_call_flat\u001b[0;34m(self, args, captured_inputs, cancellation_manager)\u001b[0m\n\u001b[1;32m   1690\u001b[0m       \u001b[0;31m# No tape is watching; skip to running the function.\u001b[0m\u001b[0;34m\u001b[0m\u001b[0;34m\u001b[0m\u001b[0;34m\u001b[0m\u001b[0m\n\u001b[1;32m   1691\u001b[0m       return self._build_call_outputs(self._inference_function.call(\n\u001b[0;32m-> 1692\u001b[0;31m           ctx, args, cancellation_manager=cancellation_manager))\n\u001b[0m\u001b[1;32m   1693\u001b[0m     forward_backward = self._select_forward_and_backward_functions(\n\u001b[1;32m   1694\u001b[0m         \u001b[0margs\u001b[0m\u001b[0;34m,\u001b[0m\u001b[0;34m\u001b[0m\u001b[0;34m\u001b[0m\u001b[0m\n",
      "\u001b[0;32m/tensorflow-2.1.0/python3.6/tensorflow_core/python/eager/function.py\u001b[0m in \u001b[0;36mcall\u001b[0;34m(self, ctx, args, cancellation_manager)\u001b[0m\n\u001b[1;32m    543\u001b[0m               \u001b[0minputs\u001b[0m\u001b[0;34m=\u001b[0m\u001b[0margs\u001b[0m\u001b[0;34m,\u001b[0m\u001b[0;34m\u001b[0m\u001b[0;34m\u001b[0m\u001b[0m\n\u001b[1;32m    544\u001b[0m               \u001b[0mattrs\u001b[0m\u001b[0;34m=\u001b[0m\u001b[0;34m(\u001b[0m\u001b[0;34m\"executor_type\"\u001b[0m\u001b[0;34m,\u001b[0m \u001b[0mexecutor_type\u001b[0m\u001b[0;34m,\u001b[0m \u001b[0;34m\"config_proto\"\u001b[0m\u001b[0;34m,\u001b[0m \u001b[0mconfig\u001b[0m\u001b[0;34m)\u001b[0m\u001b[0;34m,\u001b[0m\u001b[0;34m\u001b[0m\u001b[0;34m\u001b[0m\u001b[0m\n\u001b[0;32m--> 545\u001b[0;31m               ctx=ctx)\n\u001b[0m\u001b[1;32m    546\u001b[0m         \u001b[0;32melse\u001b[0m\u001b[0;34m:\u001b[0m\u001b[0;34m\u001b[0m\u001b[0;34m\u001b[0m\u001b[0m\n\u001b[1;32m    547\u001b[0m           outputs = execute.execute_with_cancellation(\n",
      "\u001b[0;32m/tensorflow-2.1.0/python3.6/tensorflow_core/python/eager/execute.py\u001b[0m in \u001b[0;36mquick_execute\u001b[0;34m(op_name, num_outputs, inputs, attrs, ctx, name)\u001b[0m\n\u001b[1;32m     59\u001b[0m     tensors = pywrap_tensorflow.TFE_Py_Execute(ctx._handle, device_name,\n\u001b[1;32m     60\u001b[0m                                                \u001b[0mop_name\u001b[0m\u001b[0;34m,\u001b[0m \u001b[0minputs\u001b[0m\u001b[0;34m,\u001b[0m \u001b[0mattrs\u001b[0m\u001b[0;34m,\u001b[0m\u001b[0;34m\u001b[0m\u001b[0;34m\u001b[0m\u001b[0m\n\u001b[0;32m---> 61\u001b[0;31m                                                num_outputs)\n\u001b[0m\u001b[1;32m     62\u001b[0m   \u001b[0;32mexcept\u001b[0m \u001b[0mcore\u001b[0m\u001b[0;34m.\u001b[0m\u001b[0m_NotOkStatusException\u001b[0m \u001b[0;32mas\u001b[0m \u001b[0me\u001b[0m\u001b[0;34m:\u001b[0m\u001b[0;34m\u001b[0m\u001b[0;34m\u001b[0m\u001b[0m\n\u001b[1;32m     63\u001b[0m     \u001b[0;32mif\u001b[0m \u001b[0mname\u001b[0m \u001b[0;32mis\u001b[0m \u001b[0;32mnot\u001b[0m \u001b[0;32mNone\u001b[0m\u001b[0;34m:\u001b[0m\u001b[0;34m\u001b[0m\u001b[0;34m\u001b[0m\u001b[0m\n",
      "\u001b[0;31mKeyboardInterrupt\u001b[0m: "
     ]
    }
   ],
   "source": [
    "model.fit(X_train, y, batch_size=batch_size, epochs=7, validation_split=0.1,verbose=2,\n",
    "          initial_epoch=1,\n",
    "        callbacks = [\n",
    "            ModelSaveCallback(model_filename),\n",
    "            ModelPredictCallback(predict_filename),\n",
    "        ],\n",
    "        )"
   ]
  },
  {
   "cell_type": "markdown",
   "metadata": {
    "colab_type": "text",
    "id": "7DMNHB9ATgP_"
   },
   "source": [
    "Наша модель полностью обучилась, добавим элемента неожиданности"
   ]
  },
  {
   "cell_type": "code",
   "execution_count": 54,
   "metadata": {
    "colab": {
     "base_uri": "https://localhost:8080/",
     "height": 1000
    },
    "colab_type": "code",
    "executionInfo": {
     "elapsed": 7362944,
     "status": "ok",
     "timestamp": 1577154314824,
     "user": {
      "displayName": "Алексей Подчезерцев",
      "photoUrl": "https://lh3.googleusercontent.com/a-/AAuE7mBbUw_CVz8K3RIunXwSoj-hNZ6f2buYD0JYAcB_=s64",
      "userId": "04087359208169148337"
     },
     "user_tz": -180
    },
    "id": "_rsYODImetYC",
    "outputId": "8b9e1d19-1754-4ded-9277-5d10c724a564"
   },
   "outputs": [
    {
     "name": "stdout",
     "output_type": "stream",
     "text": [
      "0\n",
      "Train on 180000 samples\n",
      "Epoch 4/4\n",
      "180000/180000 [==============================] - 365s 2ms/sample - loss: 0.0925 - accuracy: 0.9684 - AUC: 0.9936\n",
      "1\n",
      "Train on 180000 samples\n",
      "Epoch 5/5\n",
      "180000/180000 [==============================] - 365s 2ms/sample - loss: 0.0906 - accuracy: 0.9683 - AUC: 0.9939\n",
      "2\n",
      "Train on 180000 samples\n",
      "Epoch 6/6\n",
      "180000/180000 [==============================] - 362s 2ms/sample - loss: 0.0891 - accuracy: 0.9696 - AUC: 0.9940\n",
      "3\n",
      "Train on 180000 samples\n",
      "Epoch 7/7\n",
      "180000/180000 [==============================] - 357s 2ms/sample - loss: 0.0883 - accuracy: 0.9693 - AUC: 0.9941\n",
      "4\n",
      "Train on 180000 samples\n",
      "Epoch 8/8\n",
      "180000/180000 [==============================] - 362s 2ms/sample - loss: 0.0876 - accuracy: 0.9701 - AUC: 0.9942\n",
      "5\n",
      "Train on 180000 samples\n",
      "Epoch 9/9\n",
      "180000/180000 [==============================] - 365s 2ms/sample - loss: 0.0906 - accuracy: 0.9692 - AUC: 0.9938\n",
      "6\n",
      "Train on 180000 samples\n",
      "Epoch 10/10\n",
      "180000/180000 [==============================] - 365s 2ms/sample - loss: 0.0895 - accuracy: 0.9695 - AUC: 0.9940\n",
      "7\n",
      "Train on 180000 samples\n",
      "Epoch 11/11\n",
      "180000/180000 [==============================] - 374s 2ms/sample - loss: 0.0869 - accuracy: 0.9701 - AUC: 0.9942\n",
      "8\n",
      "Train on 180000 samples\n",
      "Epoch 12/12\n",
      "180000/180000 [==============================] - 374s 2ms/sample - loss: 0.0863 - accuracy: 0.9706 - AUC: 0.9944\n",
      "9\n",
      "Train on 180000 samples\n",
      "Epoch 13/13\n",
      "180000/180000 [==============================] - 372s 2ms/sample - loss: 0.0853 - accuracy: 0.9711 - AUC: 0.9944\n",
      "10\n",
      "Train on 180000 samples\n",
      "Epoch 14/14\n",
      "180000/180000 [==============================] - 373s 2ms/sample - loss: 0.0853 - accuracy: 0.9711 - AUC: 0.9944\n",
      "11\n",
      "Train on 180000 samples\n",
      "Epoch 15/15\n",
      "180000/180000 [==============================] - 368s 2ms/sample - loss: 0.0860 - accuracy: 0.9705 - AUC: 0.9942\n",
      "12\n",
      "Train on 180000 samples\n",
      "Epoch 16/16\n",
      "180000/180000 [==============================] - 365s 2ms/sample - loss: 0.0845 - accuracy: 0.9711 - AUC: 0.9944\n",
      "13\n",
      "Train on 180000 samples\n",
      "Epoch 17/17\n",
      "180000/180000 [==============================] - 366s 2ms/sample - loss: 0.0858 - accuracy: 0.9708 - AUC: 0.9943\n",
      "14\n",
      "Train on 180000 samples\n",
      "Epoch 18/18\n",
      "180000/180000 [==============================] - 371s 2ms/sample - loss: 0.0826 - accuracy: 0.9717 - AUC: 0.9947\n",
      "15\n",
      "Train on 180000 samples\n",
      "Epoch 19/19\n",
      "180000/180000 [==============================] - 366s 2ms/sample - loss: 0.0818 - accuracy: 0.9722 - AUC: 0.9947\n",
      "16\n",
      "Train on 180000 samples\n",
      "Epoch 20/20\n",
      "180000/180000 [==============================] - 366s 2ms/sample - loss: 0.0824 - accuracy: 0.9724 - AUC: 0.9946\n",
      "17\n",
      "Train on 180000 samples\n",
      "Epoch 21/21\n",
      "180000/180000 [==============================] - 372s 2ms/sample - loss: 0.0815 - accuracy: 0.9720 - AUC: 0.9949\n",
      "18\n",
      "Train on 180000 samples\n",
      "Epoch 22/22\n",
      "180000/180000 [==============================] - 371s 2ms/sample - loss: 0.0816 - accuracy: 0.9727 - AUC: 0.9946\n",
      "19\n",
      "Train on 180000 samples\n",
      "Epoch 23/23\n",
      "180000/180000 [==============================] - 379s 2ms/sample - loss: 0.0809 - accuracy: 0.9728 - AUC: 0.9949\n"
     ]
    }
   ],
   "source": [
    "for i in range(20):\n",
    "    print(i)\n",
    "    idx = np.random.randint(X_train.shape[0], size=int(X_train.shape[0]/20))\n",
    "    X_train1 = X_train[idx, :]\n",
    "    y1 = y[idx]\n",
    "    model.fit(X_train1, y1, batch_size=int(batch_size/2), epochs=i+4,verbose=1, initial_epoch=i+3)"
   ]
  },
  {
   "cell_type": "code",
   "execution_count": 0,
   "metadata": {
    "colab": {},
    "colab_type": "code",
    "id": "7Uz7PLkJQZyL"
   },
   "outputs": [],
   "source": [
    "result = model.predict(X_test, batch_size=batch_size*16, verbose=0)\n",
    "df = pd.DataFrame()\n",
    "df['Id'] = range(1, len(X_test) + 1)\n",
    "df['Probability'] = result\n",
    "df.to_csv('night_sgd.csv', index=None)"
   ]
  },
  {
   "cell_type": "code",
   "execution_count": 0,
   "metadata": {
    "colab": {
     "base_uri": "https://localhost:8080/",
     "height": 67
    },
    "colab_type": "code",
    "id": "Jy_u39mnQc14",
    "outputId": "f802a56e-0b26-4f14-f468-ca9f722a1cec"
   },
   "outputs": [
    {
     "name": "stdout",
     "output_type": "stream",
     "text": [
      "Train on 3240000 samples, validate on 360000 samples\n",
      "Epoch 1/3\n",
      "1728000/3240000 [===============>..............] - ETA: 26:15 - loss: 0.0762 - accuracy: 0.9743 - AUC: 0.9953"
     ]
    }
   ],
   "source": [
    "model.fit(X_train, y, batch_size=batch_size, epochs=3, validation_split=0.1,verbose=1,\n",
    "          initial_epoch=0,\n",
    "        callbacks = [\n",
    "            ModelSaveCallback(model_filename),\n",
    "            ModelPredictCallback(predict_filename),\n",
    "        ],\n",
    "        )"
   ]
  },
  {
   "cell_type": "code",
   "execution_count": 0,
   "metadata": {
    "colab": {},
    "colab_type": "code",
    "id": "9ShXTSvOSyXK"
   },
   "outputs": [],
   "source": []
  }
 ],
 "metadata": {
  "accelerator": "GPU",
  "colab": {
   "collapsed_sections": [],
   "machine_shape": "hm",
   "name": "Kernel_meta_final_without_meta.ipynb",
   "provenance": []
  },
  "kernelspec": {
   "display_name": "Python 3",
   "language": "python",
   "name": "python3"
  },
  "language_info": {
   "codemirror_mode": {
    "name": "ipython",
    "version": 3
   },
   "file_extension": ".py",
   "mimetype": "text/x-python",
   "name": "python",
   "nbconvert_exporter": "python",
   "pygments_lexer": "ipython3",
   "version": "3.8.2"
  },
  "widgets": {
   "application/vnd.jupyter.widget-state+json": {
    "204be243ffcb4f0698659eb86ac54212": {
     "model_module": "@jupyter-widgets/base",
     "model_name": "LayoutModel",
     "state": {
      "_model_module": "@jupyter-widgets/base",
      "_model_module_version": "1.2.0",
      "_model_name": "LayoutModel",
      "_view_count": null,
      "_view_module": "@jupyter-widgets/base",
      "_view_module_version": "1.2.0",
      "_view_name": "LayoutView",
      "align_content": null,
      "align_items": null,
      "align_self": null,
      "border": null,
      "bottom": null,
      "display": null,
      "flex": null,
      "flex_flow": null,
      "grid_area": null,
      "grid_auto_columns": null,
      "grid_auto_flow": null,
      "grid_auto_rows": null,
      "grid_column": null,
      "grid_gap": null,
      "grid_row": null,
      "grid_template_areas": null,
      "grid_template_columns": null,
      "grid_template_rows": null,
      "height": null,
      "justify_content": null,
      "justify_items": null,
      "left": null,
      "margin": null,
      "max_height": null,
      "max_width": null,
      "min_height": null,
      "min_width": null,
      "object_fit": null,
      "object_position": null,
      "order": null,
      "overflow": null,
      "overflow_x": null,
      "overflow_y": null,
      "padding": null,
      "right": null,
      "top": null,
      "visibility": null,
      "width": null
     }
    },
    "552b2b34199e4f419a2495f4da49f8e0": {
     "model_module": "@jupyter-widgets/base",
     "model_name": "LayoutModel",
     "state": {
      "_model_module": "@jupyter-widgets/base",
      "_model_module_version": "1.2.0",
      "_model_name": "LayoutModel",
      "_view_count": null,
      "_view_module": "@jupyter-widgets/base",
      "_view_module_version": "1.2.0",
      "_view_name": "LayoutView",
      "align_content": null,
      "align_items": null,
      "align_self": null,
      "border": null,
      "bottom": null,
      "display": null,
      "flex": null,
      "flex_flow": null,
      "grid_area": null,
      "grid_auto_columns": null,
      "grid_auto_flow": null,
      "grid_auto_rows": null,
      "grid_column": null,
      "grid_gap": null,
      "grid_row": null,
      "grid_template_areas": null,
      "grid_template_columns": null,
      "grid_template_rows": null,
      "height": null,
      "justify_content": null,
      "justify_items": null,
      "left": null,
      "margin": null,
      "max_height": null,
      "max_width": null,
      "min_height": null,
      "min_width": null,
      "object_fit": null,
      "object_position": null,
      "order": null,
      "overflow": null,
      "overflow_x": null,
      "overflow_y": null,
      "padding": null,
      "right": null,
      "top": null,
      "visibility": null,
      "width": null
     }
    },
    "654ebf0991664179a397a4b8bf448c75": {
     "model_module": "@jupyter-widgets/controls",
     "model_name": "ProgressStyleModel",
     "state": {
      "_model_module": "@jupyter-widgets/controls",
      "_model_module_version": "1.5.0",
      "_model_name": "ProgressStyleModel",
      "_view_count": null,
      "_view_module": "@jupyter-widgets/base",
      "_view_module_version": "1.2.0",
      "_view_name": "StyleView",
      "bar_color": null,
      "description_width": ""
     }
    },
    "6eec39b2280a4e1ca99b590857a196d1": {
     "model_module": "@jupyter-widgets/base",
     "model_name": "LayoutModel",
     "state": {
      "_model_module": "@jupyter-widgets/base",
      "_model_module_version": "1.2.0",
      "_model_name": "LayoutModel",
      "_view_count": null,
      "_view_module": "@jupyter-widgets/base",
      "_view_module_version": "1.2.0",
      "_view_name": "LayoutView",
      "align_content": null,
      "align_items": null,
      "align_self": null,
      "border": null,
      "bottom": null,
      "display": null,
      "flex": null,
      "flex_flow": null,
      "grid_area": null,
      "grid_auto_columns": null,
      "grid_auto_flow": null,
      "grid_auto_rows": null,
      "grid_column": null,
      "grid_gap": null,
      "grid_row": null,
      "grid_template_areas": null,
      "grid_template_columns": null,
      "grid_template_rows": null,
      "height": null,
      "justify_content": null,
      "justify_items": null,
      "left": null,
      "margin": null,
      "max_height": null,
      "max_width": null,
      "min_height": null,
      "min_width": null,
      "object_fit": null,
      "object_position": null,
      "order": null,
      "overflow": null,
      "overflow_x": null,
      "overflow_y": null,
      "padding": null,
      "right": null,
      "top": null,
      "visibility": null,
      "width": null
     }
    },
    "92379b34508442dd9d4ff376e39c44bf": {
     "model_module": "@jupyter-widgets/controls",
     "model_name": "DescriptionStyleModel",
     "state": {
      "_model_module": "@jupyter-widgets/controls",
      "_model_module_version": "1.5.0",
      "_model_name": "DescriptionStyleModel",
      "_view_count": null,
      "_view_module": "@jupyter-widgets/base",
      "_view_module_version": "1.2.0",
      "_view_name": "StyleView",
      "description_width": ""
     }
    },
    "c5a94fdaa722433caa341d2f51d1c991": {
     "model_module": "@jupyter-widgets/controls",
     "model_name": "HTMLModel",
     "state": {
      "_dom_classes": [],
      "_model_module": "@jupyter-widgets/controls",
      "_model_module_version": "1.5.0",
      "_model_name": "HTMLModel",
      "_view_count": null,
      "_view_module": "@jupyter-widgets/controls",
      "_view_module_version": "1.5.0",
      "_view_name": "HTMLView",
      "description": "",
      "description_tooltip": null,
      "layout": "IPY_MODEL_6eec39b2280a4e1ca99b590857a196d1",
      "placeholder": "​",
      "style": "IPY_MODEL_92379b34508442dd9d4ff376e39c44bf",
      "value": "1193514it [00:35, 33192.42it/s]"
     }
    },
    "d40c2c2dd3bb4d83b3eaf8b03ecd0ec8": {
     "model_module": "@jupyter-widgets/controls",
     "model_name": "IntProgressModel",
     "state": {
      "_dom_classes": [],
      "_model_module": "@jupyter-widgets/controls",
      "_model_module_version": "1.5.0",
      "_model_name": "IntProgressModel",
      "_view_count": null,
      "_view_module": "@jupyter-widgets/controls",
      "_view_module_version": "1.5.0",
      "_view_name": "ProgressView",
      "bar_style": "success",
      "description": "",
      "description_tooltip": null,
      "layout": "IPY_MODEL_204be243ffcb4f0698659eb86ac54212",
      "max": 1,
      "min": 0,
      "orientation": "horizontal",
      "style": "IPY_MODEL_654ebf0991664179a397a4b8bf448c75",
      "value": 1
     }
    },
    "d8e6b4d9f03d4015ba53e5f196e6e80c": {
     "model_module": "@jupyter-widgets/controls",
     "model_name": "HBoxModel",
     "state": {
      "_dom_classes": [],
      "_model_module": "@jupyter-widgets/controls",
      "_model_module_version": "1.5.0",
      "_model_name": "HBoxModel",
      "_view_count": null,
      "_view_module": "@jupyter-widgets/controls",
      "_view_module_version": "1.5.0",
      "_view_name": "HBoxView",
      "box_style": "",
      "children": [
       "IPY_MODEL_d40c2c2dd3bb4d83b3eaf8b03ecd0ec8",
       "IPY_MODEL_c5a94fdaa722433caa341d2f51d1c991"
      ],
      "layout": "IPY_MODEL_552b2b34199e4f419a2495f4da49f8e0"
     }
    }
   }
  }
 },
 "nbformat": 4,
 "nbformat_minor": 1
}
