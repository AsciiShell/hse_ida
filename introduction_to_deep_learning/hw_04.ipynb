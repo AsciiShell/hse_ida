{
 "cells": [
  {
   "cell_type": "code",
   "execution_count": 0,
   "metadata": {
    "colab": {
     "base_uri": "https://localhost:8080/",
     "height": 121
    },
    "colab_type": "code",
    "executionInfo": {
     "elapsed": 18456,
     "status": "ok",
     "timestamp": 1576617139142,
     "user": {
      "displayName": "Kak TyC",
      "photoUrl": "https://lh3.googleusercontent.com/a-/AAuE7mCwC_jCE-5S0ZrH5BvYl5X2NYVZSkFbBiuwL8gMcg=s64",
      "userId": "10975181951625505822"
     },
     "user_tz": -180
    },
    "id": "C8gIyZpas-yu",
    "outputId": "900503cf-db50-4f84-8de7-8c2300b09160"
   },
   "outputs": [
    {
     "name": "stdout",
     "output_type": "stream",
     "text": [
      "Go to this URL in a browser: https://accounts.google.com/o/oauth2/auth?client_id=947318989803-6bn6qk8qdgf4n4g3pfee6491hc0brc4i.apps.googleusercontent.com&redirect_uri=urn%3aietf%3awg%3aoauth%3a2.0%3aoob&response_type=code&scope=email%20https%3a%2f%2fwww.googleapis.com%2fauth%2fdocs.test%20https%3a%2f%2fwww.googleapis.com%2fauth%2fdrive%20https%3a%2f%2fwww.googleapis.com%2fauth%2fdrive.photos.readonly%20https%3a%2f%2fwww.googleapis.com%2fauth%2fpeopleapi.readonly\n",
      "\n",
      "Enter your authorization code:\n",
      "··········\n",
      "Mounted at /content/drive\n"
     ]
    }
   ],
   "source": [
    "from google.colab import drive\n",
    "drive.mount('/content/drive')"
   ]
  },
  {
   "cell_type": "code",
   "execution_count": 0,
   "metadata": {
    "colab": {},
    "colab_type": "code",
    "id": "GTKDPe4Ws-wx"
   },
   "outputs": [],
   "source": [
    "import os\n",
    "os.chdir('/content/drive/Shared drives/Тяжелые проекты/ИАД/intro-to-dl-seminars/hw_4_imgs')"
   ]
  },
  {
   "cell_type": "code",
   "execution_count": 0,
   "metadata": {
    "colab": {
     "base_uri": "https://localhost:8080/",
     "height": 34
    },
    "colab_type": "code",
    "executionInfo": {
     "elapsed": 570,
     "status": "ok",
     "timestamp": 1576617170140,
     "user": {
      "displayName": "Kak TyC",
      "photoUrl": "https://lh3.googleusercontent.com/a-/AAuE7mCwC_jCE-5S0ZrH5BvYl5X2NYVZSkFbBiuwL8gMcg=s64",
      "userId": "10975181951625505822"
     },
     "user_tz": -180
    },
    "id": "-2DEDLCXtMCy",
    "outputId": "d28cdf19-2495-4f35-898f-3c359c138544"
   },
   "outputs": [
    {
     "name": "stdout",
     "output_type": "stream",
     "text": [
      "TensorFlow 2.x selected.\n"
     ]
    }
   ],
   "source": [
    "%tensorflow_version 2.x"
   ]
  },
  {
   "cell_type": "code",
   "execution_count": 0,
   "metadata": {
    "_cell_guid": "b1076dfc-b9ad-4769-8c92-a6c4dae69d19",
    "_uuid": "8f2839f25d086af736a60e9eeb907d3b93b6e0e5",
    "colab": {
     "base_uri": "https://localhost:8080/",
     "height": 50
    },
    "colab_type": "code",
    "executionInfo": {
     "elapsed": 716,
     "status": "ok",
     "timestamp": 1576617999528,
     "user": {
      "displayName": "Kak TyC",
      "photoUrl": "https://lh3.googleusercontent.com/a-/AAuE7mCwC_jCE-5S0ZrH5BvYl5X2NYVZSkFbBiuwL8gMcg=s64",
      "userId": "10975181951625505822"
     },
     "user_tz": -180
    },
    "id": "n1ezFL3Wsyme",
    "outputId": "16ec19f0-c007-4436-f173-050d1dfc8ce4"
   },
   "outputs": [
    {
     "name": "stdout",
     "output_type": "stream",
     "text": [
      "2.1.0-rc1\n",
      "2.2.4-tf\n"
     ]
    }
   ],
   "source": [
    "import pandas as pd\n",
    "import os\n",
    "\n",
    "\n",
    "import tensorflow as tf\n",
    "import tensorflow.keras as keras\n",
    "import numpy as np\n",
    "from tensorflow.python.keras.layers import Conv2D, MaxPooling2D, Flatten, Dense, Activation, Dropout, BatchNormalization\n",
    "from tensorflow.python.keras.layers.advanced_activations import LeakyReLU\n",
    "print(tf.__version__)\n",
    "print(keras.__version__)"
   ]
  },
  {
   "cell_type": "markdown",
   "metadata": {
    "colab_type": "text",
    "id": "j6gePFBYtR23"
   },
   "source": [
    "Проверяем наличие GPU"
   ]
  },
  {
   "cell_type": "code",
   "execution_count": 0,
   "metadata": {
    "colab": {
     "base_uri": "https://localhost:8080/",
     "height": 34
    },
    "colab_type": "code",
    "executionInfo": {
     "elapsed": 872,
     "status": "ok",
     "timestamp": 1576617198585,
     "user": {
      "displayName": "Kak TyC",
      "photoUrl": "https://lh3.googleusercontent.com/a-/AAuE7mCwC_jCE-5S0ZrH5BvYl5X2NYVZSkFbBiuwL8gMcg=s64",
      "userId": "10975181951625505822"
     },
     "user_tz": -180
    },
    "id": "Ph_jBz7Qsymj",
    "outputId": "cc0c61a7-de15-470c-84e2-e04914533059"
   },
   "outputs": [
    {
     "name": "stdout",
     "output_type": "stream",
     "text": [
      "Found GPU at: /device:GPU:0\n"
     ]
    }
   ],
   "source": [
    "tf.test.gpu_device_name()"
   ]
  },
  {
   "cell_type": "code",
   "execution_count": 0,
   "metadata": {
    "colab": {
     "base_uri": "https://localhost:8080/",
     "height": 202
    },
    "colab_type": "code",
    "executionInfo": {
     "elapsed": 2257,
     "status": "ok",
     "timestamp": 1576617842469,
     "user": {
      "displayName": "Kak TyC",
      "photoUrl": "https://lh3.googleusercontent.com/a-/AAuE7mCwC_jCE-5S0ZrH5BvYl5X2NYVZSkFbBiuwL8gMcg=s64",
      "userId": "10975181951625505822"
     },
     "user_tz": -180
    },
    "id": "Lbo08shqsymm",
    "outputId": "c91b8cd9-6b32-4607-f31e-67bd3a34bc3a"
   },
   "outputs": [
    {
     "name": "stdout",
     "output_type": "stream",
     "text": [
      "total 3548497\n",
      "-rw------- 1 root root     22226 Dec 17 07:20 kernel_03.ipynb\n",
      "-rw------- 1 root root     18967 Dec 17 21:17 kernel_kaggle_best.ipynb\n",
      "drwx------ 2 root root      4096 Dec 11 22:15 submit_01\n",
      "drwx------ 2 root root      4096 Dec 12 07:54 submit_02\n",
      "-rw------- 1 root root 867986698 Nov 28 10:01 test.npy\n",
      "-rw------- 1 root root 476482044 Nov 28 10:02 train-1.npy\n",
      "-rw------- 1 root root 693040854 Nov 28 10:03 train-2.npy\n",
      "-rw------- 1 root root 773784254 Nov 28 10:04 train-3.npy\n",
      "-rw------- 1 root root 822311876 Nov 28 10:05 train-4.npy\n",
      "drwx------ 2 root root      4096 Dec 11 22:15 trash\n"
     ]
    }
   ],
   "source": [
    "!ls -l"
   ]
  },
  {
   "cell_type": "code",
   "execution_count": 0,
   "metadata": {
    "colab": {},
    "colab_type": "code",
    "id": "WPsOlY0isymq"
   },
   "outputs": [],
   "source": [
    "INPUT_DIR = '.'\n",
    "data_train = np.load(f\"{INPUT_DIR}/train-1.npy\", allow_pickle=True)\n",
    "for i in range(2, 5):\n",
    "    t = np.load(f\"{INPUT_DIR}/train-{i}.npy\", allow_pickle=True)\n",
    "    data_train = np.concatenate([data_train, t])\n",
    "test = np.load(f\"{INPUT_DIR}/test.npy\", allow_pickle=True)"
   ]
  },
  {
   "cell_type": "code",
   "execution_count": 0,
   "metadata": {
    "colab": {
     "base_uri": "https://localhost:8080/",
     "height": 34
    },
    "colab_type": "code",
    "executionInfo": {
     "elapsed": 11231,
     "status": "ok",
     "timestamp": 1576617274047,
     "user": {
      "displayName": "Kak TyC",
      "photoUrl": "https://lh3.googleusercontent.com/a-/AAuE7mCwC_jCE-5S0ZrH5BvYl5X2NYVZSkFbBiuwL8gMcg=s64",
      "userId": "10975181951625505822"
     },
     "user_tz": -180
    },
    "id": "9N-Sxh-9tjT6",
    "outputId": "cea310e5-85f7-4a62-b42a-ce715e64486b"
   },
   "outputs": [
    {
     "data": {
      "text/plain": [
       "(143.0, 128.0)"
      ]
     },
     "execution_count": 10,
     "metadata": {
      "tags": []
     },
     "output_type": "execute_result"
    }
   ],
   "source": [
    "h=[]\n",
    "w=[]\n",
    "for i in data_train[:,0]:\n",
    "    h_, w_ = i.shape\n",
    "    h.append(h_)\n",
    "    w.append(w_)\n",
    "h=np.array(h)\n",
    "w=np.array(w)\n",
    "np.percentile(h, 99.9), np.percentile(w, 99.9)"
   ]
  },
  {
   "cell_type": "markdown",
   "metadata": {
    "colab_type": "text",
    "id": "bv2F9oC2touK"
   },
   "source": [
    "99.9% картинок будут иметь размеры менее 143x128px"
   ]
  },
  {
   "cell_type": "code",
   "execution_count": 0,
   "metadata": {
    "colab": {},
    "colab_type": "code",
    "id": "Ry-Ieo2fsymt"
   },
   "outputs": [],
   "source": [
    "val_size=0\n",
    "u=np.unique(data_train[:,1])\n",
    "NUM_CLASSES=len(u)\n",
    "\n",
    "char_to_id=dict(zip(u, range(NUM_CLASSES)))\n",
    "batch_size=32\n",
    "RANDOM_SEED=42\n",
    "HEIGHT=150\n",
    "WIDTH=130\n",
    "CHANNELS=1\n",
    "INIT_LR=5e-3"
   ]
  },
  {
   "cell_type": "markdown",
   "metadata": {
    "colab_type": "text",
    "id": "fBdfhI23YDe0"
   },
   "source": [
    "Во время препроцессинга нормализуем картинку и обрежем ее по установленным размерам.\n",
    "\n",
    "Для аугментации будем увеличивать изначальный размер картинки с последующим обрезанием.\n",
    "\n",
    "Как показала практика, излишняя аугментация (небольшой поворот) не улучшает качество.\n",
    "\n",
    "Так же данная модель не переобучается, поэтому обойдемся без валидации."
   ]
  },
  {
   "cell_type": "code",
   "execution_count": 0,
   "metadata": {
    "colab": {},
    "colab_type": "code",
    "id": "au3hld7Bsymv"
   },
   "outputs": [],
   "source": [
    "def train_gen():\n",
    "    for img, label in data_train:\n",
    "        img = img[..., None] \n",
    "        yield img, char_to_id[label]\n",
    "\n",
    "def preprocess(x, y):\n",
    "    x = tf.image.resize_with_crop_or_pad(x, HEIGHT, WIDTH)\n",
    "    x = x/127.5 - 1\n",
    "    return x, y\n",
    "\n",
    "\n",
    "def augmentation(x, y):\n",
    "    x = tf.image.resize_with_crop_or_pad(x, HEIGHT + 20, WIDTH + 20)\n",
    "    x = tf.image.random_crop(x, [HEIGHT, WIDTH, CHANNELS])\n",
    "    return x, y\n",
    "\n",
    "def test_gen():\n",
    "    for img in test:\n",
    "        img = img[..., None] \n",
    "        yield img\n",
    "\n",
    "def preprocess_test(x):\n",
    "    x = tf.image.resize_with_crop_or_pad(x, HEIGHT, WIDTH)\n",
    "    x = x/127.5 - 1\n",
    "    return x"
   ]
  },
  {
   "cell_type": "code",
   "execution_count": 0,
   "metadata": {
    "colab": {},
    "colab_type": "code",
    "id": "FMPRJI8Dsymx"
   },
   "outputs": [],
   "source": [
    "ds_train = tf.data.Dataset.from_generator(train_gen,\n",
    "                                          output_types=(tf.float32, tf.int32),\n",
    "                                          output_shapes=((None,None,1), ())\n",
    "                                         ).map(preprocess, num_parallel_calls=-1).\\\n",
    "    map(augmentation, num_parallel_calls=-1).\\\n",
    "    prefetch(-1).shuffle(RANDOM_SEED).\\\n",
    "    batch(batch_size).repeat()\n",
    "\n",
    "ds_test = tf.data.Dataset.from_generator(test_gen,\n",
    "                                          output_types=(tf.float32),\n",
    "                                          output_shapes=((None,None,1))\n",
    "                                         ).map(preprocess_test, num_parallel_calls=-1).batch(batch_size)\n"
   ]
  },
  {
   "cell_type": "markdown",
   "metadata": {
    "colab_type": "text",
    "id": "xsOONk4vv2E2"
   },
   "source": [
    "Возьмем модель из домашнего задания №3 и улучшим полученную модель:\n",
    "\n",
    "\n",
    "1.   Добавим еще пачку слоев\n",
    "2.   Увеличим размер предпоследнего Dense слоя\n",
    "3.   Уменьшим droupout, чтобы до последнего слоя данные доходили\n",
    "4.   Добавим нормализации\n"
   ]
  },
  {
   "cell_type": "code",
   "execution_count": 0,
   "metadata": {
    "colab": {},
    "colab_type": "code",
    "id": "mFgP78gmsym0"
   },
   "outputs": [],
   "source": [
    "model = tf.keras.models.Sequential() \n",
    "initializer = tf.keras.initializers.lecun_uniform(seed=RANDOM_SEED)\n",
    "input_shape = (HEIGHT, WIDTH, 1)\n",
    "img_input = tf.keras.layers.Input(shape=input_shape)\n",
    "filters = 64\n",
    "lrelu = 0.1\n",
    "dropout = 0.2 \n",
    "\n",
    "model.add(Conv2D(filters=filters, padding='same', kernel_size=(3,3), input_shape=input_shape, kernel_initializer=initializer))\n",
    "model.add(LeakyReLU(lrelu))    \n",
    "model.add(Conv2D(filters=filters, padding='same', kernel_size=(3,3), kernel_initializer=initializer))  \n",
    "model.add(BatchNormalization())\n",
    "model.add(LeakyReLU(lrelu))    \n",
    "model.add(MaxPooling2D(pool_size=(2,2), padding='same'))\n",
    "model.add(Dropout(dropout)) \n",
    "\n",
    "model.add(Conv2D(filters=2*filters, padding='same', kernel_size=(3,3), kernel_initializer=initializer))\n",
    "model.add(LeakyReLU(lrelu))    \n",
    "model.add(Conv2D(filters=2*filters, padding='same', kernel_size=(3,3), kernel_initializer=initializer))  \n",
    "model.add(BatchNormalization())\n",
    "model.add(LeakyReLU(lrelu))    \n",
    "model.add(MaxPooling2D(pool_size=(2,2), padding='same'))\n",
    "model.add(Dropout(dropout)) \n",
    "\n",
    "model.add(Conv2D(filters=4*filters, padding='same', kernel_size=(3,3), kernel_initializer=initializer))  \n",
    "model.add(LeakyReLU(lrelu))\n",
    "model.add(Conv2D(filters=4*filters, padding='same', kernel_size=(3,3), kernel_initializer=initializer))  \n",
    "model.add(BatchNormalization())\n",
    "model.add(LeakyReLU(lrelu))\n",
    "model.add(MaxPooling2D(pool_size=(2,2), padding='same')) \n",
    "model.add(Dropout(dropout)) \n",
    "\n",
    "model.add(Conv2D(filters=8*filters, padding='same', kernel_size=(3,3), kernel_initializer=initializer))  \n",
    "model.add(LeakyReLU(lrelu))\n",
    "model.add(Conv2D(filters=8*filters, padding='same', kernel_size=(3,3), kernel_initializer=initializer))  \n",
    "model.add(BatchNormalization())\n",
    "model.add(LeakyReLU(lrelu))\n",
    "model.add(MaxPooling2D(pool_size=(2,2), padding='same')) \n",
    "model.add(Dropout(dropout)) \n",
    "\n",
    "model.add(Flatten())\n",
    "model.add(Dense(768,kernel_initializer=initializer))                \n",
    "model.add(BatchNormalization())\n",
    "model.add(LeakyReLU(lrelu))\n",
    "model.add(Dropout(0.5))    \n",
    "model.add(Dense(NUM_CLASSES, kernel_initializer=initializer))             \n",
    "\n",
    "model.add(Activation(\"softmax\"))\n",
    "\n",
    "model.compile(\n",
    "            optimizer=keras.optimizers.Adamax(lr=INIT_LR),\n",
    "            loss='sparse_categorical_crossentropy',\n",
    "            metrics=['accuracy'])"
   ]
  },
  {
   "cell_type": "code",
   "execution_count": 0,
   "metadata": {
    "colab": {
     "base_uri": "https://localhost:8080/",
     "height": 1000
    },
    "colab_type": "code",
    "executionInfo": {
     "elapsed": 583,
     "status": "ok",
     "timestamp": 1576619947192,
     "user": {
      "displayName": "Kak TyC",
      "photoUrl": "https://lh3.googleusercontent.com/a-/AAuE7mCwC_jCE-5S0ZrH5BvYl5X2NYVZSkFbBiuwL8gMcg=s64",
      "userId": "10975181951625505822"
     },
     "user_tz": -180
    },
    "id": "VT1ncRPBsym2",
    "outputId": "dec8bfd9-b91b-4d49-e4fc-9a2294744f94"
   },
   "outputs": [
    {
     "name": "stdout",
     "output_type": "stream",
     "text": [
      "Model: \"sequential_2\"\n",
      "_________________________________________________________________\n",
      "Layer (type)                 Output Shape              Param #   \n",
      "=================================================================\n",
      "conv2d_10 (Conv2D)           (None, 150, 130, 64)      640       \n",
      "_________________________________________________________________\n",
      "leaky_re_lu_10 (LeakyReLU)   (None, 150, 130, 64)      0         \n",
      "_________________________________________________________________\n",
      "conv2d_11 (Conv2D)           (None, 150, 130, 64)      36928     \n",
      "_________________________________________________________________\n",
      "batch_normalization_5 (Batch (None, 150, 130, 64)      256       \n",
      "_________________________________________________________________\n",
      "leaky_re_lu_11 (LeakyReLU)   (None, 150, 130, 64)      0         \n",
      "_________________________________________________________________\n",
      "max_pooling2d_4 (MaxPooling2 (None, 75, 65, 64)        0         \n",
      "_________________________________________________________________\n",
      "dropout_5 (Dropout)          (None, 75, 65, 64)        0         \n",
      "_________________________________________________________________\n",
      "conv2d_12 (Conv2D)           (None, 75, 65, 128)       73856     \n",
      "_________________________________________________________________\n",
      "leaky_re_lu_12 (LeakyReLU)   (None, 75, 65, 128)       0         \n",
      "_________________________________________________________________\n",
      "conv2d_13 (Conv2D)           (None, 75, 65, 128)       147584    \n",
      "_________________________________________________________________\n",
      "batch_normalization_6 (Batch (None, 75, 65, 128)       512       \n",
      "_________________________________________________________________\n",
      "leaky_re_lu_13 (LeakyReLU)   (None, 75, 65, 128)       0         \n",
      "_________________________________________________________________\n",
      "max_pooling2d_5 (MaxPooling2 (None, 38, 33, 128)       0         \n",
      "_________________________________________________________________\n",
      "dropout_6 (Dropout)          (None, 38, 33, 128)       0         \n",
      "_________________________________________________________________\n",
      "conv2d_14 (Conv2D)           (None, 38, 33, 256)       295168    \n",
      "_________________________________________________________________\n",
      "leaky_re_lu_14 (LeakyReLU)   (None, 38, 33, 256)       0         \n",
      "_________________________________________________________________\n",
      "conv2d_15 (Conv2D)           (None, 38, 33, 256)       590080    \n",
      "_________________________________________________________________\n",
      "batch_normalization_7 (Batch (None, 38, 33, 256)       1024      \n",
      "_________________________________________________________________\n",
      "leaky_re_lu_15 (LeakyReLU)   (None, 38, 33, 256)       0         \n",
      "_________________________________________________________________\n",
      "max_pooling2d_6 (MaxPooling2 (None, 19, 17, 256)       0         \n",
      "_________________________________________________________________\n",
      "dropout_7 (Dropout)          (None, 19, 17, 256)       0         \n",
      "_________________________________________________________________\n",
      "conv2d_16 (Conv2D)           (None, 19, 17, 512)       1180160   \n",
      "_________________________________________________________________\n",
      "leaky_re_lu_16 (LeakyReLU)   (None, 19, 17, 512)       0         \n",
      "_________________________________________________________________\n",
      "conv2d_17 (Conv2D)           (None, 19, 17, 512)       2359808   \n",
      "_________________________________________________________________\n",
      "batch_normalization_8 (Batch (None, 19, 17, 512)       2048      \n",
      "_________________________________________________________________\n",
      "leaky_re_lu_17 (LeakyReLU)   (None, 19, 17, 512)       0         \n",
      "_________________________________________________________________\n",
      "max_pooling2d_7 (MaxPooling2 (None, 10, 9, 512)        0         \n",
      "_________________________________________________________________\n",
      "dropout_8 (Dropout)          (None, 10, 9, 512)        0         \n",
      "_________________________________________________________________\n",
      "flatten_1 (Flatten)          (None, 46080)             0         \n",
      "_________________________________________________________________\n",
      "dense_2 (Dense)              (None, 768)               35390208  \n",
      "_________________________________________________________________\n",
      "batch_normalization_9 (Batch (None, 768)               3072      \n",
      "_________________________________________________________________\n",
      "leaky_re_lu_18 (LeakyReLU)   (None, 768)               0         \n",
      "_________________________________________________________________\n",
      "dropout_9 (Dropout)          (None, 768)               0         \n",
      "_________________________________________________________________\n",
      "dense_3 (Dense)              (None, 1000)              769000    \n",
      "_________________________________________________________________\n",
      "activation_1 (Activation)    (None, 1000)              0         \n",
      "=================================================================\n",
      "Total params: 40,850,344\n",
      "Trainable params: 40,846,888\n",
      "Non-trainable params: 3,456\n",
      "_________________________________________________________________\n"
     ]
    }
   ],
   "source": [
    "model.summary()"
   ]
  },
  {
   "cell_type": "code",
   "execution_count": 0,
   "metadata": {
    "colab": {},
    "colab_type": "code",
    "id": "n-RmEB_WwtP0"
   },
   "outputs": [],
   "source": [
    "TAKE=3 # Порядковый номер решения\n",
    "model_filename = '{0:02d}_kernel_opt_{{0:02d}}.hdf5'.format(TAKE)\n",
    "predict_filename = '{0:02d}_kernel_opt_{{0:02d}}.csv'.format(TAKE)"
   ]
  },
  {
   "cell_type": "code",
   "execution_count": 0,
   "metadata": {
    "colab": {},
    "colab_type": "code",
    "id": "57KrVdbVwf9S"
   },
   "outputs": [],
   "source": [
    "class ModelSaveCallback(keras.callbacks.Callback):\n",
    "\n",
    "    def __init__(self, file_name):\n",
    "        super(ModelSaveCallback, self).__init__()\n",
    "        self.file_name = file_name\n",
    "\n",
    "    def on_epoch_end(self, epoch, logs=None):\n",
    "        filename = self.file_name.format(epoch)\n",
    "        print()\n",
    "        keras.models.save_model(self.model, filename)\n",
    "        \n",
    "class ModelPredictCallback(keras.callbacks.Callback):\n",
    "\n",
    "    def __init__(self, file_name):\n",
    "        super(ModelPredictCallback, self).__init__()\n",
    "        self.file_name = file_name\n",
    "\n",
    "    def on_epoch_end(self, epoch, logs=None):\n",
    "        filename = self.file_name.format(epoch)\n",
    "        result = self.model.predict_classes(ds_test, batch_size=None, verbose=1)\n",
    "        predictions=[]\n",
    "        for i in result:\n",
    "            predictions.append(u[i])\n",
    "        df=pd.DataFrame({'Id': range(len(predictions)), 'Category': predictions}, columns=[ 'Id', 'Category'])\n",
    "        df['Id'] += 1\n",
    "        df.to_csv(filename, index=None)"
   ]
  },
  {
   "cell_type": "code",
   "execution_count": 0,
   "metadata": {
    "colab": {},
    "colab_type": "code",
    "id": "qJp3gs2Psym8"
   },
   "outputs": [],
   "source": [
    "def lr_scheduler(epoch):\n",
    "    return INIT_LR * 0.9 ** epoch "
   ]
  },
  {
   "cell_type": "code",
   "execution_count": 0,
   "metadata": {
    "colab": {
     "base_uri": "https://localhost:8080/",
     "height": 1000
    },
    "colab_type": "code",
    "executionInfo": {
     "elapsed": 14996783,
     "status": "ok",
     "timestamp": 1576643176958,
     "user": {
      "displayName": "Kak TyC",
      "photoUrl": "https://lh3.googleusercontent.com/a-/AAuE7mCwC_jCE-5S0ZrH5BvYl5X2NYVZSkFbBiuwL8gMcg=s64",
      "userId": "10975181951625505822"
     },
     "user_tz": -180
    },
    "id": "YZvqfp99sym-",
    "outputId": "0af1ae6c-f6b9-459b-a8fb-9c321dce6416"
   },
   "outputs": [
    {
     "name": "stdout",
     "output_type": "stream",
     "text": [
      "Train for 10405 steps\n",
      "Epoch 1/20\n",
      "\n",
      "   2602/Unknown - 95s 37ms/step10405/10405 - 1157s - loss: 1.9893 - accuracy: 0.5991\n",
      "Epoch 2/20\n",
      "\n",
      "   2602/Unknown - 96s 37ms/step10405/10405 - 1160s - loss: 0.2436 - accuracy: 0.9312\n",
      "Epoch 3/20\n",
      "\n",
      "   2602/Unknown - 99s 38ms/step10405/10405 - 1160s - loss: 0.1435 - accuracy: 0.9591\n",
      "Epoch 4/20\n",
      "\n",
      "   2602/Unknown - 99s 38ms/step10405/10405 - 1171s - loss: 0.1043 - accuracy: 0.9703\n",
      "Epoch 5/20\n",
      "\n",
      "   2602/Unknown - 96s 37ms/step10405/10405 - 1156s - loss: 0.0807 - accuracy: 0.9769\n",
      "Epoch 6/20\n",
      "\n",
      "   2602/Unknown - 97s 37ms/step10405/10405 - 1162s - loss: 0.0668 - accuracy: 0.9810\n",
      "Epoch 7/20\n",
      "\n",
      "   2602/Unknown - 97s 37ms/step10405/10405 - 1163s - loss: 0.0558 - accuracy: 0.9843\n",
      "Epoch 8/20\n",
      "\n",
      "   2602/Unknown - 99s 38ms/step10405/10405 - 1168s - loss: 0.0475 - accuracy: 0.9865\n",
      "Epoch 9/20\n",
      "\n",
      "   2602/Unknown - 99s 38ms/step10405/10405 - 1166s - loss: 0.0415 - accuracy: 0.9878\n",
      "Epoch 10/20\n",
      "\n",
      "   2602/Unknown - 95s 37ms/step10405/10405 - 1157s - loss: 0.0363 - accuracy: 0.9897\n",
      "Epoch 11/20\n",
      "\n",
      "   2602/Unknown - 95s 37ms/step10405/10405 - 1146s - loss: 0.0323 - accuracy: 0.9907\n",
      "Epoch 12/20\n",
      "\n",
      "   2602/Unknown - 98s 38ms/step10405/10405 - 1156s - loss: 0.0292 - accuracy: 0.9917\n",
      "Epoch 13/20\n",
      "\n",
      "   2602/Unknown - 97s 37ms/step10405/10405 - 1158s - loss: 0.0266 - accuracy: 0.9923\n",
      "Epoch 14/20\n",
      "\n",
      "   2602/Unknown - 97s 37ms/step10405/10405 - 1158s - loss: 0.0252 - accuracy: 0.9928\n",
      "Epoch 15/20\n",
      "\n",
      "   2602/Unknown - 97s 37ms/step10405/10405 - 1156s - loss: 0.0230 - accuracy: 0.9935\n",
      "Epoch 16/20\n",
      "\n",
      "   2602/Unknown - 98s 38ms/step10405/10405 - 1160s - loss: 0.0215 - accuracy: 0.9938\n",
      "Epoch 17/20\n",
      "\n",
      "   2602/Unknown - 99s 38ms/step10405/10405 - 1163s - loss: 0.0198 - accuracy: 0.9942\n",
      "Epoch 18/20\n",
      "\n",
      "   2602/Unknown - 98s 38ms/step10405/10405 - 1165s - loss: 0.0184 - accuracy: 0.9949\n",
      "Epoch 19/20\n",
      "\n",
      "   2602/Unknown - 98s 37ms/step10405/10405 - 1163s - loss: 0.0176 - accuracy: 0.9950\n",
      "Epoch 20/20\n",
      "\n",
      "   2602/Unknown - 98s 38ms/step10405/10405 - 1160s - loss: 0.0168 - accuracy: 0.9952\n"
     ]
    },
    {
     "data": {
      "text/plain": [
       "<tensorflow.python.keras.callbacks.History at 0x7fe4a5b9a978>"
      ]
     },
     "execution_count": 58,
     "metadata": {
      "tags": []
     },
     "output_type": "execute_result"
    }
   ],
   "source": [
    "model.fit(ds_train,\n",
    "        epochs=20,\n",
    "        steps_per_epoch=int(data_train.shape[0]/batch_size),\n",
    "        verbose=2,\n",
    "        callbacks=[\n",
    "            keras.callbacks.LearningRateScheduler(lr_scheduler), \n",
    "            ModelSaveCallback(model_filename),\n",
    "            ModelPredictCallback(predict_filename),\n",
    "        ],\n",
    ")"
   ]
  },
  {
   "cell_type": "markdown",
   "metadata": {
    "colab_type": "text",
    "id": "Q5NcpZz2Z5P4"
   },
   "source": [
    "Качество модели улучшалось после каждой эпохе, аналогичный результат замечен и на публичном лидерборде.\n",
    "\n",
    "Данную модель можно попытаться улучшить следующими способами:\n",
    "\n",
    "*   Добавить больше эпох (качество растет)\n",
    "*   Поэкспериментировать с самой моделью (гиперпараметры, межслойные связи)\n",
    "*   Попробовать добавить дополнительную аугментацию, которая не ухудшит качество\n",
    "\n"
   ]
  },
  {
   "cell_type": "code",
   "execution_count": 0,
   "metadata": {
    "colab": {},
    "colab_type": "code",
    "id": "z8UDMxjqsynB"
   },
   "outputs": [],
   "source": []
  }
 ],
 "metadata": {
  "accelerator": "GPU",
  "colab": {
   "collapsed_sections": [],
   "name": "kernel_kaggle_best.ipynb",
   "provenance": []
  },
  "kernelspec": {
   "display_name": "Python 3",
   "language": "python",
   "name": "python3"
  },
  "language_info": {
   "codemirror_mode": {
    "name": "ipython",
    "version": 3
   },
   "file_extension": ".py",
   "mimetype": "text/x-python",
   "name": "python",
   "nbconvert_exporter": "python",
   "pygments_lexer": "ipython3",
   "version": "3.8.2"
  }
 },
 "nbformat": 4,
 "nbformat_minor": 1
}
