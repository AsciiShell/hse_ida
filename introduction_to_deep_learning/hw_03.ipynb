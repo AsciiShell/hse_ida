{
 "nbformat": 4,
 "nbformat_minor": 0,
 "metadata": {
  "accelerator": "GPU",
  "colab": {
   "name": "hw3.ipynb",
   "provenance": [],
   "collapsed_sections": []
  },
  "kernelspec": {
   "display_name": "Python 3",
   "language": "python",
   "name": "python3"
  },
  "language_info": {
   "codemirror_mode": {
    "name": "ipython",
    "version": 3
   },
   "file_extension": ".py",
   "mimetype": "text/x-python",
   "name": "python",
   "nbconvert_exporter": "python",
   "pygments_lexer": "ipython3",
   "version": "3.7.3"
  }
 },
 "cells": [
  {
   "cell_type": "markdown",
   "metadata": {
    "colab_type": "text",
    "id": "gO2BchskQWoH"
   },
   "source": [
    "# Домашнее задание 3.\n",
    "\n",
    "`Keras` и сверточные нейронные сети."
   ]
  },
  {
   "cell_type": "markdown",
   "metadata": {
    "id": "r_L58Kyas0Sl",
    "colab_type": "text"
   },
   "source": [
    "Задание выполнил(а): Подчезерцев Алексей"
   ]
  },
  {
   "cell_type": "code",
   "metadata": {
    "id": "YiHigtNQ2LNu",
    "colab_type": "code",
    "colab": {}
   },
   "source": [
    "RANDOM_SEED = 42"
   ],
   "execution_count": 0,
   "outputs": []
  },
  {
   "cell_type": "code",
   "metadata": {
    "colab_type": "code",
    "id": "WmIuIaLEATMn",
    "outputId": "8d2e1848-dbef-4722-f340-4fa3971f6caa",
    "executionInfo": {
     "status": "ok",
     "timestamp": 1572685417626,
     "user_tz": -180,
     "elapsed": 3253,
     "user": {
      "displayName": "Алексей Подчезерцев",
      "photoUrl": "https://lh3.googleusercontent.com/a-/AAuE7mBbUw_CVz8K3RIunXwSoj-hNZ6f2buYD0JYAcB_=s64",
      "userId": "04087359208169148337"
     }
    },
    "colab": {
     "base_uri": "https://localhost:8080/",
     "height": 114
    }
   },
   "source": [
    "import tensorflow as tf\n",
    "import keras\n",
    "from keras import backend as K\n",
    "%matplotlib inline\n",
    "import matplotlib.pyplot as plt\n",
    "print(tf.__version__)\n",
    "print(keras.__version__)"
   ],
   "execution_count": 2,
   "outputs": [
    {
     "output_type": "display_data",
     "data": {
      "text/html": [
       "<p style=\"color: red;\">\n",
       "The default version of TensorFlow in Colab will soon switch to TensorFlow 2.x.<br>\n",
       "We recommend you <a href=\"https://www.tensorflow.org/guide/migrate\" target=\"_blank\">upgrade</a> now \n",
       "or ensure your notebook will continue to use TensorFlow 1.x via the <code>%tensorflow_version 1.x</code> magic:\n",
       "<a href=\"https://colab.research.google.com/notebooks/tensorflow_version.ipynb\" target=\"_blank\">more info</a>.</p>\n"
      ],
      "text/plain": [
       "<IPython.core.display.HTML object>"
      ]
     },
     "metadata": {
      "tags": []
     }
    },
    {
     "output_type": "stream",
     "text": [
      "1.15.0\n",
      "2.2.5\n"
     ],
     "name": "stdout"
    },
    {
     "output_type": "stream",
     "text": [
      "Using TensorFlow backend.\n"
     ],
     "name": "stderr"
    }
   ]
  },
  {
   "cell_type": "code",
   "metadata": {
    "colab_type": "code",
    "id": "efsrp4vQfls5",
    "colab": {}
   },
   "source": [
    "def reset_tf_session():\n",
    "    curr_session = tf.get_default_session()\n",
    "    if curr_session is not None:\n",
    "        curr_session.close()\n",
    "    K.clear_session()\n",
    "    config = tf.ConfigProto()\n",
    "    config.gpu_options.allow_growth = True\n",
    "    s = tf.InteractiveSession(config=config)\n",
    "    K.set_session(s)\n",
    "    return s"
   ],
   "execution_count": 0,
   "outputs": []
  },
  {
   "cell_type": "markdown",
   "metadata": {
    "colab_type": "text",
    "id": "HE_SpMQMQm8Y"
   },
   "source": [
    "## Задание 1 — инициализация весов CNN (3 балла).\n",
    "\n",
    "В этом задании нужно будет исследовать, как выбор функции инициализации весов влияет на обучение CNN.\n"
   ]
  },
  {
   "cell_type": "markdown",
   "metadata": {
    "colab_type": "text",
    "id": "oIoAOXkJSwbs"
   },
   "source": [
    "Продолжим работать с датасетом CIFAR-10."
   ]
  },
  {
   "cell_type": "code",
   "metadata": {
    "colab_type": "code",
    "id": "IsuA4kiHA4ff",
    "outputId": "23e6bd4f-5077-46bc-c27a-ae3b4b8671bd",
    "executionInfo": {
     "status": "ok",
     "timestamp": 1572685427287,
     "user_tz": -180,
     "elapsed": 12881,
     "user": {
      "displayName": "Алексей Подчезерцев",
      "photoUrl": "https://lh3.googleusercontent.com/a-/AAuE7mBbUw_CVz8K3RIunXwSoj-hNZ6f2buYD0JYAcB_=s64",
      "userId": "04087359208169148337"
     }
    },
    "colab": {
     "base_uri": "https://localhost:8080/",
     "height": 85
    }
   },
   "source": [
    "from keras.datasets import cifar10\n",
    "(x_train, y_train), (x_test, y_test) = cifar10.load_data()\n",
    "\n",
    "NUM_CLASSES = 10\n",
    "cifar10_classes = [\"airplane\", \"automobile\", \"bird\", \"cat\", \"deer\", \n",
    "                   \"dog\", \"frog\", \"horse\", \"ship\", \"truck\"]\n",
    "\n",
    "print(\"Train samples:\", x_train.shape, y_train.shape)\n",
    "print(\"Test samples:\", x_test.shape, y_test.shape)\n",
    "\n",
    "# нормализуем входные данные\n",
    "x_train = x_train / 255 - 0.5\n",
    "x_test = x_test / 255 - 0.5\n",
    "\n",
    "y_train = keras.utils.to_categorical(y_train, 10)\n",
    "y_test = keras.utils.to_categorical(y_test, 10)"
   ],
   "execution_count": 4,
   "outputs": [
    {
     "output_type": "stream",
     "text": [
      "Downloading data from https://www.cs.toronto.edu/~kriz/cifar-10-python.tar.gz\n",
      "170500096/170498071 [==============================] - 6s 0us/step\n",
      "Train samples: (50000, 32, 32, 3) (50000, 1)\n",
      "Test samples: (10000, 32, 32, 3) (10000, 1)\n"
     ],
     "name": "stdout"
    }
   ]
  },
  {
   "cell_type": "code",
   "metadata": {
    "colab_type": "code",
    "id": "xNl2e8LeftcC",
    "colab": {}
   },
   "source": [
    "from keras.models import Sequential\n",
    "from keras.layers import Conv2D, MaxPooling2D, Flatten, Dense, Activation, Dropout\n",
    "from keras.layers.advanced_activations import LeakyReLU\n",
    "from keras.models import load_model"
   ],
   "execution_count": 0,
   "outputs": []
  },
  {
   "cell_type": "markdown",
   "metadata": {
    "colab_type": "text",
    "id": "f2vQIUE3UeiE"
   },
   "source": [
    "Определим функцию `fit_model` с архитектурой архитектура CNN.\n",
    "\n",
    "Метод `model.fit` возвращает объект класса `keras.callbacks.History()` — это колбэк, который автоматически применяется ко всем моделям и логирует много чего полезного. В частности логируются значения функции потерь на каждой итерации."
   ]
  },
  {
   "cell_type": "markdown",
   "metadata": {
    "colab_type": "text",
    "id": "dDslR6vNZry8"
   },
   "source": [
    "**Задание 1.1** (0.5 балла) Добавьте в архитектуру модели инициализацию весов для тех слоев, где она необходима.\n"
   ]
  },
  {
   "cell_type": "code",
   "metadata": {
    "colab_type": "code",
    "id": "2_Lu7SO3CMid",
    "colab": {}
   },
   "source": [
    "def fit_model(initializer='glorot_normal'):\n",
    "    s = reset_tf_session()  \n",
    "    INIT_LR = 5e-3\n",
    "    BATCH_SIZE = 32\n",
    "    EPOCHS = 10\n",
    "   \n",
    "    def lr_scheduler(epoch):\n",
    "        return INIT_LR * 0.9 ** epoch  \n",
    "\n",
    "    ### YOUR CODE HERE \n",
    "    # kernel_initializer=initializer для тех слоев, которым нужна инициализация весов\n",
    "    model = Sequential()\n",
    "    model.add(Conv2D(filters=16, padding='same', kernel_size=(3,3), input_shape=(32,32,3), kernel_initializer=initializer))\n",
    "    model.add(LeakyReLU(0.1))\n",
    "    model.add(Conv2D(filters=64, padding='same', kernel_size=(3,3), kernel_initializer=initializer))  \n",
    "    model.add(LeakyReLU(0.1))\n",
    "    model.add(MaxPooling2D(pool_size=(2,2), padding='same'))\n",
    "    model.add(Dropout(0.25))\n",
    "    model.add(Flatten())\n",
    "    model.add(Dense(40, kernel_initializer=initializer))\n",
    "    model.add(LeakyReLU(0.1))\n",
    "    model.add(Dropout(0.5))    \n",
    "    model.add(Dense(10, kernel_initializer=initializer))\n",
    "    model.add(Activation(\"softmax\"))\n",
    "\n",
    "\n",
    "    model.compile(\n",
    "        loss='categorical_crossentropy',\n",
    "        optimizer=keras.optimizers.adamax(lr=INIT_LR),\n",
    "        metrics=['accuracy']\n",
    "    )\n",
    "  \n",
    "    history = model.fit(\n",
    "        x_train, y_train,\n",
    "        batch_size=BATCH_SIZE,\n",
    "        epochs=EPOCHS,\n",
    "        callbacks=[keras.callbacks.LearningRateScheduler(lr_scheduler)],                   \n",
    "        shuffle=True,\n",
    "        verbose=0,\n",
    "        initial_epoch=0    \n",
    "    )\n",
    "\n",
    "    # Возвращаем объект класса keras.callbacks.History\n",
    "    return history"
   ],
   "execution_count": 0,
   "outputs": []
  },
  {
   "cell_type": "markdown",
   "metadata": {
    "colab_type": "text",
    "id": "bYkZkghfT4uN"
   },
   "source": [
    "**Задание 1.2** (1.5 балла). Обучите модель с разными [функциями инициализации](https://keras.io/initializers/) весов:\n",
    "* `Zeros` — веса инициализируются нулями\n",
    "* `Constant=0.05` — веса инициализируются константой 0.05\n",
    "* `RandomUniform` — веса генерируются равномерно из отрезка [-0.05, 0.05]\n",
    "* `glorot_normal` — Xavier initializer из лекций\n",
    "* `lecun_uniform`\n",
    "\n",
    "Добавьте в список `losses` значения функции потерь для каждой функции инициализации, их можно достать из `History`\n",
    "\n"
   ]
  },
  {
   "cell_type": "code",
   "metadata": {
    "id": "kPBPFSWXyT_u",
    "colab_type": "code",
    "outputId": "47d00240-3783-4730-9d84-360e9742aaec",
    "executionInfo": {
     "status": "ok",
     "timestamp": 1572636939139,
     "user_tz": -180,
     "elapsed": 924102,
     "user": {
      "displayName": "Алексей Подчезерцев",
      "photoUrl": "https://lh3.googleusercontent.com/a-/AAuE7mBbUw_CVz8K3RIunXwSoj-hNZ6f2buYD0JYAcB_=s64",
      "userId": "04087359208169148337"
     }
    },
    "colab": {
     "base_uri": "https://localhost:8080/",
     "height": 541
    }
   },
   "source": [
    "losses = []\n",
    "for initializer in [keras.initializers.Zeros(), \n",
    "                    keras.initializers.Constant(value=0.05), \n",
    "                    keras.initializers.RandomUniform(minval=-0.05, maxval=0.05, seed=RANDOM_SEED),\n",
    "                    keras.initializers.glorot_normal(seed=RANDOM_SEED),\n",
    "                    keras.initializers.lecun_uniform(seed=RANDOM_SEED),\n",
    "                    ]:\n",
    "    history = fit_model(initializer)\n",
    "    losses.append(history.history['loss'])"
   ],
   "execution_count": 0,
   "outputs": [
    {
     "output_type": "stream",
     "text": [
      "WARNING:tensorflow:From /usr/local/lib/python3.6/dist-packages/keras/backend/tensorflow_backend.py:541: The name tf.placeholder is deprecated. Please use tf.compat.v1.placeholder instead.\n",
      "\n",
      "WARNING:tensorflow:From /usr/local/lib/python3.6/dist-packages/keras/backend/tensorflow_backend.py:4267: The name tf.nn.max_pool is deprecated. Please use tf.nn.max_pool2d instead.\n",
      "\n",
      "WARNING:tensorflow:From /usr/local/lib/python3.6/dist-packages/keras/backend/tensorflow_backend.py:3733: calling dropout (from tensorflow.python.ops.nn_ops) with keep_prob is deprecated and will be removed in a future version.\n",
      "Instructions for updating:\n",
      "Please use `rate` instead of `keep_prob`. Rate should be set to `rate = 1 - keep_prob`.\n",
      "WARNING:tensorflow:From /usr/local/lib/python3.6/dist-packages/keras/optimizers.py:793: The name tf.train.Optimizer is deprecated. Please use tf.compat.v1.train.Optimizer instead.\n",
      "\n",
      "WARNING:tensorflow:From /usr/local/lib/python3.6/dist-packages/keras/backend/tensorflow_backend.py:3576: The name tf.log is deprecated. Please use tf.math.log instead.\n",
      "\n",
      "WARNING:tensorflow:From /usr/local/lib/python3.6/dist-packages/tensorflow_core/python/ops/math_grad.py:1424: where (from tensorflow.python.ops.array_ops) is deprecated and will be removed in a future version.\n",
      "Instructions for updating:\n",
      "Use tf.where in 2.0, which has the same broadcast rule as np.where\n",
      "WARNING:tensorflow:From /usr/local/lib/python3.6/dist-packages/keras/backend/tensorflow_backend.py:1033: The name tf.assign_add is deprecated. Please use tf.compat.v1.assign_add instead.\n",
      "\n",
      "WARNING:tensorflow:From /usr/local/lib/python3.6/dist-packages/keras/backend/tensorflow_backend.py:1020: The name tf.assign is deprecated. Please use tf.compat.v1.assign instead.\n",
      "\n",
      "WARNING:tensorflow:From /usr/local/lib/python3.6/dist-packages/keras/backend/tensorflow_backend.py:3005: The name tf.Session is deprecated. Please use tf.compat.v1.Session instead.\n",
      "\n",
      "WARNING:tensorflow:From /usr/local/lib/python3.6/dist-packages/keras/backend/tensorflow_backend.py:207: The name tf.global_variables is deprecated. Please use tf.compat.v1.global_variables instead.\n",
      "\n",
      "WARNING:tensorflow:From /usr/local/lib/python3.6/dist-packages/keras/backend/tensorflow_backend.py:216: The name tf.is_variable_initialized is deprecated. Please use tf.compat.v1.is_variable_initialized instead.\n",
      "\n",
      "WARNING:tensorflow:From /usr/local/lib/python3.6/dist-packages/keras/backend/tensorflow_backend.py:223: The name tf.variables_initializer is deprecated. Please use tf.compat.v1.variables_initializer instead.\n",
      "\n",
      "WARNING:tensorflow:From /usr/local/lib/python3.6/dist-packages/keras/backend/tensorflow_backend.py:4432: The name tf.random_uniform is deprecated. Please use tf.random.uniform instead.\n",
      "\n",
      "WARNING:tensorflow:From /usr/local/lib/python3.6/dist-packages/keras/backend/tensorflow_backend.py:4479: The name tf.truncated_normal is deprecated. Please use tf.random.truncated_normal instead.\n",
      "\n"
     ],
     "name": "stdout"
    }
   ]
  },
  {
   "cell_type": "markdown",
   "metadata": {
    "colab_type": "text",
    "id": "wsk8bCEPcOav"
   },
   "source": [
    "\n",
    "**Задание 1.3** (1 балла). Постройте графики зависимости функций потерь от номера итерации, подпишите их. Прокомментируйте результат."
   ]
  },
  {
   "cell_type": "code",
   "metadata": {
    "colab_type": "code",
    "id": "3yqBZIYEAPWZ",
    "outputId": "b3340eb4-527c-41dc-fdb6-58bd8f16d16d",
    "executionInfo": {
     "status": "ok",
     "timestamp": 1572636941086,
     "user_tz": -180,
     "elapsed": 1773,
     "user": {
      "displayName": "Алексей Подчезерцев",
      "photoUrl": "https://lh3.googleusercontent.com/a-/AAuE7mBbUw_CVz8K3RIunXwSoj-hNZ6f2buYD0JYAcB_=s64",
      "userId": "04087359208169148337"
     }
    },
    "colab": {
     "base_uri": "https://localhost:8080/",
     "height": 458
    }
   },
   "source": [
    "labels = [\"Zero\", \"Constant\", \"RandomUniform\", \"Glorot normal\", \"Lecun\"]\n",
    "plt.figure(figsize=[16, 7])\n",
    "for i,v in enumerate(labels):\n",
    "    plt.plot(losses[i], label=f\"{v} init\")\n",
    "plt.title('Зависимость функции потерь от номера итерации и типа инициализации')\n",
    "plt.legend(loc='best')\n",
    "\n",
    "plt.xlabel(\"# итерации\")\n",
    "plt.ylabel(\"Функция потерь\")\n",
    "plt.show()"
   ],
   "execution_count": 0,
   "outputs": [
    {
     "output_type": "display_data",
     "data": {
      "image/png": "[encoded data removed]",
      "text/plain": [
       "<Figure size 1152x504 with 1 Axes>"
      ]
     },
     "metadata": {
      "tags": []
     }
    }
   ]
  },
  {
   "cell_type": "markdown",
   "metadata": {
    "id": "XUo1JnPI_T0W",
    "colab_type": "text"
   },
   "source": [
    "Инициализация 0 не позволяет обучаться слою (производная в точке зануляется).\n",
    "\n",
    "Другие же показали уменьшение функции потерь при увеличении номера итерации.\n",
    "При этом чем более математически обоснован алгоритм, тем меньше потери.\n",
    "\n",
    "Случайная инициализация весов себя показала заметно лучше, чем с одинаковыми значениями.\n",
    "Даже если параметры имеют одинаковые значения, они будут обучаться по-разному (т.к. веса их разные), что приведет к более быстрому и качественному решению.\n",
    "\n",
    "Glorot normal и Lecun дали почти одинаковые результаты, но lecun немного лучше."
   ]
  },
  {
   "cell_type": "markdown",
   "metadata": {
    "colab_type": "text",
    "id": "nellCcusBAZ8"
   },
   "source": [
    "## Задание 2 — CNN для CIFAR-10 с сохранением весов модели (7 баллов)\n",
    "\n",
    "В этом задании мы модифицируем нейросеть с семинара, чтобы она достигала большего значения `accuracy` и научимся сохранять веса модели в файл во время обучения. Можно использовать только те же слои, которые использовались на семинаре: `Conv2D, MaxPooling2D,  LeakyReLU, Dropout, Flatten, Dense`."
   ]
  },
  {
   "cell_type": "markdown",
   "metadata": {
    "colab_type": "text",
    "id": "xuVF3c2qJwyx"
   },
   "source": [
    "**Задание 2.1** (4 балла). Подберите архитектуру модели так, чтобы значение `accuracy` на тестовой выборке было не менее 85."
   ]
  },
  {
   "cell_type": "code",
   "metadata": {
    "colab_type": "code",
    "id": "syKDJPUdCtoI",
    "colab": {}
   },
   "source": [
    "def make_model():    \n",
    "    model = Sequential()\n",
    "    initializer = keras.initializers.lecun_uniform(seed=RANDOM_SEED)\n",
    "\n",
    "    model.add(Conv2D(filters=64, padding='same', kernel_size=(3,3), input_shape=(32,32,3), kernel_initializer=initializer))\n",
    "    model.add(LeakyReLU(0.1))    \n",
    "    model.add(Conv2D(filters=64, padding='same', kernel_size=(3,3), kernel_initializer=initializer))  \n",
    "    model.add(LeakyReLU(0.1))    \n",
    "    model.add(MaxPooling2D(pool_size=(2,2), padding='same'))\n",
    "    model.add(Dropout(0.3)) \n",
    "\n",
    "    model.add(Conv2D(filters=128, padding='same', kernel_size=(3,3), kernel_initializer=initializer))\n",
    "    model.add(LeakyReLU(0.1))    \n",
    "    model.add(Conv2D(filters=128, padding='same', kernel_size=(3,3), kernel_initializer=initializer))  \n",
    "    model.add(LeakyReLU(0.1))    \n",
    "    model.add(MaxPooling2D(pool_size=(2,2), padding='same'))\n",
    "    model.add(Dropout(0.3)) \n",
    "\n",
    "    model.add(Conv2D(filters=256, padding='same', kernel_size=(3,3), kernel_initializer=initializer))  \n",
    "    model.add(LeakyReLU(0.1))\n",
    "    model.add(Conv2D(filters=256, padding='same', kernel_size=(3,3), kernel_initializer=initializer))  \n",
    "    model.add(LeakyReLU(0.1))\n",
    "    model.add(MaxPooling2D(pool_size=(2,2), padding='same')) \n",
    "    model.add(Dropout(0.3)) \n",
    "\n",
    "    model.add(Flatten())\n",
    "    model.add(Dense(256, kernel_initializer=initializer))                \n",
    "    model.add(LeakyReLU(0.1))\n",
    "    model.add(Dropout(0.5))    \n",
    "    model.add(Dense(NUM_CLASSES, kernel_initializer=initializer))             \n",
    "    \n",
    "    model.add(Activation(\"softmax\"))\n",
    "    return model\n",
    "        "
   ],
   "execution_count": 0,
   "outputs": []
  },
  {
   "cell_type": "code",
   "metadata": {
    "colab_type": "code",
    "id": "MoZifjkgFdcg",
    "outputId": "624b85ef-a3dc-400a-e0c6-e2fcf9011452",
    "executionInfo": {
     "status": "ok",
     "timestamp": 1572695264612,
     "user_tz": -180,
     "elapsed": 1075,
     "user": {
      "displayName": "Алексей Подчезерцев",
      "photoUrl": "https://lh3.googleusercontent.com/a-/AAuE7mBbUw_CVz8K3RIunXwSoj-hNZ6f2buYD0JYAcB_=s64",
      "userId": "04087359208169148337"
     }
    },
    "colab": {
     "base_uri": "https://localhost:8080/",
     "height": 969
    }
   },
   "source": [
    "s = reset_tf_session()\n",
    "model = make_model()\n",
    "model.summary()"
   ],
   "execution_count": 52,
   "outputs": [
    {
     "output_type": "stream",
     "text": [
      "Model: \"sequential_1\"\n",
      "_________________________________________________________________\n",
      "Layer (type)                 Output Shape              Param #   \n",
      "=================================================================\n",
      "conv2d_1 (Conv2D)            (None, 32, 32, 64)        1792      \n",
      "_________________________________________________________________\n",
      "leaky_re_lu_1 (LeakyReLU)    (None, 32, 32, 64)        0         \n",
      "_________________________________________________________________\n",
      "conv2d_2 (Conv2D)            (None, 32, 32, 64)        36928     \n",
      "_________________________________________________________________\n",
      "leaky_re_lu_2 (LeakyReLU)    (None, 32, 32, 64)        0         \n",
      "_________________________________________________________________\n",
      "max_pooling2d_1 (MaxPooling2 (None, 16, 16, 64)        0         \n",
      "_________________________________________________________________\n",
      "dropout_1 (Dropout)          (None, 16, 16, 64)        0         \n",
      "_________________________________________________________________\n",
      "conv2d_3 (Conv2D)            (None, 16, 16, 128)       73856     \n",
      "_________________________________________________________________\n",
      "leaky_re_lu_3 (LeakyReLU)    (None, 16, 16, 128)       0         \n",
      "_________________________________________________________________\n",
      "conv2d_4 (Conv2D)            (None, 16, 16, 128)       147584    \n",
      "_________________________________________________________________\n",
      "leaky_re_lu_4 (LeakyReLU)    (None, 16, 16, 128)       0         \n",
      "_________________________________________________________________\n",
      "max_pooling2d_2 (MaxPooling2 (None, 8, 8, 128)         0         \n",
      "_________________________________________________________________\n",
      "dropout_2 (Dropout)          (None, 8, 8, 128)         0         \n",
      "_________________________________________________________________\n",
      "conv2d_5 (Conv2D)            (None, 8, 8, 256)         295168    \n",
      "_________________________________________________________________\n",
      "leaky_re_lu_5 (LeakyReLU)    (None, 8, 8, 256)         0         \n",
      "_________________________________________________________________\n",
      "conv2d_6 (Conv2D)            (None, 8, 8, 256)         590080    \n",
      "_________________________________________________________________\n",
      "leaky_re_lu_6 (LeakyReLU)    (None, 8, 8, 256)         0         \n",
      "_________________________________________________________________\n",
      "max_pooling2d_3 (MaxPooling2 (None, 4, 4, 256)         0         \n",
      "_________________________________________________________________\n",
      "dropout_3 (Dropout)          (None, 4, 4, 256)         0         \n",
      "_________________________________________________________________\n",
      "flatten_1 (Flatten)          (None, 4096)              0         \n",
      "_________________________________________________________________\n",
      "dense_1 (Dense)              (None, 256)               1048832   \n",
      "_________________________________________________________________\n",
      "leaky_re_lu_7 (LeakyReLU)    (None, 256)               0         \n",
      "_________________________________________________________________\n",
      "dropout_4 (Dropout)          (None, 256)               0         \n",
      "_________________________________________________________________\n",
      "dense_2 (Dense)              (None, 10)                2570      \n",
      "_________________________________________________________________\n",
      "activation_1 (Activation)    (None, 10)                0         \n",
      "=================================================================\n",
      "Total params: 2,196,810\n",
      "Trainable params: 2,196,810\n",
      "Non-trainable params: 0\n",
      "_________________________________________________________________\n"
     ],
     "name": "stdout"
    }
   ]
  },
  {
   "cell_type": "markdown",
   "metadata": {
    "colab_type": "text",
    "id": "JJLpZQhJGBqL"
   },
   "source": [
    "**Задание 2.2** (2 балла). Реализуйте колбэк, который сохраняет модель в `.hdf5` файл и печатает имя файла, в который была сохранена модель. Используйте функцию `model_save`. Строка с именем файла имеет вид `<name>_{0:02d}.hdf5`, отформатируйте ее так, чтобы в имени строки фигурировал номер эпохи."
   ]
  },
  {
   "cell_type": "code",
   "metadata": {
    "colab_type": "code",
    "id": "xYjUeuDXGBII",
    "colab": {}
   },
   "source": [
    "\n",
    "class ModelSaveCallback(keras.callbacks.Callback):\n",
    "\n",
    "    def __init__(self, file_name):\n",
    "        super(ModelSaveCallback, self).__init__()\n",
    "        self.file_name = file_name\n",
    "\n",
    "    def on_epoch_end(self, epoch, logs=None):\n",
    "        filename = self.file_name.format(epoch)\n",
    "        keras.models.save_model(self.model, filename)\n",
    "        print(f\"Model save into {filename}\")\n"
   ],
   "execution_count": 0,
   "outputs": []
  },
  {
   "cell_type": "markdown",
   "metadata": {
    "colab_type": "text",
    "id": "Svrwkh8ALpHa"
   },
   "source": [
    "**Задание 2.3** (1 балл). Реализуйте функцию, которая с помощью `load_model` будет загружать модель из файла."
   ]
  },
  {
   "cell_type": "code",
   "metadata": {
    "colab_type": "code",
    "id": "fVD0P5V7M00C",
    "colab": {}
   },
   "source": [
    "def load_from_file(model_filename, last_epoch):\n",
    "    return keras.models.load_model(model_filename.format(last_epoch))"
   ],
   "execution_count": 0,
   "outputs": []
  },
  {
   "cell_type": "code",
   "metadata": {
    "colab_type": "code",
    "id": "zOLb6flQFjCw",
    "outputId": "f6eb1ee3-b988-471d-94e4-90b51573b149",
    "executionInfo": {
     "status": "ok",
     "timestamp": 1572696386233,
     "user_tz": -180,
     "elapsed": 1118539,
     "user": {
      "displayName": "Алексей Подчезерцев",
      "photoUrl": "https://lh3.googleusercontent.com/a-/AAuE7mBbUw_CVz8K3RIunXwSoj-hNZ6f2buYD0JYAcB_=s64",
      "userId": "04087359208169148337"
     }
    },
    "colab": {
     "base_uri": "https://localhost:8080/",
     "height": 1000
    }
   },
   "source": [
    "INIT_LR = 5e-3\n",
    "BATCH_SIZE = 32\n",
    "EPOCHS = 20\n",
    "\n",
    "model_filename = 'weights_{0:02d}.hdf5'\n",
    "\n",
    "s = reset_tf_session()\n",
    "\n",
    "model = make_model()\n",
    "\n",
    "model.compile(\n",
    "    loss='categorical_crossentropy',\n",
    "    optimizer=keras.optimizers.adamax(lr=INIT_LR),\n",
    "    metrics=['accuracy']\n",
    ")\n",
    "\n",
    "def lr_scheduler(epoch):\n",
    "    return INIT_LR * 0.9 ** epoch \n",
    "\n",
    "# в случае, если обучение было прервано, можно загрузить модель из файла, \n",
    "# соответствующего последней эпохе, за которую есть сохраненные веса\n",
    "# model = load_from_file(model_filename, 4)\n",
    "  \n",
    "history = model.fit(\n",
    "    x_train, y_train,\n",
    "    batch_size=BATCH_SIZE,\n",
    "    epochs=EPOCHS,\n",
    "    callbacks=[keras.callbacks.LearningRateScheduler(lr_scheduler), \n",
    "               # не забудьте передать сюда ModelSaveCallback\n",
    "               ModelSaveCallback(model_filename)\n",
    "              ],\n",
    "    validation_data=(x_test, y_test),\n",
    "    shuffle=True,\n",
    "    verbose=1,\n",
    "    initial_epoch=0    \n",
    ")\n",
    "  "
   ],
   "execution_count": 55,
   "outputs": [
    {
     "output_type": "stream",
     "text": [
      "Train on 50000 samples, validate on 10000 samples\n",
      "Epoch 1/20\n",
      "50000/50000 [==============================] - 57s 1ms/step - loss: 1.4968 - acc: 0.4547 - val_loss: 1.0953 - val_acc: 0.6173\n",
      "Model save into weights_00.hdf5\n",
      "Epoch 2/20\n",
      "50000/50000 [==============================] - 56s 1ms/step - loss: 0.9800 - acc: 0.6594 - val_loss: 0.8715 - val_acc: 0.7007\n",
      "Model save into weights_01.hdf5\n",
      "Epoch 3/20\n",
      "50000/50000 [==============================] - 56s 1ms/step - loss: 0.8169 - acc: 0.7202 - val_loss: 0.7571 - val_acc: 0.7471\n",
      "Model save into weights_02.hdf5\n",
      "Epoch 4/20\n",
      "50000/50000 [==============================] - 56s 1ms/step - loss: 0.7011 - acc: 0.7598 - val_loss: 0.6584 - val_acc: 0.7822\n",
      "Model save into weights_03.hdf5\n",
      "Epoch 5/20\n",
      "50000/50000 [==============================] - 56s 1ms/step - loss: 0.6289 - acc: 0.7873 - val_loss: 0.6344 - val_acc: 0.7899\n",
      "Model save into weights_04.hdf5\n",
      "Epoch 6/20\n",
      "50000/50000 [==============================] - 56s 1ms/step - loss: 0.5585 - acc: 0.8105 - val_loss: 0.5489 - val_acc: 0.8192\n",
      "Model save into weights_05.hdf5\n",
      "Epoch 7/20\n",
      "50000/50000 [==============================] - 55s 1ms/step - loss: 0.5005 - acc: 0.8300 - val_loss: 0.5546 - val_acc: 0.8330\n",
      "Model save into weights_06.hdf5\n",
      "Epoch 8/20\n",
      "50000/50000 [==============================] - 55s 1ms/step - loss: 0.4543 - acc: 0.8452 - val_loss: 0.5105 - val_acc: 0.8365\n",
      "Model save into weights_07.hdf5\n",
      "Epoch 9/20\n",
      "50000/50000 [==============================] - 56s 1ms/step - loss: 0.4050 - acc: 0.8594 - val_loss: 0.4810 - val_acc: 0.8463\n",
      "Model save into weights_08.hdf5\n",
      "Epoch 10/20\n",
      "50000/50000 [==============================] - 55s 1ms/step - loss: 0.3734 - acc: 0.8702 - val_loss: 0.4687 - val_acc: 0.8487\n",
      "Model save into weights_09.hdf5\n",
      "Epoch 11/20\n",
      "50000/50000 [==============================] - 56s 1ms/step - loss: 0.3275 - acc: 0.8862 - val_loss: 0.5229 - val_acc: 0.8558\n",
      "Model save into weights_10.hdf5\n",
      "Epoch 12/20\n",
      "50000/50000 [==============================] - 56s 1ms/step - loss: 0.2979 - acc: 0.8981 - val_loss: 0.4711 - val_acc: 0.8523\n",
      "Model save into weights_11.hdf5\n",
      "Epoch 13/20\n",
      "50000/50000 [==============================] - 56s 1ms/step - loss: 0.2692 - acc: 0.9060 - val_loss: 0.5421 - val_acc: 0.8570\n",
      "Model save into weights_12.hdf5\n",
      "Epoch 14/20\n",
      "50000/50000 [==============================] - 56s 1ms/step - loss: 0.2413 - acc: 0.9161 - val_loss: 0.5097 - val_acc: 0.8639\n",
      "Model save into weights_13.hdf5\n",
      "Epoch 15/20\n",
      "50000/50000 [==============================] - 56s 1ms/step - loss: 0.2201 - acc: 0.9231 - val_loss: 0.4797 - val_acc: 0.8650\n",
      "Model save into weights_14.hdf5\n",
      "Epoch 16/20\n",
      "50000/50000 [==============================] - 56s 1ms/step - loss: 0.2071 - acc: 0.9279 - val_loss: 0.5495 - val_acc: 0.8652\n",
      "Model save into weights_15.hdf5\n",
      "Epoch 17/20\n",
      "50000/50000 [==============================] - 55s 1ms/step - loss: 0.1866 - acc: 0.9337 - val_loss: 0.5316 - val_acc: 0.8657\n",
      "Model save into weights_16.hdf5\n",
      "Epoch 18/20\n",
      "50000/50000 [==============================] - 56s 1ms/step - loss: 0.1760 - acc: 0.9383 - val_loss: 0.6182 - val_acc: 0.8702\n",
      "Model save into weights_17.hdf5\n",
      "Epoch 19/20\n",
      "50000/50000 [==============================] - 56s 1ms/step - loss: 0.1638 - acc: 0.9425 - val_loss: 0.5146 - val_acc: 0.8751\n",
      "Model save into weights_18.hdf5\n",
      "Epoch 20/20\n",
      "50000/50000 [==============================] - 56s 1ms/step - loss: 0.1494 - acc: 0.9470 - val_loss: 0.5648 - val_acc: 0.8737\n",
      "Model save into weights_19.hdf5\n"
     ],
     "name": "stdout"
    }
   ]
  },
  {
   "cell_type": "markdown",
   "metadata": {
    "id": "MSSlpNhFDLO2",
    "colab_type": "text"
   },
   "source": [
    "Необходимый результат был достигнут на 11 эпохе, далее модель продолжала обучаться и улучшать качество.\n",
    "\n",
    "По данным экспериментов, предшествующих получению данного результата, хорошо себя показала группа слоев из двух Conv2D с LeakyReLU после каждого из них с последующим MaxPooling2D и Dropout. Две таких группы было мало для получения хорошего качества, а четыре - уже много. Наибольшее влияние производил параметр количества фильтров в слое Conv2D."
   ]
  }
 ]
}