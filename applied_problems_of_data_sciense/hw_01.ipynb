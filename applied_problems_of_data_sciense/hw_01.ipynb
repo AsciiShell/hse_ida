{
 "nbformat": 4,
 "nbformat_minor": 0,
 "metadata": {
  "accelerator": "GPU",
  "colab": {
   "name": "HW_01_PodchezertsevAE_IDA5.ipynb",
   "provenance": [],
   "collapsed_sections": [],
   "machine_shape": "hm"
  },
  "kernelspec": {
   "display_name": "Python 3",
   "language": "python",
   "name": "python3"
  },
  "language_info": {
   "codemirror_mode": {
    "name": "ipython",
    "version": 3
   },
   "file_extension": ".py",
   "mimetype": "text/x-python",
   "name": "python",
   "nbconvert_exporter": "python",
   "pygments_lexer": "ipython3",
   "version": "3.7.3"
  },
  "widgets": {
   "application/vnd.jupyter.widget-state+json": {
    "4c06ff4814b14e97b08f4883b8c563ba": {
     "model_module": "@jupyter-widgets/controls",
     "model_name": "HBoxModel",
     "state": {
      "_view_name": "HBoxView",
      "_dom_classes": [],
      "_model_name": "HBoxModel",
      "_view_module": "@jupyter-widgets/controls",
      "_model_module_version": "1.5.0",
      "_view_count": null,
      "_view_module_version": "1.5.0",
      "box_style": "",
      "layout": "IPY_MODEL_abd5eeeab28648d68aacbc21a6f35012",
      "_model_module": "@jupyter-widgets/controls",
      "children": [
       "IPY_MODEL_1acbe3c174284fe0bb19d07dbd9b75d6",
       "IPY_MODEL_93a3274908894b12a1e771ba7a2067b1"
      ]
     }
    },
    "abd5eeeab28648d68aacbc21a6f35012": {
     "model_module": "@jupyter-widgets/base",
     "model_name": "LayoutModel",
     "state": {
      "_view_name": "LayoutView",
      "grid_template_rows": null,
      "right": null,
      "justify_content": null,
      "_view_module": "@jupyter-widgets/base",
      "overflow": null,
      "_model_module_version": "1.2.0",
      "_view_count": null,
      "flex_flow": null,
      "width": null,
      "min_width": null,
      "border": null,
      "align_items": null,
      "bottom": null,
      "_model_module": "@jupyter-widgets/base",
      "top": null,
      "grid_column": null,
      "overflow_y": null,
      "overflow_x": null,
      "grid_auto_flow": null,
      "grid_area": null,
      "grid_template_columns": null,
      "flex": null,
      "_model_name": "LayoutModel",
      "justify_items": null,
      "grid_row": null,
      "max_height": null,
      "align_content": null,
      "visibility": null,
      "align_self": null,
      "height": null,
      "min_height": null,
      "padding": null,
      "grid_auto_rows": null,
      "grid_gap": null,
      "max_width": null,
      "order": null,
      "_view_module_version": "1.2.0",
      "grid_template_areas": null,
      "object_position": null,
      "object_fit": null,
      "grid_auto_columns": null,
      "margin": null,
      "display": null,
      "left": null
     }
    },
    "1acbe3c174284fe0bb19d07dbd9b75d6": {
     "model_module": "@jupyter-widgets/controls",
     "model_name": "IntProgressModel",
     "state": {
      "_view_name": "ProgressView",
      "style": "IPY_MODEL_077295d459f24ac2a7b2a05249baa147",
      "_dom_classes": [],
      "description": "",
      "_model_name": "IntProgressModel",
      "bar_style": "success",
      "max": 328050,
      "_view_module": "@jupyter-widgets/controls",
      "_model_module_version": "1.5.0",
      "value": 328050,
      "_view_count": null,
      "_view_module_version": "1.5.0",
      "orientation": "horizontal",
      "min": 0,
      "description_tooltip": null,
      "_model_module": "@jupyter-widgets/controls",
      "layout": "IPY_MODEL_4de4777512c14bfaa86104ccea57a805"
     }
    },
    "93a3274908894b12a1e771ba7a2067b1": {
     "model_module": "@jupyter-widgets/controls",
     "model_name": "HTMLModel",
     "state": {
      "_view_name": "HTMLView",
      "style": "IPY_MODEL_8eac8300aa674580a8c743d21d9d3bd8",
      "_dom_classes": [],
      "description": "",
      "_model_name": "HTMLModel",
      "placeholder": "​",
      "_view_module": "@jupyter-widgets/controls",
      "_model_module_version": "1.5.0",
      "value": "100% 328050/328050 [00:17&lt;00:00, 18521.50it/s]",
      "_view_count": null,
      "_view_module_version": "1.5.0",
      "description_tooltip": null,
      "_model_module": "@jupyter-widgets/controls",
      "layout": "IPY_MODEL_035297daa2314118aff340653347836d"
     }
    },
    "077295d459f24ac2a7b2a05249baa147": {
     "model_module": "@jupyter-widgets/controls",
     "model_name": "ProgressStyleModel",
     "state": {
      "_view_name": "StyleView",
      "_model_name": "ProgressStyleModel",
      "description_width": "",
      "_view_module": "@jupyter-widgets/base",
      "_model_module_version": "1.5.0",
      "_view_count": null,
      "_view_module_version": "1.2.0",
      "bar_color": null,
      "_model_module": "@jupyter-widgets/controls"
     }
    },
    "4de4777512c14bfaa86104ccea57a805": {
     "model_module": "@jupyter-widgets/base",
     "model_name": "LayoutModel",
     "state": {
      "_view_name": "LayoutView",
      "grid_template_rows": null,
      "right": null,
      "justify_content": null,
      "_view_module": "@jupyter-widgets/base",
      "overflow": null,
      "_model_module_version": "1.2.0",
      "_view_count": null,
      "flex_flow": null,
      "width": null,
      "min_width": null,
      "border": null,
      "align_items": null,
      "bottom": null,
      "_model_module": "@jupyter-widgets/base",
      "top": null,
      "grid_column": null,
      "overflow_y": null,
      "overflow_x": null,
      "grid_auto_flow": null,
      "grid_area": null,
      "grid_template_columns": null,
      "flex": null,
      "_model_name": "LayoutModel",
      "justify_items": null,
      "grid_row": null,
      "max_height": null,
      "align_content": null,
      "visibility": null,
      "align_self": null,
      "height": null,
      "min_height": null,
      "padding": null,
      "grid_auto_rows": null,
      "grid_gap": null,
      "max_width": null,
      "order": null,
      "_view_module_version": "1.2.0",
      "grid_template_areas": null,
      "object_position": null,
      "object_fit": null,
      "grid_auto_columns": null,
      "margin": null,
      "display": null,
      "left": null
     }
    },
    "8eac8300aa674580a8c743d21d9d3bd8": {
     "model_module": "@jupyter-widgets/controls",
     "model_name": "DescriptionStyleModel",
     "state": {
      "_view_name": "StyleView",
      "_model_name": "DescriptionStyleModel",
      "description_width": "",
      "_view_module": "@jupyter-widgets/base",
      "_model_module_version": "1.5.0",
      "_view_count": null,
      "_view_module_version": "1.2.0",
      "_model_module": "@jupyter-widgets/controls"
     }
    },
    "035297daa2314118aff340653347836d": {
     "model_module": "@jupyter-widgets/base",
     "model_name": "LayoutModel",
     "state": {
      "_view_name": "LayoutView",
      "grid_template_rows": null,
      "right": null,
      "justify_content": null,
      "_view_module": "@jupyter-widgets/base",
      "overflow": null,
      "_model_module_version": "1.2.0",
      "_view_count": null,
      "flex_flow": null,
      "width": null,
      "min_width": null,
      "border": null,
      "align_items": null,
      "bottom": null,
      "_model_module": "@jupyter-widgets/base",
      "top": null,
      "grid_column": null,
      "overflow_y": null,
      "overflow_x": null,
      "grid_auto_flow": null,
      "grid_area": null,
      "grid_template_columns": null,
      "flex": null,
      "_model_name": "LayoutModel",
      "justify_items": null,
      "grid_row": null,
      "max_height": null,
      "align_content": null,
      "visibility": null,
      "align_self": null,
      "height": null,
      "min_height": null,
      "padding": null,
      "grid_auto_rows": null,
      "grid_gap": null,
      "max_width": null,
      "order": null,
      "_view_module_version": "1.2.0",
      "grid_template_areas": null,
      "object_position": null,
      "object_fit": null,
      "grid_auto_columns": null,
      "margin": null,
      "display": null,
      "left": null
     }
    },
    "5583ff72dcba44ddb4202810b16aff54": {
     "model_module": "@jupyter-widgets/controls",
     "model_name": "HBoxModel",
     "state": {
      "_view_name": "HBoxView",
      "_dom_classes": [],
      "_model_name": "HBoxModel",
      "_view_module": "@jupyter-widgets/controls",
      "_model_module_version": "1.5.0",
      "_view_count": null,
      "_view_module_version": "1.5.0",
      "box_style": "",
      "layout": "IPY_MODEL_edb47bdc27f94bf886664bededcf9dfd",
      "_model_module": "@jupyter-widgets/controls",
      "children": [
       "IPY_MODEL_1a54d778da464a3d80a62ed888a32810",
       "IPY_MODEL_22a7feee4fa04398b2551fff1b9e1ffd"
      ]
     }
    },
    "edb47bdc27f94bf886664bededcf9dfd": {
     "model_module": "@jupyter-widgets/base",
     "model_name": "LayoutModel",
     "state": {
      "_view_name": "LayoutView",
      "grid_template_rows": null,
      "right": null,
      "justify_content": null,
      "_view_module": "@jupyter-widgets/base",
      "overflow": null,
      "_model_module_version": "1.2.0",
      "_view_count": null,
      "flex_flow": null,
      "width": null,
      "min_width": null,
      "border": null,
      "align_items": null,
      "bottom": null,
      "_model_module": "@jupyter-widgets/base",
      "top": null,
      "grid_column": null,
      "overflow_y": null,
      "overflow_x": null,
      "grid_auto_flow": null,
      "grid_area": null,
      "grid_template_columns": null,
      "flex": null,
      "_model_name": "LayoutModel",
      "justify_items": null,
      "grid_row": null,
      "max_height": null,
      "align_content": null,
      "visibility": null,
      "align_self": null,
      "height": null,
      "min_height": null,
      "padding": null,
      "grid_auto_rows": null,
      "grid_gap": null,
      "max_width": null,
      "order": null,
      "_view_module_version": "1.2.0",
      "grid_template_areas": null,
      "object_position": null,
      "object_fit": null,
      "grid_auto_columns": null,
      "margin": null,
      "display": null,
      "left": null
     }
    },
    "1a54d778da464a3d80a62ed888a32810": {
     "model_module": "@jupyter-widgets/controls",
     "model_name": "IntProgressModel",
     "state": {
      "_view_name": "ProgressView",
      "style": "IPY_MODEL_f59b9283a93f4ec3b895c2c2fdb5ecc5",
      "_dom_classes": [],
      "description": "",
      "_model_name": "IntProgressModel",
      "bar_style": "success",
      "max": 42977,
      "_view_module": "@jupyter-widgets/controls",
      "_model_module_version": "1.5.0",
      "value": 42977,
      "_view_count": null,
      "_view_module_version": "1.5.0",
      "orientation": "horizontal",
      "min": 0,
      "description_tooltip": null,
      "_model_module": "@jupyter-widgets/controls",
      "layout": "IPY_MODEL_aef9619e71244bcda441a2112a0fef53"
     }
    },
    "22a7feee4fa04398b2551fff1b9e1ffd": {
     "model_module": "@jupyter-widgets/controls",
     "model_name": "HTMLModel",
     "state": {
      "_view_name": "HTMLView",
      "style": "IPY_MODEL_df86755509484e03be077b679ef8a368",
      "_dom_classes": [],
      "description": "",
      "_model_name": "HTMLModel",
      "placeholder": "​",
      "_view_module": "@jupyter-widgets/controls",
      "_model_module_version": "1.5.0",
      "value": "100% 42977/42977 [00:51&lt;00:00, 831.89it/s]",
      "_view_count": null,
      "_view_module_version": "1.5.0",
      "description_tooltip": null,
      "_model_module": "@jupyter-widgets/controls",
      "layout": "IPY_MODEL_5af5f7f413f54b91bb97ed03700cf8eb"
     }
    },
    "f59b9283a93f4ec3b895c2c2fdb5ecc5": {
     "model_module": "@jupyter-widgets/controls",
     "model_name": "ProgressStyleModel",
     "state": {
      "_view_name": "StyleView",
      "_model_name": "ProgressStyleModel",
      "description_width": "",
      "_view_module": "@jupyter-widgets/base",
      "_model_module_version": "1.5.0",
      "_view_count": null,
      "_view_module_version": "1.2.0",
      "bar_color": null,
      "_model_module": "@jupyter-widgets/controls"
     }
    },
    "aef9619e71244bcda441a2112a0fef53": {
     "model_module": "@jupyter-widgets/base",
     "model_name": "LayoutModel",
     "state": {
      "_view_name": "LayoutView",
      "grid_template_rows": null,
      "right": null,
      "justify_content": null,
      "_view_module": "@jupyter-widgets/base",
      "overflow": null,
      "_model_module_version": "1.2.0",
      "_view_count": null,
      "flex_flow": null,
      "width": null,
      "min_width": null,
      "border": null,
      "align_items": null,
      "bottom": null,
      "_model_module": "@jupyter-widgets/base",
      "top": null,
      "grid_column": null,
      "overflow_y": null,
      "overflow_x": null,
      "grid_auto_flow": null,
      "grid_area": null,
      "grid_template_columns": null,
      "flex": null,
      "_model_name": "LayoutModel",
      "justify_items": null,
      "grid_row": null,
      "max_height": null,
      "align_content": null,
      "visibility": null,
      "align_self": null,
      "height": null,
      "min_height": null,
      "padding": null,
      "grid_auto_rows": null,
      "grid_gap": null,
      "max_width": null,
      "order": null,
      "_view_module_version": "1.2.0",
      "grid_template_areas": null,
      "object_position": null,
      "object_fit": null,
      "grid_auto_columns": null,
      "margin": null,
      "display": null,
      "left": null
     }
    },
    "df86755509484e03be077b679ef8a368": {
     "model_module": "@jupyter-widgets/controls",
     "model_name": "DescriptionStyleModel",
     "state": {
      "_view_name": "StyleView",
      "_model_name": "DescriptionStyleModel",
      "description_width": "",
      "_view_module": "@jupyter-widgets/base",
      "_model_module_version": "1.5.0",
      "_view_count": null,
      "_view_module_version": "1.2.0",
      "_model_module": "@jupyter-widgets/controls"
     }
    },
    "5af5f7f413f54b91bb97ed03700cf8eb": {
     "model_module": "@jupyter-widgets/base",
     "model_name": "LayoutModel",
     "state": {
      "_view_name": "LayoutView",
      "grid_template_rows": null,
      "right": null,
      "justify_content": null,
      "_view_module": "@jupyter-widgets/base",
      "overflow": null,
      "_model_module_version": "1.2.0",
      "_view_count": null,
      "flex_flow": null,
      "width": null,
      "min_width": null,
      "border": null,
      "align_items": null,
      "bottom": null,
      "_model_module": "@jupyter-widgets/base",
      "top": null,
      "grid_column": null,
      "overflow_y": null,
      "overflow_x": null,
      "grid_auto_flow": null,
      "grid_area": null,
      "grid_template_columns": null,
      "flex": null,
      "_model_name": "LayoutModel",
      "justify_items": null,
      "grid_row": null,
      "max_height": null,
      "align_content": null,
      "visibility": null,
      "align_self": null,
      "height": null,
      "min_height": null,
      "padding": null,
      "grid_auto_rows": null,
      "grid_gap": null,
      "max_width": null,
      "order": null,
      "_view_module_version": "1.2.0",
      "grid_template_areas": null,
      "object_position": null,
      "object_fit": null,
      "grid_auto_columns": null,
      "margin": null,
      "display": null,
      "left": null
     }
    },
    "c73f9a6a5eb344b6aa3b0f5e9bcc2dc0": {
     "model_module": "@jupyter-widgets/controls",
     "model_name": "HBoxModel",
     "state": {
      "_view_name": "HBoxView",
      "_dom_classes": [],
      "_model_name": "HBoxModel",
      "_view_module": "@jupyter-widgets/controls",
      "_model_module_version": "1.5.0",
      "_view_count": null,
      "_view_module_version": "1.5.0",
      "box_style": "",
      "layout": "IPY_MODEL_df6fde7c4d384ae1ab77a6eb61f5cfc0",
      "_model_module": "@jupyter-widgets/controls",
      "children": [
       "IPY_MODEL_c43acd74789b430798d71380bd8ff52b",
       "IPY_MODEL_dc3bef8fd83b455c898d9694058e6074"
      ]
     }
    },
    "df6fde7c4d384ae1ab77a6eb61f5cfc0": {
     "model_module": "@jupyter-widgets/base",
     "model_name": "LayoutModel",
     "state": {
      "_view_name": "LayoutView",
      "grid_template_rows": null,
      "right": null,
      "justify_content": null,
      "_view_module": "@jupyter-widgets/base",
      "overflow": null,
      "_model_module_version": "1.2.0",
      "_view_count": null,
      "flex_flow": null,
      "width": null,
      "min_width": null,
      "border": null,
      "align_items": null,
      "bottom": null,
      "_model_module": "@jupyter-widgets/base",
      "top": null,
      "grid_column": null,
      "overflow_y": null,
      "overflow_x": null,
      "grid_auto_flow": null,
      "grid_area": null,
      "grid_template_columns": null,
      "flex": null,
      "_model_name": "LayoutModel",
      "justify_items": null,
      "grid_row": null,
      "max_height": null,
      "align_content": null,
      "visibility": null,
      "align_self": null,
      "height": null,
      "min_height": null,
      "padding": null,
      "grid_auto_rows": null,
      "grid_gap": null,
      "max_width": null,
      "order": null,
      "_view_module_version": "1.2.0",
      "grid_template_areas": null,
      "object_position": null,
      "object_fit": null,
      "grid_auto_columns": null,
      "margin": null,
      "display": null,
      "left": null
     }
    },
    "c43acd74789b430798d71380bd8ff52b": {
     "model_module": "@jupyter-widgets/controls",
     "model_name": "IntProgressModel",
     "state": {
      "_view_name": "ProgressView",
      "style": "IPY_MODEL_45e0dba839b0460394a20288acdaa437",
      "_dom_classes": [],
      "description": "",
      "_model_name": "IntProgressModel",
      "bar_style": "success",
      "max": 4349,
      "_view_module": "@jupyter-widgets/controls",
      "_model_module_version": "1.5.0",
      "value": 4349,
      "_view_count": null,
      "_view_module_version": "1.5.0",
      "orientation": "horizontal",
      "min": 0,
      "description_tooltip": null,
      "_model_module": "@jupyter-widgets/controls",
      "layout": "IPY_MODEL_c4615ec10f144444a0004af47682959a"
     }
    },
    "dc3bef8fd83b455c898d9694058e6074": {
     "model_module": "@jupyter-widgets/controls",
     "model_name": "HTMLModel",
     "state": {
      "_view_name": "HTMLView",
      "style": "IPY_MODEL_e641776dbf144715b5c8d7979b44e6f0",
      "_dom_classes": [],
      "description": "",
      "_model_name": "HTMLModel",
      "placeholder": "​",
      "_view_module": "@jupyter-widgets/controls",
      "_model_module_version": "1.5.0",
      "value": "100% 4349/4349 [00:46&lt;00:00, 93.43it/s]",
      "_view_count": null,
      "_view_module_version": "1.5.0",
      "description_tooltip": null,
      "_model_module": "@jupyter-widgets/controls",
      "layout": "IPY_MODEL_f62ca9232b914f0ab4d8cc961fbc90f0"
     }
    },
    "45e0dba839b0460394a20288acdaa437": {
     "model_module": "@jupyter-widgets/controls",
     "model_name": "ProgressStyleModel",
     "state": {
      "_view_name": "StyleView",
      "_model_name": "ProgressStyleModel",
      "description_width": "",
      "_view_module": "@jupyter-widgets/base",
      "_model_module_version": "1.5.0",
      "_view_count": null,
      "_view_module_version": "1.2.0",
      "bar_color": null,
      "_model_module": "@jupyter-widgets/controls"
     }
    },
    "c4615ec10f144444a0004af47682959a": {
     "model_module": "@jupyter-widgets/base",
     "model_name": "LayoutModel",
     "state": {
      "_view_name": "LayoutView",
      "grid_template_rows": null,
      "right": null,
      "justify_content": null,
      "_view_module": "@jupyter-widgets/base",
      "overflow": null,
      "_model_module_version": "1.2.0",
      "_view_count": null,
      "flex_flow": null,
      "width": null,
      "min_width": null,
      "border": null,
      "align_items": null,
      "bottom": null,
      "_model_module": "@jupyter-widgets/base",
      "top": null,
      "grid_column": null,
      "overflow_y": null,
      "overflow_x": null,
      "grid_auto_flow": null,
      "grid_area": null,
      "grid_template_columns": null,
      "flex": null,
      "_model_name": "LayoutModel",
      "justify_items": null,
      "grid_row": null,
      "max_height": null,
      "align_content": null,
      "visibility": null,
      "align_self": null,
      "height": null,
      "min_height": null,
      "padding": null,
      "grid_auto_rows": null,
      "grid_gap": null,
      "max_width": null,
      "order": null,
      "_view_module_version": "1.2.0",
      "grid_template_areas": null,
      "object_position": null,
      "object_fit": null,
      "grid_auto_columns": null,
      "margin": null,
      "display": null,
      "left": null
     }
    },
    "e641776dbf144715b5c8d7979b44e6f0": {
     "model_module": "@jupyter-widgets/controls",
     "model_name": "DescriptionStyleModel",
     "state": {
      "_view_name": "StyleView",
      "_model_name": "DescriptionStyleModel",
      "description_width": "",
      "_view_module": "@jupyter-widgets/base",
      "_model_module_version": "1.5.0",
      "_view_count": null,
      "_view_module_version": "1.2.0",
      "_model_module": "@jupyter-widgets/controls"
     }
    },
    "f62ca9232b914f0ab4d8cc961fbc90f0": {
     "model_module": "@jupyter-widgets/base",
     "model_name": "LayoutModel",
     "state": {
      "_view_name": "LayoutView",
      "grid_template_rows": null,
      "right": null,
      "justify_content": null,
      "_view_module": "@jupyter-widgets/base",
      "overflow": null,
      "_model_module_version": "1.2.0",
      "_view_count": null,
      "flex_flow": null,
      "width": null,
      "min_width": null,
      "border": null,
      "align_items": null,
      "bottom": null,
      "_model_module": "@jupyter-widgets/base",
      "top": null,
      "grid_column": null,
      "overflow_y": null,
      "overflow_x": null,
      "grid_auto_flow": null,
      "grid_area": null,
      "grid_template_columns": null,
      "flex": null,
      "_model_name": "LayoutModel",
      "justify_items": null,
      "grid_row": null,
      "max_height": null,
      "align_content": null,
      "visibility": null,
      "align_self": null,
      "height": null,
      "min_height": null,
      "padding": null,
      "grid_auto_rows": null,
      "grid_gap": null,
      "max_width": null,
      "order": null,
      "_view_module_version": "1.2.0",
      "grid_template_areas": null,
      "object_position": null,
      "object_fit": null,
      "grid_auto_columns": null,
      "margin": null,
      "display": null,
      "left": null
     }
    },
    "a23a2bffb2584e7f9abf4e8e14a1587e": {
     "model_module": "@jupyter-widgets/controls",
     "model_name": "HBoxModel",
     "state": {
      "_view_name": "HBoxView",
      "_dom_classes": [],
      "_model_name": "HBoxModel",
      "_view_module": "@jupyter-widgets/controls",
      "_model_module_version": "1.5.0",
      "_view_count": null,
      "_view_module_version": "1.5.0",
      "box_style": "",
      "layout": "IPY_MODEL_47c48c26432c44348813468316af95c9",
      "_model_module": "@jupyter-widgets/controls",
      "children": [
       "IPY_MODEL_baa710a04342449c916146b377cde3cc",
       "IPY_MODEL_b7fa2edde00944b0a898123d4d9e4c70"
      ]
     }
    },
    "47c48c26432c44348813468316af95c9": {
     "model_module": "@jupyter-widgets/base",
     "model_name": "LayoutModel",
     "state": {
      "_view_name": "LayoutView",
      "grid_template_rows": null,
      "right": null,
      "justify_content": null,
      "_view_module": "@jupyter-widgets/base",
      "overflow": null,
      "_model_module_version": "1.2.0",
      "_view_count": null,
      "flex_flow": null,
      "width": null,
      "min_width": null,
      "border": null,
      "align_items": null,
      "bottom": null,
      "_model_module": "@jupyter-widgets/base",
      "top": null,
      "grid_column": null,
      "overflow_y": null,
      "overflow_x": null,
      "grid_auto_flow": null,
      "grid_area": null,
      "grid_template_columns": null,
      "flex": null,
      "_model_name": "LayoutModel",
      "justify_items": null,
      "grid_row": null,
      "max_height": null,
      "align_content": null,
      "visibility": null,
      "align_self": null,
      "height": null,
      "min_height": null,
      "padding": null,
      "grid_auto_rows": null,
      "grid_gap": null,
      "max_width": null,
      "order": null,
      "_view_module_version": "1.2.0",
      "grid_template_areas": null,
      "object_position": null,
      "object_fit": null,
      "grid_auto_columns": null,
      "margin": null,
      "display": null,
      "left": null
     }
    },
    "baa710a04342449c916146b377cde3cc": {
     "model_module": "@jupyter-widgets/controls",
     "model_name": "IntProgressModel",
     "state": {
      "_view_name": "ProgressView",
      "style": "IPY_MODEL_0d849bda6b2b485d87e4f600e11a9e57",
      "_dom_classes": [],
      "description": "",
      "_model_name": "IntProgressModel",
      "bar_style": "danger",
      "max": 30,
      "_view_module": "@jupyter-widgets/controls",
      "_model_module_version": "1.5.0",
      "value": 0,
      "_view_count": null,
      "_view_module_version": "1.5.0",
      "orientation": "horizontal",
      "min": 0,
      "description_tooltip": null,
      "_model_module": "@jupyter-widgets/controls",
      "layout": "IPY_MODEL_e104841383264168a8dce3670559cb9e"
     }
    },
    "b7fa2edde00944b0a898123d4d9e4c70": {
     "model_module": "@jupyter-widgets/controls",
     "model_name": "HTMLModel",
     "state": {
      "_view_name": "HTMLView",
      "style": "IPY_MODEL_6c4d76f90b8440ed97d850d4b1c4d330",
      "_dom_classes": [],
      "description": "",
      "_model_name": "HTMLModel",
      "placeholder": "​",
      "_view_module": "@jupyter-widgets/controls",
      "_model_module_version": "1.5.0",
      "value": "  0% 0/30 [00:00&lt;?, ?it/s]",
      "_view_count": null,
      "_view_module_version": "1.5.0",
      "description_tooltip": null,
      "_model_module": "@jupyter-widgets/controls",
      "layout": "IPY_MODEL_d52e346b63294047bf71559005df1b44"
     }
    },
    "0d849bda6b2b485d87e4f600e11a9e57": {
     "model_module": "@jupyter-widgets/controls",
     "model_name": "ProgressStyleModel",
     "state": {
      "_view_name": "StyleView",
      "_model_name": "ProgressStyleModel",
      "description_width": "",
      "_view_module": "@jupyter-widgets/base",
      "_model_module_version": "1.5.0",
      "_view_count": null,
      "_view_module_version": "1.2.0",
      "bar_color": null,
      "_model_module": "@jupyter-widgets/controls"
     }
    },
    "e104841383264168a8dce3670559cb9e": {
     "model_module": "@jupyter-widgets/base",
     "model_name": "LayoutModel",
     "state": {
      "_view_name": "LayoutView",
      "grid_template_rows": null,
      "right": null,
      "justify_content": null,
      "_view_module": "@jupyter-widgets/base",
      "overflow": null,
      "_model_module_version": "1.2.0",
      "_view_count": null,
      "flex_flow": null,
      "width": null,
      "min_width": null,
      "border": null,
      "align_items": null,
      "bottom": null,
      "_model_module": "@jupyter-widgets/base",
      "top": null,
      "grid_column": null,
      "overflow_y": null,
      "overflow_x": null,
      "grid_auto_flow": null,
      "grid_area": null,
      "grid_template_columns": null,
      "flex": null,
      "_model_name": "LayoutModel",
      "justify_items": null,
      "grid_row": null,
      "max_height": null,
      "align_content": null,
      "visibility": null,
      "align_self": null,
      "height": null,
      "min_height": null,
      "padding": null,
      "grid_auto_rows": null,
      "grid_gap": null,
      "max_width": null,
      "order": null,
      "_view_module_version": "1.2.0",
      "grid_template_areas": null,
      "object_position": null,
      "object_fit": null,
      "grid_auto_columns": null,
      "margin": null,
      "display": null,
      "left": null
     }
    },
    "6c4d76f90b8440ed97d850d4b1c4d330": {
     "model_module": "@jupyter-widgets/controls",
     "model_name": "DescriptionStyleModel",
     "state": {
      "_view_name": "StyleView",
      "_model_name": "DescriptionStyleModel",
      "description_width": "",
      "_view_module": "@jupyter-widgets/base",
      "_model_module_version": "1.5.0",
      "_view_count": null,
      "_view_module_version": "1.2.0",
      "_model_module": "@jupyter-widgets/controls"
     }
    },
    "d52e346b63294047bf71559005df1b44": {
     "model_module": "@jupyter-widgets/base",
     "model_name": "LayoutModel",
     "state": {
      "_view_name": "LayoutView",
      "grid_template_rows": null,
      "right": null,
      "justify_content": null,
      "_view_module": "@jupyter-widgets/base",
      "overflow": null,
      "_model_module_version": "1.2.0",
      "_view_count": null,
      "flex_flow": null,
      "width": null,
      "min_width": null,
      "border": null,
      "align_items": null,
      "bottom": null,
      "_model_module": "@jupyter-widgets/base",
      "top": null,
      "grid_column": null,
      "overflow_y": null,
      "overflow_x": null,
      "grid_auto_flow": null,
      "grid_area": null,
      "grid_template_columns": null,
      "flex": null,
      "_model_name": "LayoutModel",
      "justify_items": null,
      "grid_row": null,
      "max_height": null,
      "align_content": null,
      "visibility": null,
      "align_self": null,
      "height": null,
      "min_height": null,
      "padding": null,
      "grid_auto_rows": null,
      "grid_gap": null,
      "max_width": null,
      "order": null,
      "_view_module_version": "1.2.0",
      "grid_template_areas": null,
      "object_position": null,
      "object_fit": null,
      "grid_auto_columns": null,
      "margin": null,
      "display": null,
      "left": null
     }
    },
    "a5746ebe31d749bfb80cb9c0d430f67c": {
     "model_module": "@jupyter-widgets/controls",
     "model_name": "HBoxModel",
     "state": {
      "_view_name": "HBoxView",
      "_dom_classes": [],
      "_model_name": "HBoxModel",
      "_view_module": "@jupyter-widgets/controls",
      "_model_module_version": "1.5.0",
      "_view_count": null,
      "_view_module_version": "1.5.0",
      "box_style": "",
      "layout": "IPY_MODEL_38dff1b0fe864808916a59e494edfe69",
      "_model_module": "@jupyter-widgets/controls",
      "children": [
       "IPY_MODEL_5e52fdf9eec1418d9eda89f34623bc2b",
       "IPY_MODEL_a1f3c80d19024567bd384b80af608eb7"
      ]
     }
    },
    "38dff1b0fe864808916a59e494edfe69": {
     "model_module": "@jupyter-widgets/base",
     "model_name": "LayoutModel",
     "state": {
      "_view_name": "LayoutView",
      "grid_template_rows": null,
      "right": null,
      "justify_content": null,
      "_view_module": "@jupyter-widgets/base",
      "overflow": null,
      "_model_module_version": "1.2.0",
      "_view_count": null,
      "flex_flow": null,
      "width": null,
      "min_width": null,
      "border": null,
      "align_items": null,
      "bottom": null,
      "_model_module": "@jupyter-widgets/base",
      "top": null,
      "grid_column": null,
      "overflow_y": null,
      "overflow_x": null,
      "grid_auto_flow": null,
      "grid_area": null,
      "grid_template_columns": null,
      "flex": null,
      "_model_name": "LayoutModel",
      "justify_items": null,
      "grid_row": null,
      "max_height": null,
      "align_content": null,
      "visibility": null,
      "align_self": null,
      "height": null,
      "min_height": null,
      "padding": null,
      "grid_auto_rows": null,
      "grid_gap": null,
      "max_width": null,
      "order": null,
      "_view_module_version": "1.2.0",
      "grid_template_areas": null,
      "object_position": null,
      "object_fit": null,
      "grid_auto_columns": null,
      "margin": null,
      "display": null,
      "left": null
     }
    },
    "5e52fdf9eec1418d9eda89f34623bc2b": {
     "model_module": "@jupyter-widgets/controls",
     "model_name": "IntProgressModel",
     "state": {
      "_view_name": "ProgressView",
      "style": "IPY_MODEL_7e9307a9a29d42028ccaf10734be7ec2",
      "_dom_classes": [],
      "description": "",
      "_model_name": "IntProgressModel",
      "bar_style": "danger",
      "max": 10,
      "_view_module": "@jupyter-widgets/controls",
      "_model_module_version": "1.5.0",
      "value": 0,
      "_view_count": null,
      "_view_module_version": "1.5.0",
      "orientation": "horizontal",
      "min": 0,
      "description_tooltip": null,
      "_model_module": "@jupyter-widgets/controls",
      "layout": "IPY_MODEL_fa80207cd0b046b3bef00a3d49ec4d8c"
     }
    },
    "a1f3c80d19024567bd384b80af608eb7": {
     "model_module": "@jupyter-widgets/controls",
     "model_name": "HTMLModel",
     "state": {
      "_view_name": "HTMLView",
      "style": "IPY_MODEL_b2b42df946514c8598761bbbd89abc58",
      "_dom_classes": [],
      "description": "",
      "_model_name": "HTMLModel",
      "placeholder": "​",
      "_view_module": "@jupyter-widgets/controls",
      "_model_module_version": "1.5.0",
      "value": "  0% 0/10 [00:00&lt;?, ?it/s]",
      "_view_count": null,
      "_view_module_version": "1.5.0",
      "description_tooltip": null,
      "_model_module": "@jupyter-widgets/controls",
      "layout": "IPY_MODEL_a3a2dad2591e40dc89561efe48dbf8d6"
     }
    },
    "7e9307a9a29d42028ccaf10734be7ec2": {
     "model_module": "@jupyter-widgets/controls",
     "model_name": "ProgressStyleModel",
     "state": {
      "_view_name": "StyleView",
      "_model_name": "ProgressStyleModel",
      "description_width": "",
      "_view_module": "@jupyter-widgets/base",
      "_model_module_version": "1.5.0",
      "_view_count": null,
      "_view_module_version": "1.2.0",
      "bar_color": null,
      "_model_module": "@jupyter-widgets/controls"
     }
    },
    "fa80207cd0b046b3bef00a3d49ec4d8c": {
     "model_module": "@jupyter-widgets/base",
     "model_name": "LayoutModel",
     "state": {
      "_view_name": "LayoutView",
      "grid_template_rows": null,
      "right": null,
      "justify_content": null,
      "_view_module": "@jupyter-widgets/base",
      "overflow": null,
      "_model_module_version": "1.2.0",
      "_view_count": null,
      "flex_flow": null,
      "width": null,
      "min_width": null,
      "border": null,
      "align_items": null,
      "bottom": null,
      "_model_module": "@jupyter-widgets/base",
      "top": null,
      "grid_column": null,
      "overflow_y": null,
      "overflow_x": null,
      "grid_auto_flow": null,
      "grid_area": null,
      "grid_template_columns": null,
      "flex": null,
      "_model_name": "LayoutModel",
      "justify_items": null,
      "grid_row": null,
      "max_height": null,
      "align_content": null,
      "visibility": null,
      "align_self": null,
      "height": null,
      "min_height": null,
      "padding": null,
      "grid_auto_rows": null,
      "grid_gap": null,
      "max_width": null,
      "order": null,
      "_view_module_version": "1.2.0",
      "grid_template_areas": null,
      "object_position": null,
      "object_fit": null,
      "grid_auto_columns": null,
      "margin": null,
      "display": null,
      "left": null
     }
    },
    "b2b42df946514c8598761bbbd89abc58": {
     "model_module": "@jupyter-widgets/controls",
     "model_name": "DescriptionStyleModel",
     "state": {
      "_view_name": "StyleView",
      "_model_name": "DescriptionStyleModel",
      "description_width": "",
      "_view_module": "@jupyter-widgets/base",
      "_model_module_version": "1.5.0",
      "_view_count": null,
      "_view_module_version": "1.2.0",
      "_model_module": "@jupyter-widgets/controls"
     }
    },
    "a3a2dad2591e40dc89561efe48dbf8d6": {
     "model_module": "@jupyter-widgets/base",
     "model_name": "LayoutModel",
     "state": {
      "_view_name": "LayoutView",
      "grid_template_rows": null,
      "right": null,
      "justify_content": null,
      "_view_module": "@jupyter-widgets/base",
      "overflow": null,
      "_model_module_version": "1.2.0",
      "_view_count": null,
      "flex_flow": null,
      "width": null,
      "min_width": null,
      "border": null,
      "align_items": null,
      "bottom": null,
      "_model_module": "@jupyter-widgets/base",
      "top": null,
      "grid_column": null,
      "overflow_y": null,
      "overflow_x": null,
      "grid_auto_flow": null,
      "grid_area": null,
      "grid_template_columns": null,
      "flex": null,
      "_model_name": "LayoutModel",
      "justify_items": null,
      "grid_row": null,
      "max_height": null,
      "align_content": null,
      "visibility": null,
      "align_self": null,
      "height": null,
      "min_height": null,
      "padding": null,
      "grid_auto_rows": null,
      "grid_gap": null,
      "max_width": null,
      "order": null,
      "_view_module_version": "1.2.0",
      "grid_template_areas": null,
      "object_position": null,
      "object_fit": null,
      "grid_auto_columns": null,
      "margin": null,
      "display": null,
      "left": null
     }
    },
    "183d516b76424bb9b3f34ee7703fce06": {
     "model_module": "@jupyter-widgets/controls",
     "model_name": "HBoxModel",
     "state": {
      "_dom_classes": [],
      "_model_module": "@jupyter-widgets/controls",
      "_model_module_version": "1.5.0",
      "_model_name": "HBoxModel",
      "_view_count": null,
      "_view_module": "@jupyter-widgets/controls",
      "_view_module_version": "1.5.0",
      "_view_name": "HBoxView",
      "box_style": "",
      "children": [
       "IPY_MODEL_a06782e0166b43ceb4a0fd080e396075",
       "IPY_MODEL_c4a8d75b2168466395679e43c913d651"
      ],
      "layout": "IPY_MODEL_0a64aaad56454da694709843422455cf"
     }
    },
    "0a64aaad56454da694709843422455cf": {
     "model_module": "@jupyter-widgets/base",
     "model_name": "LayoutModel",
     "state": {
      "_model_module": "@jupyter-widgets/base",
      "_model_module_version": "1.2.0",
      "_model_name": "LayoutModel",
      "_view_count": null,
      "_view_module": "@jupyter-widgets/base",
      "_view_module_version": "1.2.0",
      "_view_name": "LayoutView",
      "align_content": null,
      "align_items": null,
      "align_self": null,
      "border": null,
      "bottom": null,
      "display": null,
      "flex": null,
      "flex_flow": null,
      "grid_area": null,
      "grid_auto_columns": null,
      "grid_auto_flow": null,
      "grid_auto_rows": null,
      "grid_column": null,
      "grid_gap": null,
      "grid_row": null,
      "grid_template_areas": null,
      "grid_template_columns": null,
      "grid_template_rows": null,
      "height": null,
      "justify_content": null,
      "justify_items": null,
      "left": null,
      "margin": null,
      "max_height": null,
      "max_width": null,
      "min_height": null,
      "min_width": null,
      "object_fit": null,
      "object_position": null,
      "order": null,
      "overflow": null,
      "overflow_x": null,
      "overflow_y": null,
      "padding": null,
      "right": null,
      "top": null,
      "visibility": null,
      "width": null
     }
    },
    "a06782e0166b43ceb4a0fd080e396075": {
     "model_module": "@jupyter-widgets/controls",
     "model_name": "IntProgressModel",
     "state": {
      "_dom_classes": [],
      "_model_module": "@jupyter-widgets/controls",
      "_model_module_version": "1.5.0",
      "_model_name": "IntProgressModel",
      "_view_count": null,
      "_view_module": "@jupyter-widgets/controls",
      "_view_module_version": "1.5.0",
      "_view_name": "ProgressView",
      "bar_style": "success",
      "description": "",
      "description_tooltip": null,
      "layout": "IPY_MODEL_5cc09ff484e04dea8aa9e83338a2fda9",
      "max": 2000000,
      "min": 0,
      "orientation": "horizontal",
      "style": "IPY_MODEL_6109410e834844c6a5935fe993476371",
      "value": 2000000
     }
    },
    "c4a8d75b2168466395679e43c913d651": {
     "model_module": "@jupyter-widgets/controls",
     "model_name": "HTMLModel",
     "state": {
      "_dom_classes": [],
      "_model_module": "@jupyter-widgets/controls",
      "_model_module_version": "1.5.0",
      "_model_name": "HTMLModel",
      "_view_count": null,
      "_view_module": "@jupyter-widgets/controls",
      "_view_module_version": "1.5.0",
      "_view_name": "HTMLView",
      "description": "",
      "description_tooltip": null,
      "layout": "IPY_MODEL_350991b568674299a90a612a5ca283dd",
      "placeholder": "​",
      "style": "IPY_MODEL_539340b8840a44aaafb046cfc6eeda24",
      "value": "100% 2000000/2000000 [03:11&lt;00:00, 10448.52it/s]"
     }
    },
    "6109410e834844c6a5935fe993476371": {
     "model_module": "@jupyter-widgets/controls",
     "model_name": "ProgressStyleModel",
     "state": {
      "_model_module": "@jupyter-widgets/controls",
      "_model_module_version": "1.5.0",
      "_model_name": "ProgressStyleModel",
      "_view_count": null,
      "_view_module": "@jupyter-widgets/base",
      "_view_module_version": "1.2.0",
      "_view_name": "StyleView",
      "bar_color": null,
      "description_width": ""
     }
    },
    "5cc09ff484e04dea8aa9e83338a2fda9": {
     "model_module": "@jupyter-widgets/base",
     "model_name": "LayoutModel",
     "state": {
      "_model_module": "@jupyter-widgets/base",
      "_model_module_version": "1.2.0",
      "_model_name": "LayoutModel",
      "_view_count": null,
      "_view_module": "@jupyter-widgets/base",
      "_view_module_version": "1.2.0",
      "_view_name": "LayoutView",
      "align_content": null,
      "align_items": null,
      "align_self": null,
      "border": null,
      "bottom": null,
      "display": null,
      "flex": null,
      "flex_flow": null,
      "grid_area": null,
      "grid_auto_columns": null,
      "grid_auto_flow": null,
      "grid_auto_rows": null,
      "grid_column": null,
      "grid_gap": null,
      "grid_row": null,
      "grid_template_areas": null,
      "grid_template_columns": null,
      "grid_template_rows": null,
      "height": null,
      "justify_content": null,
      "justify_items": null,
      "left": null,
      "margin": null,
      "max_height": null,
      "max_width": null,
      "min_height": null,
      "min_width": null,
      "object_fit": null,
      "object_position": null,
      "order": null,
      "overflow": null,
      "overflow_x": null,
      "overflow_y": null,
      "padding": null,
      "right": null,
      "top": null,
      "visibility": null,
      "width": null
     }
    },
    "539340b8840a44aaafb046cfc6eeda24": {
     "model_module": "@jupyter-widgets/controls",
     "model_name": "DescriptionStyleModel",
     "state": {
      "_model_module": "@jupyter-widgets/controls",
      "_model_module_version": "1.5.0",
      "_model_name": "DescriptionStyleModel",
      "_view_count": null,
      "_view_module": "@jupyter-widgets/base",
      "_view_module_version": "1.2.0",
      "_view_name": "StyleView",
      "description_width": ""
     }
    },
    "350991b568674299a90a612a5ca283dd": {
     "model_module": "@jupyter-widgets/base",
     "model_name": "LayoutModel",
     "state": {
      "_model_module": "@jupyter-widgets/base",
      "_model_module_version": "1.2.0",
      "_model_name": "LayoutModel",
      "_view_count": null,
      "_view_module": "@jupyter-widgets/base",
      "_view_module_version": "1.2.0",
      "_view_name": "LayoutView",
      "align_content": null,
      "align_items": null,
      "align_self": null,
      "border": null,
      "bottom": null,
      "display": null,
      "flex": null,
      "flex_flow": null,
      "grid_area": null,
      "grid_auto_columns": null,
      "grid_auto_flow": null,
      "grid_auto_rows": null,
      "grid_column": null,
      "grid_gap": null,
      "grid_row": null,
      "grid_template_areas": null,
      "grid_template_columns": null,
      "grid_template_rows": null,
      "height": null,
      "justify_content": null,
      "justify_items": null,
      "left": null,
      "margin": null,
      "max_height": null,
      "max_width": null,
      "min_height": null,
      "min_width": null,
      "object_fit": null,
      "object_position": null,
      "order": null,
      "overflow": null,
      "overflow_x": null,
      "overflow_y": null,
      "padding": null,
      "right": null,
      "top": null,
      "visibility": null,
      "width": null
     }
    },
    "8ad13cd54db84d179c86bb1350c7f8bd": {
     "model_module": "@jupyter-widgets/controls",
     "model_name": "HBoxModel",
     "state": {
      "_dom_classes": [],
      "_model_module": "@jupyter-widgets/controls",
      "_model_module_version": "1.5.0",
      "_model_name": "HBoxModel",
      "_view_count": null,
      "_view_module": "@jupyter-widgets/controls",
      "_view_module_version": "1.5.0",
      "_view_name": "HBoxView",
      "box_style": "",
      "children": [
       "IPY_MODEL_a5d84870fcdf4d24b14cde2548563ab6",
       "IPY_MODEL_bf3cfd1ab1e8408bb9ea0934e3eed9d5"
      ],
      "layout": "IPY_MODEL_bf6156e7ef2147b785e4e8133f731a1a"
     }
    },
    "bf6156e7ef2147b785e4e8133f731a1a": {
     "model_module": "@jupyter-widgets/base",
     "model_name": "LayoutModel",
     "state": {
      "_model_module": "@jupyter-widgets/base",
      "_model_module_version": "1.2.0",
      "_model_name": "LayoutModel",
      "_view_count": null,
      "_view_module": "@jupyter-widgets/base",
      "_view_module_version": "1.2.0",
      "_view_name": "LayoutView",
      "align_content": null,
      "align_items": null,
      "align_self": null,
      "border": null,
      "bottom": null,
      "display": null,
      "flex": null,
      "flex_flow": null,
      "grid_area": null,
      "grid_auto_columns": null,
      "grid_auto_flow": null,
      "grid_auto_rows": null,
      "grid_column": null,
      "grid_gap": null,
      "grid_row": null,
      "grid_template_areas": null,
      "grid_template_columns": null,
      "grid_template_rows": null,
      "height": null,
      "justify_content": null,
      "justify_items": null,
      "left": null,
      "margin": null,
      "max_height": null,
      "max_width": null,
      "min_height": null,
      "min_width": null,
      "object_fit": null,
      "object_position": null,
      "order": null,
      "overflow": null,
      "overflow_x": null,
      "overflow_y": null,
      "padding": null,
      "right": null,
      "top": null,
      "visibility": null,
      "width": null
     }
    },
    "a5d84870fcdf4d24b14cde2548563ab6": {
     "model_module": "@jupyter-widgets/controls",
     "model_name": "IntProgressModel",
     "state": {
      "_dom_classes": [],
      "_model_module": "@jupyter-widgets/controls",
      "_model_module_version": "1.5.0",
      "_model_name": "IntProgressModel",
      "_view_count": null,
      "_view_module": "@jupyter-widgets/controls",
      "_view_module_version": "1.5.0",
      "_view_name": "ProgressView",
      "bar_style": "success",
      "description": "",
      "description_tooltip": null,
      "layout": "IPY_MODEL_5631a200aeee4ffeaa980ca7a0a81960",
      "max": 106,
      "min": 0,
      "orientation": "horizontal",
      "style": "IPY_MODEL_8ee5bc09fd9b450188af0d39ade45e44",
      "value": 106
     }
    },
    "bf3cfd1ab1e8408bb9ea0934e3eed9d5": {
     "model_module": "@jupyter-widgets/controls",
     "model_name": "HTMLModel",
     "state": {
      "_dom_classes": [],
      "_model_module": "@jupyter-widgets/controls",
      "_model_module_version": "1.5.0",
      "_model_name": "HTMLModel",
      "_view_count": null,
      "_view_module": "@jupyter-widgets/controls",
      "_view_module_version": "1.5.0",
      "_view_name": "HTMLView",
      "description": "",
      "description_tooltip": null,
      "layout": "IPY_MODEL_24f6129a241749839dc027352ef3f457",
      "placeholder": "​",
      "style": "IPY_MODEL_8e42ef56ca5440a2ab9cb33e7351f6d7",
      "value": "100% 106/106 [17:52&lt;00:00,  9.70s/it]"
     }
    },
    "8ee5bc09fd9b450188af0d39ade45e44": {
     "model_module": "@jupyter-widgets/controls",
     "model_name": "ProgressStyleModel",
     "state": {
      "_model_module": "@jupyter-widgets/controls",
      "_model_module_version": "1.5.0",
      "_model_name": "ProgressStyleModel",
      "_view_count": null,
      "_view_module": "@jupyter-widgets/base",
      "_view_module_version": "1.2.0",
      "_view_name": "StyleView",
      "bar_color": null,
      "description_width": ""
     }
    },
    "5631a200aeee4ffeaa980ca7a0a81960": {
     "model_module": "@jupyter-widgets/base",
     "model_name": "LayoutModel",
     "state": {
      "_model_module": "@jupyter-widgets/base",
      "_model_module_version": "1.2.0",
      "_model_name": "LayoutModel",
      "_view_count": null,
      "_view_module": "@jupyter-widgets/base",
      "_view_module_version": "1.2.0",
      "_view_name": "LayoutView",
      "align_content": null,
      "align_items": null,
      "align_self": null,
      "border": null,
      "bottom": null,
      "display": null,
      "flex": null,
      "flex_flow": null,
      "grid_area": null,
      "grid_auto_columns": null,
      "grid_auto_flow": null,
      "grid_auto_rows": null,
      "grid_column": null,
      "grid_gap": null,
      "grid_row": null,
      "grid_template_areas": null,
      "grid_template_columns": null,
      "grid_template_rows": null,
      "height": null,
      "justify_content": null,
      "justify_items": null,
      "left": null,
      "margin": null,
      "max_height": null,
      "max_width": null,
      "min_height": null,
      "min_width": null,
      "object_fit": null,
      "object_position": null,
      "order": null,
      "overflow": null,
      "overflow_x": null,
      "overflow_y": null,
      "padding": null,
      "right": null,
      "top": null,
      "visibility": null,
      "width": null
     }
    },
    "8e42ef56ca5440a2ab9cb33e7351f6d7": {
     "model_module": "@jupyter-widgets/controls",
     "model_name": "DescriptionStyleModel",
     "state": {
      "_model_module": "@jupyter-widgets/controls",
      "_model_module_version": "1.5.0",
      "_model_name": "DescriptionStyleModel",
      "_view_count": null,
      "_view_module": "@jupyter-widgets/base",
      "_view_module_version": "1.2.0",
      "_view_name": "StyleView",
      "description_width": ""
     }
    },
    "24f6129a241749839dc027352ef3f457": {
     "model_module": "@jupyter-widgets/base",
     "model_name": "LayoutModel",
     "state": {
      "_model_module": "@jupyter-widgets/base",
      "_model_module_version": "1.2.0",
      "_model_name": "LayoutModel",
      "_view_count": null,
      "_view_module": "@jupyter-widgets/base",
      "_view_module_version": "1.2.0",
      "_view_name": "LayoutView",
      "align_content": null,
      "align_items": null,
      "align_self": null,
      "border": null,
      "bottom": null,
      "display": null,
      "flex": null,
      "flex_flow": null,
      "grid_area": null,
      "grid_auto_columns": null,
      "grid_auto_flow": null,
      "grid_auto_rows": null,
      "grid_column": null,
      "grid_gap": null,
      "grid_row": null,
      "grid_template_areas": null,
      "grid_template_columns": null,
      "grid_template_rows": null,
      "height": null,
      "justify_content": null,
      "justify_items": null,
      "left": null,
      "margin": null,
      "max_height": null,
      "max_width": null,
      "min_height": null,
      "min_width": null,
      "object_fit": null,
      "object_position": null,
      "order": null,
      "overflow": null,
      "overflow_x": null,
      "overflow_y": null,
      "padding": null,
      "right": null,
      "top": null,
      "visibility": null,
      "width": null
     }
    }
   }
  }
 },
 "cells": [
  {
   "cell_type": "markdown",
   "metadata": {
    "id": "ghaIHACaifgZ",
    "colab_type": "text"
   },
   "source": [
    "Работу выполнил Подчезерцев Алексей ИАД5"
   ]
  },
  {
   "cell_type": "code",
   "metadata": {
    "colab_type": "code",
    "executionInfo": {
     "status": "ok",
     "timestamp": 1583358921641,
     "user_tz": -180,
     "elapsed": 12775,
     "user": {
      "displayName": "Алексей Подчезерцев",
      "photoUrl": "https://lh3.googleusercontent.com/a-/AOh14GjHN-g8lRldqGjIHMSaJY1rxUBxuENPHHKk5mlq=s64",
      "userId": "04087359208169148337"
     }
    },
    "id": "GFtlg7uZrkAD",
    "outputId": "943f69bb-b147-4722-e98d-5612685b1e77",
    "colab": {
     "base_uri": "https://localhost:8080/",
     "height": 126
    }
   },
   "source": [
    "from google.colab import drive\n",
    "drive.mount('/content/drive')"
   ],
   "execution_count": 2,
   "outputs": [
    {
     "output_type": "stream",
     "text": [
      "Go to this URL in a browser: https://accounts.google.com/o/oauth2/auth?client_id=947318989803-6bn6qk8qdgf4n4g3pfee6491hc0brc4i.apps.googleusercontent.com&redirect_uri=urn%3aietf%3awg%3aoauth%3a2.0%3aoob&response_type=code&scope=email%20https%3a%2f%2fwww.googleapis.com%2fauth%2fdocs.test%20https%3a%2f%2fwww.googleapis.com%2fauth%2fdrive%20https%3a%2f%2fwww.googleapis.com%2fauth%2fdrive.photos.readonly%20https%3a%2f%2fwww.googleapis.com%2fauth%2fpeopleapi.readonly\n",
      "\n",
      "Enter your authorization code:\n",
      "··········\n",
      "Mounted at /content/drive\n"
     ],
     "name": "stdout"
    }
   ]
  },
  {
   "cell_type": "code",
   "metadata": {
    "colab_type": "code",
    "id": "pfC4Brngr_yt",
    "colab": {}
   },
   "source": [
    "import os\n",
    "os.chdir('/content/drive/Shared drives/Тяжелые проекты/ИАД/applied-ds/hw_01')"
   ],
   "execution_count": 0,
   "outputs": []
  },
  {
   "cell_type": "code",
   "metadata": {
    "colab_type": "code",
    "id": "a1-rgXTx17Q0",
    "colab": {}
   },
   "source": [
    "!mkdir -p ~/.kaggle\n",
    "!cp secret/kaggle.json ~/.kaggle/\n",
    "!chmod 600 /root/.kaggle/kaggle.json\n",
    "# !pip install --upgrade -q kaggle"
   ],
   "execution_count": 0,
   "outputs": []
  },
  {
   "cell_type": "code",
   "metadata": {
    "colab_type": "code",
    "executionInfo": {
     "status": "ok",
     "timestamp": 1583358947741,
     "user_tz": -180,
     "elapsed": 2782,
     "user": {
      "displayName": "Алексей Подчезерцев",
      "photoUrl": "https://lh3.googleusercontent.com/a-/AOh14GjHN-g8lRldqGjIHMSaJY1rxUBxuENPHHKk5mlq=s64",
      "userId": "04087359208169148337"
     }
    },
    "id": "RnfKtrclsBnF",
    "outputId": "1be3b714-516e-4d2a-f74b-7ebdbe6c1bee",
    "colab": {
     "base_uri": "https://localhost:8080/",
     "height": 35
    }
   },
   "source": [
    "import numpy as np\n",
    "import pandas as pd\n",
    "import json\n",
    "from tqdm import tqdm_notebook\n",
    "import multiprocessing\n",
    "multiprocessing.cpu_count()"
   ],
   "execution_count": 5,
   "outputs": [
    {
     "output_type": "execute_result",
     "data": {
      "text/plain": [
       "4"
      ]
     },
     "metadata": {
      "tags": []
     },
     "execution_count": 5
    }
   ]
  },
  {
   "cell_type": "code",
   "metadata": {
    "colab_type": "code",
    "executionInfo": {
     "status": "ok",
     "timestamp": 1583358952411,
     "user_tz": -180,
     "elapsed": 5194,
     "user": {
      "displayName": "Алексей Подчезерцев",
      "photoUrl": "https://lh3.googleusercontent.com/a-/AOh14GjHN-g8lRldqGjIHMSaJY1rxUBxuENPHHKk5mlq=s64",
      "userId": "04087359208169148337"
     }
    },
    "id": "piNZLTobgLDK",
    "outputId": "bde3d7da-8e75-413d-997e-9b43a108f75a",
    "colab": {
     "base_uri": "https://localhost:8080/",
     "height": 319
    }
   },
   "source": [
    "from numba import cuda \n",
    "device = cuda.get_current_device()\n",
    "device.reset()\n",
    "!nvidia-smi"
   ],
   "execution_count": 6,
   "outputs": [
    {
     "output_type": "stream",
     "text": [
      "Wed Mar  4 21:55:50 2020       \n",
      "+-----------------------------------------------------------------------------+\n",
      "| NVIDIA-SMI 440.59       Driver Version: 418.67       CUDA Version: 10.1     |\n",
      "|-------------------------------+----------------------+----------------------+\n",
      "| GPU  Name        Persistence-M| Bus-Id        Disp.A | Volatile Uncorr. ECC |\n",
      "| Fan  Temp  Perf  Pwr:Usage/Cap|         Memory-Usage | GPU-Util  Compute M. |\n",
      "|===============================+======================+======================|\n",
      "|   0  Tesla P100-PCIE...  Off  | 00000000:00:04.0 Off |                    0 |\n",
      "| N/A   32C    P0    30W / 250W |     10MiB / 16280MiB |      0%      Default |\n",
      "+-------------------------------+----------------------+----------------------+\n",
      "                                                                               \n",
      "+-----------------------------------------------------------------------------+\n",
      "| Processes:                                                       GPU Memory |\n",
      "|  GPU       PID   Type   Process name                             Usage      |\n",
      "|=============================================================================|\n",
      "|  No running processes found                                                 |\n",
      "+-----------------------------------------------------------------------------+\n"
     ],
     "name": "stdout"
    }
   ]
  },
  {
   "cell_type": "markdown",
   "metadata": {
    "colab_type": "text",
    "id": "4S2iRRG0207f"
   },
   "source": [
    "# Data read"
   ]
  },
  {
   "cell_type": "code",
   "metadata": {
    "colab_type": "code",
    "id": "OA-uDCfw23N2",
    "colab": {}
   },
   "source": [
    "def lazy_train_reader(fname):    \n",
    "    data = []\n",
    "    with open(fname) as f:\n",
    "        for line in tqdm_notebook(f, total=42977):\n",
    "            obj = json.loads(line)\n",
    "            userId = int(obj['userId'])\n",
    "            for itemId, event in obj['trainRatings'].items():\n",
    "                data.append((userId, int(itemId), int(event)))\n",
    "    return pd.DataFrame(data, columns=['userId', 'itemId', 'event'], dtype=np.uint32)\n",
    "def lazy_item_reader(fname):\n",
    "    items_list=[]\n",
    "    with open(fname) as f:\n",
    "        for line in tqdm_notebook(f, total=328050):\n",
    "            item=json.loads(line)\n",
    "            if isinstance(item['image'], float):\n",
    "                item['image']=[0 for _ in range(96)]\n",
    "                \n",
    "            item['image']=np.array(item['image'])\n",
    "            items_list.append(item)\n",
    "\n",
    "    return pd.DataFrame(items_list).set_index('itemId')"
   ],
   "execution_count": 0,
   "outputs": []
  },
  {
   "cell_type": "code",
   "metadata": {
    "colab_type": "code",
    "executionInfo": {
     "status": "ok",
     "timestamp": 1583359030383,
     "user_tz": -180,
     "elapsed": 74537,
     "user": {
      "displayName": "Алексей Подчезерцев",
      "photoUrl": "https://lh3.googleusercontent.com/a-/AOh14GjHN-g8lRldqGjIHMSaJY1rxUBxuENPHHKk5mlq=s64",
      "userId": "04087359208169148337"
     }
    },
    "id": "izQjsbJg3aNT",
    "outputId": "23a36d92-dc75-4604-b74c-30264eb98d2a",
    "colab": {
     "base_uri": "https://localhost:8080/",
     "height": 67,
     "referenced_widgets": [
      "4c06ff4814b14e97b08f4883b8c563ba",
      "abd5eeeab28648d68aacbc21a6f35012",
      "1acbe3c174284fe0bb19d07dbd9b75d6",
      "93a3274908894b12a1e771ba7a2067b1",
      "077295d459f24ac2a7b2a05249baa147",
      "4de4777512c14bfaa86104ccea57a805",
      "8eac8300aa674580a8c743d21d9d3bd8",
      "035297daa2314118aff340653347836d"
     ]
    }
   },
   "source": [
    "items = lazy_item_reader('items.json')\n",
    "items.to_pickle('items.pkl')"
   ],
   "execution_count": 8,
   "outputs": [
    {
     "output_type": "display_data",
     "data": {
      "application/vnd.jupyter.widget-view+json": {
       "model_id": "4c06ff4814b14e97b08f4883b8c563ba",
       "version_minor": 0,
       "version_major": 2
      },
      "text/plain": [
       "HBox(children=(IntProgress(value=0, max=328050), HTML(value='')))"
      ]
     },
     "metadata": {
      "tags": []
     }
    },
    {
     "output_type": "stream",
     "text": [
      "\n"
     ],
     "name": "stdout"
    }
   ]
  },
  {
   "cell_type": "code",
   "metadata": {
    "colab_type": "code",
    "executionInfo": {
     "status": "ok",
     "timestamp": 1583359129157,
     "user_tz": -180,
     "elapsed": 98751,
     "user": {
      "displayName": "Алексей Подчезерцев",
      "photoUrl": "https://lh3.googleusercontent.com/a-/AOh14GjHN-g8lRldqGjIHMSaJY1rxUBxuENPHHKk5mlq=s64",
      "userId": "04087359208169148337"
     }
    },
    "id": "MgtnVfWL3z86",
    "outputId": "e380efa0-95f4-4fb5-85c8-05f3c9ae98c3",
    "colab": {
     "base_uri": "https://localhost:8080/",
     "height": 67,
     "referenced_widgets": [
      "5583ff72dcba44ddb4202810b16aff54",
      "edb47bdc27f94bf886664bededcf9dfd",
      "1a54d778da464a3d80a62ed888a32810",
      "22a7feee4fa04398b2551fff1b9e1ffd",
      "f59b9283a93f4ec3b895c2c2fdb5ecc5",
      "aef9619e71244bcda441a2112a0fef53",
      "df86755509484e03be077b679ef8a368",
      "5af5f7f413f54b91bb97ed03700cf8eb"
     ]
    }
   },
   "source": [
    "train = lazy_train_reader('train.json')\n",
    "train.to_pickle('train.pkl')"
   ],
   "execution_count": 9,
   "outputs": [
    {
     "output_type": "display_data",
     "data": {
      "application/vnd.jupyter.widget-view+json": {
       "model_id": "5583ff72dcba44ddb4202810b16aff54",
       "version_minor": 0,
       "version_major": 2
      },
      "text/plain": [
       "HBox(children=(IntProgress(value=0, max=42977), HTML(value='')))"
      ]
     },
     "metadata": {
      "tags": []
     }
    },
    {
     "output_type": "stream",
     "text": [
      "\n"
     ],
     "name": "stdout"
    }
   ]
  },
  {
   "cell_type": "code",
   "metadata": {
    "colab_type": "code",
    "id": "PGRP74ch5tKV",
    "colab": {}
   },
   "source": [
    "if 'items' not in vars():\n",
    "    items = pd.read_pickle('items.pkl')\n",
    "if 'train' not in vars():\n",
    "    train = pd.read_pickle('train.pkl')\n",
    "if 'random_benchmark' not in vars():\n",
    "    random_benchmark = pd.read_csv('random_benchmark.csv')"
   ],
   "execution_count": 0,
   "outputs": []
  },
  {
   "cell_type": "markdown",
   "metadata": {
    "colab_type": "text",
    "id": "3hTnFli07O9w"
   },
   "source": [
    "# SVD"
   ]
  },
  {
   "cell_type": "code",
   "metadata": {
    "colab_type": "code",
    "id": "7vx4FLIishlx",
    "colab": {}
   },
   "source": [
    "train['event_float'] = train['event'].astype(np.float32).replace(1, 10).replace(0, -1)\n",
    "train['event_float'] = (train['event_float'].replace(10, (train['event'] == 0).sum()/(train['event'] == 1).sum())/20)"
   ],
   "execution_count": 0,
   "outputs": []
  },
  {
   "cell_type": "markdown",
   "metadata": {
    "id": "-42V95pNifhC",
    "colab_type": "text"
   },
   "source": [
    "При таком значении среднее для `event_float` будет равно 0"
   ]
  },
  {
   "cell_type": "code",
   "metadata": {
    "colab_type": "code",
    "executionInfo": {
     "status": "ok",
     "timestamp": 1583359132718,
     "user_tz": -180,
     "elapsed": 102280,
     "user": {
      "displayName": "Алексей Подчезерцев",
      "photoUrl": "https://lh3.googleusercontent.com/a-/AOh14GjHN-g8lRldqGjIHMSaJY1rxUBxuENPHHKk5mlq=s64",
      "userId": "04087359208169148337"
     }
    },
    "id": "KmuLaHpbseen",
    "outputId": "b09dcde8-ea98-4ac2-9bfe-f01c5e1a0c97",
    "colab": {
     "base_uri": "https://localhost:8080/",
     "height": 35
    }
   },
   "source": [
    "train['event_float'].unique()"
   ],
   "execution_count": 12,
   "outputs": [
    {
     "output_type": "execute_result",
     "data": {
      "text/plain": [
       "array([-0.05      ,  0.47537431])"
      ]
     },
     "metadata": {
      "tags": []
     },
     "execution_count": 12
    }
   ]
  },
  {
   "cell_type": "code",
   "metadata": {
    "colab_type": "code",
    "id": "GLosalbWsYlm",
    "colab": {}
   },
   "source": [
    "from scipy.sparse import csr_matrix\n",
    "from scipy.sparse.linalg import svds"
   ],
   "execution_count": 0,
   "outputs": []
  },
  {
   "cell_type": "code",
   "metadata": {
    "colab_type": "code",
    "executionInfo": {
     "status": "ok",
     "timestamp": 1583359137635,
     "user_tz": -180,
     "elapsed": 107170,
     "user": {
      "displayName": "Алексей Подчезерцев",
      "photoUrl": "https://lh3.googleusercontent.com/a-/AOh14GjHN-g8lRldqGjIHMSaJY1rxUBxuENPHHKk5mlq=s64",
      "userId": "04087359208169148337"
     }
    },
    "id": "tsT4xFnCscn1",
    "outputId": "39ac486d-8e40-4c9e-fa48-c4afd8858238",
    "colab": {
     "base_uri": "https://localhost:8080/",
     "height": 52
    }
   },
   "source": [
    "%%time\n",
    "matrix = csr_matrix((train['event_float'], (train['userId'], train['itemId'])))"
   ],
   "execution_count": 14,
   "outputs": [
    {
     "output_type": "stream",
     "text": [
      "CPU times: user 4.8 s, sys: 5.29 ms, total: 4.81 s\n",
      "Wall time: 4.82 s\n"
     ],
     "name": "stdout"
    }
   ]
  },
  {
   "cell_type": "code",
   "metadata": {
    "colab_type": "code",
    "executionInfo": {
     "status": "ok",
     "timestamp": 1583359309069,
     "user_tz": -180,
     "elapsed": 278577,
     "user": {
      "displayName": "Алексей Подчезерцев",
      "photoUrl": "https://lh3.googleusercontent.com/a-/AOh14GjHN-g8lRldqGjIHMSaJY1rxUBxuENPHHKk5mlq=s64",
      "userId": "04087359208169148337"
     }
    },
    "id": "id_TEhK7sp46",
    "outputId": "a838fe42-bb38-4d9a-bff8-d78342de7c42",
    "colab": {
     "base_uri": "https://localhost:8080/",
     "height": 52
    }
   },
   "source": [
    "%%time\n",
    "u,s,vt = svds(matrix, k=100)"
   ],
   "execution_count": 15,
   "outputs": [
    {
     "output_type": "stream",
     "text": [
      "CPU times: user 3min 21s, sys: 2min 5s, total: 5min 26s\n",
      "Wall time: 2min 50s\n"
     ],
     "name": "stdout"
    }
   ]
  },
  {
   "cell_type": "code",
   "metadata": {
    "id": "op0PMKVYifhP",
    "colab_type": "code",
    "colab": {}
   },
   "source": [
    "s = np.diag(s)"
   ],
   "execution_count": 0,
   "outputs": []
  },
  {
   "cell_type": "code",
   "metadata": {
    "colab_type": "code",
    "id": "LGtotVucIalS",
    "colab": {}
   },
   "source": [
    "random_groups = random_benchmark.groupby('userId')['itemId'].agg(lambda x: list(x))"
   ],
   "execution_count": 0,
   "outputs": []
  },
  {
   "cell_type": "code",
   "metadata": {
    "colab_type": "code",
    "executionInfo": {
     "status": "ok",
     "timestamp": 1583359378895,
     "user_tz": -180,
     "elapsed": 51287,
     "user": {
      "displayName": "Алексей Подчезерцев",
      "photoUrl": "https://lh3.googleusercontent.com/a-/AOh14GjHN-g8lRldqGjIHMSaJY1rxUBxuENPHHKk5mlq=s64",
      "userId": "04087359208169148337"
     }
    },
    "id": "JuRXzkNuQ856",
    "outputId": "6f45c187-57ba-416a-dcf0-ab4263c4b415",
    "colab": {
     "base_uri": "https://localhost:8080/",
     "height": 67,
     "referenced_widgets": [
      "c73f9a6a5eb344b6aa3b0f5e9bcc2dc0",
      "df6fde7c4d384ae1ab77a6eb61f5cfc0",
      "c43acd74789b430798d71380bd8ff52b",
      "dc3bef8fd83b455c898d9694058e6074",
      "45e0dba839b0460394a20288acdaa437",
      "c4615ec10f144444a0004af47682959a",
      "e641776dbf144715b5c8d7979b44e6f0",
      "f62ca9232b914f0ab4d8cc961fbc90f0"
     ]
    }
   },
   "source": [
    "result = []\n",
    "for userId, items_ in tqdm_notebook(random_groups.iteritems(), total=len(random_groups)):\n",
    "    for itemId in items_:\n",
    "        result.append({'userId': userId, 'itemId': itemId, 'score': u[userId] @ s @ vt[:, itemId]})\n",
    "result = pd.DataFrame(result)"
   ],
   "execution_count": 19,
   "outputs": [
    {
     "output_type": "display_data",
     "data": {
      "application/vnd.jupyter.widget-view+json": {
       "model_id": "c73f9a6a5eb344b6aa3b0f5e9bcc2dc0",
       "version_minor": 0,
       "version_major": 2
      },
      "text/plain": [
       "HBox(children=(IntProgress(value=0, max=4349), HTML(value='')))"
      ]
     },
     "metadata": {
      "tags": []
     }
    },
    {
     "output_type": "stream",
     "text": [
      "\n"
     ],
     "name": "stdout"
    }
   ]
  },
  {
   "cell_type": "code",
   "metadata": {
    "colab_type": "code",
    "id": "Vj8vzHjOT7qP",
    "colab": {}
   },
   "source": [
    "result = result.sort_values(['userId', 'score'], ascending=[True, False])"
   ],
   "execution_count": 0,
   "outputs": []
  },
  {
   "cell_type": "code",
   "metadata": {
    "colab_type": "code",
    "executionInfo": {
     "status": "ok",
     "timestamp": 1583359379257,
     "user_tz": -180,
     "elapsed": 50584,
     "user": {
      "displayName": "Алексей Подчезерцев",
      "photoUrl": "https://lh3.googleusercontent.com/a-/AOh14GjHN-g8lRldqGjIHMSaJY1rxUBxuENPHHKk5mlq=s64",
      "userId": "04087359208169148337"
     }
    },
    "id": "CmIGe9c2dsJ0",
    "outputId": "7936449f-729b-41ef-a9fc-5d529c791990",
    "scrolled": true,
    "colab": {
     "base_uri": "https://localhost:8080/",
     "height": 399
    }
   },
   "source": [
    "result"
   ],
   "execution_count": 21,
   "outputs": [
    {
     "output_type": "execute_result",
     "data": {
      "text/html": [
       "<div>\n",
       "<style scoped>\n",
       "    .dataframe tbody tr th:only-of-type {\n",
       "        vertical-align: middle;\n",
       "    }\n",
       "\n",
       "    .dataframe tbody tr th {\n",
       "        vertical-align: top;\n",
       "    }\n",
       "\n",
       "    .dataframe thead th {\n",
       "        text-align: right;\n",
       "    }\n",
       "</style>\n",
       "<table border=\"1\" class=\"dataframe\">\n",
       "  <thead>\n",
       "    <tr style=\"text-align: right;\">\n",
       "      <th></th>\n",
       "      <th>userId</th>\n",
       "      <th>itemId</th>\n",
       "      <th>score</th>\n",
       "    </tr>\n",
       "  </thead>\n",
       "  <tbody>\n",
       "    <tr>\n",
       "      <th>360</th>\n",
       "      <td>1</td>\n",
       "      <td>322907</td>\n",
       "      <td>0.114959</td>\n",
       "    </tr>\n",
       "    <tr>\n",
       "      <th>248</th>\n",
       "      <td>1</td>\n",
       "      <td>178123</td>\n",
       "      <td>0.068097</td>\n",
       "    </tr>\n",
       "    <tr>\n",
       "      <th>577</th>\n",
       "      <td>1</td>\n",
       "      <td>225577</td>\n",
       "      <td>0.037956</td>\n",
       "    </tr>\n",
       "    <tr>\n",
       "      <th>112</th>\n",
       "      <td>1</td>\n",
       "      <td>159316</td>\n",
       "      <td>0.034396</td>\n",
       "    </tr>\n",
       "    <tr>\n",
       "      <th>239</th>\n",
       "      <td>1</td>\n",
       "      <td>251205</td>\n",
       "      <td>0.030940</td>\n",
       "    </tr>\n",
       "    <tr>\n",
       "      <th>...</th>\n",
       "      <td>...</td>\n",
       "      <td>...</td>\n",
       "      <td>...</td>\n",
       "    </tr>\n",
       "    <tr>\n",
       "      <th>3017920</th>\n",
       "      <td>42975</td>\n",
       "      <td>176823</td>\n",
       "      <td>-0.010609</td>\n",
       "    </tr>\n",
       "    <tr>\n",
       "      <th>3017982</th>\n",
       "      <td>42975</td>\n",
       "      <td>282939</td>\n",
       "      <td>-0.010906</td>\n",
       "    </tr>\n",
       "    <tr>\n",
       "      <th>3018166</th>\n",
       "      <td>42975</td>\n",
       "      <td>218128</td>\n",
       "      <td>-0.014319</td>\n",
       "    </tr>\n",
       "    <tr>\n",
       "      <th>3018107</th>\n",
       "      <td>42975</td>\n",
       "      <td>196240</td>\n",
       "      <td>-0.014525</td>\n",
       "    </tr>\n",
       "    <tr>\n",
       "      <th>3017847</th>\n",
       "      <td>42975</td>\n",
       "      <td>46331</td>\n",
       "      <td>-0.019185</td>\n",
       "    </tr>\n",
       "  </tbody>\n",
       "</table>\n",
       "<p>3018186 rows × 3 columns</p>\n",
       "</div>"
      ],
      "text/plain": [
       "         userId  itemId     score\n",
       "360           1  322907  0.114959\n",
       "248           1  178123  0.068097\n",
       "577           1  225577  0.037956\n",
       "112           1  159316  0.034396\n",
       "239           1  251205  0.030940\n",
       "...         ...     ...       ...\n",
       "3017920   42975  176823 -0.010609\n",
       "3017982   42975  282939 -0.010906\n",
       "3018166   42975  218128 -0.014319\n",
       "3018107   42975  196240 -0.014525\n",
       "3017847   42975   46331 -0.019185\n",
       "\n",
       "[3018186 rows x 3 columns]"
      ]
     },
     "metadata": {
      "tags": []
     },
     "execution_count": 21
    }
   ]
  },
  {
   "cell_type": "code",
   "metadata": {
    "colab_type": "code",
    "id": "p0EN7Dg4cRip",
    "colab": {}
   },
   "source": [
    "result[['userId', 'itemId']].to_csv('21_offtop_svd20.csv', index=None)"
   ],
   "execution_count": 0,
   "outputs": []
  },
  {
   "cell_type": "markdown",
   "metadata": {
    "id": "mu9pO39uifhl",
    "colab_type": "text"
   },
   "source": [
    "# LightFM"
   ]
  },
  {
   "cell_type": "code",
   "metadata": {
    "colab_type": "code",
    "executionInfo": {
     "status": "ok",
     "timestamp": 1583359401365,
     "user_tz": -180,
     "elapsed": 70976,
     "user": {
      "displayName": "Алексей Подчезерцев",
      "photoUrl": "https://lh3.googleusercontent.com/a-/AOh14GjHN-g8lRldqGjIHMSaJY1rxUBxuENPHHKk5mlq=s64",
      "userId": "04087359208169148337"
     }
    },
    "id": "7-cpA3obDddb",
    "outputId": "19893e0a-d295-42d8-ee78-9ba99b8b9d69",
    "scrolled": true,
    "colab": {
     "base_uri": "https://localhost:8080/",
     "height": 319
    }
   },
   "source": [
    "!pip install lightfm\n",
    "from lightfm import LightFM\n",
    "from sklearn.feature_extraction.text import TfidfVectorizer"
   ],
   "execution_count": 23,
   "outputs": [
    {
     "output_type": "stream",
     "text": [
      "Collecting lightfm\n",
      "\u001B[?25l  Downloading https://files.pythonhosted.org/packages/e9/8e/5485ac5a8616abe1c673d1e033e2f232b4319ab95424b42499fabff2257f/lightfm-1.15.tar.gz (302kB)\n",
      "\r\u001B[K     |█                               | 10kB 25.1MB/s eta 0:00:01\r\u001B[K     |██▏                             | 20kB 1.7MB/s eta 0:00:01\r\u001B[K     |███▎                            | 30kB 2.3MB/s eta 0:00:01\r\u001B[K     |████▍                           | 40kB 1.6MB/s eta 0:00:01\r\u001B[K     |█████▍                          | 51kB 1.9MB/s eta 0:00:01\r\u001B[K     |██████▌                         | 61kB 2.3MB/s eta 0:00:01\r\u001B[K     |███████▋                        | 71kB 2.4MB/s eta 0:00:01\r\u001B[K     |████████▊                       | 81kB 2.6MB/s eta 0:00:01\r\u001B[K     |█████████▊                      | 92kB 2.9MB/s eta 0:00:01\r\u001B[K     |██████████▉                     | 102kB 2.7MB/s eta 0:00:01\r\u001B[K     |████████████                    | 112kB 2.7MB/s eta 0:00:01\r\u001B[K     |█████████████                   | 122kB 2.7MB/s eta 0:00:01\r\u001B[K     |██████████████                  | 133kB 2.7MB/s eta 0:00:01\r\u001B[K     |███████████████▏                | 143kB 2.7MB/s eta 0:00:01\r\u001B[K     |████████████████▎               | 153kB 2.7MB/s eta 0:00:01\r\u001B[K     |█████████████████▍              | 163kB 2.7MB/s eta 0:00:01\r\u001B[K     |██████████████████▍             | 174kB 2.7MB/s eta 0:00:01\r\u001B[K     |███████████████████▌            | 184kB 2.7MB/s eta 0:00:01\r\u001B[K     |████████████████████▋           | 194kB 2.7MB/s eta 0:00:01\r\u001B[K     |█████████████████████▊          | 204kB 2.7MB/s eta 0:00:01\r\u001B[K     |██████████████████████▊         | 215kB 2.7MB/s eta 0:00:01\r\u001B[K     |███████████████████████▉        | 225kB 2.7MB/s eta 0:00:01\r\u001B[K     |█████████████████████████       | 235kB 2.7MB/s eta 0:00:01\r\u001B[K     |██████████████████████████      | 245kB 2.7MB/s eta 0:00:01\r\u001B[K     |███████████████████████████     | 256kB 2.7MB/s eta 0:00:01\r\u001B[K     |████████████████████████████▏   | 266kB 2.7MB/s eta 0:00:01\r\u001B[K     |█████████████████████████████▎  | 276kB 2.7MB/s eta 0:00:01\r\u001B[K     |██████████████████████████████▍ | 286kB 2.7MB/s eta 0:00:01\r\u001B[K     |███████████████████████████████▍| 296kB 2.7MB/s eta 0:00:01\r\u001B[K     |████████████████████████████████| 307kB 2.7MB/s \n",
      "\u001B[?25hRequirement already satisfied: numpy in /usr/local/lib/python3.6/dist-packages (from lightfm) (1.17.5)\n",
      "Requirement already satisfied: scipy>=0.17.0 in /usr/local/lib/python3.6/dist-packages (from lightfm) (1.4.1)\n",
      "Requirement already satisfied: requests in /usr/local/lib/python3.6/dist-packages (from lightfm) (2.21.0)\n",
      "Requirement already satisfied: urllib3<1.25,>=1.21.1 in /usr/local/lib/python3.6/dist-packages (from requests->lightfm) (1.24.3)\n",
      "Requirement already satisfied: certifi>=2017.4.17 in /usr/local/lib/python3.6/dist-packages (from requests->lightfm) (2019.11.28)\n",
      "Requirement already satisfied: chardet<3.1.0,>=3.0.2 in /usr/local/lib/python3.6/dist-packages (from requests->lightfm) (3.0.4)\n",
      "Requirement already satisfied: idna<2.9,>=2.5 in /usr/local/lib/python3.6/dist-packages (from requests->lightfm) (2.8)\n",
      "Building wheels for collected packages: lightfm\n",
      "  Building wheel for lightfm (setup.py) ... \u001B[?25l\u001B[?25hdone\n",
      "  Created wheel for lightfm: filename=lightfm-1.15-cp36-cp36m-linux_x86_64.whl size=707628 sha256=f517cd1bc35e88f4e9adb101ab940fb5a0bbe307cf57665099bd4b20f3f0fa3e\n",
      "  Stored in directory: /root/.cache/pip/wheels/eb/bb/ac/188385a5da6627956be5d9663928483b36da576149ab5b8f79\n",
      "Successfully built lightfm\n",
      "Installing collected packages: lightfm\n",
      "Successfully installed lightfm-1.15\n"
     ],
     "name": "stdout"
    }
   ]
  },
  {
   "cell_type": "code",
   "metadata": {
    "colab_type": "code",
    "executionInfo": {
     "status": "ok",
     "timestamp": 1583359570316,
     "user_tz": -180,
     "elapsed": 4806,
     "user": {
      "displayName": "Алексей Подчезерцев",
      "photoUrl": "https://lh3.googleusercontent.com/a-/AOh14GjHN-g8lRldqGjIHMSaJY1rxUBxuENPHHKk5mlq=s64",
      "userId": "04087359208169148337"
     }
    },
    "id": "VvBjbHkEDyYn",
    "outputId": "84f24833-d070-4c71-f353-f68ec6d2209e",
    "colab": {
     "base_uri": "https://localhost:8080/",
     "height": 52
    }
   },
   "source": [
    "%%time\n",
    "vect_t = TfidfVectorizer(min_df=3, max_df=0.1)\n",
    "title_tf = vect_t.fit_transform(items['title'])"
   ],
   "execution_count": 35,
   "outputs": [
    {
     "output_type": "stream",
     "text": [
      "CPU times: user 3.45 s, sys: 36.8 ms, total: 3.49 s\n",
      "Wall time: 3.5 s\n"
     ],
     "name": "stdout"
    }
   ]
  },
  {
   "cell_type": "code",
   "metadata": {
    "colab_type": "code",
    "executionInfo": {
     "status": "ok",
     "timestamp": 1583359632939,
     "user_tz": -180,
     "elapsed": 61380,
     "user": {
      "displayName": "Алексей Подчезерцев",
      "photoUrl": "https://lh3.googleusercontent.com/a-/AOh14GjHN-g8lRldqGjIHMSaJY1rxUBxuENPHHKk5mlq=s64",
      "userId": "04087359208169148337"
     }
    },
    "id": "5l75IxVBEBPz",
    "outputId": "d1b568ff-f227-4cc3-a5fd-6ae2b3c3cc1c",
    "colab": {
     "base_uri": "https://localhost:8080/",
     "height": 52
    }
   },
   "source": [
    "%%time\n",
    "vect_c = TfidfVectorizer(min_df=10, max_df=0.1, max_features=5000)\n",
    "content_tf = vect_c.fit_transform(items['content'])"
   ],
   "execution_count": 36,
   "outputs": [
    {
     "output_type": "stream",
     "text": [
      "CPU times: user 59.6 s, sys: 490 ms, total: 1min\n",
      "Wall time: 1min\n"
     ],
     "name": "stdout"
    }
   ]
  },
  {
   "cell_type": "code",
   "metadata": {
    "colab_type": "code",
    "executionInfo": {
     "status": "ok",
     "timestamp": 1583359632940,
     "user_tz": -180,
     "elapsed": 58502,
     "user": {
      "displayName": "Алексей Подчезерцев",
      "photoUrl": "https://lh3.googleusercontent.com/a-/AOh14GjHN-g8lRldqGjIHMSaJY1rxUBxuENPHHKk5mlq=s64",
      "userId": "04087359208169148337"
     }
    },
    "id": "y0Xun8LhEggi",
    "outputId": "b9146abe-8f49-462d-a618-f033a3d6298c",
    "colab": {
     "base_uri": "https://localhost:8080/",
     "height": 35
    }
   },
   "source": [
    "title_tf.shape, content_tf.shape"
   ],
   "execution_count": 37,
   "outputs": [
    {
     "output_type": "execute_result",
     "data": {
      "text/plain": [
       "((328050, 72235), (328050, 5000))"
      ]
     },
     "metadata": {
      "tags": []
     },
     "execution_count": 37
    }
   ]
  },
  {
   "cell_type": "code",
   "metadata": {
    "colab_type": "code",
    "executionInfo": {
     "status": "ok",
     "timestamp": 1583359632941,
     "user_tz": -180,
     "elapsed": 58187,
     "user": {
      "displayName": "Алексей Подчезерцев",
      "photoUrl": "https://lh3.googleusercontent.com/a-/AOh14GjHN-g8lRldqGjIHMSaJY1rxUBxuENPHHKk5mlq=s64",
      "userId": "04087359208169148337"
     }
    },
    "id": "AUY8YvFf4PTg",
    "outputId": "29ad9ee7-dbf9-4ee8-be7f-9cbb01d47042",
    "colab": {
     "base_uri": "https://localhost:8080/",
     "height": 52
    }
   },
   "source": [
    "title_tf"
   ],
   "execution_count": 38,
   "outputs": [
    {
     "output_type": "execute_result",
     "data": {
      "text/plain": [
       "<328050x72235 sparse matrix of type '<class 'numpy.float64'>'\n",
       "\twith 2124653 stored elements in Compressed Sparse Row format>"
      ]
     },
     "metadata": {
      "tags": []
     },
     "execution_count": 38
    }
   ]
  },
  {
   "cell_type": "code",
   "metadata": {
    "colab_type": "code",
    "executionInfo": {
     "status": "ok",
     "timestamp": 1583359632942,
     "user_tz": -180,
     "elapsed": 57954,
     "user": {
      "displayName": "Алексей Подчезерцев",
      "photoUrl": "https://lh3.googleusercontent.com/a-/AOh14GjHN-g8lRldqGjIHMSaJY1rxUBxuENPHHKk5mlq=s64",
      "userId": "04087359208169148337"
     }
    },
    "id": "njD9-BYQ4PRM",
    "outputId": "be764c64-a25d-4908-c2a1-71594d01b1a4",
    "colab": {
     "base_uri": "https://localhost:8080/",
     "height": 52
    }
   },
   "source": [
    "content_tf"
   ],
   "execution_count": 39,
   "outputs": [
    {
     "output_type": "execute_result",
     "data": {
      "text/plain": [
       "<328050x5000 sparse matrix of type '<class 'numpy.float64'>'\n",
       "\twith 20819470 stored elements in Compressed Sparse Row format>"
      ]
     },
     "metadata": {
      "tags": []
     },
     "execution_count": 39
    }
   ]
  },
  {
   "cell_type": "code",
   "metadata": {
    "colab_type": "code",
    "id": "6k_qWcBWDwtt",
    "colab": {}
   },
   "source": [
    "model = LightFM(no_components=100)"
   ],
   "execution_count": 0,
   "outputs": []
  },
  {
   "cell_type": "code",
   "metadata": {
    "colab_type": "code",
    "id": "3wEQhS-yVuip",
    "colab": {}
   },
   "source": [
    "rg = random_benchmark.groupby('userId')['itemId'].agg(lambda x: list(x))"
   ],
   "execution_count": 0,
   "outputs": []
  },
  {
   "cell_type": "code",
   "metadata": {
    "colab_type": "code",
    "id": "mNdVA-pMEa68",
    "outputId": "2d0d7347-bb5b-4c4a-f6ff-6c86511424db",
    "colab": {
     "base_uri": "https://localhost:8080/",
     "height": 67,
     "referenced_widgets": [
      "a23a2bffb2584e7f9abf4e8e14a1587e",
      "47c48c26432c44348813468316af95c9",
      "baa710a04342449c916146b377cde3cc",
      "b7fa2edde00944b0a898123d4d9e4c70",
      "0d849bda6b2b485d87e4f600e11a9e57",
      "e104841383264168a8dce3670559cb9e",
      "6c4d76f90b8440ed97d850d4b1c4d330",
      "d52e346b63294047bf71559005df1b44"
     ]
    },
    "executionInfo": {
     "status": "ok",
     "timestamp": 1583359633410,
     "user_tz": -180,
     "elapsed": 57756,
     "user": {
      "displayName": "Алексей Подчезерцев",
      "photoUrl": "https://lh3.googleusercontent.com/a-/AOh14GjHN-g8lRldqGjIHMSaJY1rxUBxuENPHHKk5mlq=s64",
      "userId": "04087359208169148337"
     }
    }
   },
   "source": [
    "for i in tqdm_notebook(range(30)):\n",
    "    break\n",
    "    model.fit_partial(matrix, item_features=title_tf, \n",
    "                      epochs=1, \n",
    "                      num_threads=multiprocessing.cpu_count(), \n",
    "                      verbose=False)\n",
    "    with open(f'32_lightfm_rating_{i:02d}.pkl', 'wb') as fle:\n",
    "        pickle.dump(model, fle)\n",
    "    if i % 10 == 9:\n",
    "        try:\n",
    "            result = []\n",
    "            for userId, items in tqdm_notebook(rg.iteritems(), total=len(rg)):\n",
    "                proba = model.predict(userId, np.array(items), item_features=title_tf)\n",
    "                result += list(zip([userId] * len(items), items, proba))\n",
    "            result = pd.DataFrame(result, columns=['userId', 'itemId', 'event'])\n",
    "            result.sort_values(['userId', 'event'], ascending=[True, False])[['userId', 'itemId']].to_csv(f'32_lightfm_rating_{i:02d}.csv', index=None)\n",
    "        except Exception as e:\n",
    "            pass"
   ],
   "execution_count": 42,
   "outputs": [
    {
     "output_type": "display_data",
     "data": {
      "application/vnd.jupyter.widget-view+json": {
       "model_id": "a23a2bffb2584e7f9abf4e8e14a1587e",
       "version_minor": 0,
       "version_major": 2
      },
      "text/plain": [
       "HBox(children=(IntProgress(value=0, max=30), HTML(value='')))"
      ]
     },
     "metadata": {
      "tags": []
     }
    },
    {
     "output_type": "stream",
     "text": [
      "\n"
     ],
     "name": "stdout"
    }
   ]
  },
  {
   "cell_type": "code",
   "metadata": {
    "id": "771fJCa3ifh_",
    "colab_type": "code",
    "colab": {}
   },
   "source": [
    "model = LightFM(no_components=100)"
   ],
   "execution_count": 0,
   "outputs": []
  },
  {
   "cell_type": "code",
   "metadata": {
    "colab_type": "code",
    "outputId": "01b75989-b8b1-400f-aeba-d9e104de290b",
    "id": "9-KAJfJcifiC",
    "colab": {
     "base_uri": "https://localhost:8080/",
     "height": 67,
     "referenced_widgets": [
      "a5746ebe31d749bfb80cb9c0d430f67c",
      "38dff1b0fe864808916a59e494edfe69",
      "5e52fdf9eec1418d9eda89f34623bc2b",
      "a1f3c80d19024567bd384b80af608eb7",
      "7e9307a9a29d42028ccaf10734be7ec2",
      "fa80207cd0b046b3bef00a3d49ec4d8c",
      "b2b42df946514c8598761bbbd89abc58",
      "a3a2dad2591e40dc89561efe48dbf8d6"
     ]
    },
    "executionInfo": {
     "status": "ok",
     "timestamp": 1583359633412,
     "user_tz": -180,
     "elapsed": 56542,
     "user": {
      "displayName": "Алексей Подчезерцев",
      "photoUrl": "https://lh3.googleusercontent.com/a-/AOh14GjHN-g8lRldqGjIHMSaJY1rxUBxuENPHHKk5mlq=s64",
      "userId": "04087359208169148337"
     }
    }
   },
   "source": [
    "for i in tqdm_notebook(range(10)):\n",
    "    break\n",
    "    model.fit_partial(matrix, item_features=content_tf, \n",
    "                      epochs=1, \n",
    "                      num_threads=multiprocessing.cpu_count(), \n",
    "                      verbose=False)\n",
    "    with open(f'34_lightfm_rating_{i:02d}.pkl', 'wb') as fle:\n",
    "        pickle.dump(model, fle)\n",
    "    if i % 5 == 4:\n",
    "        try:\n",
    "            result = []\n",
    "            for userId, items in tqdm_notebook(rg.iteritems(), total=len(rg)):\n",
    "                proba = model.predict(userId, np.array(items), item_features=content_tf)\n",
    "                result += list(zip([userId] * len(items), items, proba))\n",
    "            result = pd.DataFrame(result, columns=['userId', 'itemId', 'event'])\n",
    "            result.sort_values(['userId', 'event'], ascending=[True, False])[['userId', 'itemId']].to_csv(f'34_lightfm_rating_{i:02d}.csv', index=None)\n",
    "        except Exception as e:\n",
    "            pass"
   ],
   "execution_count": 44,
   "outputs": [
    {
     "output_type": "display_data",
     "data": {
      "application/vnd.jupyter.widget-view+json": {
       "model_id": "a5746ebe31d749bfb80cb9c0d430f67c",
       "version_minor": 0,
       "version_major": 2
      },
      "text/plain": [
       "HBox(children=(IntProgress(value=0, max=10), HTML(value='')))"
      ]
     },
     "metadata": {
      "tags": []
     }
    },
    {
     "output_type": "stream",
     "text": [
      "\n"
     ],
     "name": "stdout"
    }
   ]
  },
  {
   "cell_type": "markdown",
   "metadata": {
    "id": "wiA0Qp-xifiH",
    "colab_type": "text"
   },
   "source": [
    "# Mixing"
   ]
  },
  {
   "cell_type": "code",
   "metadata": {
    "colab_type": "code",
    "id": "e2r7MdRyVYrc",
    "colab": {}
   },
   "source": [
    "df1 = pd.read_csv('21_offtop_svd20.csv')\n",
    "df2 = pd.read_csv('submits/32_lightfm_rating_09.csv')\n",
    "df3 = pd.read_csv('submits/34_lightfm_rating_04.csv')"
   ],
   "execution_count": 0,
   "outputs": []
  },
  {
   "cell_type": "code",
   "metadata": {
    "colab_type": "code",
    "id": "I-YzPHcyVvR7",
    "colab": {}
   },
   "source": [
    "df1.reset_index(inplace=True)\n",
    "df2.reset_index(inplace=True)\n",
    "df3.reset_index(inplace=True)\n",
    "df1['index'] /=3018185\n",
    "df2['index'] /=3018185\n",
    "df3['index'] /=3018185"
   ],
   "execution_count": 0,
   "outputs": []
  },
  {
   "cell_type": "code",
   "metadata": {
    "colab_type": "code",
    "id": "aLwJIlZOVvEz",
    "colab": {}
   },
   "source": [
    "df1=df1.groupby(['userId', 'itemId'])['index'].mean()\n",
    "df2=df2.groupby(['userId', 'itemId'])['index'].mean()\n",
    "df3=df3.groupby(['userId', 'itemId'])['index'].mean()"
   ],
   "execution_count": 0,
   "outputs": []
  },
  {
   "cell_type": "code",
   "metadata": {
    "colab_type": "code",
    "id": "GQcWTmzpVvAN",
    "colab": {}
   },
   "source": [
    "df1= pd.DataFrame(df1)\n",
    "df2= pd.DataFrame(df2)\n",
    "df3= pd.DataFrame(df3)"
   ],
   "execution_count": 0,
   "outputs": []
  },
  {
   "cell_type": "code",
   "metadata": {
    "colab_type": "code",
    "id": "DWJKRkSeVu-L",
    "colab": {}
   },
   "source": [
    "df = df1.join(df2, on=['userId', 'itemId'],rsuffix='_2').join(df3, on=['userId', 'itemId'], rsuffix='_3')"
   ],
   "execution_count": 0,
   "outputs": []
  },
  {
   "cell_type": "code",
   "metadata": {
    "colab_type": "code",
    "id": "Kqy9R_m3Vu8j",
    "colab": {}
   },
   "source": [
    "df.columns = ['score_1', 'score_2', 'score_3']"
   ],
   "execution_count": 0,
   "outputs": []
  },
  {
   "cell_type": "code",
   "metadata": {
    "colab_type": "code",
    "id": "AVFYIv-lVu5r",
    "colab": {}
   },
   "source": [
    "df['score_'] = df['score_1'] + df['score_2']+ df['score_3']"
   ],
   "execution_count": 0,
   "outputs": []
  },
  {
   "cell_type": "code",
   "metadata": {
    "colab_type": "code",
    "id": "zYCM1bUYV9g3",
    "colab": {}
   },
   "source": [
    "df.reset_index(inplace=True)"
   ],
   "execution_count": 0,
   "outputs": []
  },
  {
   "cell_type": "code",
   "metadata": {
    "colab_type": "code",
    "executionInfo": {
     "status": "ok",
     "timestamp": 1583359688522,
     "user_tz": -180,
     "elapsed": 12114,
     "user": {
      "displayName": "Алексей Подчезерцев",
      "photoUrl": "https://lh3.googleusercontent.com/a-/AOh14GjHN-g8lRldqGjIHMSaJY1rxUBxuENPHHKk5mlq=s64",
      "userId": "04087359208169148337"
     }
    },
    "id": "cR8_pQpAV9eb",
    "outputId": "b3aa08f3-78a8-4306-e239-6953c84b5e7c",
    "colab": {
     "base_uri": "https://localhost:8080/",
     "height": 399
    }
   },
   "source": [
    "df.sort_values(['userId', 'score_'], ascending=[True, True])[['userId', 'itemId']].to_csv(f'50_multisubmit_32_lightfm_rating_09+34_lightfm_rating_09+21_offtop_svd20.csv', index=None)\n",
    "df.sort_values(['userId', 'score_'], ascending=[True, True])"
   ],
   "execution_count": 54,
   "outputs": [
    {
     "output_type": "execute_result",
     "data": {
      "text/html": [
       "<div>\n",
       "<style scoped>\n",
       "    .dataframe tbody tr th:only-of-type {\n",
       "        vertical-align: middle;\n",
       "    }\n",
       "\n",
       "    .dataframe tbody tr th {\n",
       "        vertical-align: top;\n",
       "    }\n",
       "\n",
       "    .dataframe thead th {\n",
       "        text-align: right;\n",
       "    }\n",
       "</style>\n",
       "<table border=\"1\" class=\"dataframe\">\n",
       "  <thead>\n",
       "    <tr style=\"text-align: right;\">\n",
       "      <th></th>\n",
       "      <th>userId</th>\n",
       "      <th>itemId</th>\n",
       "      <th>score_1</th>\n",
       "      <th>score_2</th>\n",
       "      <th>score_3</th>\n",
       "      <th>score_</th>\n",
       "    </tr>\n",
       "  </thead>\n",
       "  <tbody>\n",
       "    <tr>\n",
       "      <th>590</th>\n",
       "      <td>1</td>\n",
       "      <td>322907</td>\n",
       "      <td>0.000000e+00</td>\n",
       "      <td>0.000000e+00</td>\n",
       "      <td>0.000010</td>\n",
       "      <td>0.000010</td>\n",
       "    </tr>\n",
       "    <tr>\n",
       "      <th>543</th>\n",
       "      <td>1</td>\n",
       "      <td>296536</td>\n",
       "      <td>2.319275e-06</td>\n",
       "      <td>5.632524e-06</td>\n",
       "      <td>0.000006</td>\n",
       "      <td>0.000014</td>\n",
       "    </tr>\n",
       "    <tr>\n",
       "      <th>466</th>\n",
       "      <td>1</td>\n",
       "      <td>251205</td>\n",
       "      <td>1.325300e-06</td>\n",
       "      <td>3.313250e-07</td>\n",
       "      <td>0.000023</td>\n",
       "      <td>0.000025</td>\n",
       "    </tr>\n",
       "    <tr>\n",
       "      <th>389</th>\n",
       "      <td>1</td>\n",
       "      <td>206205</td>\n",
       "      <td>3.313250e-06</td>\n",
       "      <td>2.153612e-05</td>\n",
       "      <td>0.000009</td>\n",
       "      <td>0.000034</td>\n",
       "    </tr>\n",
       "    <tr>\n",
       "      <th>426</th>\n",
       "      <td>1</td>\n",
       "      <td>225577</td>\n",
       "      <td>6.626499e-07</td>\n",
       "      <td>1.358432e-05</td>\n",
       "      <td>0.000022</td>\n",
       "      <td>0.000036</td>\n",
       "    </tr>\n",
       "    <tr>\n",
       "      <th>...</th>\n",
       "      <td>...</td>\n",
       "      <td>...</td>\n",
       "      <td>...</td>\n",
       "      <td>...</td>\n",
       "      <td>...</td>\n",
       "      <td>...</td>\n",
       "    </tr>\n",
       "    <tr>\n",
       "      <th>3018102</th>\n",
       "      <td>42975</td>\n",
       "      <td>251143</td>\n",
       "      <td>9.999867e-01</td>\n",
       "      <td>9.999662e-01</td>\n",
       "      <td>0.999991</td>\n",
       "      <td>2.999944</td>\n",
       "    </tr>\n",
       "    <tr>\n",
       "      <th>3018050</th>\n",
       "      <td>42975</td>\n",
       "      <td>209610</td>\n",
       "      <td>9.999937e-01</td>\n",
       "      <td>9.999742e-01</td>\n",
       "      <td>0.999977</td>\n",
       "      <td>2.999945</td>\n",
       "    </tr>\n",
       "    <tr>\n",
       "      <th>3018065</th>\n",
       "      <td>42975</td>\n",
       "      <td>218128</td>\n",
       "      <td>9.999993e-01</td>\n",
       "      <td>9.999606e-01</td>\n",
       "      <td>0.999993</td>\n",
       "      <td>2.999953</td>\n",
       "    </tr>\n",
       "    <tr>\n",
       "      <th>3018004</th>\n",
       "      <td>42975</td>\n",
       "      <td>173242</td>\n",
       "      <td>9.999672e-01</td>\n",
       "      <td>9.999927e-01</td>\n",
       "      <td>0.999994</td>\n",
       "      <td>2.999954</td>\n",
       "    </tr>\n",
       "    <tr>\n",
       "      <th>3018042</th>\n",
       "      <td>42975</td>\n",
       "      <td>200390</td>\n",
       "      <td>9.999930e-01</td>\n",
       "      <td>9.999848e-01</td>\n",
       "      <td>0.999988</td>\n",
       "      <td>2.999966</td>\n",
       "    </tr>\n",
       "  </tbody>\n",
       "</table>\n",
       "<p>3018186 rows × 6 columns</p>\n",
       "</div>"
      ],
      "text/plain": [
       "         userId  itemId       score_1       score_2   score_3    score_\n",
       "590           1  322907  0.000000e+00  0.000000e+00  0.000010  0.000010\n",
       "543           1  296536  2.319275e-06  5.632524e-06  0.000006  0.000014\n",
       "466           1  251205  1.325300e-06  3.313250e-07  0.000023  0.000025\n",
       "389           1  206205  3.313250e-06  2.153612e-05  0.000009  0.000034\n",
       "426           1  225577  6.626499e-07  1.358432e-05  0.000022  0.000036\n",
       "...         ...     ...           ...           ...       ...       ...\n",
       "3018102   42975  251143  9.999867e-01  9.999662e-01  0.999991  2.999944\n",
       "3018050   42975  209610  9.999937e-01  9.999742e-01  0.999977  2.999945\n",
       "3018065   42975  218128  9.999993e-01  9.999606e-01  0.999993  2.999953\n",
       "3018004   42975  173242  9.999672e-01  9.999927e-01  0.999994  2.999954\n",
       "3018042   42975  200390  9.999930e-01  9.999848e-01  0.999988  2.999966\n",
       "\n",
       "[3018186 rows x 6 columns]"
      ]
     },
     "metadata": {
      "tags": []
     },
     "execution_count": 54
    }
   ]
  },
  {
   "cell_type": "code",
   "metadata": {
    "colab_type": "code",
    "executionInfo": {
     "elapsed": 13420,
     "status": "ok",
     "timestamp": 1583356262044,
     "user": {
      "displayName": "Алексей Подчезерцев",
      "photoUrl": "https://lh3.googleusercontent.com/a-/AOh14GjHN-g8lRldqGjIHMSaJY1rxUBxuENPHHKk5mlq=s64",
      "userId": "04087359208169148337"
     },
     "user_tz": -180
    },
    "id": "sqn_o9GNV9cW",
    "outputId": "60b1544a-c706-4d9b-8c35-72bf12f7ec25",
    "scrolled": true,
    "colab": {
     "base_uri": "https://localhost:8080/",
     "height": 65
    }
   },
   "source": [
    "!kaggle competitions submit recsys-iad-challenge -f '50_multisubmit_32_lightfm_rating_09+34_lightfm_rating_09+21_offtop_svd20.csv' -m \"Colab auto submit\""
   ],
   "execution_count": 0,
   "outputs": [
    {
     "output_type": "stream",
     "text": [
      "Warning: Looks like you're using an outdated API Version, please consider updating (server 1.5.6 / client 1.5.4)\n",
      "  1% 520k/35.7M [00:04<05:19, 115kB/s]"
     ],
     "name": "stdout"
    }
   ]
  },
  {
   "cell_type": "markdown",
   "metadata": {
    "colab_type": "text",
    "id": "PkjeHZTNRmQ8"
   },
   "source": [
    "Далее идут наброски кода, который не взлетел.\n",
    "\n",
    "Основная идея такая -- выполняем классификацию всех item на средний скор, можем вычислить скор для недостающих элементов (NDCG@20 == 0.120).\n",
    "\n",
    "С предпоследнего слоя нейронки снимаем предсказания для всех item'ов, это передаем в инициализацию весов тензорного разложения матриц.\n",
    "\n",
    "Далее можем снять веса с эмбединг слоев, и/или можем получить предсказания с предпоследнего и последнего слоев.\n",
    "\n",
    "На полученных эмбедингах обучаем алгоритм кластеризации, далее на каждом кластере обучаем свой SGD (CatBoost показал качество ниже) и отправляем на предсказание.\n",
    "\n",
    "За такие танцы с бубном можно получить 0.125 NDCG@20\n",
    "\n",
    "# Super embedding"
   ]
  },
  {
   "cell_type": "code",
   "metadata": {
    "colab_type": "code",
    "executionInfo": {
     "elapsed": 65060,
     "status": "ok",
     "timestamp": 1583349728381,
     "user": {
      "displayName": "Kak TyC",
      "photoUrl": "https://lh3.googleusercontent.com/a-/AOh14GgCmo0EpyeZ3sIs-leTsI0Lv6X5VwFJxZRz6bp76Q=s64",
      "userId": "10975181951625505822"
     },
     "user_tz": -180
    },
    "id": "2_ldh42_Riyv",
    "outputId": "7f6bad35-4505-4705-c2ec-e0f215af84a8",
    "colab": {
     "base_uri": "https://localhost:8080/",
     "height": 34
    }
   },
   "source": [
    "%tensorflow_version 2.x\n",
    "import tensorflow.keras as keras\n",
    "from tensorflow.keras.preprocessing.text import Tokenizer\n",
    "from tensorflow.keras.preprocessing.sequence import pad_sequences\n",
    "from tensorflow.keras.layers import Dense, Input, LSTM, Embedding, Dropout,  Bidirectional, GlobalMaxPool1D, GlobalAveragePooling1D, concatenate, Conv1D, LeakyReLU,BatchNormalization, MaxPooling1D, Flatten\n",
    "from tensorflow.keras.models import Model\n",
    "# from tensorflow.keras import initializers, regularizers, constraints, optimizers, layers\n",
    "from tensorflow.keras.optimizers import  Adam\n",
    "\n",
    "class ModelSaveCallback(keras.callbacks.Callback):\n",
    "    def __init__(self, file_name):\n",
    "        super(ModelSaveCallback, self).__init__()\n",
    "        self.file_name = file_name\n",
    "    def on_epoch_end(self, epoch, logs=None):\n",
    "        filename = self.file_name.format(epoch)\n",
    "        keras.models.save_model(self.model, filename)"
   ],
   "execution_count": 0,
   "outputs": [
    {
     "output_type": "stream",
     "text": [
      "TensorFlow 2.x selected.\n"
     ],
     "name": "stdout"
    }
   ]
  },
  {
   "cell_type": "code",
   "metadata": {
    "colab_type": "code",
    "id": "NXbFYN2uSSVP",
    "colab": {}
   },
   "source": [
    "def asciishell_score(data, min_views, count_col='count', mean_col='mean'):\n",
    "    rating = (data[count_col]/ (data[count_col] + min_views)) * data[mean_col] +\\\n",
    "                            (min_views / (min_views + data[count_col])) * data[mean_col].mean()\n",
    "    rating += ((data[mean_col] != 0) - 1)\n",
    "    return rating\n",
    "\n",
    "item_rating = train.groupby('itemId')['event'].agg(['mean', 'count'])\n",
    "item_rating['asciishell'] = asciishell_score(item_rating, 10)\n",
    "df = items.join(item_rating, on='itemId')"
   ],
   "execution_count": 0,
   "outputs": []
  },
  {
   "cell_type": "code",
   "metadata": {
    "colab_type": "code",
    "executionInfo": {
     "elapsed": 131138,
     "status": "ok",
     "timestamp": 1583164612499,
     "user": {
      "displayName": "Алексей Подчезерцев",
      "photoUrl": "https://lh3.googleusercontent.com/a-/AOh14GjHN-g8lRldqGjIHMSaJY1rxUBxuENPHHKk5mlq=s64",
      "userId": "04087359208169148337"
     },
     "user_tz": -180
    },
    "id": "XGmXsl5aS39t",
    "outputId": "25f2e2f9-e70b-4f33-ef31-9cb6041e40eb",
    "colab": {
     "base_uri": "https://localhost:8080/",
     "height": 52
    }
   },
   "source": [
    "%%time\n",
    "max_features=100000\n",
    "tokenizer = Tokenizer(num_words=max_features)\n",
    "tokenizer.fit_on_texts(list((df[\"title\"] + ' ' + df[\"content\"]).values))"
   ],
   "execution_count": 0,
   "outputs": [
    {
     "output_type": "stream",
     "text": [
      "CPU times: user 2min 5s, sys: 562 ms, total: 2min 5s\n",
      "Wall time: 2min 5s\n"
     ],
     "name": "stdout"
    }
   ]
  },
  {
   "cell_type": "code",
   "metadata": {
    "colab_type": "code",
    "id": "0JhL4cG7ZERD",
    "colab": {}
   },
   "source": [
    "max_content_size=150\n",
    "max_title_size=10\n",
    "embed_size=300"
   ],
   "execution_count": 0,
   "outputs": []
  },
  {
   "cell_type": "code",
   "metadata": {
    "colab_type": "code",
    "executionInfo": {
     "elapsed": 3347,
     "status": "ok",
     "timestamp": 1583164827734,
     "user": {
      "displayName": "Алексей Подчезерцев",
      "photoUrl": "https://lh3.googleusercontent.com/a-/AOh14GjHN-g8lRldqGjIHMSaJY1rxUBxuENPHHKk5mlq=s64",
      "userId": "04087359208169148337"
     },
     "user_tz": -180
    },
    "id": "OgQdq-j1TrNw",
    "outputId": "11c7bf00-4c28-40ea-c11a-0c3b5e8a7192",
    "colab": {
     "base_uri": "https://localhost:8080/",
     "height": 140,
     "referenced_widgets": [
      "183d516b76424bb9b3f34ee7703fce06",
      "0a64aaad56454da694709843422455cf",
      "a06782e0166b43ceb4a0fd080e396075",
      "c4a8d75b2168466395679e43c913d651",
      "6109410e834844c6a5935fe993476371",
      "5cc09ff484e04dea8aa9e83338a2fda9",
      "539340b8840a44aaafb046cfc6eeda24",
      "350991b568674299a90a612a5ca283dd"
     ]
    }
   },
   "source": [
    "EMBEDDING_FILE = '/content/drive/Shared drives/Тяжелые проекты/text_embeddings/cc.ru.300.vec'\n",
    "\n",
    "def get_embedding_matrix(tokenizer, max_features, embed_size, embed_file):\n",
    "    def get_coefs(word,*arr): \n",
    "        return word, np.asarray(arr, dtype='float32')\n",
    "    with open(embed_file) as f:\n",
    "        f.readline()\n",
    "        embeddings_index = dict(get_coefs(*o.strip().split()) for o in tqdm_notebook(f, total=2000000))\n",
    "    \n",
    "    skip_, add_, not_found_, tot_ = 0,0,0,0\n",
    "    \n",
    "    all_embs = np.stack(embeddings_index.values())\n",
    "    emb_mean,emb_std = all_embs.mean(), all_embs.std()      \n",
    "    \n",
    "    word_index = tokenizer.word_index\n",
    "    nb_words = min(max_features, len(word_index))\n",
    "    embedding_matrix = np.random.normal(emb_mean, emb_std, (nb_words, embed_size))\n",
    "    for word, i in word_index.items():\n",
    "        tot_ += 1\n",
    "        if i >= max_features: \n",
    "            skip_ += 1\n",
    "            continue\n",
    "        embedding_vector = embeddings_index.get(word)\n",
    "        if embedding_vector is not None: \n",
    "            add_ += 1\n",
    "            embedding_matrix[i] = embedding_vector\n",
    "        else:\n",
    "            not_found_ += 1\n",
    "    print('Skip {:03f}, Not found {:03f}, Add {:03f}, total {:03d}'.format(skip_/tot_, not_found_/tot_, add_/tot_, tot_))\n",
    "    return embedding_matrix\n",
    "embedding_matrix = get_embedding_matrix(tokenizer, max_features, embed_size, EMBEDDING_FILE)"
   ],
   "execution_count": 0,
   "outputs": [
    {
     "output_type": "display_data",
     "data": {
      "application/vnd.jupyter.widget-view+json": {
       "model_id": "183d516b76424bb9b3f34ee7703fce06",
       "version_major": 2,
       "version_minor": 0
      },
      "text/plain": [
       "HBox(children=(IntProgress(value=0, max=2000000), HTML(value='')))"
      ]
     },
     "metadata": {
      "tags": []
     }
    },
    {
     "output_type": "stream",
     "text": [
      "\n"
     ],
     "name": "stdout"
    },
    {
     "output_type": "stream",
     "text": [
      "/usr/local/lib/python3.6/dist-packages/IPython/core/interactiveshell.py:2882: FutureWarning: arrays to stack must be passed as a \"sequence\" type such as list or tuple. Support for non-sequence iterables such as generators is deprecated as of NumPy 1.16 and will raise an error in the future.\n",
      "  exec(code_obj, self.user_global_ns, self.user_ns)\n"
     ],
     "name": "stderr"
    },
    {
     "output_type": "stream",
     "text": [
      "Skip 0.927821, Not found 0.004676, Add 0.067502, total 1385440\n"
     ],
     "name": "stdout"
    }
   ]
  },
  {
   "cell_type": "code",
   "metadata": {
    "colab_type": "code",
    "id": "wN9KBpafXE-M",
    "colab": {}
   },
   "source": [
    "T_content = pad_sequences(tokenizer.texts_to_sequences(df['content'].values), maxlen=max_content_size)\n",
    "T_title = pad_sequences(tokenizer.texts_to_sequences(df['title'].values), maxlen=max_title_size)\n",
    "T_image = np.stack(df['image'].values)"
   ],
   "execution_count": 0,
   "outputs": []
  },
  {
   "cell_type": "code",
   "metadata": {
    "colab_type": "code",
    "id": "yRQjoMk8WEcK",
    "colab": {}
   },
   "source": [
    "def get_lstm(emb, lstm_units):\n",
    "    x = Bidirectional(LSTM(lstm_units, return_sequences=True, dropout=0.1, recurrent_dropout=0.1))(emb)\n",
    "    gmx = GlobalMaxPool1D()(x)\n",
    "    gax = GlobalAveragePooling1D()(x)\n",
    "    concatenated = concatenate([gmx, gax])\n",
    "    return Dense(lstm_units, activation=LeakyReLU())(concatenated)\n",
    "\n",
    "def get_cnn(emb, out_uniuts=512, \n",
    "               kernel_size=5, initial_filters=64, pack_count=3,\n",
    "               leaky_relu_rate=0.1, dropout_rate=0.2):\n",
    "    x = emb\n",
    "    for pack in range(pack_count):\n",
    "        x = Conv1D(filters=initial_filters, \n",
    "                   kernel_size=kernel_size,\n",
    "                   activation=LeakyReLU(leaky_relu_rate))(x)\n",
    "        x = Conv1D(filters=initial_filters, \n",
    "                   kernel_size=kernel_size,\n",
    "                   activation=LeakyReLU(leaky_relu_rate))(x)\n",
    "        x = BatchNormalization()(x)\n",
    "        x = MaxPooling1D(padding='same')(x)\n",
    "        x = Dropout(dropout_rate)(x)\n",
    "        initial_filters *= 2\n",
    "\n",
    "    x = Flatten()(x)\n",
    "    x = Dense(out_uniuts, activation=LeakyReLU(leaky_relu_rate))(x)\n",
    "    x = BatchNormalization()(x)\n",
    "    return x\n",
    "def get_model():\n",
    "    input_content = Input(shape=(max_content_size, ))\n",
    "    input_title = Input(shape=(max_title_size, ))\n",
    "    input_image = Input(shape=(96, ))\n",
    "    \n",
    "    emb_title = Embedding(max_features, embed_size, weights=[embedding_matrix], trainable = True)(input_title)\n",
    "    emb_conte = Embedding(max_features, embed_size, weights=[embedding_matrix], trainable = True)(input_content)\n",
    "\n",
    "    lstm_content = get_lstm(emb_conte, 80)\n",
    "    lstm_title = get_lstm(emb_title, 10)\n",
    "    cnn_content = get_cnn(emb_conte, out_uniuts=128)\n",
    "    cnn_title = get_cnn(emb_title, out_uniuts=32, initial_filters=8, pack_count=1)\n",
    "    dense_image = Dense(48, activation='relu')(input_image)\n",
    "\n",
    "    concatenated = concatenate([lstm_content, lstm_title, cnn_content, cnn_title, dense_image])\n",
    "    x = Dropout(0.1)(concatenated)\n",
    "    x = Dense(80, activation='sigmoid', name='last_hidden_layer')(x)\n",
    "    x = Dense(1, activation=\"sigmoid\")(x)\n",
    "    model = Model(inputs=[input_content, input_title, input_image], outputs=x)    \n",
    "    model.compile(loss='mse', optimizer=Adam(clipvalue=2, clipnorm=2))\n",
    "    intermediate_model = Model(inputs=model.input, outputs=model.get_layer(\"last_hidden_layer\").output)\n",
    "\n",
    "    return model, intermediate_model"
   ],
   "execution_count": 0,
   "outputs": []
  },
  {
   "cell_type": "code",
   "metadata": {
    "colab_type": "code",
    "id": "j9XZ34wbaTK7",
    "colab": {}
   },
   "source": [
    "model, intermediate_model = get_model()"
   ],
   "execution_count": 0,
   "outputs": []
  },
  {
   "cell_type": "code",
   "metadata": {
    "colab_type": "code",
    "executionInfo": {
     "elapsed": 1026,
     "status": "ok",
     "timestamp": 1583164997298,
     "user": {
      "displayName": "Алексей Подчезерцев",
      "photoUrl": "https://lh3.googleusercontent.com/a-/AOh14GjHN-g8lRldqGjIHMSaJY1rxUBxuENPHHKk5mlq=s64",
      "userId": "04087359208169148337"
     },
     "user_tz": -180
    },
    "id": "LTstdwe7cW2E",
    "outputId": "fff7370a-ec5d-40e3-9f71-c77abce0a787",
    "scrolled": false,
    "colab": {
     "base_uri": "https://localhost:8080/",
     "height": 1000
    }
   },
   "source": [
    "model.summary()"
   ],
   "execution_count": 0,
   "outputs": [
    {
     "output_type": "stream",
     "text": [
      "Model: \"model\"\n",
      "__________________________________________________________________________________________________\n",
      "Layer (type)                    Output Shape         Param #     Connected to                     \n",
      "==================================================================================================\n",
      "input_1 (InputLayer)            [(None, 150)]        0                                            \n",
      "__________________________________________________________________________________________________\n",
      "embedding_1 (Embedding)         (None, 150, 300)     30000000    input_1[0][0]                    \n",
      "__________________________________________________________________________________________________\n",
      "conv1d (Conv1D)                 (None, 146, 64)      96064       embedding_1[0][0]                \n",
      "__________________________________________________________________________________________________\n",
      "conv1d_1 (Conv1D)               (None, 142, 64)      20544       conv1d[0][0]                     \n",
      "__________________________________________________________________________________________________\n",
      "batch_normalization (BatchNorma (None, 142, 64)      256         conv1d_1[0][0]                   \n",
      "__________________________________________________________________________________________________\n",
      "max_pooling1d (MaxPooling1D)    (None, 71, 64)       0           batch_normalization[0][0]        \n",
      "__________________________________________________________________________________________________\n",
      "dropout (Dropout)               (None, 71, 64)       0           max_pooling1d[0][0]              \n",
      "__________________________________________________________________________________________________\n",
      "conv1d_2 (Conv1D)               (None, 67, 128)      41088       dropout[0][0]                    \n",
      "__________________________________________________________________________________________________\n",
      "conv1d_3 (Conv1D)               (None, 63, 128)      82048       conv1d_2[0][0]                   \n",
      "__________________________________________________________________________________________________\n",
      "batch_normalization_1 (BatchNor (None, 63, 128)      512         conv1d_3[0][0]                   \n",
      "__________________________________________________________________________________________________\n",
      "input_2 (InputLayer)            [(None, 10)]         0                                            \n",
      "__________________________________________________________________________________________________\n",
      "max_pooling1d_1 (MaxPooling1D)  (None, 32, 128)      0           batch_normalization_1[0][0]      \n",
      "__________________________________________________________________________________________________\n",
      "embedding (Embedding)           (None, 10, 300)      30000000    input_2[0][0]                    \n",
      "__________________________________________________________________________________________________\n",
      "dropout_1 (Dropout)             (None, 32, 128)      0           max_pooling1d_1[0][0]            \n",
      "__________________________________________________________________________________________________\n",
      "conv1d_4 (Conv1D)               (None, 28, 256)      164096      dropout_1[0][0]                  \n",
      "__________________________________________________________________________________________________\n",
      "conv1d_6 (Conv1D)               (None, 6, 8)         12008       embedding[0][0]                  \n",
      "__________________________________________________________________________________________________\n",
      "conv1d_5 (Conv1D)               (None, 24, 256)      327936      conv1d_4[0][0]                   \n",
      "__________________________________________________________________________________________________\n",
      "conv1d_7 (Conv1D)               (None, 2, 8)         328         conv1d_6[0][0]                   \n",
      "__________________________________________________________________________________________________\n",
      "batch_normalization_2 (BatchNor (None, 24, 256)      1024        conv1d_5[0][0]                   \n",
      "__________________________________________________________________________________________________\n",
      "batch_normalization_4 (BatchNor (None, 2, 8)         32          conv1d_7[0][0]                   \n",
      "__________________________________________________________________________________________________\n",
      "max_pooling1d_2 (MaxPooling1D)  (None, 12, 256)      0           batch_normalization_2[0][0]      \n",
      "__________________________________________________________________________________________________\n",
      "max_pooling1d_3 (MaxPooling1D)  (None, 1, 8)         0           batch_normalization_4[0][0]      \n",
      "__________________________________________________________________________________________________\n",
      "bidirectional (Bidirectional)   (None, 150, 160)     243840      embedding_1[0][0]                \n",
      "__________________________________________________________________________________________________\n",
      "bidirectional_1 (Bidirectional) (None, 10, 20)       24880       embedding[0][0]                  \n",
      "__________________________________________________________________________________________________\n",
      "dropout_2 (Dropout)             (None, 12, 256)      0           max_pooling1d_2[0][0]            \n",
      "__________________________________________________________________________________________________\n",
      "dropout_3 (Dropout)             (None, 1, 8)         0           max_pooling1d_3[0][0]            \n",
      "__________________________________________________________________________________________________\n",
      "global_max_pooling1d (GlobalMax (None, 160)          0           bidirectional[0][0]              \n",
      "__________________________________________________________________________________________________\n",
      "global_average_pooling1d (Globa (None, 160)          0           bidirectional[0][0]              \n",
      "__________________________________________________________________________________________________\n",
      "global_max_pooling1d_1 (GlobalM (None, 20)           0           bidirectional_1[0][0]            \n",
      "__________________________________________________________________________________________________\n",
      "global_average_pooling1d_1 (Glo (None, 20)           0           bidirectional_1[0][0]            \n",
      "__________________________________________________________________________________________________\n",
      "flatten (Flatten)               (None, 3072)         0           dropout_2[0][0]                  \n",
      "__________________________________________________________________________________________________\n",
      "flatten_1 (Flatten)             (None, 8)            0           dropout_3[0][0]                  \n",
      "__________________________________________________________________________________________________\n",
      "concatenate (Concatenate)       (None, 320)          0           global_max_pooling1d[0][0]       \n",
      "                                                                 global_average_pooling1d[0][0]   \n",
      "__________________________________________________________________________________________________\n",
      "concatenate_1 (Concatenate)     (None, 40)           0           global_max_pooling1d_1[0][0]     \n",
      "                                                                 global_average_pooling1d_1[0][0] \n",
      "__________________________________________________________________________________________________\n",
      "dense_2 (Dense)                 (None, 128)          393344      flatten[0][0]                    \n",
      "__________________________________________________________________________________________________\n",
      "dense_3 (Dense)                 (None, 32)           288         flatten_1[0][0]                  \n",
      "__________________________________________________________________________________________________\n",
      "input_3 (InputLayer)            [(None, 96)]         0                                            \n",
      "__________________________________________________________________________________________________\n",
      "dense (Dense)                   (None, 80)           25680       concatenate[0][0]                \n",
      "__________________________________________________________________________________________________\n",
      "dense_1 (Dense)                 (None, 10)           410         concatenate_1[0][0]              \n",
      "__________________________________________________________________________________________________\n",
      "batch_normalization_3 (BatchNor (None, 128)          512         dense_2[0][0]                    \n",
      "__________________________________________________________________________________________________\n",
      "batch_normalization_5 (BatchNor (None, 32)           128         dense_3[0][0]                    \n",
      "__________________________________________________________________________________________________\n",
      "dense_4 (Dense)                 (None, 48)           4656        input_3[0][0]                    \n",
      "__________________________________________________________________________________________________\n",
      "concatenate_2 (Concatenate)     (None, 298)          0           dense[0][0]                      \n",
      "                                                                 dense_1[0][0]                    \n",
      "                                                                 batch_normalization_3[0][0]      \n",
      "                                                                 batch_normalization_5[0][0]      \n",
      "                                                                 dense_4[0][0]                    \n",
      "__________________________________________________________________________________________________\n",
      "dropout_4 (Dropout)             (None, 298)          0           concatenate_2[0][0]              \n",
      "__________________________________________________________________________________________________\n",
      "last_hidden_layer (Dense)       (None, 80)           23920       dropout_4[0][0]                  \n",
      "__________________________________________________________________________________________________\n",
      "dense_5 (Dense)                 (None, 1)            81          last_hidden_layer[0][0]          \n",
      "==================================================================================================\n",
      "Total params: 61,463,675\n",
      "Trainable params: 61,462,443\n",
      "Non-trainable params: 1,232\n",
      "__________________________________________________________________________________________________\n"
     ],
     "name": "stdout"
    }
   ]
  },
  {
   "cell_type": "code",
   "metadata": {
    "colab_type": "code",
    "id": "uF2TiY7JSAyM",
    "colab": {}
   },
   "source": [
    "index_valid = df[~df['asciishell'].isna()].index"
   ],
   "execution_count": 0,
   "outputs": []
  },
  {
   "cell_type": "code",
   "metadata": {
    "colab_type": "code",
    "id": "ybPbrtTYd_MD",
    "colab": {}
   },
   "source": [
    "TAKE=25\n",
    "batch_size=512\n",
    "NAME='kernel_lstm_cnn_image_ru_embedding_kill_me_pls'\n",
    "model_filename = '{0:02d}_{1:s}_{{0:02d}}.hdf5'.format(TAKE, NAME)"
   ],
   "execution_count": 0,
   "outputs": []
  },
  {
   "cell_type": "code",
   "metadata": {
    "colab_type": "code",
    "id": "ttNvKTV6fGPD",
    "colab": {}
   },
   "source": [
    "target = df['mean'][index_valid].values"
   ],
   "execution_count": 0,
   "outputs": []
  },
  {
   "cell_type": "code",
   "metadata": {
    "colab_type": "code",
    "executionInfo": {
     "elapsed": 962,
     "status": "ok",
     "timestamp": 1583165060965,
     "user": {
      "displayName": "Алексей Подчезерцев",
      "photoUrl": "https://lh3.googleusercontent.com/a-/AOh14GjHN-g8lRldqGjIHMSaJY1rxUBxuENPHHKk5mlq=s64",
      "userId": "04087359208169148337"
     },
     "user_tz": -180
    },
    "id": "KROUvcVjypeM",
    "outputId": "7115219d-bbac-4934-85f7-8ab4f5f34ee4",
    "colab": {
     "base_uri": "https://localhost:8080/",
     "height": 34
    }
   },
   "source": [
    "target.min(), target.mean(), np.median(target), target.max()"
   ],
   "execution_count": 0,
   "outputs": [
    {
     "output_type": "execute_result",
     "data": {
      "text/plain": [
       "(0.0, 0.06331375851999281, 0.05714285714285714, 1.0)"
      ]
     },
     "metadata": {
      "tags": []
     },
     "execution_count": 25
    }
   ]
  },
  {
   "cell_type": "code",
   "metadata": {
    "colab_type": "code",
    "executionInfo": {
     "elapsed": 2821031,
     "status": "ok",
     "timestamp": 1583167886043,
     "user": {
      "displayName": "Алексей Подчезерцев",
      "photoUrl": "https://lh3.googleusercontent.com/a-/AOh14GjHN-g8lRldqGjIHMSaJY1rxUBxuENPHHKk5mlq=s64",
      "userId": "04087359208169148337"
     },
     "user_tz": -180
    },
    "id": "24IWK7N9SAwT",
    "outputId": "3d558086-a489-46d8-dea5-8ea947d18515",
    "colab": {
     "base_uri": "https://localhost:8080/",
     "height": 230
    }
   },
   "source": [
    "model.fit(x=[T_content[index_valid], T_title[index_valid], T_image[index_valid]],\n",
    "          y=target,\n",
    "          batch_size=batch_size,\n",
    "          callbacks=[ModelSaveCallback(model_filename)],\n",
    "          validation_split=0.05,\n",
    "          initial_epoch=0, epochs=5)"
   ],
   "execution_count": 0,
   "outputs": [
    {
     "output_type": "stream",
     "text": [
      "Train on 230238 samples, validate on 12118 samples\n",
      "Epoch 1/5\n",
      "230238/230238 [==============================] - 587s 3ms/sample - loss: 0.0061 - val_loss: 0.0024\n",
      "Epoch 2/5\n",
      "230238/230238 [==============================] - 559s 2ms/sample - loss: 0.0022 - val_loss: 0.0021\n",
      "Epoch 3/5\n",
      "230238/230238 [==============================] - 558s 2ms/sample - loss: 0.0019 - val_loss: 0.0024\n",
      "Epoch 4/5\n",
      "230238/230238 [==============================] - 562s 2ms/sample - loss: 0.0014 - val_loss: 0.0027\n",
      "Epoch 5/5\n",
      "230238/230238 [==============================] - 553s 2ms/sample - loss: 0.0010 - val_loss: 0.0027\n"
     ],
     "name": "stdout"
    },
    {
     "output_type": "execute_result",
     "data": {
      "text/plain": [
       "<tensorflow.python.keras.callbacks.History at 0x7f38a193d0b8>"
      ]
     },
     "metadata": {
      "tags": []
     },
     "execution_count": 26
    }
   ]
  },
  {
   "cell_type": "code",
   "metadata": {
    "colab_type": "code",
    "id": "zSAZX72NKPra",
    "colab": {}
   },
   "source": [
    "model = keras.models.load_model('25_kernel_lstm_cnn_image_ru_embedding_kill_me_pls_01.hdf5', custom_objects={'LeakyReLU': LeakyReLU})\n",
    "intermediate_model = Model(inputs=model.input, outputs=model.get_layer(\"last_hidden_layer\").output)"
   ],
   "execution_count": 0,
   "outputs": []
  },
  {
   "cell_type": "code",
   "metadata": {
    "colab_type": "code",
    "executionInfo": {
     "elapsed": 63709,
     "status": "ok",
     "timestamp": 1583168367694,
     "user": {
      "displayName": "Алексей Подчезерцев",
      "photoUrl": "https://lh3.googleusercontent.com/a-/AOh14GjHN-g8lRldqGjIHMSaJY1rxUBxuENPHHKk5mlq=s64",
      "userId": "04087359208169148337"
     },
     "user_tz": -180
    },
    "id": "6gZ4u1viKcBG",
    "outputId": "23f10a75-d213-4079-cb67-52824b8b73c2",
    "colab": {
     "base_uri": "https://localhost:8080/",
     "height": 34
    }
   },
   "source": [
    "from sklearn.metrics import roc_auc_score\n",
    "_proba = model.predict([T_content[index_valid], T_title[index_valid], T_image[index_valid]], batch_size=batch_size*8, verbose=1)"
   ],
   "execution_count": 0,
   "outputs": [
    {
     "output_type": "stream",
     "text": [
      "242356/242356 [==============================] - 63s 258us/sample\n"
     ],
     "name": "stdout"
    }
   ]
  },
  {
   "cell_type": "code",
   "metadata": {
    "colab_type": "code",
    "executionInfo": {
     "elapsed": 2615,
     "status": "ok",
     "timestamp": 1583168427855,
     "user": {
      "displayName": "Алексей Подчезерцев",
      "photoUrl": "https://lh3.googleusercontent.com/a-/AOh14GjHN-g8lRldqGjIHMSaJY1rxUBxuENPHHKk5mlq=s64",
      "userId": "04087359208169148337"
     },
     "user_tz": -180
    },
    "id": "HKXXNPeVLz1c",
    "outputId": "94de5485-2f50-4b21-ed37-01b0a525ab0a",
    "colab": {
     "base_uri": "https://localhost:8080/",
     "height": 87
    }
   },
   "source": [
    "roc_auc_score((target > np.median(target) * 0.5).astype(np.uint8),_proba), \\\n",
    "    roc_auc_score((target > np.median(target) * 0.7).astype(np.uint8),_proba), \\\n",
    "    roc_auc_score((target > np.median(target) * 1.0).astype(np.uint8),_proba), \\\n",
    "    roc_auc_score((target > np.median(target) * 1.5).astype(np.uint8),_proba),"
   ],
   "execution_count": 0,
   "outputs": [
    {
     "output_type": "execute_result",
     "data": {
      "text/plain": [
       "(0.7350286612406992,\n",
       " 0.7408438191415203,\n",
       " 0.7556499040471025,\n",
       " 0.7759367124694296)"
      ]
     },
     "metadata": {
      "tags": []
     },
     "execution_count": 36
    }
   ]
  },
  {
   "cell_type": "code",
   "metadata": {
    "colab_type": "code",
    "executionInfo": {
     "elapsed": 89327,
     "status": "ok",
     "timestamp": 1583168543701,
     "user": {
      "displayName": "Алексей Подчезерцев",
      "photoUrl": "https://lh3.googleusercontent.com/a-/AOh14GjHN-g8lRldqGjIHMSaJY1rxUBxuENPHHKk5mlq=s64",
      "userId": "04087359208169148337"
     },
     "user_tz": -180
    },
    "id": "ZZkghBIuSAtu",
    "outputId": "55921e08-b4a6-424c-fd2f-43cebab0334e",
    "colab": {
     "base_uri": "https://localhost:8080/",
     "height": 34
    }
   },
   "source": [
    "features = intermediate_model.predict([T_content, T_title, T_image], batch_size=batch_size*8, verbose=1)\n",
    "features.dump('25_features.pkl')"
   ],
   "execution_count": 0,
   "outputs": [
    {
     "output_type": "stream",
     "text": [
      "328050/328050 [==============================] - 87s 264us/sample\n"
     ],
     "name": "stdout"
    }
   ]
  },
  {
   "cell_type": "code",
   "metadata": {
    "colab_type": "code",
    "executionInfo": {
     "elapsed": 86694,
     "status": "ok",
     "timestamp": 1583168630422,
     "user": {
      "displayName": "Алексей Подчезерцев",
      "photoUrl": "https://lh3.googleusercontent.com/a-/AOh14GjHN-g8lRldqGjIHMSaJY1rxUBxuENPHHKk5mlq=s64",
      "userId": "04087359208169148337"
     },
     "user_tz": -180
    },
    "id": "6l70B7QdyUcD",
    "outputId": "1734fd64-d559-4209-b361-0a4b7d342e40",
    "colab": {
     "base_uri": "https://localhost:8080/",
     "height": 34
    }
   },
   "source": [
    "df['mean_prob'] = model.predict([T_content, T_title, T_image], batch_size=batch_size*8, verbose=1)[:, 0]"
   ],
   "execution_count": 0,
   "outputs": [
    {
     "output_type": "stream",
     "text": [
      "328050/328050 [==============================] - 85s 259us/sample\n"
     ],
     "name": "stdout"
    }
   ]
  },
  {
   "cell_type": "code",
   "metadata": {
    "colab_type": "code",
    "id": "lFaAjMc6SArH",
    "colab": {}
   },
   "source": [
    "df[['mean', 'mean_prob']].to_pickle('25_df.pkl')"
   ],
   "execution_count": 0,
   "outputs": []
  },
  {
   "cell_type": "code",
   "metadata": {
    "colab_type": "code",
    "id": "_7ebswIMMlLa",
    "colab": {}
   },
   "source": [
    "df['mean_merge'] = df['mean'].fillna(0) + df['mean_prob'] * df['mean'].isna()"
   ],
   "execution_count": 0,
   "outputs": []
  },
  {
   "cell_type": "code",
   "metadata": {
    "colab_type": "code",
    "id": "kLTACu9x2Onc",
    "colab": {}
   },
   "source": [
    "res1 = random_benchmark.join(df[['mean_prob', 'mean_merge']], on='itemId')"
   ],
   "execution_count": 0,
   "outputs": []
  },
  {
   "cell_type": "code",
   "metadata": {
    "colab_type": "code",
    "executionInfo": {
     "elapsed": 682,
     "status": "ok",
     "timestamp": 1583168798449,
     "user": {
      "displayName": "Алексей Подчезерцев",
      "photoUrl": "https://lh3.googleusercontent.com/a-/AOh14GjHN-g8lRldqGjIHMSaJY1rxUBxuENPHHKk5mlq=s64",
      "userId": "04087359208169148337"
     },
     "user_tz": -180
    },
    "id": "_Z1npMOnNrFm",
    "outputId": "3bd841d3-a0ee-484d-8da2-fd76f3655edf",
    "colab": {
     "base_uri": "https://localhost:8080/",
     "height": 406
    }
   },
   "source": [
    "res1"
   ],
   "execution_count": 0,
   "outputs": [
    {
     "output_type": "execute_result",
     "data": {
      "text/html": [
       "<div>\n",
       "<style scoped>\n",
       "    .dataframe tbody tr th:only-of-type {\n",
       "        vertical-align: middle;\n",
       "    }\n",
       "\n",
       "    .dataframe tbody tr th {\n",
       "        vertical-align: top;\n",
       "    }\n",
       "\n",
       "    .dataframe thead th {\n",
       "        text-align: right;\n",
       "    }\n",
       "</style>\n",
       "<table border=\"1\" class=\"dataframe\">\n",
       "  <thead>\n",
       "    <tr style=\"text-align: right;\">\n",
       "      <th></th>\n",
       "      <th>userId</th>\n",
       "      <th>itemId</th>\n",
       "      <th>mean_prob</th>\n",
       "      <th>mean_merge</th>\n",
       "    </tr>\n",
       "  </thead>\n",
       "  <tbody>\n",
       "    <tr>\n",
       "      <th>0</th>\n",
       "      <td>1</td>\n",
       "      <td>242249</td>\n",
       "      <td>0.054810</td>\n",
       "      <td>0.054810</td>\n",
       "    </tr>\n",
       "    <tr>\n",
       "      <th>1</th>\n",
       "      <td>1</td>\n",
       "      <td>117266</td>\n",
       "      <td>0.041693</td>\n",
       "      <td>0.041693</td>\n",
       "    </tr>\n",
       "    <tr>\n",
       "      <th>2</th>\n",
       "      <td>1</td>\n",
       "      <td>123441</td>\n",
       "      <td>0.091395</td>\n",
       "      <td>0.091395</td>\n",
       "    </tr>\n",
       "    <tr>\n",
       "      <th>3</th>\n",
       "      <td>1</td>\n",
       "      <td>148575</td>\n",
       "      <td>0.059543</td>\n",
       "      <td>0.093306</td>\n",
       "    </tr>\n",
       "    <tr>\n",
       "      <th>4</th>\n",
       "      <td>1</td>\n",
       "      <td>155695</td>\n",
       "      <td>0.060008</td>\n",
       "      <td>0.101785</td>\n",
       "    </tr>\n",
       "    <tr>\n",
       "      <th>...</th>\n",
       "      <td>...</td>\n",
       "      <td>...</td>\n",
       "      <td>...</td>\n",
       "      <td>...</td>\n",
       "    </tr>\n",
       "    <tr>\n",
       "      <th>3018181</th>\n",
       "      <td>42975</td>\n",
       "      <td>4202</td>\n",
       "      <td>0.079527</td>\n",
       "      <td>0.142857</td>\n",
       "    </tr>\n",
       "    <tr>\n",
       "      <th>3018182</th>\n",
       "      <td>42975</td>\n",
       "      <td>111136</td>\n",
       "      <td>0.056123</td>\n",
       "      <td>0.056123</td>\n",
       "    </tr>\n",
       "    <tr>\n",
       "      <th>3018183</th>\n",
       "      <td>42975</td>\n",
       "      <td>195676</td>\n",
       "      <td>0.044587</td>\n",
       "      <td>0.044587</td>\n",
       "    </tr>\n",
       "    <tr>\n",
       "      <th>3018184</th>\n",
       "      <td>42975</td>\n",
       "      <td>292604</td>\n",
       "      <td>0.075322</td>\n",
       "      <td>0.073559</td>\n",
       "    </tr>\n",
       "    <tr>\n",
       "      <th>3018185</th>\n",
       "      <td>42975</td>\n",
       "      <td>303873</td>\n",
       "      <td>0.039400</td>\n",
       "      <td>0.039400</td>\n",
       "    </tr>\n",
       "  </tbody>\n",
       "</table>\n",
       "<p>3018186 rows × 4 columns</p>\n",
       "</div>"
      ],
      "text/plain": [
       "         userId  itemId  mean_prob  mean_merge\n",
       "0             1  242249   0.054810    0.054810\n",
       "1             1  117266   0.041693    0.041693\n",
       "2             1  123441   0.091395    0.091395\n",
       "3             1  148575   0.059543    0.093306\n",
       "4             1  155695   0.060008    0.101785\n",
       "...         ...     ...        ...         ...\n",
       "3018181   42975    4202   0.079527    0.142857\n",
       "3018182   42975  111136   0.056123    0.056123\n",
       "3018183   42975  195676   0.044587    0.044587\n",
       "3018184   42975  292604   0.075322    0.073559\n",
       "3018185   42975  303873   0.039400    0.039400\n",
       "\n",
       "[3018186 rows x 4 columns]"
      ]
     },
     "metadata": {
      "tags": []
     },
     "execution_count": 48
    }
   ]
  },
  {
   "cell_type": "code",
   "metadata": {
    "colab_type": "code",
    "id": "vrpxlaK_3Cxy",
    "colab": {}
   },
   "source": [
    "res1.sort_values(['userId', 'mean_prob'], ascending=[True, False])[['userId', 'itemId']].to_csv('25_submit_mean_prob.csv', index=None)\n",
    "res1.sort_values(['userId', 'mean_merge'], ascending=[True, False])[['userId', 'itemId']].to_csv('25_submit_mean_merge.csv', index=None)"
   ],
   "execution_count": 0,
   "outputs": []
  },
  {
   "cell_type": "code",
   "metadata": {
    "colab_type": "code",
    "executionInfo": {
     "elapsed": 8797,
     "status": "ok",
     "timestamp": 1583168983412,
     "user": {
      "displayName": "Алексей Подчезерцев",
      "photoUrl": "https://lh3.googleusercontent.com/a-/AOh14GjHN-g8lRldqGjIHMSaJY1rxUBxuENPHHKk5mlq=s64",
      "userId": "04087359208169148337"
     },
     "user_tz": -180
    },
    "id": "R3vwkZKaODvp",
    "outputId": "53d7c539-7139-4518-a1a7-0f9a26c4540b",
    "colab": {
     "base_uri": "https://localhost:8080/",
     "height": 70
    }
   },
   "source": [
    "!kaggle competitions submit recsys-iad-challenge -f '25_submit_mean_merge.csv' -m \"Colab auto submit\""
   ],
   "execution_count": 0,
   "outputs": [
    {
     "output_type": "stream",
     "text": [
      "Warning: Looks like you're using an outdated API Version, please consider updating (server 1.5.6 / client 1.5.4)\n",
      "100% 35.7M/35.7M [00:04<00:00, 8.97MB/s]\n",
      "Successfully submitted to Articles RecSys"
     ],
     "name": "stdout"
    }
   ]
  },
  {
   "cell_type": "markdown",
   "metadata": {
    "colab_type": "text",
    "id": "OHADjbfHf_aL"
   },
   "source": [
    "# Matrix factorization"
   ]
  },
  {
   "cell_type": "code",
   "metadata": {
    "colab_type": "code",
    "id": "_Ek1_7hUgrFr",
    "colab": {}
   },
   "source": [
    "features = np.load('25_features.pkl', allow_pickle=True)"
   ],
   "execution_count": 0,
   "outputs": []
  },
  {
   "cell_type": "code",
   "metadata": {
    "colab_type": "code",
    "id": "kj4AbpT0f-3m",
    "colab": {}
   },
   "source": [
    "n_item=items.index.max()+1\n",
    "n_users=len(train['userId'].unique())\n",
    "n_latent_factors=features.shape[1]"
   ],
   "execution_count": 0,
   "outputs": []
  },
  {
   "cell_type": "code",
   "metadata": {
    "colab_type": "code",
    "id": "TCiug4tKhE1G",
    "colab": {}
   },
   "source": [
    "user_input=Input(shape=(1,),name='user_input',dtype='int64')\n",
    "user_embedding=Embedding(n_users,n_latent_factors,name='user_embedding')(user_input)\n",
    "user_vec =Flatten(name='FlattenUsers')(user_embedding)\n",
    "user_vec=Dropout(0.3)(user_vec)\n",
    "\n",
    "item_input=Input(shape=(1,),name='item_input',dtype='int64')\n",
    "item_embedding=Embedding(n_item,n_latent_factors,name='item_embedding', weights=[features], trainable = True)(item_input)\n",
    "item_vec=Flatten(name='FlattenItems')(item_embedding)\n",
    "item_vec=Dropout(0.3)(item_vec)\n",
    "\n",
    "sim=keras.layers.dot([user_vec,item_vec],name='Simalarity-Dot-Product',axes=1)\n",
    "model = keras.models.Model([user_input, item_input],sim)\n",
    "model.compile(optimizer=Adam(),loss='mse')"
   ],
   "execution_count": 0,
   "outputs": []
  },
  {
   "cell_type": "code",
   "metadata": {
    "colab_type": "code",
    "executionInfo": {
     "elapsed": 1005,
     "status": "ok",
     "timestamp": 1583171964814,
     "user": {
      "displayName": "Алексей Подчезерцев",
      "photoUrl": "https://lh3.googleusercontent.com/a-/AOh14GjHN-g8lRldqGjIHMSaJY1rxUBxuENPHHKk5mlq=s64",
      "userId": "04087359208169148337"
     },
     "user_tz": -180
    },
    "id": "eKmqfpikiXrU",
    "outputId": "4fb1ccbf-41a9-4c5c-beea-a6d9e456239c",
    "colab": {
     "base_uri": "https://localhost:8080/",
     "height": 496
    }
   },
   "source": [
    "model.summary()"
   ],
   "execution_count": 0,
   "outputs": [
    {
     "output_type": "stream",
     "text": [
      "Model: \"model_10\"\n",
      "__________________________________________________________________________________________________\n",
      "Layer (type)                    Output Shape         Param #     Connected to                     \n",
      "==================================================================================================\n",
      "user_input (InputLayer)         [(None, 1)]          0                                            \n",
      "__________________________________________________________________________________________________\n",
      "item_input (InputLayer)         [(None, 1)]          0                                            \n",
      "__________________________________________________________________________________________________\n",
      "user_embedding (Embedding)      (None, 1, 80)        3438160     user_input[0][0]                 \n",
      "__________________________________________________________________________________________________\n",
      "item_embedding (Embedding)      (None, 1, 80)        26244000    item_input[0][0]                 \n",
      "__________________________________________________________________________________________________\n",
      "FlattenUsers (Flatten)          (None, 80)           0           user_embedding[0][0]             \n",
      "__________________________________________________________________________________________________\n",
      "FlattenItems (Flatten)          (None, 80)           0           item_embedding[0][0]             \n",
      "__________________________________________________________________________________________________\n",
      "dropout_19 (Dropout)            (None, 80)           0           FlattenUsers[0][0]               \n",
      "__________________________________________________________________________________________________\n",
      "dropout_20 (Dropout)            (None, 80)           0           FlattenItems[0][0]               \n",
      "__________________________________________________________________________________________________\n",
      "Simalarity-Dot-Product (Dot)    (None, 1)            0           dropout_19[0][0]                 \n",
      "                                                                 dropout_20[0][0]                 \n",
      "==================================================================================================\n",
      "Total params: 29,682,160\n",
      "Trainable params: 29,682,160\n",
      "Non-trainable params: 0\n",
      "__________________________________________________________________________________________________\n"
     ],
     "name": "stdout"
    }
   ]
  },
  {
   "cell_type": "code",
   "metadata": {
    "colab_type": "code",
    "id": "EgwIJ0Jgh4Jb",
    "colab": {}
   },
   "source": [
    "batch_size=65536\n",
    "TAKE=26\n",
    "NAME='base_matrix_factorization_kill_me_pls'\n",
    "model_filename = '{0:02d}_{1:s}_{{0:02d}}.hdf5'.format(TAKE, NAME)"
   ],
   "execution_count": 0,
   "outputs": []
  },
  {
   "cell_type": "code",
   "metadata": {
    "colab_type": "code",
    "id": "sZMMhec4Z46Y",
    "colab": {}
   },
   "source": [
    "target = (train['event_float'].replace(10, (train['event'] == 0).sum()/(train['event'] == 1).sum())/20)"
   ],
   "execution_count": 0,
   "outputs": []
  },
  {
   "cell_type": "code",
   "metadata": {
    "colab_type": "code",
    "executionInfo": {
     "elapsed": 5500900,
     "status": "ok",
     "timestamp": 1583179839018,
     "user": {
      "displayName": "Алексей Подчезерцев",
      "photoUrl": "https://lh3.googleusercontent.com/a-/AOh14GjHN-g8lRldqGjIHMSaJY1rxUBxuENPHHKk5mlq=s64",
      "userId": "04087359208169148337"
     },
     "user_tz": -180
    },
    "id": "-MQ3UpJmia5y",
    "outputId": "5c4823fb-536a-40c9-8918-a52e0a0505ab",
    "colab": {
     "base_uri": "https://localhost:8080/",
     "height": 1000
    }
   },
   "source": [
    "model.fit(x=[train['userId'], train['itemId']],\n",
    "          y=target,\n",
    "          batch_size=batch_size,\n",
    "          callbacks=[ModelSaveCallback(model_filename)],\n",
    "          validation_split=0.005,\n",
    "          initial_epoch=0, epochs=30)"
   ],
   "execution_count": 0,
   "outputs": [
    {
     "output_type": "stream",
     "text": [
      "Train on 67441267 samples, validate on 338901 samples\n",
      "Epoch 1/30\n",
      "67441267/67441267 [==============================] - 256s 4us/sample - loss: 0.0291 - val_loss: 0.0439\n",
      "Epoch 2/30\n",
      "67441267/67441267 [==============================] - 250s 4us/sample - loss: 0.0251 - val_loss: 0.0430\n",
      "Epoch 3/30\n",
      "67441267/67441267 [==============================] - 252s 4us/sample - loss: 0.0248 - val_loss: 0.0421\n",
      "Epoch 4/30\n",
      "67441267/67441267 [==============================] - 248s 4us/sample - loss: 0.0245 - val_loss: 0.0412\n",
      "Epoch 5/30\n",
      "67441267/67441267 [==============================] - 248s 4us/sample - loss: 0.0243 - val_loss: 0.0404\n",
      "Epoch 6/30\n",
      "67441267/67441267 [==============================] - 249s 4us/sample - loss: 0.0241 - val_loss: 0.0396\n",
      "Epoch 7/30\n",
      "67441267/67441267 [==============================] - 252s 4us/sample - loss: 0.0239 - val_loss: 0.0389\n",
      "Epoch 8/30\n",
      "67441267/67441267 [==============================] - 253s 4us/sample - loss: 0.0237 - val_loss: 0.0383\n",
      "Epoch 9/30\n",
      "67441267/67441267 [==============================] - 258s 4us/sample - loss: 0.0236 - val_loss: 0.0377\n",
      "Epoch 10/30\n",
      "67441267/67441267 [==============================] - 255s 4us/sample - loss: 0.0234 - val_loss: 0.0372\n",
      "Epoch 11/30\n",
      "67441267/67441267 [==============================] - 253s 4us/sample - loss: 0.0233 - val_loss: 0.0367\n",
      "Epoch 12/30\n",
      "67441267/67441267 [==============================] - 260s 4us/sample - loss: 0.0232 - val_loss: 0.0362\n",
      "Epoch 13/30\n",
      "67441267/67441267 [==============================] - 252s 4us/sample - loss: 0.0231 - val_loss: 0.0358\n",
      "Epoch 14/30\n",
      "67441267/67441267 [==============================] - 256s 4us/sample - loss: 0.0230 - val_loss: 0.0354\n",
      "Epoch 15/30\n",
      "67441267/67441267 [==============================] - 253s 4us/sample - loss: 0.0229 - val_loss: 0.0351\n",
      "Epoch 16/30\n",
      "67441267/67441267 [==============================] - 256s 4us/sample - loss: 0.0228 - val_loss: 0.0347\n",
      "Epoch 17/30\n",
      "67441267/67441267 [==============================] - 253s 4us/sample - loss: 0.0228 - val_loss: 0.0344\n",
      "Epoch 18/30\n",
      "67441267/67441267 [==============================] - 253s 4us/sample - loss: 0.0227 - val_loss: 0.0341\n",
      "Epoch 19/30\n",
      "67441267/67441267 [==============================] - 251s 4us/sample - loss: 0.0226 - val_loss: 0.0338\n",
      "Epoch 20/30\n",
      "67441267/67441267 [==============================] - 249s 4us/sample - loss: 0.0226 - val_loss: 0.0336\n",
      "Epoch 21/30\n",
      "67441267/67441267 [==============================] - 249s 4us/sample - loss: 0.0225 - val_loss: 0.0333\n",
      "Epoch 22/30\n",
      "67441267/67441267 [==============================] - 256s 4us/sample - loss: 0.0224 - val_loss: 0.0331\n",
      "Epoch 23/30\n",
      "67441267/67441267 [==============================] - 253s 4us/sample - loss: 0.0224 - val_loss: 0.0329\n",
      "Epoch 24/30\n",
      "67441267/67441267 [==============================] - 258s 4us/sample - loss: 0.0223 - val_loss: 0.0327\n",
      "Epoch 25/30\n",
      "67441267/67441267 [==============================] - 257s 4us/sample - loss: 0.0223 - val_loss: 0.0325\n",
      "Epoch 26/30\n",
      "67441267/67441267 [==============================] - 255s 4us/sample - loss: 0.0222 - val_loss: 0.0323\n",
      "Epoch 27/30\n",
      "67441267/67441267 [==============================] - 254s 4us/sample - loss: 0.0222 - val_loss: 0.0321\n",
      "Epoch 28/30\n",
      "67441267/67441267 [==============================] - 260s 4us/sample - loss: 0.0221 - val_loss: 0.0319\n",
      "Epoch 29/30\n",
      "67441267/67441267 [==============================] - 256s 4us/sample - loss: 0.0221 - val_loss: 0.0317\n",
      "Epoch 30/30\n",
      "67441267/67441267 [==============================] - 256s 4us/sample - loss: 0.0220 - val_loss: 0.0316\n"
     ],
     "name": "stdout"
    },
    {
     "output_type": "execute_result",
     "data": {
      "text/plain": [
       "<tensorflow.python.keras.callbacks.History at 0x7f3671e643c8>"
      ]
     },
     "metadata": {
      "tags": []
     },
     "execution_count": 99
    }
   ]
  },
  {
   "cell_type": "code",
   "metadata": {
    "colab_type": "code",
    "id": "JLbOmLggn8_J",
    "colab": {}
   },
   "source": [
    "model = keras.models.load_model('26_base_matrix_factorization_kill_me_pls_29.hdf5')"
   ],
   "execution_count": 0,
   "outputs": []
  },
  {
   "cell_type": "code",
   "metadata": {
    "colab_type": "code",
    "id": "OQURVZy9O47C",
    "colab": {}
   },
   "source": [
    "item_embedding_w=model.get_layer('item_embedding').get_weights()[0]\n",
    "user_embedding_w=model.get_layer('user_embedding').get_weights()[0]"
   ],
   "execution_count": 0,
   "outputs": []
  },
  {
   "cell_type": "code",
   "metadata": {
    "colab_type": "code",
    "id": "2865D2EE8ULp",
    "colab": {}
   },
   "source": [
    "user_model = Model(inputs=model.input, outputs=model.get_layer(\"dense_4\").output)\n",
    "item_model = Model(inputs=model.input, outputs=model.get_layer(\"dense_5\").output)"
   ],
   "execution_count": 0,
   "outputs": []
  },
  {
   "cell_type": "code",
   "metadata": {
    "colab_type": "code",
    "id": "vX6kiE2zifks",
    "colab": {}
   },
   "source": [
    "item_embedding_w=model.get_layer('item_embedding').get_weights()[0]\n",
    "user_embedding_w=model.get_layer('user_embedding').get_weights()[0]"
   ],
   "execution_count": 0,
   "outputs": []
  },
  {
   "cell_type": "markdown",
   "metadata": {
    "colab_type": "text",
    "id": "CqFWetsyRrGj"
   },
   "source": [
    "# Advanced clustering"
   ]
  },
  {
   "cell_type": "markdown",
   "metadata": {
    "colab_type": "text",
    "id": "_2mqamerwjZL"
   },
   "source": [
    "Выполним кластеризацию пользователей на категории.\n",
    "Основной критерий -- примерно одинаковое число пользователей в кластере.\n",
    "\n",
    "Будем использовать KMeans алгоритм, малые кластеры склеим в один, большие кластеры будем дальше разбивать рекурсивно.\n",
    "Будем продолжать до тех пор, пока все не разобьется по необходимым условиям, или достигнет определенная глубина выполнения рекурсивного алгоритма.\n",
    "\n",
    "Далее на каждом кластере можем обучить отдельный алгоритм с повышенной обобщающей способностью."
   ]
  },
  {
   "cell_type": "code",
   "metadata": {
    "colab_type": "code",
    "id": "j63kCddnz2CW",
    "colab": {}
   },
   "source": [
    "from sklearn.cluster import MiniBatchKMeans\n",
    "import random\n",
    "\n",
    "\n",
    "def run_deep_kmeans(data, deep=5, too_low=100, too_high=500, n_clusters=None, pre_c=None, prefix=''):\n",
    "    if deep <= 0:\n",
    "        return pre_c\n",
    "    if n_clusters is None:\n",
    "        n_clusters = int(round(len(data) / too_high))\n",
    "        if n_clusters < 5:\n",
    "            n_clusters = 5\n",
    "        if n_clusters > 40:\n",
    "            n_clusters = 40\n",
    "    kmeans = MiniBatchKMeans(n_clusters=n_clusters, random_state=42)\n",
    "    kmeans.fit(data)\n",
    "    prefix = str(prefix) + str(random.randint(0, 9999)) + \"_\"\n",
    "\n",
    "    clusters = np.char.add(np.array([prefix] * len(data)).astype('<U999'),\n",
    "                           kmeans.predict(data).astype('<U999'))\n",
    "    for i in range(3):\n",
    "        index_low = []\n",
    "        c_low = []\n",
    "        index_ok = []\n",
    "        c_ok = []\n",
    "        index_high = []\n",
    "        c_high = []\n",
    "        for c in np.unique(clusters):\n",
    "            cnt = (clusters == c).sum()\n",
    "            c_index = np.where(clusters == c)[0]\n",
    "            if cnt < too_low:\n",
    "                index_low.extend(c_index)\n",
    "                c_low.append(c)\n",
    "            elif cnt < too_high:\n",
    "                index_ok.extend(c_index)\n",
    "                c_ok.append(c)\n",
    "            else:\n",
    "                index_high.append(c_index)\n",
    "                c_high.append(c)\n",
    "        if (len(index_low) == 0 and len(index_high) == 0) or deep < 3:\n",
    "            break\n",
    "        if len(index_low) > 0:\n",
    "            if len(index_low) < too_high:\n",
    "                clusters[index_low] = str(c_low[0]) + \"_low\"\n",
    "            else:\n",
    "                clusters[index_low] = run_deep_kmeans(data[index_low],\n",
    "                                                      deep - 1,\n",
    "                                                      prefix=prefix,\n",
    "                                                       too_low=too_low, too_high=too_high,\n",
    "                                                      pre_c=np.array([str(c_low[0]) + \"_low\"] * len(index_low)).astype('<U999'),\n",
    "                                                      )\n",
    "        for c_index, c in zip(index_high, c_high):\n",
    "            prefix_high = str(c) + \"_high_\"\n",
    "            clusters[c_index] = run_deep_kmeans(data[c_index],\n",
    "                                                deep - 1,\n",
    "                                                prefix=prefix_high,\n",
    "                                                 too_low=too_low, too_high=too_high,\n",
    "                                                pre_c=np.array([prefix_high] * len(c_index)).astype('<U999'))\n",
    "    return clusters\n"
   ],
   "execution_count": 0,
   "outputs": []
  },
  {
   "cell_type": "code",
   "metadata": {
    "colab_type": "code",
    "id": "jmVK2VJf5EtG",
    "colab": {}
   },
   "source": [
    "clu = run_deep_kmeans(user_embedding_w, too_low=300, too_high=600,)\n",
    "clu = pd.factorize(clu)[0]"
   ],
   "execution_count": 0,
   "outputs": []
  },
  {
   "cell_type": "code",
   "metadata": {
    "colab_type": "code",
    "executionInfo": {
     "elapsed": 39751,
     "status": "ok",
     "timestamp": 1583350061227,
     "user": {
      "displayName": "Kak TyC",
      "photoUrl": "https://lh3.googleusercontent.com/a-/AOh14GgCmo0EpyeZ3sIs-leTsI0Lv6X5VwFJxZRz6bp76Q=s64",
      "userId": "10975181951625505822"
     },
     "user_tz": -180
    },
    "id": "NP-FasJXX9NZ",
    "outputId": "344bbc7d-f656-4947-bcdc-94e0ebfbc8e3",
    "scrolled": false,
    "colab": {
     "base_uri": "https://localhost:8080/",
     "height": 1000
    }
   },
   "source": [
    "for c in np.unique(clu):\n",
    "    cnt = (clu == c).sum()\n",
    "    print(c, cnt, sep='\\t')"
   ],
   "execution_count": 0,
   "outputs": [
    {
     "output_type": "stream",
     "text": [
      "0\t551\n",
      "1\t420\n",
      "2\t584\n",
      "3\t325\n",
      "4\t395\n",
      "5\t555\n",
      "6\t530\n",
      "7\t350\n",
      "8\t302\n",
      "9\t348\n",
      "10\t68\n",
      "11\t545\n",
      "12\t486\n",
      "13\t538\n",
      "14\t549\n",
      "15\t448\n",
      "16\t584\n",
      "17\t375\n",
      "18\t302\n",
      "19\t306\n",
      "20\t389\n",
      "21\t302\n",
      "22\t580\n",
      "23\t530\n",
      "24\t315\n",
      "25\t441\n",
      "26\t303\n",
      "27\t492\n",
      "28\t513\n",
      "29\t348\n",
      "30\t524\n",
      "31\t326\n",
      "32\t508\n",
      "33\t447\n",
      "34\t568\n",
      "35\t336\n",
      "36\t461\n",
      "37\t317\n",
      "38\t437\n",
      "39\t103\n",
      "40\t550\n",
      "41\t509\n",
      "42\t325\n",
      "43\t456\n",
      "44\t352\n",
      "45\t573\n",
      "46\t433\n",
      "47\t407\n",
      "48\t417\n",
      "49\t520\n",
      "50\t319\n",
      "51\t430\n",
      "52\t591\n",
      "53\t301\n",
      "54\t520\n",
      "55\t463\n",
      "56\t408\n",
      "57\t491\n",
      "58\t340\n",
      "59\t332\n",
      "60\t329\n",
      "61\t496\n",
      "62\t422\n",
      "63\t406\n",
      "64\t471\n",
      "65\t440\n",
      "66\t563\n",
      "67\t342\n",
      "68\t338\n",
      "69\t347\n",
      "70\t539\n",
      "71\t538\n",
      "72\t591\n",
      "73\t362\n",
      "74\t321\n",
      "75\t391\n",
      "76\t302\n",
      "77\t317\n",
      "78\t313\n",
      "79\t312\n",
      "80\t599\n",
      "81\t322\n",
      "82\t326\n",
      "83\t362\n",
      "84\t326\n",
      "85\t486\n",
      "86\t337\n",
      "87\t334\n",
      "88\t436\n",
      "89\t315\n",
      "90\t263\n",
      "91\t66\n",
      "92\t385\n",
      "93\t316\n",
      "94\t492\n",
      "95\t365\n",
      "96\t151\n",
      "97\t331\n",
      "98\t313\n",
      "99\t514\n",
      "100\t366\n",
      "101\t535\n",
      "102\t360\n",
      "103\t321\n",
      "104\t330\n",
      "105\t348\n"
     ],
     "name": "stdout"
    }
   ]
  },
  {
   "cell_type": "code",
   "metadata": {
    "colab_type": "code",
    "id": "DeOn2i1xcAGw",
    "colab": {}
   },
   "source": [
    "!pip install catboost -q\n",
    "from catboost import CatBoostClassifier, Pool, FeaturesData\n",
    "from sklearn.linear_model import SGDClassifier"
   ],
   "execution_count": 0,
   "outputs": []
  },
  {
   "cell_type": "code",
   "metadata": {
    "colab_type": "code",
    "id": "HXdkmy-hpcSQ",
    "colab": {}
   },
   "source": [
    "num_features = [f\"item {i:03d}\" for i in range(item_embedding_w.shape[1])] + [f\"user {i:03d}\" for i in range(user_embedding_w.shape[1])] + ['prod']"
   ],
   "execution_count": 0,
   "outputs": []
  },
  {
   "cell_type": "code",
   "metadata": {
    "colab_type": "code",
    "executionInfo": {
     "elapsed": 1075142,
     "status": "ok",
     "timestamp": 1583351375607,
     "user": {
      "displayName": "Kak TyC",
      "photoUrl": "https://lh3.googleusercontent.com/a-/AOh14GgCmo0EpyeZ3sIs-leTsI0Lv6X5VwFJxZRz6bp76Q=s64",
      "userId": "10975181951625505822"
     },
     "user_tz": -180
    },
    "id": "xhZ9krR_ndjj",
    "outputId": "263357b9-6d51-4e90-a403-c8c82094d213",
    "colab": {
     "base_uri": "https://localhost:8080/",
     "height": 66,
     "referenced_widgets": [
      "8ad13cd54db84d179c86bb1350c7f8bd",
      "bf6156e7ef2147b785e4e8133f731a1a",
      "a5d84870fcdf4d24b14cde2548563ab6",
      "bf3cfd1ab1e8408bb9ea0934e3eed9d5",
      "8ee5bc09fd9b450188af0d39ade45e44",
      "5631a200aeee4ffeaa980ca7a0a81960",
      "8e42ef56ca5440a2ab9cb33e7351f6d7",
      "24f6129a241749839dc027352ef3f457"
     ]
    }
   },
   "source": [
    "result = []\n",
    "for cluster_id in tqdm_notebook(np.unique(clu)):\n",
    "    uids = np.where(clu == cluster_id)[0]\n",
    "    # uids_t, uids_f = train_test_split(uids, test_size=0.1)\n",
    "    # df_train = train[train['userId'].isin(uids_t)]\n",
    "    # df_test = train[train['userId'].isin(uids_f)]\n",
    "    \n",
    "    df_train = train[train['userId'].isin(uids)]\n",
    "    df_test = random_benchmark[random_benchmark['userId'].isin(uids)]\n",
    "\n",
    "\n",
    "    user_train = user_embedding_w[df_train['userId']]\n",
    "    user_test = user_embedding_w[df_test['userId']]\n",
    "    item_train = item_embedding_w[df_train['itemId']]\n",
    "    item_test = item_embedding_w[df_test['itemId']]\n",
    "    prod_train = np.array([item_row @ user_row for item_row, user_row in zip(item_train, user_train)])\n",
    "    prod_test = np.array([item_row @ user_row for item_row, user_row in zip(item_test, user_test)])\n",
    "    all_train = np.hstack([item_train, user_train, prod_train.reshape((len(prod_train), 1))])\n",
    "    all_test = np.hstack([item_test, user_test, prod_test.reshape((len(prod_test), 1))])\n",
    "    train_features = FeaturesData(all_train, df_train['userId'].values.astype(str).astype(object).reshape((len(df_train['userId']), 1)), num_features, ['user_id'])\n",
    "    train_features = Pool(train_features, df_train['event'].values)\n",
    "\n",
    "    test_features = FeaturesData(all_test, df_test['userId'].values.astype(str).astype(object).reshape((len(df_test['userId']), 1)), num_features, ['user_id'])\n",
    "    # test_features = Pool(test_features, df_test['event'].values)\n",
    "    test_features = Pool(test_features)\n",
    "\n",
    "    # clf = CatBoostClassifier(task_type='GPU', learning_rate=0.14, num_trees=500, verbose=1, eval_metric='AUC')\n",
    "    # clf.fit(train_features, eval_set=test_features)\n",
    "    # break\n",
    "    clf_cat = CatBoostClassifier(task_type='GPU', learning_rate=0.14, num_trees=500, verbose=0)\n",
    "    clf_cat.fit(train_features, )\n",
    "    proba = clf_cat.predict_proba(test_features)[:,1]\n",
    "\n",
    "    clf_sgd = SGDClassifier(loss='log', random_state=42, n_jobs=-1)\n",
    "    clf_sgd.fit(all_train, df_train['event'].values)\n",
    "    proba_sgd = clf_sgd.predict_proba(all_test)[:, 1]\n",
    "    result += list(zip(df_test['userId'], df_test['itemId'], proba, proba_sgd))\n",
    "    # break\n",
    "result = pd.DataFrame(result, columns=['userId', 'itemId', 'event_catboost', 'event_sgd'])\n",
    "result.to_pickle('26_kmean_deep_catboost_raw.pkl')"
   ],
   "execution_count": 0,
   "outputs": [
    {
     "output_type": "display_data",
     "data": {
      "application/vnd.jupyter.widget-view+json": {
       "model_id": "8ad13cd54db84d179c86bb1350c7f8bd",
       "version_major": 2,
       "version_minor": 0
      },
      "text/plain": [
       "HBox(children=(IntProgress(value=0, max=106), HTML(value='')))"
      ]
     },
     "metadata": {
      "tags": []
     }
    },
    {
     "output_type": "stream",
     "text": [
      "\n"
     ],
     "name": "stdout"
    }
   ]
  },
  {
   "cell_type": "code",
   "metadata": {
    "colab_type": "code",
    "executionInfo": {
     "elapsed": 4352,
     "status": "ok",
     "timestamp": 1583188541316,
     "user": {
      "displayName": "Алексей Подчезерцев",
      "photoUrl": "https://lh3.googleusercontent.com/a-/AOh14GjHN-g8lRldqGjIHMSaJY1rxUBxuENPHHKk5mlq=s64",
      "userId": "04087359208169148337"
     },
     "user_tz": -180
    },
    "id": "cR_XeS18_cYe",
    "outputId": "8306362f-583e-40de-9beb-f4b7a1124e73",
    "scrolled": true,
    "colab": {
     "base_uri": "https://localhost:8080/",
     "height": 406
    }
   },
   "source": [
    "result.sort_values(['userId', 'event_sgd'], ascending=[True, False])"
   ],
   "execution_count": 0,
   "outputs": [
    {
     "output_type": "execute_result",
     "data": {
      "text/html": [
       "<div>\n",
       "<style scoped>\n",
       "    .dataframe tbody tr th:only-of-type {\n",
       "        vertical-align: middle;\n",
       "    }\n",
       "\n",
       "    .dataframe tbody tr th {\n",
       "        vertical-align: top;\n",
       "    }\n",
       "\n",
       "    .dataframe thead th {\n",
       "        text-align: right;\n",
       "    }\n",
       "</style>\n",
       "<table border=\"1\" class=\"dataframe\">\n",
       "  <thead>\n",
       "    <tr style=\"text-align: right;\">\n",
       "      <th></th>\n",
       "      <th>userId</th>\n",
       "      <th>itemId</th>\n",
       "      <th>event_catboost</th>\n",
       "      <th>event_sgd</th>\n",
       "    </tr>\n",
       "  </thead>\n",
       "  <tbody>\n",
       "    <tr>\n",
       "      <th>36654</th>\n",
       "      <td>1</td>\n",
       "      <td>256354</td>\n",
       "      <td>0.436731</td>\n",
       "      <td>0.520225</td>\n",
       "    </tr>\n",
       "    <tr>\n",
       "      <th>36434</th>\n",
       "      <td>1</td>\n",
       "      <td>307942</td>\n",
       "      <td>0.444401</td>\n",
       "      <td>0.406219</td>\n",
       "    </tr>\n",
       "    <tr>\n",
       "      <th>36700</th>\n",
       "      <td>1</td>\n",
       "      <td>56483</td>\n",
       "      <td>0.398544</td>\n",
       "      <td>0.379997</td>\n",
       "    </tr>\n",
       "    <tr>\n",
       "      <th>36413</th>\n",
       "      <td>1</td>\n",
       "      <td>206205</td>\n",
       "      <td>0.396696</td>\n",
       "      <td>0.375752</td>\n",
       "    </tr>\n",
       "    <tr>\n",
       "      <th>36616</th>\n",
       "      <td>1</td>\n",
       "      <td>322907</td>\n",
       "      <td>0.364676</td>\n",
       "      <td>0.367662</td>\n",
       "    </tr>\n",
       "    <tr>\n",
       "      <th>...</th>\n",
       "      <td>...</td>\n",
       "      <td>...</td>\n",
       "      <td>...</td>\n",
       "      <td>...</td>\n",
       "    </tr>\n",
       "    <tr>\n",
       "      <th>991265</th>\n",
       "      <td>42975</td>\n",
       "      <td>3738</td>\n",
       "      <td>0.003399</td>\n",
       "      <td>0.007948</td>\n",
       "    </tr>\n",
       "    <tr>\n",
       "      <th>991395</th>\n",
       "      <td>42975</td>\n",
       "      <td>273553</td>\n",
       "      <td>0.002449</td>\n",
       "      <td>0.007834</td>\n",
       "    </tr>\n",
       "    <tr>\n",
       "      <th>991065</th>\n",
       "      <td>42975</td>\n",
       "      <td>202607</td>\n",
       "      <td>0.003526</td>\n",
       "      <td>0.007277</td>\n",
       "    </tr>\n",
       "    <tr>\n",
       "      <th>991109</th>\n",
       "      <td>42975</td>\n",
       "      <td>200201</td>\n",
       "      <td>0.001326</td>\n",
       "      <td>0.007217</td>\n",
       "    </tr>\n",
       "    <tr>\n",
       "      <th>991164</th>\n",
       "      <td>42975</td>\n",
       "      <td>19192</td>\n",
       "      <td>0.002245</td>\n",
       "      <td>0.006661</td>\n",
       "    </tr>\n",
       "  </tbody>\n",
       "</table>\n",
       "<p>3018186 rows × 4 columns</p>\n",
       "</div>"
      ],
      "text/plain": [
       "        userId  itemId  event_catboost  event_sgd\n",
       "36654        1  256354        0.436731   0.520225\n",
       "36434        1  307942        0.444401   0.406219\n",
       "36700        1   56483        0.398544   0.379997\n",
       "36413        1  206205        0.396696   0.375752\n",
       "36616        1  322907        0.364676   0.367662\n",
       "...        ...     ...             ...        ...\n",
       "991265   42975    3738        0.003399   0.007948\n",
       "991395   42975  273553        0.002449   0.007834\n",
       "991065   42975  202607        0.003526   0.007277\n",
       "991109   42975  200201        0.001326   0.007217\n",
       "991164   42975   19192        0.002245   0.006661\n",
       "\n",
       "[3018186 rows x 4 columns]"
      ]
     },
     "metadata": {
      "tags": []
     },
     "execution_count": 18
    }
   ]
  },
  {
   "cell_type": "code",
   "metadata": {
    "colab_type": "code",
    "id": "hrq4dKnz2KbV",
    "colab": {}
   },
   "source": [
    "result.sort_values(['userId', 'event_catboost'], ascending=[True, False])[['userId', 'itemId']].to_csv('26_kmean_deep_catboost.csv', index=None)\n",
    "# !kaggle competitions submit recsys-iad-challenge -f '26_kmean_deep_catboost.csv' -m \"Colab auto submit\""
   ],
   "execution_count": 0,
   "outputs": []
  },
  {
   "cell_type": "code",
   "metadata": {
    "colab_type": "code",
    "executionInfo": {
     "elapsed": 20686,
     "status": "ok",
     "timestamp": 1583188664404,
     "user": {
      "displayName": "Алексей Подчезерцев",
      "photoUrl": "https://lh3.googleusercontent.com/a-/AOh14GjHN-g8lRldqGjIHMSaJY1rxUBxuENPHHKk5mlq=s64",
      "userId": "04087359208169148337"
     },
     "user_tz": -180
    },
    "id": "rS0d9NaOPCb5",
    "outputId": "447b18cc-a3fd-42d0-d4b6-7ad0b2c194d4",
    "colab": {
     "base_uri": "https://localhost:8080/",
     "height": 70
    }
   },
   "source": [
    "result.sort_values(['userId', 'event_sgd'], ascending=[True, False])[['userId', 'itemId']].to_csv('26_kmean_deep_sgd.csv', index=None)\n",
    "!kaggle competitions submit recsys-iad-challenge -f '26_kmean_deep_sgd.csv' -m \"Colab auto submit\""
   ],
   "execution_count": 0,
   "outputs": [
    {
     "output_type": "stream",
     "text": [
      "Warning: Looks like you're using an outdated API Version, please consider updating (server 1.5.6 / client 1.5.4)\n",
      "100% 35.7M/35.7M [00:03<00:00, 10.6MB/s]\n",
      "Successfully submitted to Articles RecSys"
     ],
     "name": "stdout"
    }
   ]
  },
  {
   "cell_type": "code",
   "metadata": {
    "colab_type": "code",
    "id": "1POHLTRh6niR",
    "colab": {}
   },
   "source": [
    ""
   ],
   "execution_count": 0,
   "outputs": []
  }
 ]
}