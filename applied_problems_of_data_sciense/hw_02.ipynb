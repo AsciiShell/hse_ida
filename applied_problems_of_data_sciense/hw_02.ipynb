{
 "cells": [
  {
   "cell_type": "code",
   "execution_count": 1,
   "metadata": {},
   "outputs": [
    {
     "name": "stderr",
     "output_type": "stream",
     "text": [
      "C:\\Users\\alex1\\Anaconda3\\lib\\site-packages\\statsmodels\\tools\\_testing.py:19: FutureWarning: pandas.util.testing is deprecated. Use the functions in the public API at pandas.testing instead.\n",
      "  import pandas.util.testing as tm\n"
     ]
    }
   ],
   "source": [
    "import collections\n",
    "\n",
    "import matplotlib.pyplot as plt\n",
    "import numpy as np\n",
    "import pandas as pd\n",
    "import scipy.stats as stats\n",
    "from tqdm.auto import tqdm"
   ]
  },
  {
   "cell_type": "code",
   "execution_count": 2,
   "metadata": {},
   "outputs": [],
   "source": [
    "x = [4,5,6,6,5,6,3,3,6,4,5,3,1,4,5,1,4,3]"
   ]
  },
  {
   "cell_type": "code",
   "execution_count": 3,
   "metadata": {},
   "outputs": [],
   "source": [
    "c = collections.Counter()\n",
    "c.update(x)"
   ]
  },
  {
   "cell_type": "code",
   "execution_count": 6,
   "metadata": {},
   "outputs": [
    {
     "name": "stdout",
     "output_type": "stream",
     "text": [
      "2\n",
      "0\n",
      "4\n",
      "4\n",
      "4\n",
      "4\n"
     ]
    }
   ],
   "source": [
    "for i in range(1, 7):\n",
    "    print(c[i])"
   ]
  },
  {
   "cell_type": "code",
   "execution_count": 7,
   "metadata": {},
   "outputs": [
    {
     "data": {
      "text/plain": [
       "Power_divergenceResult(statistic=4.666666666666666, pvalue=0.4578982272454014)"
      ]
     },
     "execution_count": 7,
     "metadata": {},
     "output_type": "execute_result"
    }
   ],
   "source": [
    "stats.chisquare([2, 0, 4, 4, 4, 4])"
   ]
  },
  {
   "cell_type": "code",
   "execution_count": null,
   "metadata": {},
   "outputs": [],
   "source": []
  },
  {
   "cell_type": "markdown",
   "metadata": {},
   "source": [
    "**Задание 1**\n",
    "\n",
    "Проанализировать набор данных и ответить на следующие вопросы:\n",
    "\n",
    "1) Какой % наблюдений выходит за 5 и 95 перцентиль?\n",
    "\n",
    "2) Какому закону распределения отвечают данные? На основе чего вы так решили?\n",
    "\n",
    "[Ссылка на данные](https://drive.google.com/file/d/1fc8BGSjDiwbZW6rcr3mMSwAjU2T_BpGW/view?usp=sharing)\n",
    "\n",
    "Описание данных:\n",
    "\n",
    "* metrics -- значение определенной метрики в сервисе для пользователя (например, количество кликов). \n",
    "\n",
    "\n",
    "*Вместе с ответом на задание приложить код*"
   ]
  },
  {
   "cell_type": "code",
   "execution_count": 302,
   "metadata": {},
   "outputs": [],
   "source": [
    "df = pd.read_csv('task_1.csv', sep=';')['metrics']"
   ]
  },
  {
   "cell_type": "code",
   "execution_count": 303,
   "metadata": {},
   "outputs": [
    {
     "name": "stdout",
     "output_type": "stream",
     "text": [
      "Left:  1.0 right:  52.0\n",
      "Выходит за границы 4.9873% выборки\n"
     ]
    }
   ],
   "source": [
    "l, r = np.percentile(df, [5, 95])\n",
    "print(\"Left: \", l, \"right: \", r)\n",
    "print(\"Выходит за границы {:.4f}% выборки\".format(100 * ((df < l) | (df > r)).mean()))"
   ]
  },
  {
   "cell_type": "code",
   "execution_count": 304,
   "metadata": {},
   "outputs": [],
   "source": [
    "def dist_to_buckets(data):\n",
    "    cnt = collections.Counter()\n",
    "    cnt.update(data)\n",
    "    res = []\n",
    "    for i in range(max(data) + 1):\n",
    "        res.append(cnt[i])\n",
    "    return np.array(res)\n",
    "\n",
    "def sqweeze_buckets(*data):\n",
    "    arrays = [[] for _ in range(len(data))]\n",
    "    is_start = False\n",
    "    for row in zip(*data):\n",
    "        if all(row):\n",
    "            is_start= True\n",
    "            for i, item in enumerate(row):\n",
    "                arrays[i].append(item)\n",
    "        elif is_start:\n",
    "            break\n",
    "                \n",
    "    arrays = [np.array(it) for it in arrays]\n",
    "    return tuple(arrays)"
   ]
  },
  {
   "cell_type": "code",
   "execution_count": 306,
   "metadata": {},
   "outputs": [
    {
     "data": {
      "text/plain": [
       "(117, 116)"
      ]
     },
     "execution_count": 306,
     "metadata": {},
     "output_type": "execute_result"
    }
   ],
   "source": [
    "p = 0.1\n",
    "b1 = dist_to_buckets(geom.rvs(p, size=100000))\n",
    "b2 = dist_to_buckets(geom.rvs(p, size=100000))\n",
    "len(b1), len(b2)"
   ]
  },
  {
   "cell_type": "code",
   "execution_count": 307,
   "metadata": {},
   "outputs": [
    {
     "data": {
      "text/plain": [
       "(82, 82)"
      ]
     },
     "execution_count": 307,
     "metadata": {},
     "output_type": "execute_result"
    }
   ],
   "source": [
    "b1, b2 = sqweeze_buckets(b1, b2)\n",
    "len(b1), len(b2)"
   ]
  },
  {
   "cell_type": "code",
   "execution_count": 308,
   "metadata": {},
   "outputs": [
    {
     "data": {
      "text/plain": [
       "Power_divergenceResult(statistic=0.0, pvalue=1.0)"
      ]
     },
     "execution_count": 308,
     "metadata": {},
     "output_type": "execute_result"
    }
   ],
   "source": [
    "dist = stats.expon\n",
    "b1 = pd.Series(dist.rvs(p, size=1000), name='left').value_counts()\n",
    "b2 = pd.Series(dist.rvs(p, size=1000), name='right').value_counts()\n",
    "# common = pd.merge(b1,b2, left_index=True, right_index=True)\n",
    "# b1 = common['left']\n",
    "# b2 = common['right']\n",
    "chisquare(b1, b2)"
   ]
  },
  {
   "cell_type": "code",
   "execution_count": 309,
   "metadata": {},
   "outputs": [
    {
     "data": {
      "text/plain": [
       "2.031690    1\n",
       "1.174442    1\n",
       "1.583007    1\n",
       "0.479560    1\n",
       "1.526679    1\n",
       "           ..\n",
       "0.433114    1\n",
       "0.601933    1\n",
       "0.471330    1\n",
       "0.214188    1\n",
       "1.556966    1\n",
       "Name: left, Length: 1000, dtype: int64"
      ]
     },
     "execution_count": 309,
     "metadata": {},
     "output_type": "execute_result"
    }
   ],
   "source": [
    "pd.Series(dist.rvs(p, size=1000), name='left').value_counts()"
   ]
  },
  {
   "cell_type": "code",
   "execution_count": 311,
   "metadata": {},
   "outputs": [
    {
     "data": {
      "text/plain": [
       "Power_divergenceResult(statistic=inf, pvalue=0.0)"
      ]
     },
     "execution_count": 311,
     "metadata": {},
     "output_type": "execute_result"
    },
    {
     "data": {
      "image/png": "[encoded data removed]",
      "text/plain": [
       "<Figure size 1008x504 with 1 Axes>"
      ]
     },
     "metadata": {
      "needs_background": "light"
     },
     "output_type": "display_data"
    }
   ],
   "source": [
    "clean = df.copy()\n",
    "l, r = np.percentile(df, [5, 99.9])\n",
    "# clean = df[~((df < l) | (df > r))].copy()\n",
    "# clean -= clean.min()\n",
    "\n",
    "p = 0.3/clean.mean()\n",
    "# p = (-1 + np.sqrt(4*clean.var() + 1))/(2*clean.var())\n",
    "\n",
    "gen_data = geom.rvs(p, size=len(clean))\n",
    "# d = (m - 2*v)**2 - 4*v*(v-m)\n",
    "# d = d**0.5\n",
    "# p = (2*v-m-d)/(2*v)\n",
    "# r = m*(1-p)/p\n",
    "# p, r\n",
    "# gen_data = nbinom.rvs(p, r, size=len(clean))\n",
    "# gen_data = poisson.rvs(p, size=len(clean))\n",
    "\n",
    "\n",
    "assert len(gen_data) == len(clean)\n",
    "\n",
    "bins = np.arange(1, max(max(clean), max(gen_data)))\n",
    "plt.figure(figsize=(14, 7))\n",
    "plt.yscale('log')\n",
    "plt.hist(clean, bins=bins, alpha=0.5, label='data')\n",
    "plt.hist(gen_data, bins=bins, alpha=0.5, label='gen')\n",
    "plt.legend()\n",
    "\n",
    "cnt_exp = collections.Counter()\n",
    "cnt_exp.update(clean)\n",
    "cnt_gen = collections.Counter()\n",
    "cnt_gen.update(gen_data)\n",
    "\n",
    "cols = [(cnt_exp[col],cnt_gen[col])  for col in bins if cnt_exp[col]]\n",
    "exp_data = [col[0] for col in cols]\n",
    "gen_data = [col[1] for col in cols]\n",
    "\n",
    "chisquare(exp_data, f_exp=gen_data)"
   ]
  },
  {
   "cell_type": "code",
   "execution_count": 202,
   "metadata": {},
   "outputs": [
    {
     "data": {
      "text/plain": [
       "(0.9349931030103155, 0.41329786761135173)"
      ]
     },
     "execution_count": 202,
     "metadata": {},
     "output_type": "execute_result"
    }
   ],
   "source": [
    "d = (m - 2*v)**2 - 4*v*(v-m)\n",
    "d = d**0.5\n",
    "p = (2*v-m-d)/(2*v)\n",
    "r = m*(1-p)/p\n",
    "p, r"
   ]
  },
  {
   "cell_type": "markdown",
   "metadata": {},
   "source": [
    "Распределение похоже на экспоненциальное или смесь геометрических"
   ]
  },
  {
   "cell_type": "markdown",
   "metadata": {},
   "source": [
    "**Задание 2**\n",
    "\n",
    "Определить, можно сравнить две представленные выборки t критерием Стьюдента? \n",
    "\n",
    "Если нельзя сравнивать t-критерием, то что будем использовать и почему?\n",
    "\n",
    "Ответ аргументировать и описать \n",
    "\n",
    "[Ссылка на данные](https://drive.google.com/file/d/1blvC6TEBWghhVMexjOdoGEjzhZZh3wSy/view?usp=sharing)\n",
    "\n",
    "Описание данных: \n",
    "\n",
    "* variant -- вариация в А/Б тесте (либо группа А -- например, сайт без изменений. Либо группа Б -- сайт с изменениями)\n",
    "* metrics -- значение определенной метрики в сервисе для пользователя (например, количество кликов). \n",
    "\n",
    "*Вместе с ответом на задание приложить код*"
   ]
  },
  {
   "cell_type": "code",
   "execution_count": 212,
   "metadata": {},
   "outputs": [],
   "source": [
    "df = pd.read_csv('task_2.csv', sep=';')[['variant', 'metrics']]"
   ]
  },
  {
   "cell_type": "code",
   "execution_count": 213,
   "metadata": {},
   "outputs": [
    {
     "data": {
      "image/png": "[encoded data removed]",
      "text/plain": [
       "<Figure size 1008x504 with 1 Axes>"
      ]
     },
     "metadata": {
      "needs_background": "light"
     },
     "output_type": "display_data"
    }
   ],
   "source": [
    "bins = np.arange(*np.percentile(df['metrics'], [0, 95]))\n",
    "\n",
    "plt.figure(figsize=(14, 7))\n",
    "# plt.yscale('log')\n",
    "plt.hist(df[df['variant'] == 'A']['metrics'].values, bins, alpha=0.5, label='A')\n",
    "plt.hist(df[df['variant'] == 'B']['metrics'].values, bins, alpha=0.5, label='B')\n",
    "plt.legend();"
   ]
  },
  {
   "cell_type": "markdown",
   "metadata": {},
   "source": [
    "Как можно заметить, распределение явно не нормальное, поэтому t критерий использовать нельзя.\n",
    "\n",
    "Будем использовать бутстрап и проверять $H_0$ гипотезу о том, что выборки A и B из одного распределения."
   ]
  },
  {
   "cell_type": "code",
   "execution_count": 214,
   "metadata": {},
   "outputs": [],
   "source": [
    "def calc_stats(df, key_a='A', key_b='B'):\n",
    "    _ = df.groupby('variant')['metrics'].agg(['mean', 'median']).T\n",
    "    return (_[key_a] - _[key_b]).abs()"
   ]
  },
  {
   "cell_type": "code",
   "execution_count": 215,
   "metadata": {},
   "outputs": [
    {
     "data": {
      "text/plain": [
       "mean      0.233575\n",
       "median    0.000000\n",
       "dtype: float64"
      ]
     },
     "execution_count": 215,
     "metadata": {},
     "output_type": "execute_result"
    }
   ],
   "source": [
    "calc_stats(df)"
   ]
  },
  {
   "cell_type": "code",
   "execution_count": 216,
   "metadata": {},
   "outputs": [],
   "source": [
    "def bootstrap_p_value(df, it=1000, key_a='A', key_b='B'):\n",
    "    results = []\n",
    "    orig = calc_stats(df, key_a, key_b)['mean']\n",
    "    for i in tqdm(range(it)):\n",
    "        df2 = df.copy()\n",
    "        df2['metrics'] = df['metrics'].sample(frac=1, replace=True).values\n",
    "        st = calc_stats(df2, key_a, key_b)\n",
    "        results.append(st['mean'] >= orig)\n",
    "    return np.mean(results)"
   ]
  },
  {
   "cell_type": "code",
   "execution_count": 162,
   "metadata": {},
   "outputs": [
    {
     "data": {
      "application/vnd.jupyter.widget-view+json": {
       "model_id": "7199b9676a63471d8c6b5f310a11ad30",
       "version_major": 2,
       "version_minor": 0
      },
      "text/plain": [
       "HBox(children=(IntProgress(value=0, max=1000), HTML(value='')))"
      ]
     },
     "metadata": {},
     "output_type": "display_data"
    },
    {
     "name": "stdout",
     "output_type": "stream",
     "text": [
      "\n",
      "Выборки A и B одинаковые с вероятностью 2.7%\n"
     ]
    }
   ],
   "source": [
    "print(f\"Выборки A и B одинаковые с вероятностью {100 * bootstrap_p_value(df, 1000)}%\")"
   ]
  },
  {
   "cell_type": "markdown",
   "metadata": {},
   "source": [
    "Выборки одинаковые с вероятностью 2.7%, поэтому выборки отличаются с вероятностью 97.3%"
   ]
  },
  {
   "cell_type": "markdown",
   "metadata": {},
   "source": [
    "**Задание 3**\n",
    "\n",
    "Дано две выборки по А/Б тесту.\n",
    "\n",
    "Две выборки несбалансированные - кол-во пользователей в каждой группе разные.\n",
    "\n",
    "Метрика, которую меряем в эксперименте (и которую используем для определения группы, которая лучше себя показала) - кол-во просмотренных страниц на пользователя \n",
    "\n",
    "Как вы будете принимать решение, какая группа лучше А или Б, и какие статистические методы (критерии) вы будете использовать, какие преобразования к данным применять? P.S. Вам может помочь лекция Виталия Черемисинова, где он рассказывал про А/Б тесты\n",
    "\n",
    "[Ссылка на данные](https://drive.google.com/file/d/1_g7Dw7-8QzTS47D6GNKMb0FzqMAWBDba/view?usp=sharing)\n",
    "\n",
    "Описание данных: \n",
    "\n",
    "* variant -- вариация в А/Б тесте (либо группа А -- например, сайт без изменений. Либо группа Б -- сайт с изменениями)\n",
    "* metrics -- значение определенной метрики в сервисе для пользователя (например, количество кликов). \n",
    "\n",
    "\n",
    "*Вместе с ответом на задание приложить код*"
   ]
  },
  {
   "cell_type": "code",
   "execution_count": 260,
   "metadata": {},
   "outputs": [],
   "source": [
    "df = pd.read_csv('task_3.csv', sep=';')[['variant', 'metrics']]"
   ]
  },
  {
   "cell_type": "code",
   "execution_count": 240,
   "metadata": {},
   "outputs": [
    {
     "data": {
      "text/html": [
       "<div>\n",
       "<style scoped>\n",
       "    .dataframe tbody tr th:only-of-type {\n",
       "        vertical-align: middle;\n",
       "    }\n",
       "\n",
       "    .dataframe tbody tr th {\n",
       "        vertical-align: top;\n",
       "    }\n",
       "\n",
       "    .dataframe thead th {\n",
       "        text-align: right;\n",
       "    }\n",
       "</style>\n",
       "<table border=\"1\" class=\"dataframe\">\n",
       "  <thead>\n",
       "    <tr style=\"text-align: right;\">\n",
       "      <th></th>\n",
       "      <th>mean</th>\n",
       "      <th>median</th>\n",
       "      <th>count</th>\n",
       "    </tr>\n",
       "    <tr>\n",
       "      <th>variant</th>\n",
       "      <th></th>\n",
       "      <th></th>\n",
       "      <th></th>\n",
       "    </tr>\n",
       "  </thead>\n",
       "  <tbody>\n",
       "    <tr>\n",
       "      <th>A</th>\n",
       "      <td>10.099562</td>\n",
       "      <td>2</td>\n",
       "      <td>92686</td>\n",
       "    </tr>\n",
       "    <tr>\n",
       "      <th>D</th>\n",
       "      <td>9.942386</td>\n",
       "      <td>2</td>\n",
       "      <td>15413</td>\n",
       "    </tr>\n",
       "  </tbody>\n",
       "</table>\n",
       "</div>"
      ],
      "text/plain": [
       "              mean  median  count\n",
       "variant                          \n",
       "A        10.099562       2  92686\n",
       "D         9.942386       2  15413"
      ]
     },
     "execution_count": 240,
     "metadata": {},
     "output_type": "execute_result"
    }
   ],
   "source": [
    "df.groupby('variant')['metrics'].agg(['mean', 'median', 'count'])"
   ]
  },
  {
   "cell_type": "markdown",
   "metadata": {},
   "source": [
    "Попробуем генерировать бутстреп выборки от наших выборок и посмотреть на доверительные интервалы для какой-то метрики."
   ]
  },
  {
   "cell_type": "code",
   "execution_count": 241,
   "metadata": {},
   "outputs": [
    {
     "data": {
      "image/png": "[encoded data removed]",
      "text/plain": [
       "<Figure size 1008x504 with 1 Axes>"
      ]
     },
     "metadata": {
      "needs_background": "light"
     },
     "output_type": "display_data"
    }
   ],
   "source": [
    "bins = np.arange(*np.percentile(df['metrics'], [0, 95]))\n",
    "\n",
    "plt.figure(figsize=(14, 7))\n",
    "plt.yscale('log')\n",
    "plt.hist(df[df['variant'] == 'A']['metrics'].values, bins, alpha=0.5, label='A')\n",
    "plt.hist(df[df['variant'] == 'D']['metrics'].values, bins, alpha=0.5, label='D')\n",
    "plt.legend();"
   ]
  },
  {
   "cell_type": "code",
   "execution_count": 242,
   "metadata": {},
   "outputs": [
    {
     "data": {
      "application/vnd.jupyter.widget-view+json": {
       "model_id": "a7c5cd07a79d43fe82f9ebb47053ebfa",
       "version_major": 2,
       "version_minor": 0
      },
      "text/plain": [
       "HBox(children=(IntProgress(value=0, max=1000), HTML(value='')))"
      ]
     },
     "metadata": {},
     "output_type": "display_data"
    },
    {
     "name": "stdout",
     "output_type": "stream",
     "text": [
      "\n",
      "Выборки A и B одинаковые с вероятностью 44.3%\n"
     ]
    }
   ],
   "source": [
    "print(f\"Выборки A и B одинаковые с вероятностью {100 * bootstrap_p_value(df, 1000, 'A', 'D')}%\")"
   ]
  },
  {
   "cell_type": "markdown",
   "metadata": {},
   "source": [
    "Попробуем получить интервальные оценки с помощью bootstrap"
   ]
  },
  {
   "cell_type": "code",
   "execution_count": 249,
   "metadata": {},
   "outputs": [],
   "source": [
    "def bootstrap_data(df):\n",
    "    return df.sample(frac=1, replace=True).values"
   ]
  },
  {
   "cell_type": "code",
   "execution_count": 250,
   "metadata": {},
   "outputs": [],
   "source": [
    "def get_intervals(data, alpha):\n",
    "    return np.percentile(data, [100 * alpha/2, 100 * (1-alpha/2)])"
   ]
  },
  {
   "cell_type": "code",
   "execution_count": 255,
   "metadata": {},
   "outputs": [
    {
     "data": {
      "application/vnd.jupyter.widget-view+json": {
       "model_id": "dadebfbb68df4488bd8d349beaf3eb9b",
       "version_major": 2,
       "version_minor": 0
      },
      "text/plain": [
       "HBox(children=(IntProgress(value=0, max=1000), HTML(value='')))"
      ]
     },
     "metadata": {},
     "output_type": "display_data"
    },
    {
     "name": "stdout",
     "output_type": "stream",
     "text": [
      "\n",
      "Доверительные интервалы для выборки A = [ 9.89713123 10.29391532]\n"
     ]
    },
    {
     "data": {
      "application/vnd.jupyter.widget-view+json": {
       "model_id": "84eceb5c2bb348b1b38eccb3d46d9676",
       "version_major": 2,
       "version_minor": 0
      },
      "text/plain": [
       "HBox(children=(IntProgress(value=0, max=1000), HTML(value='')))"
      ]
     },
     "metadata": {},
     "output_type": "display_data"
    },
    {
     "name": "stdout",
     "output_type": "stream",
     "text": [
      "\n",
      "Доверительные интервалы для выборки D = [ 9.5683063  10.40632907]\n"
     ]
    }
   ],
   "source": [
    "for let in ['A', 'D']:\n",
    "    res = []\n",
    "    for i in tqdm(range(1000)):\n",
    "        res.append(bootstrap_data(df[df['variant'] == let]['metrics']).mean())\n",
    "    print(f\"Доверительные интервалы для выборки {let} = {get_intervals(np.array(res), 0.01)}\")"
   ]
  },
  {
   "cell_type": "code",
   "execution_count": 261,
   "metadata": {},
   "outputs": [
    {
     "data": {
      "application/vnd.jupyter.widget-view+json": {
       "model_id": "270b79c99a1f40339d2b261f92213814",
       "version_major": 2,
       "version_minor": 0
      },
      "text/plain": [
       "HBox(children=(IntProgress(value=0, max=1000), HTML(value='')))"
      ]
     },
     "metadata": {},
     "output_type": "display_data"
    },
    {
     "name": "stdout",
     "output_type": "stream",
     "text": [
      "\n",
      "Доверительные интервалы для выборки A = [10.05559362 10.1584085 ]\n"
     ]
    },
    {
     "data": {
      "application/vnd.jupyter.widget-view+json": {
       "model_id": "85adae22ea2e4b4baf05fd89bb94f07e",
       "version_major": 2,
       "version_minor": 0
      },
      "text/plain": [
       "HBox(children=(IntProgress(value=0, max=1000), HTML(value='')))"
      ]
     },
     "metadata": {},
     "output_type": "display_data"
    },
    {
     "name": "stdout",
     "output_type": "stream",
     "text": [
      "\n",
      "Доверительные интервалы для выборки D = [ 9.81697269 10.06377733]\n"
     ]
    }
   ],
   "source": [
    "for let in ['A', 'D']:\n",
    "    res = []\n",
    "    for i in tqdm(range(1000)):\n",
    "        res.append(bootstrap_data(df[df['variant'] == let]['metrics']).mean())\n",
    "    print(f\"Доверительные интервалы для выборки {let} = {get_intervals(np.array(res), 0.5)}\")"
   ]
  },
  {
   "cell_type": "markdown",
   "metadata": {},
   "source": [
    "С более грубой оценкой получаем, что доверительный интервал для выборки A больше чем для D, поэтому выберем A"
   ]
  },
  {
   "cell_type": "markdown",
   "metadata": {},
   "source": [
    "**Задание 4**\n",
    "\n",
    "Есть данные с большой дисперсии у метрики (диспресию метрики можно посчитать для каждой группы). Для их дальнейшего анализа дисперсию необходимо сократить. Как определить, что дисперсия действительно большая? Если она большая, как вы будете ее чистить? Ответ аргументировать и описать.  P.S. Вам может помочь лекция Виталия Черемисинова, где он рассказывал про А/Б тесты\n",
    "\n",
    "Описание данных: \n",
    "\n",
    "* metrics -- значение определенной метрики в сервисе для пользователя (например, количество кликов). \n",
    "\n",
    "[Ссылка на данные](https://drive.google.com/file/d/1fc8BGSjDiwbZW6rcr3mMSwAjU2T_BpGW/view?usp=sharing)\n",
    "\n",
    "*Вместе с ответом на задание приложить код*"
   ]
  },
  {
   "cell_type": "code",
   "execution_count": 262,
   "metadata": {},
   "outputs": [],
   "source": [
    "df = pd.read_csv('task_4.csv', sep=';')['metrics']"
   ]
  },
  {
   "cell_type": "code",
   "execution_count": 267,
   "metadata": {},
   "outputs": [
    {
     "data": {
      "image/png": "[encoded data removed]",
      "text/plain": [
       "<Figure size 1008x504 with 1 Axes>"
      ]
     },
     "metadata": {
      "needs_background": "light"
     },
     "output_type": "display_data"
    }
   ],
   "source": [
    "plt.figure(figsize=(14, 7))\n",
    "plt.hist(df, bins=100, label='metrics')\n",
    "plt.yscale('log')\n",
    "plt.legend();"
   ]
  },
  {
   "cell_type": "code",
   "execution_count": 268,
   "metadata": {},
   "outputs": [
    {
     "data": {
      "text/plain": [
       "511.99823268544515"
      ]
     },
     "execution_count": 268,
     "metadata": {},
     "output_type": "execute_result"
    }
   ],
   "source": [
    "df.var()"
   ]
  },
  {
   "cell_type": "markdown",
   "metadata": {},
   "source": [
    "У выборки большой хвост, распределение похоже на экспоненциальное.\n",
    "Можно отбросить выбросы, произвести логарифмирование данных.\n",
    "Оценим дисперсию с помощью bootstrap"
   ]
  },
  {
   "cell_type": "code",
   "execution_count": 263,
   "metadata": {},
   "outputs": [],
   "source": [
    "def bootstrap_var(df, count, col='backet', col_stat='metrics'):\n",
    "    res = []\n",
    "    for i in tqdm(range(count)):\n",
    "        res.append(df.sample(frac=1, replace=True).var())\n",
    "    return np.array(res)"
   ]
  },
  {
   "cell_type": "code",
   "execution_count": 264,
   "metadata": {},
   "outputs": [],
   "source": [
    "l, r = np.percentile(df, [1, 99])\n",
    "clean = df[~((df < l) | (df > r))].copy()"
   ]
  },
  {
   "cell_type": "code",
   "execution_count": 272,
   "metadata": {
    "scrolled": false
   },
   "outputs": [
    {
     "data": {
      "application/vnd.jupyter.widget-view+json": {
       "model_id": "6093cceef03a4e6985aff0a7ab824c7c",
       "version_major": 2,
       "version_minor": 0
      },
      "text/plain": [
       "HBox(children=(IntProgress(value=0, max=1000), HTML(value='')))"
      ]
     },
     "metadata": {},
     "output_type": "display_data"
    },
    {
     "name": "stdout",
     "output_type": "stream",
     "text": [
      "\n"
     ]
    },
    {
     "data": {
      "image/png": "[encoded data removed]",
      "text/plain": [
       "<Figure size 1008x504 with 1 Axes>"
      ]
     },
     "metadata": {
      "needs_background": "light"
     },
     "output_type": "display_data"
    }
   ],
   "source": [
    "plt.figure(figsize=(14, 7))\n",
    "plt.hist(backet_bootstrap(df, 1000), bins=100, label='var')\n",
    "plt.legend();"
   ]
  },
  {
   "cell_type": "code",
   "execution_count": 273,
   "metadata": {},
   "outputs": [
    {
     "data": {
      "application/vnd.jupyter.widget-view+json": {
       "model_id": "68ffd224386041f2a7f4b42efad9522b",
       "version_major": 2,
       "version_minor": 0
      },
      "text/plain": [
       "HBox(children=(IntProgress(value=0, max=1000), HTML(value='')))"
      ]
     },
     "metadata": {},
     "output_type": "display_data"
    },
    {
     "name": "stdout",
     "output_type": "stream",
     "text": [
      "\n"
     ]
    },
    {
     "data": {
      "image/png": "[encoded data removed]",
      "text/plain": [
       "<Figure size 1008x504 with 1 Axes>"
      ]
     },
     "metadata": {
      "needs_background": "light"
     },
     "output_type": "display_data"
    }
   ],
   "source": [
    "plt.figure(figsize=(14, 7))\n",
    "plt.hist(backet_bootstrap(clean, 1000), bins=100, label='var')\n",
    "plt.legend();"
   ]
  },
  {
   "cell_type": "code",
   "execution_count": 274,
   "metadata": {},
   "outputs": [
    {
     "data": {
      "application/vnd.jupyter.widget-view+json": {
       "model_id": "c0e9938f7ffd46eda60e0772ba5ed4e8",
       "version_major": 2,
       "version_minor": 0
      },
      "text/plain": [
       "HBox(children=(IntProgress(value=0, max=1000), HTML(value='')))"
      ]
     },
     "metadata": {},
     "output_type": "display_data"
    },
    {
     "name": "stdout",
     "output_type": "stream",
     "text": [
      "\n"
     ]
    },
    {
     "data": {
      "image/png": "[encoded data removed]",
      "text/plain": [
       "<Figure size 1008x504 with 1 Axes>"
      ]
     },
     "metadata": {
      "needs_background": "light"
     },
     "output_type": "display_data"
    }
   ],
   "source": [
    "plt.figure(figsize=(14, 7))\n",
    "plt.hist(backet_bootstrap(np.log(clean), 1000), bins=100, label='var')\n",
    "plt.legend();"
   ]
  },
  {
   "cell_type": "markdown",
   "metadata": {},
   "source": [
    "Как можно заметить, выборочная дисперсия сильно уменьшилась после логарифмирования данных"
   ]
  },
  {
   "cell_type": "markdown",
   "metadata": {},
   "source": [
    "**Задание 5**\n",
    "\n",
    "Есть эксперимент с поисковыми подсказками. Вы хотим узнать, как изменился CTR в каждой группе эксперимента.\n",
    "\n",
    "**Данные**\n",
    "\n",
    "- id - уникальный идентификатор пользователя\n",
    "- action -\n",
    "- view - кол-во просмотров на одну сессию\n",
    "- variant - вариант a/b теста, где 0 - это версия \"A\", 1 -  версия \"B\".\n",
    "\n",
    "**Задача**\n",
    "\n",
    "- сформировать метрику для оценки эксперимента\n",
    "- подобрать критерий под особенности данных\n",
    "- сделать вывод о значимости эффекта\n",
    "\n",
    "**Данные** \n",
    "\n",
    "[Ссылка на данные](https://www.dropbox.com/s/fdki267uilkfq7l/task5.csv)"
   ]
  },
  {
   "cell_type": "code",
   "execution_count": 313,
   "metadata": {},
   "outputs": [],
   "source": [
    "df = pd.read_csv('task_5.csv', sep=',')[['variant', 'view', 'action']]\n",
    "df['ctr'] = df['action'] / df['view']"
   ]
  },
  {
   "cell_type": "code",
   "execution_count": 314,
   "metadata": {},
   "outputs": [
    {
     "data": {
      "text/html": [
       "<div>\n",
       "<style scoped>\n",
       "    .dataframe tbody tr th:only-of-type {\n",
       "        vertical-align: middle;\n",
       "    }\n",
       "\n",
       "    .dataframe tbody tr th {\n",
       "        vertical-align: top;\n",
       "    }\n",
       "\n",
       "    .dataframe thead th {\n",
       "        text-align: right;\n",
       "    }\n",
       "</style>\n",
       "<table border=\"1\" class=\"dataframe\">\n",
       "  <thead>\n",
       "    <tr style=\"text-align: right;\">\n",
       "      <th></th>\n",
       "      <th>variant</th>\n",
       "      <th>view</th>\n",
       "      <th>action</th>\n",
       "      <th>ctr</th>\n",
       "    </tr>\n",
       "  </thead>\n",
       "  <tbody>\n",
       "    <tr>\n",
       "      <th>0</th>\n",
       "      <td>A</td>\n",
       "      <td>10</td>\n",
       "      <td>2</td>\n",
       "      <td>0.200000</td>\n",
       "    </tr>\n",
       "    <tr>\n",
       "      <th>1</th>\n",
       "      <td>A</td>\n",
       "      <td>3</td>\n",
       "      <td>1</td>\n",
       "      <td>0.333333</td>\n",
       "    </tr>\n",
       "    <tr>\n",
       "      <th>2</th>\n",
       "      <td>A</td>\n",
       "      <td>7</td>\n",
       "      <td>5</td>\n",
       "      <td>0.714286</td>\n",
       "    </tr>\n",
       "    <tr>\n",
       "      <th>3</th>\n",
       "      <td>A</td>\n",
       "      <td>9</td>\n",
       "      <td>9</td>\n",
       "      <td>1.000000</td>\n",
       "    </tr>\n",
       "    <tr>\n",
       "      <th>4</th>\n",
       "      <td>A</td>\n",
       "      <td>1</td>\n",
       "      <td>1</td>\n",
       "      <td>1.000000</td>\n",
       "    </tr>\n",
       "  </tbody>\n",
       "</table>\n",
       "</div>"
      ],
      "text/plain": [
       "  variant  view  action       ctr\n",
       "0       A    10       2  0.200000\n",
       "1       A     3       1  0.333333\n",
       "2       A     7       5  0.714286\n",
       "3       A     9       9  1.000000\n",
       "4       A     1       1  1.000000"
      ]
     },
     "execution_count": 314,
     "metadata": {},
     "output_type": "execute_result"
    }
   ],
   "source": [
    "df.head()"
   ]
  },
  {
   "cell_type": "code",
   "execution_count": 315,
   "metadata": {},
   "outputs": [
    {
     "data": {
      "text/html": [
       "<div>\n",
       "<style scoped>\n",
       "    .dataframe tbody tr th:only-of-type {\n",
       "        vertical-align: middle;\n",
       "    }\n",
       "\n",
       "    .dataframe tbody tr th {\n",
       "        vertical-align: top;\n",
       "    }\n",
       "\n",
       "    .dataframe thead tr th {\n",
       "        text-align: left;\n",
       "    }\n",
       "\n",
       "    .dataframe thead tr:last-of-type th {\n",
       "        text-align: right;\n",
       "    }\n",
       "</style>\n",
       "<table border=\"1\" class=\"dataframe\">\n",
       "  <thead>\n",
       "    <tr>\n",
       "      <th></th>\n",
       "      <th colspan=\"3\" halign=\"left\">view</th>\n",
       "      <th colspan=\"3\" halign=\"left\">action</th>\n",
       "      <th colspan=\"3\" halign=\"left\">ctr</th>\n",
       "    </tr>\n",
       "    <tr>\n",
       "      <th></th>\n",
       "      <th>sum</th>\n",
       "      <th>count</th>\n",
       "      <th>mean</th>\n",
       "      <th>sum</th>\n",
       "      <th>count</th>\n",
       "      <th>mean</th>\n",
       "      <th>sum</th>\n",
       "      <th>count</th>\n",
       "      <th>mean</th>\n",
       "    </tr>\n",
       "    <tr>\n",
       "      <th>variant</th>\n",
       "      <th></th>\n",
       "      <th></th>\n",
       "      <th></th>\n",
       "      <th></th>\n",
       "      <th></th>\n",
       "      <th></th>\n",
       "      <th></th>\n",
       "      <th></th>\n",
       "      <th></th>\n",
       "    </tr>\n",
       "  </thead>\n",
       "  <tbody>\n",
       "    <tr>\n",
       "      <th>A</th>\n",
       "      <td>20303</td>\n",
       "      <td>4646</td>\n",
       "      <td>4.369996</td>\n",
       "      <td>12369</td>\n",
       "      <td>4646</td>\n",
       "      <td>2.662290</td>\n",
       "      <td>3538.318795</td>\n",
       "      <td>4646</td>\n",
       "      <td>0.761584</td>\n",
       "    </tr>\n",
       "    <tr>\n",
       "      <th>B</th>\n",
       "      <td>15883</td>\n",
       "      <td>3545</td>\n",
       "      <td>4.480395</td>\n",
       "      <td>9627</td>\n",
       "      <td>3545</td>\n",
       "      <td>2.715656</td>\n",
       "      <td>2681.784149</td>\n",
       "      <td>3545</td>\n",
       "      <td>0.756498</td>\n",
       "    </tr>\n",
       "  </tbody>\n",
       "</table>\n",
       "</div>"
      ],
      "text/plain": [
       "          view                 action                          ctr        \\\n",
       "           sum count      mean    sum count      mean          sum count   \n",
       "variant                                                                    \n",
       "A        20303  4646  4.369996  12369  4646  2.662290  3538.318795  4646   \n",
       "B        15883  3545  4.480395   9627  3545  2.715656  2681.784149  3545   \n",
       "\n",
       "                   \n",
       "             mean  \n",
       "variant            \n",
       "A        0.761584  \n",
       "B        0.756498  "
      ]
     },
     "execution_count": 315,
     "metadata": {},
     "output_type": "execute_result"
    }
   ],
   "source": [
    "df.groupby('variant')[['view', 'action', 'ctr']].agg(['sum', 'count', 'mean'])"
   ]
  },
  {
   "cell_type": "code",
   "execution_count": 316,
   "metadata": {},
   "outputs": [
    {
     "data": {
      "image/png": "[encoded data removed]",
      "text/plain": [
       "<Figure size 1008x504 with 1 Axes>"
      ]
     },
     "metadata": {
      "needs_background": "light"
     },
     "output_type": "display_data"
    }
   ],
   "source": [
    "bins = np.linspace(0, 1, 100)\n",
    "\n",
    "plt.figure(figsize=(14, 7))\n",
    "plt.yscale('log')\n",
    "plt.hist(df[df['variant'] == 'A']['ctr'].values, bins, alpha=0.5, label='A')\n",
    "plt.hist(df[df['variant'] == 'B']['ctr'].values, bins, alpha=0.5, label='B')\n",
    "plt.legend();"
   ]
  },
  {
   "cell_type": "code",
   "execution_count": 319,
   "metadata": {},
   "outputs": [
    {
     "data": {
      "application/vnd.jupyter.widget-view+json": {
       "model_id": "e9684fd39277403cb28ded0f84fe0019",
       "version_major": 2,
       "version_minor": 0
      },
      "text/plain": [
       "HBox(children=(IntProgress(value=0, max=1000), HTML(value='')))"
      ]
     },
     "metadata": {},
     "output_type": "display_data"
    },
    {
     "name": "stdout",
     "output_type": "stream",
     "text": [
      "\n",
      "Доверительные интервалы для выборки A = [0.7497863  0.77180423]\n"
     ]
    },
    {
     "data": {
      "application/vnd.jupyter.widget-view+json": {
       "model_id": "040b265638ff438eb5fb452c67447dd4",
       "version_major": 2,
       "version_minor": 0
      },
      "text/plain": [
       "HBox(children=(IntProgress(value=0, max=1000), HTML(value='')))"
      ]
     },
     "metadata": {},
     "output_type": "display_data"
    },
    {
     "name": "stdout",
     "output_type": "stream",
     "text": [
      "\n",
      "Доверительные интервалы для выборки B = [0.74442776 0.76976849]\n"
     ]
    }
   ],
   "source": [
    "np.random.seed(0)\n",
    "for let in ['A', 'B']:\n",
    "    res = []\n",
    "    for i in tqdm(range(1000)):\n",
    "        res.append(bootstrap_data(df[df['variant'] == let]['ctr']).mean())\n",
    "    print(f\"Доверительные интервалы для выборки {let} = {get_intervals(np.array(res), 0.01)}\")"
   ]
  },
  {
   "cell_type": "code",
   "execution_count": 320,
   "metadata": {},
   "outputs": [],
   "source": [
    "la, ra = [0.7497863,  0.77180423]\n",
    "lb, rb = [0.74442776, 0.76976849]"
   ]
  },
  {
   "cell_type": "code",
   "execution_count": 327,
   "metadata": {},
   "outputs": [
    {
     "data": {
      "application/vnd.jupyter.widget-view+json": {
       "model_id": "7a0d9d8b015f4f5ebfec68a97e8cf6c7",
       "version_major": 2,
       "version_minor": 0
      },
      "text/plain": [
       "HBox(children=(IntProgress(value=0, max=1000), HTML(value='')))"
      ]
     },
     "metadata": {},
     "output_type": "display_data"
    },
    {
     "name": "stdout",
     "output_type": "stream",
     "text": [
      "\n",
      "p_value для выборки A = 0.025\n"
     ]
    },
    {
     "data": {
      "application/vnd.jupyter.widget-view+json": {
       "model_id": "97b1d7e92e1d42b98f4a0ad5ac0e45f5",
       "version_major": 2,
       "version_minor": 0
      },
      "text/plain": [
       "HBox(children=(IntProgress(value=0, max=1000), HTML(value='')))"
      ]
     },
     "metadata": {},
     "output_type": "display_data"
    },
    {
     "name": "stdout",
     "output_type": "stream",
     "text": [
      "\n",
      "p_value для выборки B = 0.084\n"
     ]
    }
   ],
   "source": [
    "np.random.seed(0)\n",
    "res = []\n",
    "for i in tqdm(range(1000)):\n",
    "    b = bootstrap_data(df[df['variant'] == 'A']['ctr']).mean()\n",
    "    res.append((la <= b <= ra) & (b > rb))\n",
    "print(f\"p_value для выборки A = {np.array(res).mean()}\")\n",
    "\n",
    "res = []\n",
    "for i in tqdm(range(1000)):\n",
    "    b = bootstrap_data(df[df['variant'] == 'B']['ctr']).mean()\n",
    "    res.append((lb <= b <= rb) & (b < la))\n",
    "print(f\"p_value для выборки B = {np.array(res).mean()}\")"
   ]
  },
  {
   "cell_type": "markdown",
   "metadata": {},
   "source": [
    "p value для выборки A меньше, также выборка A имеет большее ожидание значения ctr, поэтому стоит выбрать ее."
   ]
  },
  {
   "cell_type": "code",
   "execution_count": null,
   "metadata": {},
   "outputs": [],
   "source": []
  }
 ],
 "metadata": {
  "kernelspec": {
   "display_name": "Python 3",
   "language": "python",
   "name": "python3"
  },
  "language_info": {
   "codemirror_mode": {
    "name": "ipython",
    "version": 3
   },
   "file_extension": ".py",
   "mimetype": "text/x-python",
   "name": "python",
   "nbconvert_exporter": "python",
   "pygments_lexer": "ipython3",
   "version": "3.7.3"
  }
 },
 "nbformat": 4,
 "nbformat_minor": 4
}